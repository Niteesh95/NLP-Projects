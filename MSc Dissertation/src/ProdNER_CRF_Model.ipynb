{
 "cells": [
  {
   "cell_type": "code",
   "execution_count": 1,
   "id": "00fcae92",
   "metadata": {},
   "outputs": [],
   "source": [
    "#!pip install sklearn_crfsuite\n",
    "#!pip install eli5\n",
    "# !pip install WordCloud\n",
    "!pip install scikit-learn==0.23"
   ]
  },
  {
   "cell_type": "markdown",
   "id": "3fb8821e",
   "metadata": {},
   "source": [
    "# Import necessary libraries"
   ]
  },
  {
   "cell_type": "code",
   "execution_count": 2,
   "id": "d792d3af",
   "metadata": {},
   "outputs": [],
   "source": [
    "import json\n",
    "import pandas as pd\n",
    "import numpy as np\n",
    "import sklearn\n",
    "from pandas.core.groupby.base import OutputKey\n",
    "from sklearn.feature_extraction import DictVectorizer\n",
    "import sklearn_crfsuite\n",
    "from sklearn_crfsuite import scorers, metrics\n",
    "from collections import Counter\n",
    "from sklearn.model_selection import train_test_split, GridSearchCV\n",
    "import nltk\n",
    "from tqdm import tqdm\n",
    "import json\n",
    "import eli5\n",
    "import spacy\n",
    "from spacy.training import offsets_to_biluo_tags\n",
    "from spacy.lang.en import English\n",
    "from spacy.pipeline import EntityRuler\n",
    "import csv\n",
    "import re\n",
    "from spacy.training import Example\n",
    "from spacy.tokens import DocBin\n",
    "from spacy.lang.en.stop_words import STOP_WORDS\n",
    "from gensim.models.word2vec import Word2Vec\n",
    "from gensim.models.keyedvectors import KeyedVectors\n",
    "import matplotlib.pyplot as plt\n",
    "from wordcloud import WordCloud, ImageColorGenerator"
   ]
  },
  {
   "cell_type": "code",
   "execution_count": 3,
   "id": "571ded10",
   "metadata": {},
   "outputs": [],
   "source": [
    "#load dataset\n",
    "df_train = pd.read_csv(\"Final_dataset.csv\")"
   ]
  },
  {
   "cell_type": "code",
   "execution_count": 4,
   "id": "3561f58e",
   "metadata": {},
   "outputs": [],
   "source": [
    "test_data = [json.loads(line) for line in open('validation.json','r')]\n",
    "test_data = pd.json_normalize(test_data)\n",
    "test_data = test_data['Name']\n",
    "test_data = test_data[:1000]"
   ]
  },
  {
   "cell_type": "code",
   "execution_count": 5,
   "id": "0d2ef11b",
   "metadata": {},
   "outputs": [
    {
     "data": {
      "text/plain": [
       "(2393, 3)"
      ]
     },
     "execution_count": 5,
     "metadata": {},
     "output_type": "execute_result"
    }
   ],
   "source": [
    "df_train.shape"
   ]
  },
  {
   "cell_type": "code",
   "execution_count": 6,
   "id": "54d39bab",
   "metadata": {},
   "outputs": [],
   "source": [
    "#Only product titles are needed\n",
    "df_train = df_train['Title']"
   ]
  },
  {
   "cell_type": "code",
   "execution_count": 7,
   "id": "3ace548b",
   "metadata": {},
   "outputs": [
    {
     "data": {
      "text/plain": [
       "0                          Sterling Silver Angel Charm\n",
       "1        HP Pavilion 23xi 58.40 cm (23ï¿½) IPS Monitor\n",
       "2    East Carolina Pirates Ladies Personalized Bask...\n",
       "3    Tekonsha 90195 P3 Electric Brake Control, 1-4 ...\n",
       "4                    RN-XV WiFly Module - Wire Antenna\n",
       "Name: Title, dtype: object"
      ]
     },
     "execution_count": 7,
     "metadata": {},
     "output_type": "execute_result"
    }
   ],
   "source": [
    "df_train.head()"
   ]
  },
  {
   "cell_type": "code",
   "execution_count": 8,
   "id": "d07a99a1",
   "metadata": {},
   "outputs": [],
   "source": [
    "#nlp = spacy.load(\"en_core_web_lg\")"
   ]
  },
  {
   "cell_type": "code",
   "execution_count": null,
   "id": "449f90fc",
   "metadata": {},
   "outputs": [],
   "source": []
  },
  {
   "cell_type": "code",
   "execution_count": 9,
   "id": "426ad9a3",
   "metadata": {},
   "outputs": [],
   "source": [
    "#define custom functions to load, save and generate product and brand names list\n",
    "def load_data(file):\n",
    "    with open(file, \"r\", encoding = \"utf-8\")as f:\n",
    "        data = json.load(f)\n",
    "    return data\n",
    "\n",
    "def save_data(file, data):\n",
    "    with open (file, \"w\", encoding=\"utf-8\") as f:\n",
    "        json.dump(data, f, indent=4)\n",
    "        \n",
    "def generate_brand_products(file):\n",
    "    chars = load_data(file)\n",
    "    #print(len(hp_chars))\n",
    "    #print(chars)\n",
    "    new_characters = []\n",
    "    for item in chars:\n",
    "        new_characters.append(item.lower())\n",
    "    return new_characters"
   ]
  },
  {
   "cell_type": "code",
   "execution_count": 10,
   "id": "5235b18d",
   "metadata": {},
   "outputs": [],
   "source": [
    "brands = generate_brand_products(\"brand_names.json\")"
   ]
  },
  {
   "cell_type": "code",
   "execution_count": 11,
   "id": "043366e7",
   "metadata": {},
   "outputs": [],
   "source": [
    "products = generate_brand_products(\"products.json\")"
   ]
  },
  {
   "cell_type": "code",
   "execution_count": 12,
   "id": "99a34017",
   "metadata": {},
   "outputs": [
    {
     "name": "stdout",
     "output_type": "stream",
     "text": [
      "['ruby reds', 'victorian', 'michigan state spartans', 'under armour', 'drake bulldogs', 'modernus', 'homedics', 'adidas', 'cleveland browns', 'harpa', 'guanabana', \"nature's promise\", 'chrysler', 'tech air', 'east carolina pirates', 'oase', 'troy', 'el gran', 'iowa state cyclones', 'reloj', 'northern illinois', 'bella', 'sellier & bellot', 'cammo', 'boston bruins', 'nike', 'eden', 'chevrolet', 'alterna', 'plyboo', 'anatolius', 'scientific anglers', 'alabama', 'purdue', 'maxtens', 'brand', 'sterling', 'hp', 'east carolina pirates', 'tekonsha', 'wifly', 'genairex', 'philadelphia eagles ', 'kansas city chiefs', 'goldwax', 'nittaku', 'oakland athletics', 'thule', 'creighton bluejays', 'seattle seahawks', 'vintage', 'arizona wildcats', 'miami hurricanes', 'kentucky wildcats', 'bo jackson', 'mariposa', 'alabama', 'multi-stripe', 'nike', 'dayton flyers', 'louisiana', 'michigan state', 'helena', 'grizzly straw', 'sam houston', 'seminoles', 'aggies', 'duke', 'colorblock', 'archie griffin', ' howard', 'soldner-x 2:', 'under armour', 'nike ', 'edma', 'fruta planta', 'kansas jayhawks', 'colosseum cincinnati', 'biopsy ', 'chicago bulls', 'biba', 'tail', 'rose ', ' norfolk', 'virginia cavaliers', 'majestic new york islanders', 'miami marlins', 'general electric', 'georgia state panthers', 'flannel ', 'adidas ', 'wichita ', 'redbirds', 'arkansas razorbacks', 'vc grapes', 'royal canin', 'kondos', 'east carolina', 'utep miners', 'cucinapro ', 'north texas', '47 brand fiu panthers', 'swiss perf', 'pennsylvania quakers', 'new orleans', 'legacy 44', 'texas longhorns', 'suzuki ', 'caneware mason', 'farberware ', 'nfl football', 'gators', 'indiana', 'puma', '[gold package]', 'sun devils', 'cincinnati bearcats', 'seagate', 'furminator ', 'original retro', 'pet dog', 'wonder woman', 'orleans saints', 'ballon bleu', 'andrew mccutchen', 'h20 vac', 'streamline', 'norfolk state spartans', 'french ', 'graco magnum', 'washington wizards', 'affinity', 'swarovski', 'adidas', 'missouri state bears', 'honda', 'jayhawks', 'st. louis', 'immersion research', 'soporte para', 'orlando magic', 'castle bar', 'memphis', 'florida a&m rattlers', 'microsoft', 'texas a&m', 'pittsburgh steelers', 'emergency essentials', 'game bibs', 'illinois ', 'the macallan', 'lumatone -', 'bravo', 'ucf knights', 'toddler danica patrick chase', 'carolina panthers', 'pits & chips', 'havahartï', 'missouri state', 'fuel petcock', 'logoart milwaukee', 'georgetown hoyas', 'notre dame', 'uic flames', 'purdue boilermakers', 'graco', 'kansas state wildcats', 'baltimore raven', 'washington state cougars', 'sun lounger', 'white sangria', 'wrought', 'sight ', 'ornate', 'pacific tigers', 'wrights rattail', 'color block', 'missouri tigers', 'penn state nittany', 'rutgers scarlet', 'west virginia', 'florida gators', 'ohio state buckeyes', ' wake forest', 'detroit tigers', 'rochester knighthawks', 'victory forge', 'indiana hoosiers', 'chemiquip ', 'egr', 'flo', 'initial charm', 'washington huskies', 'depaul', 'ungrounded', 'the cure', 'brad keselowski checkered', 'soft fleece', ' ufc', 'ronda chestnut', 'miltex buck', 'advantage', 'sentimental circus', 'belmont bruins', 'tony parker', 'realtree', 'iball andi', 'lenovo', 'darice', 'doug hyde,', 'ga', 'vecchia deruta', 'providence friars', 'yakima', 'saris freedom', ' suzuki', 'terance knighton', 'galtech', 'bmw', 'texas tech red raiders', 'gamo ', 'bud light', 'blue-white', 'rotatrim', 'clear stamp ', 'fresno state bulldogs', 'checkered flag', 'britney one', 'heels', 'houston texans', 'horses', 'corvette camaro', ' antigua', 'free authority', 'louisville cardinals', 'nelly', 'cc019 gpm', 'pool guard', 'peddinghaus', 'kenwood ', 'custom promotion', 'stephen f austin lumberjacks', 'american dynamics', 'oklahoma sooners', 'eheim clips', 'sony ericsson', \"shepherd's\", 'metal ex', 'thuja cream', 'brown michigan', 'antigua brooklyn nets', 'cycle country', 'montana state bobcats', 'clemson tigers', 'utah jazz', 'ibm amd', 'wisconsin badgers', 'charlotte hornets', 'kreyol essence', 'saltron ', 'mother bell', 'sterling silver', 'sportiqe', 'contour', 'the game', \"'47 cincinnati\", 'iwo jima', 'l.a. dodgers', 'seton hall', 'doro phoneeasy', 'aurora borealis', '4 inch', 'madwave', 'drew butera', 'vortex ', ' lsu tigers top', 'bulldogs espn', 'south dakota coyotes', ' tennessee', 'ultimate performance', 'nikwax', 'watt trinity', 'continental tires', 'darice ', 'cincinnati reds', 'frightprops', 'fotoquantum', 'eheim ', 'loyola marymount', 'uncle milton', 'mitchell & ness', 'fonthill', 'denver broncos', 'wincraft', 'nfl', 'cutter & buck', 'cuce', 'kansas city royals', 'boise state broncos', 'south carolina', 'powertec', 'vision ', 'appalachian state mountaineers', 'milwaukee bucks', 'hewlett packard ', 'hp ', 'kokeshi ', 'st louis cardinals', 'dallas cowboys', 'penn state nittany lions', 'ylang ylang', 'michigan state spartans', 'yakima ', 'antigua pittsburgh penguins', 'pepperdine waves', 'philadelphia phillies', 'neve', 'swiss precimax ', 'circulon genesis', 'buttons galore', 'city rain', 'enkeeo', 'montana grizzlies', 'majestic charcoal', 'nitto', 'dream girl ', 'bernat ', 'molex', 'samsung ', 'ottawa senators', 'yale bulldogs', 'auburn tigers', 'frye', 'neoprene', 'washington redskins', 'chrysler', 'esccali', 'casio', 'st. louis cardinals', 'villanova wildcats', 'forest demon decons', 'nagasa', 'troy university trojans', 'minnesota golden gophers', 'cleveland browns ', 'miami dolphins', 'tennessee volunteers ', 'usc trojans ', 'northern illinois huskies', 'ibm', 'utah utes', 'wallistic', 'kokatat', 'pigeon', 'baltimore ravens', 'blue violet ', 'g-iii sports', 'abel', 'shimano', 'north carolina', 'texas a&m aggies', 'paisley', 'linco-spectin', 'lsu tigers', 'illinois state redbirds', 'harvard crimson', 'emergency essentials ', 'maria theresa', 'camelot', 'zephyr ', 'dayna ', 'ga tech', 'musclepharm', 'vanderbilt commodores', 'sea monkey', 'georgia bulldogs', 'alabama ', 'vcu rams', 'louisiana tech bulldogs', 'louis blues', 'kansan city chiefs', 'tatami', 'onboard', 'hyperdrive', 'fiu panthers', 'usmc', 'wyoming cowboys', 'tulip ', 'wichita state shockers', 'golden eagles', 'lousiville cardinals ', 'drake bulldogs', 'pevonia botanica', 'houston astros', 'mississippi rebels', 'chiffon ', 'gavin', 'iowa state cyclones', 'super bowl ', 'smu ', 'pittsburg steelers', 'smith & wesson', 'colosseum ', 'west virginia ', 'fanatics ', 'daewoo', 'tailgates ', 'missouri state university', 'apple', 'luxemate', 'fau owls', 'forest friends ', 'smok galileo', 'popular', 'silver snakes', 'nero giardini', 'san francisco 49ers', 'laurel', 'jh design', 'beacon - usb', 'infant baltimore', 'rolex 118238 mrp', 'troy university', 'door trail', \"spring creek's\", 'aspirador', 'candyshell', 'new orleans voodoo', 'eliminall spot', 'majestic threads', 'connoisseur ', 'paul menard', 'roxy juniors', 'iv extension', 'us peacekeeper', 'scene setters ', 'glitter ', 'ankh ', 'orlando predators', 'new era ', 'usa ultimate', 'uncg spartans ', 'clearlight infrared', 'central michigan chippewas', 'ultra-thin', 'neocutis', 'zoo med', 'travel berkey', 'sagrantino', 'barrett', 'knuckleduster with', 'spuik', 'paula deen', 'newbury ', 'three horn', 'earlex', 'weider victory', 'sleeveless boucle', 'ferris state bulldogs', 'party essentials', 'loyola marymount lions', 'fordham rams', 'arizona state sun devils', 'wright state raiders', 'talavera', 'scottevest', 'ocean rodeo', 'candy cane', 'black solid', 'usa wincraft ', 'aqueon quietflow', 'pf-2', 'terra', 'graco ', 'kansan jayhawks', 'marshall thundering herd', 'angel dear', 'dw 5710 straight', 'innokin itaste', 'flower headband', 'caramel harness', 'coastal sayings', 'antigua ', 'saint louis billikens', 'agarwood', 'alpine', 'aventics', 'body butter', 'mustad ', 'fahad', 'gabifresh', 'xeon', 'san antonio spurs', 'lunargrand ', 'mottisfont', 'cadillac', 'rutgers ', 'fire sense', 'joma ', 'tokenz dolly ', 'minnesota twins', 'chicago bears', 'riddell fresno', 'smk', 'cast ', 'off-the-shoulder', 'super lumbar', 'wilson cardiff', 'personalized irish', 'rapid city', 'aceite', 'spot ', 'chicago pneumatic', 'delica ', 'st louis blues', 'supreme ', 'daily car', 'summerlite', 'dainolite xeno', 'seton hall pirates', 'electrolux home', 'other 1932', 'santa clara broncos', 'detox', 'aqua medic', 'driftwood candelabra', 'fayreform ', 'rvca', 'spectrum cilantro', 'body wash', 'columbia business', 'testo unico', 'jr motorsports', 'colorado avalanche', 'desigual skirt', 'san diego chargers', 'somerset bed', 'banana flavor', 'top of the world', 'whisper ex', 'proenza', 'scientific anglers', 'fisher-price', 'zephyr', 'champagne gifts', 'h&h', 'belkin', 'micro torch', 'los angeles kings ', 'yakima universal', 'cal', 'color picture', 'freemotion ext', 'eucalyptus spearmint', 'colorquantum vinyl', 'icicle lights', 'instant ocean', 'sennheiser ', 'equestrian boots', 'minnesota lynx', 'idaho vandals', 'georgia tech', \"sophocles' philoctetes\", 'majestic terry', 'camlin', 'lyndall brakes', 'santos demoiselle', 'bumgenius flip', 'solid wood', 'new york knicks', 'mahogany ', 'grand caravan', 'the richest', 'coors ', 'nitto terra', 'new hampshire wildcats', 'cross', 'w02-358-3000 firestone', 'majestic boston', 'gloves streetracer', 'kevin garnett', 'franklin, tennessee', 'dell', 'hgst deskstar', 'apparatus for', 'oregon state beavers', 'cole hamels', 'marissa one', 'the essential', 'weatern kentucky ', 'studio 71', 'ohio state ', 'inside', 'team usa', 'pitssburg state gorillas', 'david ortiz', 'chippewa', 'platy ', 'vortex viper', 'vella', 'le creuset', 'ohio bobcats', 'archway ', 'kingston', 'one phone', 'rangoli herbal', 'shuffle tech', 'usc trojans', 'uci ', 'hyacinth', 'samsung', 'large pair', 'nuke ', 'circulon contempo', 'red heart', 'virginia tech hokies', 'weego - adapter', 'reebok', 'new york yankees', 'uconn huskies', 'riviera ', 'yamah', 'drexel dragons', 'new orleans saints', 'furinno', 'joinery', 'quicksilver', 'houston state university', 'atlanta falcons', 'michigan wolverines', 'swisher', 'pepe', 'perdomo', 'north dakota state ', 'philadelphia eagles', 'amora', 'shire', 'beeswax', 'infinite circulon', 'montre ', 'philadelphia flyers', 'compressport', 'maryland terrapins', 'rottefella', 'st louis', 'western kentucky hilltoppers', 'lincoln', 'boston rex sox', 'antec', 'oregon ducks', 'carhartt duck dog', 'oakley ', 'marlon brando', 'rutgers scarlet nights', 'conbraco', 'vanessa', 'ponderosa', 'pittsburgh steelers ', 'denver nuggets', 'tcu horned frogs', 'spyglass', 'miami university redhawks', 'cayman isle', 'south carolina gamecocks', 'princess bride', 'colorado state rams', 'penguin', 'ucla bruins', 'dove', 'uab blazers', 'kissy kissy', 'st. tikhon', 'metabox', 'golden state warriors', 'himalaya', 'xolo', 'wendtii crypt', 'amron', 'dainese', 'texas rangers', 'datejust', 'carhartt', 'intel', 'timberland pro', 'meinl ', 'epsealon', 'mitsubishi', 'kansan city cheifs', 'ariat', 'timber creek', 'danner', 'texas tech raiders', 'double', 'sims portex', 'asics', 'cooper', 'jabra', 'smu mustangs', 'isabella oliver', 'philadelphia 76ers', 'bridgestone', 'pieh', 'sealife', 'missourri tigers', 'demon deacons', 'baylor bears', 'nascar', 'datsun', 'ray lewis baltimore', 'turtle tuff', 'tulsa', 'steiner', 'houston rockets', 'decolights', 'mackie', 'xcalibur', 'tamiya', 'nissan', 'cleveland browns', 'nc state wolfpack', 'jbl', 'dallas cowboys ', 'tervis', 'sanuk casa barco', 'tanglefoot', 'syracuse orange ', 'ricoh aficio', 'detroit piston', 'duke blue', 'infinite', 'montreal canadiens', 'missouri state university bears', 'pioneer', 'elasto-gel', 'temple owls', 'eastern sierra', 'hotlix', 'nemesis ', 'rcbs ', 'alabama crimson tide', 'bolas', 'k-state wildcats', 'potenza', 'louisville ', 'archies', 'syarcuse ', 'nebraska cornhuskers', 'hollander', 'red swordtail', 'pittsburg state gorillas ', \"jack deniel's\", 'mandarin', 'phattys', 'yogi', 'circulon  ', 'bering', 'acacia', 'burg', 'san jose state spartans', 'telefono', 'colorado buffaloes', 'edelweiss', 'pitt panthers ', 'ford', 'eaton', 'simms', 'patio', 'michigan ', 'pentair ', 'mytee', 'cleveland cavaliers', 'florida state seminoles', 'abof', 'hayward navigator', 'ava', 'msi', 'oase', 'omron', 'beach belle', 'savini', 'farberware', 'ubiquinol', 'ufo ', 'memphis grizzlies', 'plyboosound', 'montana west', 'san diego padres', 'jobst', 'colorado rockies', 'atlants falcons', 'lexus', 'bendix', 'nokia', 'cincinnati bengals', 'widow makers', 'alpinestars jaws', 'danze amalfi', 'colosseum rutgers ', 'ghost dog', 'santini mania', 'ecopia', 'powell', 'pepperdine', 'tsuba marugata', 'super life', 'baltimore', 'angel wing', 'heart to get', 'redline', 'citizen promaster', 'fanatics', 'cherryman', 'villanova', 'florida state semioles', 'western ketucky hilltoppers', 'blue clean prosumer', 'ucla', 'texa longhorns', 'anolon ', 'vetguard', 'portland state vikings', 'xbox ', 'canon', 'fly terminator', 'telemecanique', 'homedics', 'giro', 'mucha', 'vortex', 'ulm warhawks', 'duke ', 'heine', 'fayreform', 'iowa hawkeyes ', 'tecnifibre', 'dodge', 'morehead', 'marquette', 'pittsburgh penguins', 'united colors of benetton', 'jacksonville jaguars', 'uncg spartans', 'north carolina state wolfpack', 'bfgoodrich', 'danica', 'safetec', 'hatch finatic', 'daytona international', 'promark', 'towson tigers', 'tcu horned froga', 'dukuri', 'gonzaga bulldogs', 'ginseng', 'coralife', 'fishmate', 'green bay packers', 'nikon', 'antigua baltimore', 'kvoll ', 'kite', 'rutergs scarlet knights', 'alpinestars ', 'tennessee titans', 'pirelli', 'toyota', 'surftech sup sling', 'surftech', 'monte carlo', 'tennessee volunteers', 'oklahoma state cowboys', 'geovision', 'mitch hedberg', 'roxy ', 'memphis tigers', 'adoretex', 'toshiba', 'hampton', 'crest', 'cincinnati beracats', 'columbia missouri tigers', 'chase ', 'washington capitals nhl', 'weihrauch', 'sky organics', 'east orange', 'simmons', 'sterling', 'pepperdine ', 'havahart', 'guzzini', 'depaul blue demons', 'freemotion', 'missouri state bearcats', 'weest virginia mountaineers', 'ufc carlos condit', 'o-phos', 'ortho-dream', 'mississippi state bulldogs', 'marching snare', 'dallas stars', 'gamerfuzion', 'rutgers scarlet knights', 'dyson', 'bella', 'carbonyte', 'syracuse orange', 'joma', 'columbia fresno state bulldogs', 'san jose spartans', 'crown', 'mares', 'johnson rose', 'dalbello', 'arkon', 'dale earnhardt', 'north face', 'north dakota state bison', 'drifz', 'famu rattlers', 'storksak', 'cleardraw', 'c&d dynasty', 'patons', 'yamaha', 'burg-layer', 'ithaka', 'detroit red wings', '21king', 'kempa', 'cincinnate reds', 'tampa bay', 'mohair', 'dobell', 'aqua aura', 'grand horizon', 'lacoste', 'knotty', 'san jose sharks', 'chevrolet', 'tahitian']\n"
     ]
    }
   ],
   "source": [
    "print(brands)"
   ]
  },
  {
   "cell_type": "code",
   "execution_count": 13,
   "id": "e741d35a",
   "metadata": {},
   "outputs": [
    {
     "name": "stdout",
     "output_type": "stream",
     "text": [
      "['locket', 'monitor', 'tshirt', 'display case', 'barwell fleet', 'plaque', 'hoodie', 'garden flag', 'dinning chair', 'hoodie', 'tshirt', 'football', 'sunglasses', 'ornament', 'money clip', 'flip flops', 'dress', 'hat', 'barrette', 'hats', 'photograph', 'tank top', 'soundtrack', 'socks', 'jersey', 'guillotine', 'pills', 'tote', 'sweatshirt', 'bags', 'sticker', 'barware', 'bulb kit', 'mold', 'polo', 'cubby', 'tstat', 'shirt', 'decal', 'cleats', 'gift set', 'scrub', 'dog dry', 'expedition pack', 'frame', 'pizelle maker', 'shuffler', 'eye cream', 'pineapple', 'brushguard', 'bowl', 'teakettle', 'lighter', 'map 2012', 'training', 'lid', 'jacket', 'hard disk', 'dog', 'flooring', 'tag', 'cape', 'diamonds', 'cleaner', 'shoes', 'powder', 'extension', 'tie', 'backpack', 'touring', 'riflescope', 'accessories', 'civic lx', 'netlimited', 'sign', 'skirt', 'repisa', 'marker', 'pad', 'slipper', 'card', 'sugar', 'overalls', 'tee', 'oak', 'pump', 'thermal halfzip', 'set', 'playlist', 'kit', 'necklace', 'lanyard', 'vibrator', 'earbuds', 'sprayer', 'table', 'freezer', 'rosettes', 'spigot', 'tracks', 'bichir', 'cord', 'bag', 'belt', 'sata', 'pullover', 'flyknit', 'keychain', 'decept', 'fuller', 'lamp', 'fleece', 'bracelet', 'suncatcher', 'bed', 'top', 'package', 'curettes', 'shake', 'iball', 'tablet', 'watch', 'book', 'roof', 'bike rack', 'bike', 'case', 'umbrella', 'horn', 'barricade', 'car', 'beanie', 'koozie', 'meter', 'trimmer', 'stamps', 'troika', 'valve', 'towels', 'headband', 'alloy', 'alarm', 'hammer', 'flag', ' hard drive', 'spary bar', 'xperia', 'pin', 'door', 'cream', 'wallet', 'processor', 'clock', 'caster oil', 'spa', 'charm', 'ipod', 'sculpture', 'phone', 'scanner', 'bottle', 'sparkler', 'support', 'magnets', 'box', 'viper', 'wash', 'piggy bank', 'fixture', 'mousepad', 'bsw', 'catalog', 'hdd', 'studio tools', 'connector', 'ant farm', 'light', 'thermal', 'short', 'shorts', 'armbands', 'boots', 'pants', 'cufflinks', 'pant', 'helmet', 'logo', 't shirt', 'bra', 'banner', 'skort', 'short ', 'tank', 'slippers', 'scarf', 'visor', 'sock ', 'tanktop', 'sweatpants', 'sandals', 'uniform', 'cap', 'hoody', 'hem', 'creeper', 'bodysuit set', 'basketball', 'sedan', 'lunch box', 'workbench', 'violin', 'switch', 'dolls', 'oil', 'bicycle carrier', 'monitors', 'bakeware set', 'bicycle', 'ponytail holder', 'grappler', 'mug', 'melissa', 'zipper binder case', 'base', 'softmodem', 'scale', 'stand', 'plate', 'mural', 'pant ', 'panty', 'earrings', 'bull trout', 'panties', 'tablecloth', 'calorie', 'chandelier', 'scoop', 'vaporizer', 'cling sheet', 'laserjet', 'glove ', 'protein', 'emblem', 'gshock', 'posters', 'coin bank', 'premier', 'gloves', 'cling', 'tattoo kit', 'license plate', 'lotion', 'player', 'dvd', 'pistol', 'galaxy', 'bow', 'recorder', 'keyboard', 'mod', 'ring', 'ecc dimm', 'apricot', 'sas 2 pack', 'usb', 'president watch', 'trail by moonlight', 'rowing packages', 'limpia oidos', 'cases', 'on for cats', 'thermometer', 'sweater', 'ipad', 'needle', 'figurines', 'pendant', 'purse', 'sauna dome', 'rubber duck', 'case for ipad2', 'day cream', 'spot lamps', 'travel berkey', 'wine', 'metal', 'with horses', 'cookware', 'glass ', 'spary ', 'berry', 'forks', 'percolator', 'cooler', 'boxers underwear', 'kite', 'filter', 'kit ', 'atomizer', 'saucepan', 'harness', 'heels', 'mugs', 'hooks', 'underwire', 'shoe', 'wingtip', ' bed', 'golf balls', 'heater', 'jacket ', 'rifle', 'knob', ' dress', 'memory foam', 'cigar ', ' map', ' cufflinks', 'air compressor', ' sandals', 'power cord', 'insurance policies', 'xeno89sc', 'tray car', 'other 1932', 'tea', 'v electrodes', 'driftwood candelabra', 'brief', 'curtains grommets', 'cosmetic base', 'innovation and impact', 'marzoaprile', 'tailgate toss 20', 'khaki', 'skirt a', 'bed with footrail', 'banana flavor', 'assembled  round', 'leader', 'wizards castle', 'and accessories', 'arrowhead', 'custom keylight', 'carrier tie down kit', 'odyssey', 'plastic  grey  4 x 4 inches', 'cable cross', 'spearmint eo', 'brackets  expander and metal chain', 'light set', 'salt', 'usb dongle', 'equestrian boots italian ridingboots', 'soul robbery', 'drive rotors', 'demoiselle small', 'bottle holder', 'snap 12 pack', 'spiral staircases', 'glasses', 'caravan', 'town with video', 'air spring', 'street map 4727740', 'k w9d988', 'hard drive', 'sous vide', 'bridesmaid dress', 'combat taekwondo', 'canvas', 'appraisal process', 'lapel pin', 'cable', 'photograph', 'cleaning kit', 'xlr reticle', 'faucet ', 'phone jacks', 'face wash', 'mounting kit', 'decal sheet', 'chiller', 'craft lanyard', 'camera', 'door handles', 'saucepan red', 'yarn ', 'product', 'charm', 'monitor', 't-shirt', 'axles', '', 'display case', 'barwell fleet', 'plaque', 'hoodie', 'garden flag', 'dinning chair', 'hoodie', 'football', 'sunglasses', 'ornament', 'money clip', 't-shirt', 'flip flops', 'dress', 'hat', 'hoodie', 'barrette', 'hats', 'photograph', 'tank top', 'soundtrack', 'socks', 'guillotine', 'pills', 'tote', 'sweatshirt', 'bags', 'sticker', 'barware', 'bulb kit', 'mold', 'polo', 'shirt', 'decal', 'gift set', 'scrub', 'dog dry', 'expedition pack', 'frame', 'pizelle maker', 'sweatshirt', 'eye cream', 'pineapple', 'brushguard', 'bowl', 'teakettle', 'lighter', 'map 2012', 'training', 'jacket', 'hard disk', 'dog', 'tag', 'cape', 'diamonds', 'cleaner', 'shoes', 'powder', 'extension', 'backpack', 'touring', 'riflescope', 'civic lx', 'net-limited', 'sign', 'skirt', 'repisa', 'marker', 'pad', 'card', 'sugar', 'overalls', 'tee', 'oak', 'pump', 'jersey', 'set', 'silver', 'kit', 'necklace', 'lanyard', 'sweatshirt', 'sprayer', 'table', 'freezer', 'rosettes', 'spigot', 'bichir', 'cord', 'belt', 'pullover', 'keychain', 'fuller', 'lamp', 'bracelet', 'suncatcher', 'bed', 'top', 'package', 'curettes', 'shake', 'bag', 'iball', 'tablet', 'watch', 'book', 'roof', 'bike rack', 'bike', 'umbrella', 'car', 'beanie', 'koozie', 'meter', 'trimmer', 'stamps', 'troika', 'valve', 'headband', 'alloy', 'alarm', 'hammer', 'flag', 'hard drive', 'black', 'spary bar', 'xperia', 'pin', 'door', 'cream', 'wallet', 'case', 'processor', 'clock', 'caster oil', 'spa', 'charm', 'ipod', 'sculpture', 'phone', 'bottle', 'sparkler', 'support', 'viper', 'wash', 'fixture', 'catalog', 'studio tools', 'connector', 'ant farm', 'light', 'sandals', 'lunch box', 'workbench', 'violin', 'switch', 'dolls', 'helmet', 'oil', 'bicycle carrier', 'bakeware set', 'bicycle', 'ponytail holder', 'grappler', 'mug', 'zipper', 'binder', 'case', 'base', 'scale', 'stand', 'plate', 'mural', 'pant ', 'panty', 'earrings', 'bull trout', 'tablecloth', 'chandelier', 'vaporizer', 'protein', 'posters', 'coin bank', 'premier', 'gloves', 'cling', 'tattoo kit', 'license plate', 'lotion', 'player', 'slippers', 'dvd', 'lid', 'pistol', 'shorts', 'recorder', 'keyboard', 'mod', 'ring', 'boots', 'apricot', 'usb', 'bodysuit set', 'president watch', 'trail by moonlight', 'rowing packages', 'cases', 'thermometer', 'sweater', 'needle', 'figurines', 'bow', 'pendant', 'sauna dome', 'case for ipad2', 'day cream', 'spot lamps', 'travel berkey', 'wine', 'metal', 'with horses', 'pants', 'cookware', 'glass ', 'spray ', 'berry', 'forks', 'boxers, underwear', 'kite', 'filter', 'kit ', 'atomizer', 'harness', 'mugs', 'hooks', 'underwire', 'photograph', 'wingtip', 'bed', 'sedan', 'heater', 'jacket ', 'rifle', 'knob', 'dress', 'memory foam', 'cigar ', 'map', 'cufflinks', 'air compressor', 'sandals', 'power cord', 'insurance policies', 'xeno-89-sc', 'tray car', 'other 1932', 'tea', 'electrodes', 'driftwood candelabra', 'brief', 'curtains grommets', 'cosmetic base', 'innovation, and impact', 'golf balls', 'skirt a', 'bed with footrail', 'banana flavor', 'assembled - round', 'leader', \"wizard's castle\", 'and accessories.', 'arrowhead', 'custom keylight', 'carrier, tie down kit', 'plastic - grey - 4 x 4 inches', 'cable cross', 'spearmint', 'brackets & expander and metal chain)', 'light set', 'salt', 'usb dongle', 'soul robbery', 'drive rotors', 'demoiselle small', 'snap 12 pack', 'spiral staircases', 'glasses', 'caravan', 'air spring', 'streetracer', 'map', 'hard drive', 'bridesmaid dress', 'canvas', 'lapel pin', 'photograph', 'cleaning kit', 'short', 'faucet ', 'phone jacks', 'face wash', 'mounting kit', 'decal sheet', 'camera', 'door handles', 'saucepan, red', 'yarn ', 'scarf', 'tank', 'pedal', 'cover', 'cap', 'socks', 't shirt', 'stud', 'cable', 'mattress', 'flask', 'kits', 'glass', 'chair', 'cufflinks', 'scarlet', 'bra', 'headset', 'socket', 'adapter', 'hair pin', 'doors', 'lights', 'duvet', 'tumbler', 'trap system', 'cartridge', 'lollipop', 'calendar', 'swordtail', 'pellets', 'detox', 'pan', 'ups', 'cardigan', 'pool cleaner', 'clip', 'notebook', 'headband', 'convertible', 'air dryers', 'bulb', 'carving kit', 'wheels', 'divers', 'desk', 'washer', 'skillet', 'gel', 'shell', 'trap', 'inverter', 'humidifier', 'tapestry', 'scope', 'sheave', 'magnet', 'tires', 'recovery kit', 'swivel', 'jelly', 'chiller', 'bermuda', 'sleeper', 'd300', 'slipper', 'badge', 'tire ', 'roof rack', 'sling', 'mirror', 'swimsuit', 'motor drive', 'tablet sleeve', 'vest', 'coconut oil', 'prism', 'spoon', 'floor tool', 'thermal, top', 'knife holder', 'seat mount', 'cartridges', 'battery', 'red wine', 'pendulum', 'locket', 'hoodie', 'beanie', 'table', 'humidifier', 'shorts', 'sweatpants', 'dress', '', 'pellets', 'crusier base', 'hat', 'jacket', 'nets', 't-shirt', 'flag', 'ammunition', 'sweatshirt', 'pumps', 'impala', 'shampoo', 'mirror', 'backsack', 'tank top', 'shoes']\n"
     ]
    }
   ],
   "source": [
    "print(products)"
   ]
  },
  {
   "cell_type": "markdown",
   "id": "070714b9",
   "metadata": {},
   "source": [
    "# Spacy customization"
   ]
  },
  {
   "cell_type": "code",
   "execution_count": 14,
   "id": "5fdcbcd8",
   "metadata": {},
   "outputs": [],
   "source": [
    "#function to create input data for entity ruler\n",
    "def create_training_data(file, entity_type):\n",
    "    data = generate_brand_products(file)\n",
    "    patterns = []\n",
    "    for item in data:\n",
    "        pattern = {\n",
    "                    \"label\": entity_type,\n",
    "                    \"pattern\": item\n",
    "                  }\n",
    "        patterns.append(pattern)\n",
    "#     print(patterns)\n",
    "    return patterns"
   ]
  },
  {
   "cell_type": "code",
   "execution_count": 15,
   "id": "1433f4bf",
   "metadata": {},
   "outputs": [],
   "source": [
    "patterns1 = create_training_data(\"brand_names.json\", \"BRAND\")"
   ]
  },
  {
   "cell_type": "code",
   "execution_count": 16,
   "id": "c3eabfb8",
   "metadata": {},
   "outputs": [],
   "source": [
    "patterns2 = create_training_data(\"products.json\", \"PRODUCT\")"
   ]
  },
  {
   "cell_type": "code",
   "execution_count": 17,
   "id": "e1fbff9f",
   "metadata": {},
   "outputs": [],
   "source": [
    "patterns1.extend(patterns2)"
   ]
  },
  {
   "cell_type": "code",
   "execution_count": 18,
   "id": "72d990bc",
   "metadata": {},
   "outputs": [
    {
     "name": "stdout",
     "output_type": "stream",
     "text": [
      "[{'label': 'BRAND', 'pattern': 'ruby reds'}, {'label': 'BRAND', 'pattern': 'victorian'}, {'label': 'BRAND', 'pattern': 'michigan state spartans'}, {'label': 'BRAND', 'pattern': 'under armour'}, {'label': 'BRAND', 'pattern': 'drake bulldogs'}, {'label': 'BRAND', 'pattern': 'modernus'}, {'label': 'BRAND', 'pattern': 'homedics'}, {'label': 'BRAND', 'pattern': 'adidas'}, {'label': 'BRAND', 'pattern': 'cleveland browns'}, {'label': 'BRAND', 'pattern': 'harpa'}, {'label': 'BRAND', 'pattern': 'guanabana'}, {'label': 'BRAND', 'pattern': \"nature's promise\"}, {'label': 'BRAND', 'pattern': 'chrysler'}, {'label': 'BRAND', 'pattern': 'tech air'}, {'label': 'BRAND', 'pattern': 'east carolina pirates'}, {'label': 'BRAND', 'pattern': 'oase'}, {'label': 'BRAND', 'pattern': 'troy'}, {'label': 'BRAND', 'pattern': 'el gran'}, {'label': 'BRAND', 'pattern': 'iowa state cyclones'}, {'label': 'BRAND', 'pattern': 'reloj'}, {'label': 'BRAND', 'pattern': 'northern illinois'}, {'label': 'BRAND', 'pattern': 'bella'}, {'label': 'BRAND', 'pattern': 'sellier & bellot'}, {'label': 'BRAND', 'pattern': 'cammo'}, {'label': 'BRAND', 'pattern': 'boston bruins'}, {'label': 'BRAND', 'pattern': 'nike'}, {'label': 'BRAND', 'pattern': 'eden'}, {'label': 'BRAND', 'pattern': 'chevrolet'}, {'label': 'BRAND', 'pattern': 'alterna'}, {'label': 'BRAND', 'pattern': 'plyboo'}, {'label': 'BRAND', 'pattern': 'anatolius'}, {'label': 'BRAND', 'pattern': 'scientific anglers'}, {'label': 'BRAND', 'pattern': 'alabama'}, {'label': 'BRAND', 'pattern': 'purdue'}, {'label': 'BRAND', 'pattern': 'maxtens'}, {'label': 'BRAND', 'pattern': 'brand'}, {'label': 'BRAND', 'pattern': 'sterling'}, {'label': 'BRAND', 'pattern': 'hp'}, {'label': 'BRAND', 'pattern': 'east carolina pirates'}, {'label': 'BRAND', 'pattern': 'tekonsha'}, {'label': 'BRAND', 'pattern': 'wifly'}, {'label': 'BRAND', 'pattern': 'genairex'}, {'label': 'BRAND', 'pattern': 'philadelphia eagles '}, {'label': 'BRAND', 'pattern': 'kansas city chiefs'}, {'label': 'BRAND', 'pattern': 'goldwax'}, {'label': 'BRAND', 'pattern': 'nittaku'}, {'label': 'BRAND', 'pattern': 'oakland athletics'}, {'label': 'BRAND', 'pattern': 'thule'}, {'label': 'BRAND', 'pattern': 'creighton bluejays'}, {'label': 'BRAND', 'pattern': 'seattle seahawks'}, {'label': 'BRAND', 'pattern': 'vintage'}, {'label': 'BRAND', 'pattern': 'arizona wildcats'}, {'label': 'BRAND', 'pattern': 'miami hurricanes'}, {'label': 'BRAND', 'pattern': 'kentucky wildcats'}, {'label': 'BRAND', 'pattern': 'bo jackson'}, {'label': 'BRAND', 'pattern': 'mariposa'}, {'label': 'BRAND', 'pattern': 'alabama'}, {'label': 'BRAND', 'pattern': 'multi-stripe'}, {'label': 'BRAND', 'pattern': 'nike'}, {'label': 'BRAND', 'pattern': 'dayton flyers'}, {'label': 'BRAND', 'pattern': 'louisiana'}, {'label': 'BRAND', 'pattern': 'michigan state'}, {'label': 'BRAND', 'pattern': 'helena'}, {'label': 'BRAND', 'pattern': 'grizzly straw'}, {'label': 'BRAND', 'pattern': 'sam houston'}, {'label': 'BRAND', 'pattern': 'seminoles'}, {'label': 'BRAND', 'pattern': 'aggies'}, {'label': 'BRAND', 'pattern': 'duke'}, {'label': 'BRAND', 'pattern': 'colorblock'}, {'label': 'BRAND', 'pattern': 'archie griffin'}, {'label': 'BRAND', 'pattern': ' howard'}, {'label': 'BRAND', 'pattern': 'soldner-x 2:'}, {'label': 'BRAND', 'pattern': 'under armour'}, {'label': 'BRAND', 'pattern': 'nike '}, {'label': 'BRAND', 'pattern': 'edma'}, {'label': 'BRAND', 'pattern': 'fruta planta'}, {'label': 'BRAND', 'pattern': 'kansas jayhawks'}, {'label': 'BRAND', 'pattern': 'colosseum cincinnati'}, {'label': 'BRAND', 'pattern': 'biopsy '}, {'label': 'BRAND', 'pattern': 'chicago bulls'}, {'label': 'BRAND', 'pattern': 'biba'}, {'label': 'BRAND', 'pattern': 'tail'}, {'label': 'BRAND', 'pattern': 'rose '}, {'label': 'BRAND', 'pattern': ' norfolk'}, {'label': 'BRAND', 'pattern': 'virginia cavaliers'}, {'label': 'BRAND', 'pattern': 'majestic new york islanders'}, {'label': 'BRAND', 'pattern': 'miami marlins'}, {'label': 'BRAND', 'pattern': 'general electric'}, {'label': 'BRAND', 'pattern': 'georgia state panthers'}, {'label': 'BRAND', 'pattern': 'flannel '}, {'label': 'BRAND', 'pattern': 'adidas '}, {'label': 'BRAND', 'pattern': 'wichita '}, {'label': 'BRAND', 'pattern': 'redbirds'}, {'label': 'BRAND', 'pattern': 'arkansas razorbacks'}, {'label': 'BRAND', 'pattern': 'vc grapes'}, {'label': 'BRAND', 'pattern': 'royal canin'}, {'label': 'BRAND', 'pattern': 'kondos'}, {'label': 'BRAND', 'pattern': 'east carolina'}, {'label': 'BRAND', 'pattern': 'utep miners'}, {'label': 'BRAND', 'pattern': 'cucinapro '}, {'label': 'BRAND', 'pattern': 'north texas'}, {'label': 'BRAND', 'pattern': '47 brand fiu panthers'}, {'label': 'BRAND', 'pattern': 'swiss perf'}, {'label': 'BRAND', 'pattern': 'pennsylvania quakers'}, {'label': 'BRAND', 'pattern': 'new orleans'}, {'label': 'BRAND', 'pattern': 'legacy 44'}, {'label': 'BRAND', 'pattern': 'texas longhorns'}, {'label': 'BRAND', 'pattern': 'suzuki '}, {'label': 'BRAND', 'pattern': 'caneware mason'}, {'label': 'BRAND', 'pattern': 'farberware '}, {'label': 'BRAND', 'pattern': 'nfl football'}, {'label': 'BRAND', 'pattern': 'gators'}, {'label': 'BRAND', 'pattern': 'indiana'}, {'label': 'BRAND', 'pattern': 'puma'}, {'label': 'BRAND', 'pattern': '[gold package]'}, {'label': 'BRAND', 'pattern': 'sun devils'}, {'label': 'BRAND', 'pattern': 'cincinnati bearcats'}, {'label': 'BRAND', 'pattern': 'seagate'}, {'label': 'BRAND', 'pattern': 'furminator '}, {'label': 'BRAND', 'pattern': 'original retro'}, {'label': 'BRAND', 'pattern': 'pet dog'}, {'label': 'BRAND', 'pattern': 'wonder woman'}, {'label': 'BRAND', 'pattern': 'orleans saints'}, {'label': 'BRAND', 'pattern': 'ballon bleu'}, {'label': 'BRAND', 'pattern': 'andrew mccutchen'}, {'label': 'BRAND', 'pattern': 'h20 vac'}, {'label': 'BRAND', 'pattern': 'streamline'}, {'label': 'BRAND', 'pattern': 'norfolk state spartans'}, {'label': 'BRAND', 'pattern': 'french '}, {'label': 'BRAND', 'pattern': 'graco magnum'}, {'label': 'BRAND', 'pattern': 'washington wizards'}, {'label': 'BRAND', 'pattern': 'affinity'}, {'label': 'BRAND', 'pattern': 'swarovski'}, {'label': 'BRAND', 'pattern': 'adidas'}, {'label': 'BRAND', 'pattern': 'missouri state bears'}, {'label': 'BRAND', 'pattern': 'honda'}, {'label': 'BRAND', 'pattern': 'jayhawks'}, {'label': 'BRAND', 'pattern': 'st. louis'}, {'label': 'BRAND', 'pattern': 'immersion research'}, {'label': 'BRAND', 'pattern': 'soporte para'}, {'label': 'BRAND', 'pattern': 'orlando magic'}, {'label': 'BRAND', 'pattern': 'castle bar'}, {'label': 'BRAND', 'pattern': 'memphis'}, {'label': 'BRAND', 'pattern': 'florida a&m rattlers'}, {'label': 'BRAND', 'pattern': 'microsoft'}, {'label': 'BRAND', 'pattern': 'texas a&m'}, {'label': 'BRAND', 'pattern': 'pittsburgh steelers'}, {'label': 'BRAND', 'pattern': 'emergency essentials'}, {'label': 'BRAND', 'pattern': 'game bibs'}, {'label': 'BRAND', 'pattern': 'illinois '}, {'label': 'BRAND', 'pattern': 'the macallan'}, {'label': 'BRAND', 'pattern': 'lumatone -'}, {'label': 'BRAND', 'pattern': 'bravo'}, {'label': 'BRAND', 'pattern': 'ucf knights'}, {'label': 'BRAND', 'pattern': 'toddler danica patrick chase'}, {'label': 'BRAND', 'pattern': 'carolina panthers'}, {'label': 'BRAND', 'pattern': 'pits & chips'}, {'label': 'BRAND', 'pattern': 'havahartï'}, {'label': 'BRAND', 'pattern': 'missouri state'}, {'label': 'BRAND', 'pattern': 'fuel petcock'}, {'label': 'BRAND', 'pattern': 'logoart milwaukee'}, {'label': 'BRAND', 'pattern': 'georgetown hoyas'}, {'label': 'BRAND', 'pattern': 'notre dame'}, {'label': 'BRAND', 'pattern': 'uic flames'}, {'label': 'BRAND', 'pattern': 'purdue boilermakers'}, {'label': 'BRAND', 'pattern': 'graco'}, {'label': 'BRAND', 'pattern': 'kansas state wildcats'}, {'label': 'BRAND', 'pattern': 'baltimore raven'}, {'label': 'BRAND', 'pattern': 'washington state cougars'}, {'label': 'BRAND', 'pattern': 'sun lounger'}, {'label': 'BRAND', 'pattern': 'white sangria'}, {'label': 'BRAND', 'pattern': 'wrought'}, {'label': 'BRAND', 'pattern': 'sight '}, {'label': 'BRAND', 'pattern': 'ornate'}, {'label': 'BRAND', 'pattern': 'pacific tigers'}, {'label': 'BRAND', 'pattern': 'wrights rattail'}, {'label': 'BRAND', 'pattern': 'color block'}, {'label': 'BRAND', 'pattern': 'missouri tigers'}, {'label': 'BRAND', 'pattern': 'penn state nittany'}, {'label': 'BRAND', 'pattern': 'rutgers scarlet'}, {'label': 'BRAND', 'pattern': 'west virginia'}, {'label': 'BRAND', 'pattern': 'florida gators'}, {'label': 'BRAND', 'pattern': 'ohio state buckeyes'}, {'label': 'BRAND', 'pattern': ' wake forest'}, {'label': 'BRAND', 'pattern': 'detroit tigers'}, {'label': 'BRAND', 'pattern': 'rochester knighthawks'}, {'label': 'BRAND', 'pattern': 'victory forge'}, {'label': 'BRAND', 'pattern': 'indiana hoosiers'}, {'label': 'BRAND', 'pattern': 'chemiquip '}, {'label': 'BRAND', 'pattern': 'egr'}, {'label': 'BRAND', 'pattern': 'flo'}, {'label': 'BRAND', 'pattern': 'initial charm'}, {'label': 'BRAND', 'pattern': 'washington huskies'}, {'label': 'BRAND', 'pattern': 'depaul'}, {'label': 'BRAND', 'pattern': 'ungrounded'}, {'label': 'BRAND', 'pattern': 'the cure'}, {'label': 'BRAND', 'pattern': 'brad keselowski checkered'}, {'label': 'BRAND', 'pattern': 'soft fleece'}, {'label': 'BRAND', 'pattern': ' ufc'}, {'label': 'BRAND', 'pattern': 'ronda chestnut'}, {'label': 'BRAND', 'pattern': 'miltex buck'}, {'label': 'BRAND', 'pattern': 'advantage'}, {'label': 'BRAND', 'pattern': 'sentimental circus'}, {'label': 'BRAND', 'pattern': 'belmont bruins'}, {'label': 'BRAND', 'pattern': 'tony parker'}, {'label': 'BRAND', 'pattern': 'realtree'}, {'label': 'BRAND', 'pattern': 'iball andi'}, {'label': 'BRAND', 'pattern': 'lenovo'}, {'label': 'BRAND', 'pattern': 'darice'}, {'label': 'BRAND', 'pattern': 'doug hyde,'}, {'label': 'BRAND', 'pattern': 'ga'}, {'label': 'BRAND', 'pattern': 'vecchia deruta'}, {'label': 'BRAND', 'pattern': 'providence friars'}, {'label': 'BRAND', 'pattern': 'yakima'}, {'label': 'BRAND', 'pattern': 'saris freedom'}, {'label': 'BRAND', 'pattern': ' suzuki'}, {'label': 'BRAND', 'pattern': 'terance knighton'}, {'label': 'BRAND', 'pattern': 'galtech'}, {'label': 'BRAND', 'pattern': 'bmw'}, {'label': 'BRAND', 'pattern': 'texas tech red raiders'}, {'label': 'BRAND', 'pattern': 'gamo '}, {'label': 'BRAND', 'pattern': 'bud light'}, {'label': 'BRAND', 'pattern': 'blue-white'}, {'label': 'BRAND', 'pattern': 'rotatrim'}, {'label': 'BRAND', 'pattern': 'clear stamp '}, {'label': 'BRAND', 'pattern': 'fresno state bulldogs'}, {'label': 'BRAND', 'pattern': 'checkered flag'}, {'label': 'BRAND', 'pattern': 'britney one'}, {'label': 'BRAND', 'pattern': 'heels'}, {'label': 'BRAND', 'pattern': 'houston texans'}, {'label': 'BRAND', 'pattern': 'horses'}, {'label': 'BRAND', 'pattern': 'corvette camaro'}, {'label': 'BRAND', 'pattern': ' antigua'}, {'label': 'BRAND', 'pattern': 'free authority'}, {'label': 'BRAND', 'pattern': 'louisville cardinals'}, {'label': 'BRAND', 'pattern': 'nelly'}, {'label': 'BRAND', 'pattern': 'cc019 gpm'}, {'label': 'BRAND', 'pattern': 'pool guard'}, {'label': 'BRAND', 'pattern': 'peddinghaus'}, {'label': 'BRAND', 'pattern': 'kenwood '}, {'label': 'BRAND', 'pattern': 'custom promotion'}, {'label': 'BRAND', 'pattern': 'stephen f austin lumberjacks'}, {'label': 'BRAND', 'pattern': 'american dynamics'}, {'label': 'BRAND', 'pattern': 'oklahoma sooners'}, {'label': 'BRAND', 'pattern': 'eheim clips'}, {'label': 'BRAND', 'pattern': 'sony ericsson'}, {'label': 'BRAND', 'pattern': \"shepherd's\"}, {'label': 'BRAND', 'pattern': 'metal ex'}, {'label': 'BRAND', 'pattern': 'thuja cream'}, {'label': 'BRAND', 'pattern': 'brown michigan'}, {'label': 'BRAND', 'pattern': 'antigua brooklyn nets'}, {'label': 'BRAND', 'pattern': 'cycle country'}, {'label': 'BRAND', 'pattern': 'montana state bobcats'}, {'label': 'BRAND', 'pattern': 'clemson tigers'}, {'label': 'BRAND', 'pattern': 'utah jazz'}, {'label': 'BRAND', 'pattern': 'ibm amd'}, {'label': 'BRAND', 'pattern': 'wisconsin badgers'}, {'label': 'BRAND', 'pattern': 'charlotte hornets'}, {'label': 'BRAND', 'pattern': 'kreyol essence'}, {'label': 'BRAND', 'pattern': 'saltron '}, {'label': 'BRAND', 'pattern': 'mother bell'}, {'label': 'BRAND', 'pattern': 'sterling silver'}, {'label': 'BRAND', 'pattern': 'sportiqe'}, {'label': 'BRAND', 'pattern': 'contour'}, {'label': 'BRAND', 'pattern': 'the game'}, {'label': 'BRAND', 'pattern': \"'47 cincinnati\"}, {'label': 'BRAND', 'pattern': 'iwo jima'}, {'label': 'BRAND', 'pattern': 'l.a. dodgers'}, {'label': 'BRAND', 'pattern': 'seton hall'}, {'label': 'BRAND', 'pattern': 'doro phoneeasy'}, {'label': 'BRAND', 'pattern': 'aurora borealis'}, {'label': 'BRAND', 'pattern': '4 inch'}, {'label': 'BRAND', 'pattern': 'madwave'}, {'label': 'BRAND', 'pattern': 'drew butera'}, {'label': 'BRAND', 'pattern': 'vortex '}, {'label': 'BRAND', 'pattern': ' lsu tigers top'}, {'label': 'BRAND', 'pattern': 'bulldogs espn'}, {'label': 'BRAND', 'pattern': 'south dakota coyotes'}, {'label': 'BRAND', 'pattern': ' tennessee'}, {'label': 'BRAND', 'pattern': 'ultimate performance'}, {'label': 'BRAND', 'pattern': 'nikwax'}, {'label': 'BRAND', 'pattern': 'watt trinity'}, {'label': 'BRAND', 'pattern': 'continental tires'}, {'label': 'BRAND', 'pattern': 'darice '}, {'label': 'BRAND', 'pattern': 'cincinnati reds'}, {'label': 'BRAND', 'pattern': 'frightprops'}, {'label': 'BRAND', 'pattern': 'fotoquantum'}, {'label': 'BRAND', 'pattern': 'eheim '}, {'label': 'BRAND', 'pattern': 'loyola marymount'}, {'label': 'BRAND', 'pattern': 'uncle milton'}, {'label': 'BRAND', 'pattern': 'mitchell & ness'}, {'label': 'BRAND', 'pattern': 'fonthill'}, {'label': 'BRAND', 'pattern': 'denver broncos'}, {'label': 'BRAND', 'pattern': 'wincraft'}, {'label': 'BRAND', 'pattern': 'nfl'}, {'label': 'BRAND', 'pattern': 'cutter & buck'}, {'label': 'BRAND', 'pattern': 'cuce'}, {'label': 'BRAND', 'pattern': 'kansas city royals'}, {'label': 'BRAND', 'pattern': 'boise state broncos'}, {'label': 'BRAND', 'pattern': 'south carolina'}, {'label': 'BRAND', 'pattern': 'powertec'}, {'label': 'BRAND', 'pattern': 'vision '}, {'label': 'BRAND', 'pattern': 'appalachian state mountaineers'}, {'label': 'BRAND', 'pattern': 'milwaukee bucks'}, {'label': 'BRAND', 'pattern': 'hewlett packard '}, {'label': 'BRAND', 'pattern': 'hp '}, {'label': 'BRAND', 'pattern': 'kokeshi '}, {'label': 'BRAND', 'pattern': 'st louis cardinals'}, {'label': 'BRAND', 'pattern': 'dallas cowboys'}, {'label': 'BRAND', 'pattern': 'penn state nittany lions'}, {'label': 'BRAND', 'pattern': 'ylang ylang'}, {'label': 'BRAND', 'pattern': 'michigan state spartans'}, {'label': 'BRAND', 'pattern': 'yakima '}, {'label': 'BRAND', 'pattern': 'antigua pittsburgh penguins'}, {'label': 'BRAND', 'pattern': 'pepperdine waves'}, {'label': 'BRAND', 'pattern': 'philadelphia phillies'}, {'label': 'BRAND', 'pattern': 'neve'}, {'label': 'BRAND', 'pattern': 'swiss precimax '}, {'label': 'BRAND', 'pattern': 'circulon genesis'}, {'label': 'BRAND', 'pattern': 'buttons galore'}, {'label': 'BRAND', 'pattern': 'city rain'}, {'label': 'BRAND', 'pattern': 'enkeeo'}, {'label': 'BRAND', 'pattern': 'montana grizzlies'}, {'label': 'BRAND', 'pattern': 'majestic charcoal'}, {'label': 'BRAND', 'pattern': 'nitto'}, {'label': 'BRAND', 'pattern': 'dream girl '}, {'label': 'BRAND', 'pattern': 'bernat '}, {'label': 'BRAND', 'pattern': 'molex'}, {'label': 'BRAND', 'pattern': 'samsung '}, {'label': 'BRAND', 'pattern': 'ottawa senators'}, {'label': 'BRAND', 'pattern': 'yale bulldogs'}, {'label': 'BRAND', 'pattern': 'auburn tigers'}, {'label': 'BRAND', 'pattern': 'frye'}, {'label': 'BRAND', 'pattern': 'neoprene'}, {'label': 'BRAND', 'pattern': 'washington redskins'}, {'label': 'BRAND', 'pattern': 'chrysler'}, {'label': 'BRAND', 'pattern': 'esccali'}, {'label': 'BRAND', 'pattern': 'casio'}, {'label': 'BRAND', 'pattern': 'st. louis cardinals'}, {'label': 'BRAND', 'pattern': 'villanova wildcats'}, {'label': 'BRAND', 'pattern': 'forest demon decons'}, {'label': 'BRAND', 'pattern': 'nagasa'}, {'label': 'BRAND', 'pattern': 'troy university trojans'}, {'label': 'BRAND', 'pattern': 'minnesota golden gophers'}, {'label': 'BRAND', 'pattern': 'cleveland browns '}, {'label': 'BRAND', 'pattern': 'miami dolphins'}, {'label': 'BRAND', 'pattern': 'tennessee volunteers '}, {'label': 'BRAND', 'pattern': 'usc trojans '}, {'label': 'BRAND', 'pattern': 'northern illinois huskies'}, {'label': 'BRAND', 'pattern': 'ibm'}, {'label': 'BRAND', 'pattern': 'utah utes'}, {'label': 'BRAND', 'pattern': 'wallistic'}, {'label': 'BRAND', 'pattern': 'kokatat'}, {'label': 'BRAND', 'pattern': 'pigeon'}, {'label': 'BRAND', 'pattern': 'baltimore ravens'}, {'label': 'BRAND', 'pattern': 'blue violet '}, {'label': 'BRAND', 'pattern': 'g-iii sports'}, {'label': 'BRAND', 'pattern': 'abel'}, {'label': 'BRAND', 'pattern': 'shimano'}, {'label': 'BRAND', 'pattern': 'north carolina'}, {'label': 'BRAND', 'pattern': 'texas a&m aggies'}, {'label': 'BRAND', 'pattern': 'paisley'}, {'label': 'BRAND', 'pattern': 'linco-spectin'}, {'label': 'BRAND', 'pattern': 'lsu tigers'}, {'label': 'BRAND', 'pattern': 'illinois state redbirds'}, {'label': 'BRAND', 'pattern': 'harvard crimson'}, {'label': 'BRAND', 'pattern': 'emergency essentials '}, {'label': 'BRAND', 'pattern': 'maria theresa'}, {'label': 'BRAND', 'pattern': 'camelot'}, {'label': 'BRAND', 'pattern': 'zephyr '}, {'label': 'BRAND', 'pattern': 'dayna '}, {'label': 'BRAND', 'pattern': 'ga tech'}, {'label': 'BRAND', 'pattern': 'musclepharm'}, {'label': 'BRAND', 'pattern': 'vanderbilt commodores'}, {'label': 'BRAND', 'pattern': 'sea monkey'}, {'label': 'BRAND', 'pattern': 'georgia bulldogs'}, {'label': 'BRAND', 'pattern': 'alabama '}, {'label': 'BRAND', 'pattern': 'vcu rams'}, {'label': 'BRAND', 'pattern': 'louisiana tech bulldogs'}, {'label': 'BRAND', 'pattern': 'louis blues'}, {'label': 'BRAND', 'pattern': 'kansan city chiefs'}, {'label': 'BRAND', 'pattern': 'tatami'}, {'label': 'BRAND', 'pattern': 'onboard'}, {'label': 'BRAND', 'pattern': 'hyperdrive'}, {'label': 'BRAND', 'pattern': 'fiu panthers'}, {'label': 'BRAND', 'pattern': 'usmc'}, {'label': 'BRAND', 'pattern': 'wyoming cowboys'}, {'label': 'BRAND', 'pattern': 'tulip '}, {'label': 'BRAND', 'pattern': 'wichita state shockers'}, {'label': 'BRAND', 'pattern': 'golden eagles'}, {'label': 'BRAND', 'pattern': 'lousiville cardinals '}, {'label': 'BRAND', 'pattern': 'drake bulldogs'}, {'label': 'BRAND', 'pattern': 'pevonia botanica'}, {'label': 'BRAND', 'pattern': 'houston astros'}, {'label': 'BRAND', 'pattern': 'mississippi rebels'}, {'label': 'BRAND', 'pattern': 'chiffon '}, {'label': 'BRAND', 'pattern': 'gavin'}, {'label': 'BRAND', 'pattern': 'iowa state cyclones'}, {'label': 'BRAND', 'pattern': 'super bowl '}, {'label': 'BRAND', 'pattern': 'smu '}, {'label': 'BRAND', 'pattern': 'pittsburg steelers'}, {'label': 'BRAND', 'pattern': 'smith & wesson'}, {'label': 'BRAND', 'pattern': 'colosseum '}, {'label': 'BRAND', 'pattern': 'west virginia '}, {'label': 'BRAND', 'pattern': 'fanatics '}, {'label': 'BRAND', 'pattern': 'daewoo'}, {'label': 'BRAND', 'pattern': 'tailgates '}, {'label': 'BRAND', 'pattern': 'missouri state university'}, {'label': 'BRAND', 'pattern': 'apple'}, {'label': 'BRAND', 'pattern': 'luxemate'}, {'label': 'BRAND', 'pattern': 'fau owls'}, {'label': 'BRAND', 'pattern': 'forest friends '}, {'label': 'BRAND', 'pattern': 'smok galileo'}, {'label': 'BRAND', 'pattern': 'popular'}, {'label': 'BRAND', 'pattern': 'silver snakes'}, {'label': 'BRAND', 'pattern': 'nero giardini'}, {'label': 'BRAND', 'pattern': 'san francisco 49ers'}, {'label': 'BRAND', 'pattern': 'laurel'}, {'label': 'BRAND', 'pattern': 'jh design'}, {'label': 'BRAND', 'pattern': 'beacon - usb'}, {'label': 'BRAND', 'pattern': 'infant baltimore'}, {'label': 'BRAND', 'pattern': 'rolex 118238 mrp'}, {'label': 'BRAND', 'pattern': 'troy university'}, {'label': 'BRAND', 'pattern': 'door trail'}, {'label': 'BRAND', 'pattern': \"spring creek's\"}, {'label': 'BRAND', 'pattern': 'aspirador'}, {'label': 'BRAND', 'pattern': 'candyshell'}, {'label': 'BRAND', 'pattern': 'new orleans voodoo'}, {'label': 'BRAND', 'pattern': 'eliminall spot'}, {'label': 'BRAND', 'pattern': 'majestic threads'}, {'label': 'BRAND', 'pattern': 'connoisseur '}, {'label': 'BRAND', 'pattern': 'paul menard'}, {'label': 'BRAND', 'pattern': 'roxy juniors'}, {'label': 'BRAND', 'pattern': 'iv extension'}, {'label': 'BRAND', 'pattern': 'us peacekeeper'}, {'label': 'BRAND', 'pattern': 'scene setters '}, {'label': 'BRAND', 'pattern': 'glitter '}, {'label': 'BRAND', 'pattern': 'ankh '}, {'label': 'BRAND', 'pattern': 'orlando predators'}, {'label': 'BRAND', 'pattern': 'new era '}, {'label': 'BRAND', 'pattern': 'usa ultimate'}, {'label': 'BRAND', 'pattern': 'uncg spartans '}, {'label': 'BRAND', 'pattern': 'clearlight infrared'}, {'label': 'BRAND', 'pattern': 'central michigan chippewas'}, {'label': 'BRAND', 'pattern': 'ultra-thin'}, {'label': 'BRAND', 'pattern': 'neocutis'}, {'label': 'BRAND', 'pattern': 'zoo med'}, {'label': 'BRAND', 'pattern': 'travel berkey'}, {'label': 'BRAND', 'pattern': 'sagrantino'}, {'label': 'BRAND', 'pattern': 'barrett'}, {'label': 'BRAND', 'pattern': 'knuckleduster with'}, {'label': 'BRAND', 'pattern': 'spuik'}, {'label': 'BRAND', 'pattern': 'paula deen'}, {'label': 'BRAND', 'pattern': 'newbury '}, {'label': 'BRAND', 'pattern': 'three horn'}, {'label': 'BRAND', 'pattern': 'earlex'}, {'label': 'BRAND', 'pattern': 'weider victory'}, {'label': 'BRAND', 'pattern': 'sleeveless boucle'}, {'label': 'BRAND', 'pattern': 'ferris state bulldogs'}, {'label': 'BRAND', 'pattern': 'party essentials'}, {'label': 'BRAND', 'pattern': 'loyola marymount lions'}, {'label': 'BRAND', 'pattern': 'fordham rams'}, {'label': 'BRAND', 'pattern': 'arizona state sun devils'}, {'label': 'BRAND', 'pattern': 'wright state raiders'}, {'label': 'BRAND', 'pattern': 'talavera'}, {'label': 'BRAND', 'pattern': 'scottevest'}, {'label': 'BRAND', 'pattern': 'ocean rodeo'}, {'label': 'BRAND', 'pattern': 'candy cane'}, {'label': 'BRAND', 'pattern': 'black solid'}, {'label': 'BRAND', 'pattern': 'usa wincraft '}, {'label': 'BRAND', 'pattern': 'aqueon quietflow'}, {'label': 'BRAND', 'pattern': 'pf-2'}, {'label': 'BRAND', 'pattern': 'terra'}, {'label': 'BRAND', 'pattern': 'graco '}, {'label': 'BRAND', 'pattern': 'kansan jayhawks'}, {'label': 'BRAND', 'pattern': 'marshall thundering herd'}, {'label': 'BRAND', 'pattern': 'angel dear'}, {'label': 'BRAND', 'pattern': 'dw 5710 straight'}, {'label': 'BRAND', 'pattern': 'innokin itaste'}, {'label': 'BRAND', 'pattern': 'flower headband'}, {'label': 'BRAND', 'pattern': 'caramel harness'}, {'label': 'BRAND', 'pattern': 'coastal sayings'}, {'label': 'BRAND', 'pattern': 'antigua '}, {'label': 'BRAND', 'pattern': 'saint louis billikens'}, {'label': 'BRAND', 'pattern': 'agarwood'}, {'label': 'BRAND', 'pattern': 'alpine'}, {'label': 'BRAND', 'pattern': 'aventics'}, {'label': 'BRAND', 'pattern': 'body butter'}, {'label': 'BRAND', 'pattern': 'mustad '}, {'label': 'BRAND', 'pattern': 'fahad'}, {'label': 'BRAND', 'pattern': 'gabifresh'}, {'label': 'BRAND', 'pattern': 'xeon'}, {'label': 'BRAND', 'pattern': 'san antonio spurs'}, {'label': 'BRAND', 'pattern': 'lunargrand '}, {'label': 'BRAND', 'pattern': 'mottisfont'}, {'label': 'BRAND', 'pattern': 'cadillac'}, {'label': 'BRAND', 'pattern': 'rutgers '}, {'label': 'BRAND', 'pattern': 'fire sense'}, {'label': 'BRAND', 'pattern': 'joma '}, {'label': 'BRAND', 'pattern': 'tokenz dolly '}, {'label': 'BRAND', 'pattern': 'minnesota twins'}, {'label': 'BRAND', 'pattern': 'chicago bears'}, {'label': 'BRAND', 'pattern': 'riddell fresno'}, {'label': 'BRAND', 'pattern': 'smk'}, {'label': 'BRAND', 'pattern': 'cast '}, {'label': 'BRAND', 'pattern': 'off-the-shoulder'}, {'label': 'BRAND', 'pattern': 'super lumbar'}, {'label': 'BRAND', 'pattern': 'wilson cardiff'}, {'label': 'BRAND', 'pattern': 'personalized irish'}, {'label': 'BRAND', 'pattern': 'rapid city'}, {'label': 'BRAND', 'pattern': 'aceite'}, {'label': 'BRAND', 'pattern': 'spot '}, {'label': 'BRAND', 'pattern': 'chicago pneumatic'}, {'label': 'BRAND', 'pattern': 'delica '}, {'label': 'BRAND', 'pattern': 'st louis blues'}, {'label': 'BRAND', 'pattern': 'supreme '}, {'label': 'BRAND', 'pattern': 'daily car'}, {'label': 'BRAND', 'pattern': 'summerlite'}, {'label': 'BRAND', 'pattern': 'dainolite xeno'}, {'label': 'BRAND', 'pattern': 'seton hall pirates'}, {'label': 'BRAND', 'pattern': 'electrolux home'}, {'label': 'BRAND', 'pattern': 'other 1932'}, {'label': 'BRAND', 'pattern': 'santa clara broncos'}, {'label': 'BRAND', 'pattern': 'detox'}, {'label': 'BRAND', 'pattern': 'aqua medic'}, {'label': 'BRAND', 'pattern': 'driftwood candelabra'}, {'label': 'BRAND', 'pattern': 'fayreform '}, {'label': 'BRAND', 'pattern': 'rvca'}, {'label': 'BRAND', 'pattern': 'spectrum cilantro'}, {'label': 'BRAND', 'pattern': 'body wash'}, {'label': 'BRAND', 'pattern': 'columbia business'}, {'label': 'BRAND', 'pattern': 'testo unico'}, {'label': 'BRAND', 'pattern': 'jr motorsports'}, {'label': 'BRAND', 'pattern': 'colorado avalanche'}, {'label': 'BRAND', 'pattern': 'desigual skirt'}, {'label': 'BRAND', 'pattern': 'san diego chargers'}, {'label': 'BRAND', 'pattern': 'somerset bed'}, {'label': 'BRAND', 'pattern': 'banana flavor'}, {'label': 'BRAND', 'pattern': 'top of the world'}, {'label': 'BRAND', 'pattern': 'whisper ex'}, {'label': 'BRAND', 'pattern': 'proenza'}, {'label': 'BRAND', 'pattern': 'scientific anglers'}, {'label': 'BRAND', 'pattern': 'fisher-price'}, {'label': 'BRAND', 'pattern': 'zephyr'}, {'label': 'BRAND', 'pattern': 'champagne gifts'}, {'label': 'BRAND', 'pattern': 'h&h'}, {'label': 'BRAND', 'pattern': 'belkin'}, {'label': 'BRAND', 'pattern': 'micro torch'}, {'label': 'BRAND', 'pattern': 'los angeles kings '}, {'label': 'BRAND', 'pattern': 'yakima universal'}, {'label': 'BRAND', 'pattern': 'cal'}, {'label': 'BRAND', 'pattern': 'color picture'}, {'label': 'BRAND', 'pattern': 'freemotion ext'}, {'label': 'BRAND', 'pattern': 'eucalyptus spearmint'}, {'label': 'BRAND', 'pattern': 'colorquantum vinyl'}, {'label': 'BRAND', 'pattern': 'icicle lights'}, {'label': 'BRAND', 'pattern': 'instant ocean'}, {'label': 'BRAND', 'pattern': 'sennheiser '}, {'label': 'BRAND', 'pattern': 'equestrian boots'}, {'label': 'BRAND', 'pattern': 'minnesota lynx'}, {'label': 'BRAND', 'pattern': 'idaho vandals'}, {'label': 'BRAND', 'pattern': 'georgia tech'}, {'label': 'BRAND', 'pattern': \"sophocles' philoctetes\"}, {'label': 'BRAND', 'pattern': 'majestic terry'}, {'label': 'BRAND', 'pattern': 'camlin'}, {'label': 'BRAND', 'pattern': 'lyndall brakes'}, {'label': 'BRAND', 'pattern': 'santos demoiselle'}, {'label': 'BRAND', 'pattern': 'bumgenius flip'}, {'label': 'BRAND', 'pattern': 'solid wood'}, {'label': 'BRAND', 'pattern': 'new york knicks'}, {'label': 'BRAND', 'pattern': 'mahogany '}, {'label': 'BRAND', 'pattern': 'grand caravan'}, {'label': 'BRAND', 'pattern': 'the richest'}, {'label': 'BRAND', 'pattern': 'coors '}, {'label': 'BRAND', 'pattern': 'nitto terra'}, {'label': 'BRAND', 'pattern': 'new hampshire wildcats'}, {'label': 'BRAND', 'pattern': 'cross'}, {'label': 'BRAND', 'pattern': 'w02-358-3000 firestone'}, {'label': 'BRAND', 'pattern': 'majestic boston'}, {'label': 'BRAND', 'pattern': 'gloves streetracer'}, {'label': 'BRAND', 'pattern': 'kevin garnett'}, {'label': 'BRAND', 'pattern': 'franklin, tennessee'}, {'label': 'BRAND', 'pattern': 'dell'}, {'label': 'BRAND', 'pattern': 'hgst deskstar'}, {'label': 'BRAND', 'pattern': 'apparatus for'}, {'label': 'BRAND', 'pattern': 'oregon state beavers'}, {'label': 'BRAND', 'pattern': 'cole hamels'}, {'label': 'BRAND', 'pattern': 'marissa one'}, {'label': 'BRAND', 'pattern': 'the essential'}, {'label': 'BRAND', 'pattern': 'weatern kentucky '}, {'label': 'BRAND', 'pattern': 'studio 71'}, {'label': 'BRAND', 'pattern': 'ohio state '}, {'label': 'BRAND', 'pattern': 'inside'}, {'label': 'BRAND', 'pattern': 'team usa'}, {'label': 'BRAND', 'pattern': 'pitssburg state gorillas'}, {'label': 'BRAND', 'pattern': 'david ortiz'}, {'label': 'BRAND', 'pattern': 'chippewa'}, {'label': 'BRAND', 'pattern': 'platy '}, {'label': 'BRAND', 'pattern': 'vortex viper'}, {'label': 'BRAND', 'pattern': 'vella'}, {'label': 'BRAND', 'pattern': 'le creuset'}, {'label': 'BRAND', 'pattern': 'ohio bobcats'}, {'label': 'BRAND', 'pattern': 'archway '}, {'label': 'BRAND', 'pattern': 'kingston'}, {'label': 'BRAND', 'pattern': 'one phone'}, {'label': 'BRAND', 'pattern': 'rangoli herbal'}, {'label': 'BRAND', 'pattern': 'shuffle tech'}, {'label': 'BRAND', 'pattern': 'usc trojans'}, {'label': 'BRAND', 'pattern': 'uci '}, {'label': 'BRAND', 'pattern': 'hyacinth'}, {'label': 'BRAND', 'pattern': 'samsung'}, {'label': 'BRAND', 'pattern': 'large pair'}, {'label': 'BRAND', 'pattern': 'nuke '}, {'label': 'BRAND', 'pattern': 'circulon contempo'}, {'label': 'BRAND', 'pattern': 'red heart'}, {'label': 'BRAND', 'pattern': 'virginia tech hokies'}, {'label': 'BRAND', 'pattern': 'weego - adapter'}, {'label': 'BRAND', 'pattern': 'reebok'}, {'label': 'BRAND', 'pattern': 'new york yankees'}, {'label': 'BRAND', 'pattern': 'uconn huskies'}, {'label': 'BRAND', 'pattern': 'riviera '}, {'label': 'BRAND', 'pattern': 'yamah'}, {'label': 'BRAND', 'pattern': 'drexel dragons'}, {'label': 'BRAND', 'pattern': 'new orleans saints'}, {'label': 'BRAND', 'pattern': 'furinno'}, {'label': 'BRAND', 'pattern': 'joinery'}, {'label': 'BRAND', 'pattern': 'quicksilver'}, {'label': 'BRAND', 'pattern': 'houston state university'}, {'label': 'BRAND', 'pattern': 'atlanta falcons'}, {'label': 'BRAND', 'pattern': 'michigan wolverines'}, {'label': 'BRAND', 'pattern': 'swisher'}, {'label': 'BRAND', 'pattern': 'pepe'}, {'label': 'BRAND', 'pattern': 'perdomo'}, {'label': 'BRAND', 'pattern': 'north dakota state '}, {'label': 'BRAND', 'pattern': 'philadelphia eagles'}, {'label': 'BRAND', 'pattern': 'amora'}, {'label': 'BRAND', 'pattern': 'shire'}, {'label': 'BRAND', 'pattern': 'beeswax'}, {'label': 'BRAND', 'pattern': 'infinite circulon'}, {'label': 'BRAND', 'pattern': 'montre '}, {'label': 'BRAND', 'pattern': 'philadelphia flyers'}, {'label': 'BRAND', 'pattern': 'compressport'}, {'label': 'BRAND', 'pattern': 'maryland terrapins'}, {'label': 'BRAND', 'pattern': 'rottefella'}, {'label': 'BRAND', 'pattern': 'st louis'}, {'label': 'BRAND', 'pattern': 'western kentucky hilltoppers'}, {'label': 'BRAND', 'pattern': 'lincoln'}, {'label': 'BRAND', 'pattern': 'boston rex sox'}, {'label': 'BRAND', 'pattern': 'antec'}, {'label': 'BRAND', 'pattern': 'oregon ducks'}, {'label': 'BRAND', 'pattern': 'carhartt duck dog'}, {'label': 'BRAND', 'pattern': 'oakley '}, {'label': 'BRAND', 'pattern': 'marlon brando'}, {'label': 'BRAND', 'pattern': 'rutgers scarlet nights'}, {'label': 'BRAND', 'pattern': 'conbraco'}, {'label': 'BRAND', 'pattern': 'vanessa'}, {'label': 'BRAND', 'pattern': 'ponderosa'}, {'label': 'BRAND', 'pattern': 'pittsburgh steelers '}, {'label': 'BRAND', 'pattern': 'denver nuggets'}, {'label': 'BRAND', 'pattern': 'tcu horned frogs'}, {'label': 'BRAND', 'pattern': 'spyglass'}, {'label': 'BRAND', 'pattern': 'miami university redhawks'}, {'label': 'BRAND', 'pattern': 'cayman isle'}, {'label': 'BRAND', 'pattern': 'south carolina gamecocks'}, {'label': 'BRAND', 'pattern': 'princess bride'}, {'label': 'BRAND', 'pattern': 'colorado state rams'}, {'label': 'BRAND', 'pattern': 'penguin'}, {'label': 'BRAND', 'pattern': 'ucla bruins'}, {'label': 'BRAND', 'pattern': 'dove'}, {'label': 'BRAND', 'pattern': 'uab blazers'}, {'label': 'BRAND', 'pattern': 'kissy kissy'}, {'label': 'BRAND', 'pattern': 'st. tikhon'}, {'label': 'BRAND', 'pattern': 'metabox'}, {'label': 'BRAND', 'pattern': 'golden state warriors'}, {'label': 'BRAND', 'pattern': 'himalaya'}, {'label': 'BRAND', 'pattern': 'xolo'}, {'label': 'BRAND', 'pattern': 'wendtii crypt'}, {'label': 'BRAND', 'pattern': 'amron'}, {'label': 'BRAND', 'pattern': 'dainese'}, {'label': 'BRAND', 'pattern': 'texas rangers'}, {'label': 'BRAND', 'pattern': 'datejust'}, {'label': 'BRAND', 'pattern': 'carhartt'}, {'label': 'BRAND', 'pattern': 'intel'}, {'label': 'BRAND', 'pattern': 'timberland pro'}, {'label': 'BRAND', 'pattern': 'meinl '}, {'label': 'BRAND', 'pattern': 'epsealon'}, {'label': 'BRAND', 'pattern': 'mitsubishi'}, {'label': 'BRAND', 'pattern': 'kansan city cheifs'}, {'label': 'BRAND', 'pattern': 'ariat'}, {'label': 'BRAND', 'pattern': 'timber creek'}, {'label': 'BRAND', 'pattern': 'danner'}, {'label': 'BRAND', 'pattern': 'texas tech raiders'}, {'label': 'BRAND', 'pattern': 'double'}, {'label': 'BRAND', 'pattern': 'sims portex'}, {'label': 'BRAND', 'pattern': 'asics'}, {'label': 'BRAND', 'pattern': 'cooper'}, {'label': 'BRAND', 'pattern': 'jabra'}, {'label': 'BRAND', 'pattern': 'smu mustangs'}, {'label': 'BRAND', 'pattern': 'isabella oliver'}, {'label': 'BRAND', 'pattern': 'philadelphia 76ers'}, {'label': 'BRAND', 'pattern': 'bridgestone'}, {'label': 'BRAND', 'pattern': 'pieh'}, {'label': 'BRAND', 'pattern': 'sealife'}, {'label': 'BRAND', 'pattern': 'missourri tigers'}, {'label': 'BRAND', 'pattern': 'demon deacons'}, {'label': 'BRAND', 'pattern': 'baylor bears'}, {'label': 'BRAND', 'pattern': 'nascar'}, {'label': 'BRAND', 'pattern': 'datsun'}, {'label': 'BRAND', 'pattern': 'ray lewis baltimore'}, {'label': 'BRAND', 'pattern': 'turtle tuff'}, {'label': 'BRAND', 'pattern': 'tulsa'}, {'label': 'BRAND', 'pattern': 'steiner'}, {'label': 'BRAND', 'pattern': 'houston rockets'}, {'label': 'BRAND', 'pattern': 'decolights'}, {'label': 'BRAND', 'pattern': 'mackie'}, {'label': 'BRAND', 'pattern': 'xcalibur'}, {'label': 'BRAND', 'pattern': 'tamiya'}, {'label': 'BRAND', 'pattern': 'nissan'}, {'label': 'BRAND', 'pattern': 'cleveland browns'}, {'label': 'BRAND', 'pattern': 'nc state wolfpack'}, {'label': 'BRAND', 'pattern': 'jbl'}, {'label': 'BRAND', 'pattern': 'dallas cowboys '}, {'label': 'BRAND', 'pattern': 'tervis'}, {'label': 'BRAND', 'pattern': 'sanuk casa barco'}, {'label': 'BRAND', 'pattern': 'tanglefoot'}, {'label': 'BRAND', 'pattern': 'syracuse orange '}, {'label': 'BRAND', 'pattern': 'ricoh aficio'}, {'label': 'BRAND', 'pattern': 'detroit piston'}, {'label': 'BRAND', 'pattern': 'duke blue'}, {'label': 'BRAND', 'pattern': 'infinite'}, {'label': 'BRAND', 'pattern': 'montreal canadiens'}, {'label': 'BRAND', 'pattern': 'missouri state university bears'}, {'label': 'BRAND', 'pattern': 'pioneer'}, {'label': 'BRAND', 'pattern': 'elasto-gel'}, {'label': 'BRAND', 'pattern': 'temple owls'}, {'label': 'BRAND', 'pattern': 'eastern sierra'}, {'label': 'BRAND', 'pattern': 'hotlix'}, {'label': 'BRAND', 'pattern': 'nemesis '}, {'label': 'BRAND', 'pattern': 'rcbs '}, {'label': 'BRAND', 'pattern': 'alabama crimson tide'}, {'label': 'BRAND', 'pattern': 'bolas'}, {'label': 'BRAND', 'pattern': 'k-state wildcats'}, {'label': 'BRAND', 'pattern': 'potenza'}, {'label': 'BRAND', 'pattern': 'louisville '}, {'label': 'BRAND', 'pattern': 'archies'}, {'label': 'BRAND', 'pattern': 'syarcuse '}, {'label': 'BRAND', 'pattern': 'nebraska cornhuskers'}, {'label': 'BRAND', 'pattern': 'hollander'}, {'label': 'BRAND', 'pattern': 'red swordtail'}, {'label': 'BRAND', 'pattern': 'pittsburg state gorillas '}, {'label': 'BRAND', 'pattern': \"jack deniel's\"}, {'label': 'BRAND', 'pattern': 'mandarin'}, {'label': 'BRAND', 'pattern': 'phattys'}, {'label': 'BRAND', 'pattern': 'yogi'}, {'label': 'BRAND', 'pattern': 'circulon  '}, {'label': 'BRAND', 'pattern': 'bering'}, {'label': 'BRAND', 'pattern': 'acacia'}, {'label': 'BRAND', 'pattern': 'burg'}, {'label': 'BRAND', 'pattern': 'san jose state spartans'}, {'label': 'BRAND', 'pattern': 'telefono'}, {'label': 'BRAND', 'pattern': 'colorado buffaloes'}, {'label': 'BRAND', 'pattern': 'edelweiss'}, {'label': 'BRAND', 'pattern': 'pitt panthers '}, {'label': 'BRAND', 'pattern': 'ford'}, {'label': 'BRAND', 'pattern': 'eaton'}, {'label': 'BRAND', 'pattern': 'simms'}, {'label': 'BRAND', 'pattern': 'patio'}, {'label': 'BRAND', 'pattern': 'michigan '}, {'label': 'BRAND', 'pattern': 'pentair '}, {'label': 'BRAND', 'pattern': 'mytee'}, {'label': 'BRAND', 'pattern': 'cleveland cavaliers'}, {'label': 'BRAND', 'pattern': 'florida state seminoles'}, {'label': 'BRAND', 'pattern': 'abof'}, {'label': 'BRAND', 'pattern': 'hayward navigator'}, {'label': 'BRAND', 'pattern': 'ava'}, {'label': 'BRAND', 'pattern': 'msi'}, {'label': 'BRAND', 'pattern': 'oase'}, {'label': 'BRAND', 'pattern': 'omron'}, {'label': 'BRAND', 'pattern': 'beach belle'}, {'label': 'BRAND', 'pattern': 'savini'}, {'label': 'BRAND', 'pattern': 'farberware'}, {'label': 'BRAND', 'pattern': 'ubiquinol'}, {'label': 'BRAND', 'pattern': 'ufo '}, {'label': 'BRAND', 'pattern': 'memphis grizzlies'}, {'label': 'BRAND', 'pattern': 'plyboosound'}, {'label': 'BRAND', 'pattern': 'montana west'}, {'label': 'BRAND', 'pattern': 'san diego padres'}, {'label': 'BRAND', 'pattern': 'jobst'}, {'label': 'BRAND', 'pattern': 'colorado rockies'}, {'label': 'BRAND', 'pattern': 'atlants falcons'}, {'label': 'BRAND', 'pattern': 'lexus'}, {'label': 'BRAND', 'pattern': 'bendix'}, {'label': 'BRAND', 'pattern': 'nokia'}, {'label': 'BRAND', 'pattern': 'cincinnati bengals'}, {'label': 'BRAND', 'pattern': 'widow makers'}, {'label': 'BRAND', 'pattern': 'alpinestars jaws'}, {'label': 'BRAND', 'pattern': 'danze amalfi'}, {'label': 'BRAND', 'pattern': 'colosseum rutgers '}, {'label': 'BRAND', 'pattern': 'ghost dog'}, {'label': 'BRAND', 'pattern': 'santini mania'}, {'label': 'BRAND', 'pattern': 'ecopia'}, {'label': 'BRAND', 'pattern': 'powell'}, {'label': 'BRAND', 'pattern': 'pepperdine'}, {'label': 'BRAND', 'pattern': 'tsuba marugata'}, {'label': 'BRAND', 'pattern': 'super life'}, {'label': 'BRAND', 'pattern': 'baltimore'}, {'label': 'BRAND', 'pattern': 'angel wing'}, {'label': 'BRAND', 'pattern': 'heart to get'}, {'label': 'BRAND', 'pattern': 'redline'}, {'label': 'BRAND', 'pattern': 'citizen promaster'}, {'label': 'BRAND', 'pattern': 'fanatics'}, {'label': 'BRAND', 'pattern': 'cherryman'}, {'label': 'BRAND', 'pattern': 'villanova'}, {'label': 'BRAND', 'pattern': 'florida state semioles'}, {'label': 'BRAND', 'pattern': 'western ketucky hilltoppers'}, {'label': 'BRAND', 'pattern': 'blue clean prosumer'}, {'label': 'BRAND', 'pattern': 'ucla'}, {'label': 'BRAND', 'pattern': 'texa longhorns'}, {'label': 'BRAND', 'pattern': 'anolon '}, {'label': 'BRAND', 'pattern': 'vetguard'}, {'label': 'BRAND', 'pattern': 'portland state vikings'}, {'label': 'BRAND', 'pattern': 'xbox '}, {'label': 'BRAND', 'pattern': 'canon'}, {'label': 'BRAND', 'pattern': 'fly terminator'}, {'label': 'BRAND', 'pattern': 'telemecanique'}, {'label': 'BRAND', 'pattern': 'homedics'}, {'label': 'BRAND', 'pattern': 'giro'}, {'label': 'BRAND', 'pattern': 'mucha'}, {'label': 'BRAND', 'pattern': 'vortex'}, {'label': 'BRAND', 'pattern': 'ulm warhawks'}, {'label': 'BRAND', 'pattern': 'duke '}, {'label': 'BRAND', 'pattern': 'heine'}, {'label': 'BRAND', 'pattern': 'fayreform'}, {'label': 'BRAND', 'pattern': 'iowa hawkeyes '}, {'label': 'BRAND', 'pattern': 'tecnifibre'}, {'label': 'BRAND', 'pattern': 'dodge'}, {'label': 'BRAND', 'pattern': 'morehead'}, {'label': 'BRAND', 'pattern': 'marquette'}, {'label': 'BRAND', 'pattern': 'pittsburgh penguins'}, {'label': 'BRAND', 'pattern': 'united colors of benetton'}, {'label': 'BRAND', 'pattern': 'jacksonville jaguars'}, {'label': 'BRAND', 'pattern': 'uncg spartans'}, {'label': 'BRAND', 'pattern': 'north carolina state wolfpack'}, {'label': 'BRAND', 'pattern': 'bfgoodrich'}, {'label': 'BRAND', 'pattern': 'danica'}, {'label': 'BRAND', 'pattern': 'safetec'}, {'label': 'BRAND', 'pattern': 'hatch finatic'}, {'label': 'BRAND', 'pattern': 'daytona international'}, {'label': 'BRAND', 'pattern': 'promark'}, {'label': 'BRAND', 'pattern': 'towson tigers'}, {'label': 'BRAND', 'pattern': 'tcu horned froga'}, {'label': 'BRAND', 'pattern': 'dukuri'}, {'label': 'BRAND', 'pattern': 'gonzaga bulldogs'}, {'label': 'BRAND', 'pattern': 'ginseng'}, {'label': 'BRAND', 'pattern': 'coralife'}, {'label': 'BRAND', 'pattern': 'fishmate'}, {'label': 'BRAND', 'pattern': 'green bay packers'}, {'label': 'BRAND', 'pattern': 'nikon'}, {'label': 'BRAND', 'pattern': 'antigua baltimore'}, {'label': 'BRAND', 'pattern': 'kvoll '}, {'label': 'BRAND', 'pattern': 'kite'}, {'label': 'BRAND', 'pattern': 'rutergs scarlet knights'}, {'label': 'BRAND', 'pattern': 'alpinestars '}, {'label': 'BRAND', 'pattern': 'tennessee titans'}, {'label': 'BRAND', 'pattern': 'pirelli'}, {'label': 'BRAND', 'pattern': 'toyota'}, {'label': 'BRAND', 'pattern': 'surftech sup sling'}, {'label': 'BRAND', 'pattern': 'surftech'}, {'label': 'BRAND', 'pattern': 'monte carlo'}, {'label': 'BRAND', 'pattern': 'tennessee volunteers'}, {'label': 'BRAND', 'pattern': 'oklahoma state cowboys'}, {'label': 'BRAND', 'pattern': 'geovision'}, {'label': 'BRAND', 'pattern': 'mitch hedberg'}, {'label': 'BRAND', 'pattern': 'roxy '}, {'label': 'BRAND', 'pattern': 'memphis tigers'}, {'label': 'BRAND', 'pattern': 'adoretex'}, {'label': 'BRAND', 'pattern': 'toshiba'}, {'label': 'BRAND', 'pattern': 'hampton'}, {'label': 'BRAND', 'pattern': 'crest'}, {'label': 'BRAND', 'pattern': 'cincinnati beracats'}, {'label': 'BRAND', 'pattern': 'columbia missouri tigers'}, {'label': 'BRAND', 'pattern': 'chase '}, {'label': 'BRAND', 'pattern': 'washington capitals nhl'}, {'label': 'BRAND', 'pattern': 'weihrauch'}, {'label': 'BRAND', 'pattern': 'sky organics'}, {'label': 'BRAND', 'pattern': 'east orange'}, {'label': 'BRAND', 'pattern': 'simmons'}, {'label': 'BRAND', 'pattern': 'sterling'}, {'label': 'BRAND', 'pattern': 'pepperdine '}, {'label': 'BRAND', 'pattern': 'havahart'}, {'label': 'BRAND', 'pattern': 'guzzini'}, {'label': 'BRAND', 'pattern': 'depaul blue demons'}, {'label': 'BRAND', 'pattern': 'freemotion'}, {'label': 'BRAND', 'pattern': 'missouri state bearcats'}, {'label': 'BRAND', 'pattern': 'weest virginia mountaineers'}, {'label': 'BRAND', 'pattern': 'ufc carlos condit'}, {'label': 'BRAND', 'pattern': 'o-phos'}, {'label': 'BRAND', 'pattern': 'ortho-dream'}, {'label': 'BRAND', 'pattern': 'mississippi state bulldogs'}, {'label': 'BRAND', 'pattern': 'marching snare'}, {'label': 'BRAND', 'pattern': 'dallas stars'}, {'label': 'BRAND', 'pattern': 'gamerfuzion'}, {'label': 'BRAND', 'pattern': 'rutgers scarlet knights'}, {'label': 'BRAND', 'pattern': 'dyson'}, {'label': 'BRAND', 'pattern': 'bella'}, {'label': 'BRAND', 'pattern': 'carbonyte'}, {'label': 'BRAND', 'pattern': 'syracuse orange'}, {'label': 'BRAND', 'pattern': 'joma'}, {'label': 'BRAND', 'pattern': 'columbia fresno state bulldogs'}, {'label': 'BRAND', 'pattern': 'san jose spartans'}, {'label': 'BRAND', 'pattern': 'crown'}, {'label': 'BRAND', 'pattern': 'mares'}, {'label': 'BRAND', 'pattern': 'johnson rose'}, {'label': 'BRAND', 'pattern': 'dalbello'}, {'label': 'BRAND', 'pattern': 'arkon'}, {'label': 'BRAND', 'pattern': 'dale earnhardt'}, {'label': 'BRAND', 'pattern': 'north face'}, {'label': 'BRAND', 'pattern': 'north dakota state bison'}, {'label': 'BRAND', 'pattern': 'drifz'}, {'label': 'BRAND', 'pattern': 'famu rattlers'}, {'label': 'BRAND', 'pattern': 'storksak'}, {'label': 'BRAND', 'pattern': 'cleardraw'}, {'label': 'BRAND', 'pattern': 'c&d dynasty'}, {'label': 'BRAND', 'pattern': 'patons'}, {'label': 'BRAND', 'pattern': 'yamaha'}, {'label': 'BRAND', 'pattern': 'burg-layer'}, {'label': 'BRAND', 'pattern': 'ithaka'}, {'label': 'BRAND', 'pattern': 'detroit red wings'}, {'label': 'BRAND', 'pattern': '21king'}, {'label': 'BRAND', 'pattern': 'kempa'}, {'label': 'BRAND', 'pattern': 'cincinnate reds'}, {'label': 'BRAND', 'pattern': 'tampa bay'}, {'label': 'BRAND', 'pattern': 'mohair'}, {'label': 'BRAND', 'pattern': 'dobell'}, {'label': 'BRAND', 'pattern': 'aqua aura'}, {'label': 'BRAND', 'pattern': 'grand horizon'}, {'label': 'BRAND', 'pattern': 'lacoste'}, {'label': 'BRAND', 'pattern': 'knotty'}, {'label': 'BRAND', 'pattern': 'san jose sharks'}, {'label': 'BRAND', 'pattern': 'chevrolet'}, {'label': 'BRAND', 'pattern': 'tahitian'}, {'label': 'PRODUCT', 'pattern': 'locket'}, {'label': 'PRODUCT', 'pattern': 'monitor'}, {'label': 'PRODUCT', 'pattern': 'tshirt'}, {'label': 'PRODUCT', 'pattern': 'display case'}, {'label': 'PRODUCT', 'pattern': 'barwell fleet'}, {'label': 'PRODUCT', 'pattern': 'plaque'}, {'label': 'PRODUCT', 'pattern': 'hoodie'}, {'label': 'PRODUCT', 'pattern': 'garden flag'}, {'label': 'PRODUCT', 'pattern': 'dinning chair'}, {'label': 'PRODUCT', 'pattern': 'hoodie'}, {'label': 'PRODUCT', 'pattern': 'tshirt'}, {'label': 'PRODUCT', 'pattern': 'football'}, {'label': 'PRODUCT', 'pattern': 'sunglasses'}, {'label': 'PRODUCT', 'pattern': 'ornament'}, {'label': 'PRODUCT', 'pattern': 'money clip'}, {'label': 'PRODUCT', 'pattern': 'flip flops'}, {'label': 'PRODUCT', 'pattern': 'dress'}, {'label': 'PRODUCT', 'pattern': 'hat'}, {'label': 'PRODUCT', 'pattern': 'barrette'}, {'label': 'PRODUCT', 'pattern': 'hats'}, {'label': 'PRODUCT', 'pattern': 'photograph'}, {'label': 'PRODUCT', 'pattern': 'tank top'}, {'label': 'PRODUCT', 'pattern': 'soundtrack'}, {'label': 'PRODUCT', 'pattern': 'socks'}, {'label': 'PRODUCT', 'pattern': 'jersey'}, {'label': 'PRODUCT', 'pattern': 'guillotine'}, {'label': 'PRODUCT', 'pattern': 'pills'}, {'label': 'PRODUCT', 'pattern': 'tote'}, {'label': 'PRODUCT', 'pattern': 'sweatshirt'}, {'label': 'PRODUCT', 'pattern': 'bags'}, {'label': 'PRODUCT', 'pattern': 'sticker'}, {'label': 'PRODUCT', 'pattern': 'barware'}, {'label': 'PRODUCT', 'pattern': 'bulb kit'}, {'label': 'PRODUCT', 'pattern': 'mold'}, {'label': 'PRODUCT', 'pattern': 'polo'}, {'label': 'PRODUCT', 'pattern': 'cubby'}, {'label': 'PRODUCT', 'pattern': 'tstat'}, {'label': 'PRODUCT', 'pattern': 'shirt'}, {'label': 'PRODUCT', 'pattern': 'decal'}, {'label': 'PRODUCT', 'pattern': 'cleats'}, {'label': 'PRODUCT', 'pattern': 'gift set'}, {'label': 'PRODUCT', 'pattern': 'scrub'}, {'label': 'PRODUCT', 'pattern': 'dog dry'}, {'label': 'PRODUCT', 'pattern': 'expedition pack'}, {'label': 'PRODUCT', 'pattern': 'frame'}, {'label': 'PRODUCT', 'pattern': 'pizelle maker'}, {'label': 'PRODUCT', 'pattern': 'shuffler'}, {'label': 'PRODUCT', 'pattern': 'eye cream'}, {'label': 'PRODUCT', 'pattern': 'pineapple'}, {'label': 'PRODUCT', 'pattern': 'brushguard'}, {'label': 'PRODUCT', 'pattern': 'bowl'}, {'label': 'PRODUCT', 'pattern': 'teakettle'}, {'label': 'PRODUCT', 'pattern': 'lighter'}, {'label': 'PRODUCT', 'pattern': 'map 2012'}, {'label': 'PRODUCT', 'pattern': 'training'}, {'label': 'PRODUCT', 'pattern': 'lid'}, {'label': 'PRODUCT', 'pattern': 'jacket'}, {'label': 'PRODUCT', 'pattern': 'hard disk'}, {'label': 'PRODUCT', 'pattern': 'dog'}, {'label': 'PRODUCT', 'pattern': 'flooring'}, {'label': 'PRODUCT', 'pattern': 'tag'}, {'label': 'PRODUCT', 'pattern': 'cape'}, {'label': 'PRODUCT', 'pattern': 'diamonds'}, {'label': 'PRODUCT', 'pattern': 'cleaner'}, {'label': 'PRODUCT', 'pattern': 'shoes'}, {'label': 'PRODUCT', 'pattern': 'powder'}, {'label': 'PRODUCT', 'pattern': 'extension'}, {'label': 'PRODUCT', 'pattern': 'tie'}, {'label': 'PRODUCT', 'pattern': 'backpack'}, {'label': 'PRODUCT', 'pattern': 'touring'}, {'label': 'PRODUCT', 'pattern': 'riflescope'}, {'label': 'PRODUCT', 'pattern': 'accessories'}, {'label': 'PRODUCT', 'pattern': 'civic lx'}, {'label': 'PRODUCT', 'pattern': 'netlimited'}, {'label': 'PRODUCT', 'pattern': 'sign'}, {'label': 'PRODUCT', 'pattern': 'skirt'}, {'label': 'PRODUCT', 'pattern': 'repisa'}, {'label': 'PRODUCT', 'pattern': 'marker'}, {'label': 'PRODUCT', 'pattern': 'pad'}, {'label': 'PRODUCT', 'pattern': 'slipper'}, {'label': 'PRODUCT', 'pattern': 'card'}, {'label': 'PRODUCT', 'pattern': 'sugar'}, {'label': 'PRODUCT', 'pattern': 'overalls'}, {'label': 'PRODUCT', 'pattern': 'tee'}, {'label': 'PRODUCT', 'pattern': 'oak'}, {'label': 'PRODUCT', 'pattern': 'pump'}, {'label': 'PRODUCT', 'pattern': 'thermal halfzip'}, {'label': 'PRODUCT', 'pattern': 'set'}, {'label': 'PRODUCT', 'pattern': 'playlist'}, {'label': 'PRODUCT', 'pattern': 'kit'}, {'label': 'PRODUCT', 'pattern': 'necklace'}, {'label': 'PRODUCT', 'pattern': 'lanyard'}, {'label': 'PRODUCT', 'pattern': 'vibrator'}, {'label': 'PRODUCT', 'pattern': 'earbuds'}, {'label': 'PRODUCT', 'pattern': 'sprayer'}, {'label': 'PRODUCT', 'pattern': 'table'}, {'label': 'PRODUCT', 'pattern': 'freezer'}, {'label': 'PRODUCT', 'pattern': 'rosettes'}, {'label': 'PRODUCT', 'pattern': 'spigot'}, {'label': 'PRODUCT', 'pattern': 'tracks'}, {'label': 'PRODUCT', 'pattern': 'bichir'}, {'label': 'PRODUCT', 'pattern': 'cord'}, {'label': 'PRODUCT', 'pattern': 'bag'}, {'label': 'PRODUCT', 'pattern': 'belt'}, {'label': 'PRODUCT', 'pattern': 'sata'}, {'label': 'PRODUCT', 'pattern': 'pullover'}, {'label': 'PRODUCT', 'pattern': 'flyknit'}, {'label': 'PRODUCT', 'pattern': 'keychain'}, {'label': 'PRODUCT', 'pattern': 'decept'}, {'label': 'PRODUCT', 'pattern': 'fuller'}, {'label': 'PRODUCT', 'pattern': 'lamp'}, {'label': 'PRODUCT', 'pattern': 'fleece'}, {'label': 'PRODUCT', 'pattern': 'bracelet'}, {'label': 'PRODUCT', 'pattern': 'suncatcher'}, {'label': 'PRODUCT', 'pattern': 'bed'}, {'label': 'PRODUCT', 'pattern': 'top'}, {'label': 'PRODUCT', 'pattern': 'package'}, {'label': 'PRODUCT', 'pattern': 'curettes'}, {'label': 'PRODUCT', 'pattern': 'shake'}, {'label': 'PRODUCT', 'pattern': 'iball'}, {'label': 'PRODUCT', 'pattern': 'tablet'}, {'label': 'PRODUCT', 'pattern': 'watch'}, {'label': 'PRODUCT', 'pattern': 'book'}, {'label': 'PRODUCT', 'pattern': 'roof'}, {'label': 'PRODUCT', 'pattern': 'bike rack'}, {'label': 'PRODUCT', 'pattern': 'bike'}, {'label': 'PRODUCT', 'pattern': 'case'}, {'label': 'PRODUCT', 'pattern': 'umbrella'}, {'label': 'PRODUCT', 'pattern': 'horn'}, {'label': 'PRODUCT', 'pattern': 'barricade'}, {'label': 'PRODUCT', 'pattern': 'car'}, {'label': 'PRODUCT', 'pattern': 'beanie'}, {'label': 'PRODUCT', 'pattern': 'koozie'}, {'label': 'PRODUCT', 'pattern': 'meter'}, {'label': 'PRODUCT', 'pattern': 'trimmer'}, {'label': 'PRODUCT', 'pattern': 'stamps'}, {'label': 'PRODUCT', 'pattern': 'troika'}, {'label': 'PRODUCT', 'pattern': 'valve'}, {'label': 'PRODUCT', 'pattern': 'towels'}, {'label': 'PRODUCT', 'pattern': 'headband'}, {'label': 'PRODUCT', 'pattern': 'alloy'}, {'label': 'PRODUCT', 'pattern': 'alarm'}, {'label': 'PRODUCT', 'pattern': 'hammer'}, {'label': 'PRODUCT', 'pattern': 'flag'}, {'label': 'PRODUCT', 'pattern': ' hard drive'}, {'label': 'PRODUCT', 'pattern': 'spary bar'}, {'label': 'PRODUCT', 'pattern': 'xperia'}, {'label': 'PRODUCT', 'pattern': 'pin'}, {'label': 'PRODUCT', 'pattern': 'door'}, {'label': 'PRODUCT', 'pattern': 'cream'}, {'label': 'PRODUCT', 'pattern': 'wallet'}, {'label': 'PRODUCT', 'pattern': 'processor'}, {'label': 'PRODUCT', 'pattern': 'clock'}, {'label': 'PRODUCT', 'pattern': 'caster oil'}, {'label': 'PRODUCT', 'pattern': 'spa'}, {'label': 'PRODUCT', 'pattern': 'charm'}, {'label': 'PRODUCT', 'pattern': 'ipod'}, {'label': 'PRODUCT', 'pattern': 'sculpture'}, {'label': 'PRODUCT', 'pattern': 'phone'}, {'label': 'PRODUCT', 'pattern': 'scanner'}, {'label': 'PRODUCT', 'pattern': 'bottle'}, {'label': 'PRODUCT', 'pattern': 'sparkler'}, {'label': 'PRODUCT', 'pattern': 'support'}, {'label': 'PRODUCT', 'pattern': 'magnets'}, {'label': 'PRODUCT', 'pattern': 'box'}, {'label': 'PRODUCT', 'pattern': 'viper'}, {'label': 'PRODUCT', 'pattern': 'wash'}, {'label': 'PRODUCT', 'pattern': 'piggy bank'}, {'label': 'PRODUCT', 'pattern': 'fixture'}, {'label': 'PRODUCT', 'pattern': 'mousepad'}, {'label': 'PRODUCT', 'pattern': 'bsw'}, {'label': 'PRODUCT', 'pattern': 'catalog'}, {'label': 'PRODUCT', 'pattern': 'hdd'}, {'label': 'PRODUCT', 'pattern': 'studio tools'}, {'label': 'PRODUCT', 'pattern': 'connector'}, {'label': 'PRODUCT', 'pattern': 'ant farm'}, {'label': 'PRODUCT', 'pattern': 'light'}, {'label': 'PRODUCT', 'pattern': 'thermal'}, {'label': 'PRODUCT', 'pattern': 'short'}, {'label': 'PRODUCT', 'pattern': 'shorts'}, {'label': 'PRODUCT', 'pattern': 'armbands'}, {'label': 'PRODUCT', 'pattern': 'boots'}, {'label': 'PRODUCT', 'pattern': 'pants'}, {'label': 'PRODUCT', 'pattern': 'cufflinks'}, {'label': 'PRODUCT', 'pattern': 'pant'}, {'label': 'PRODUCT', 'pattern': 'helmet'}, {'label': 'PRODUCT', 'pattern': 'logo'}, {'label': 'PRODUCT', 'pattern': 't shirt'}, {'label': 'PRODUCT', 'pattern': 'bra'}, {'label': 'PRODUCT', 'pattern': 'banner'}, {'label': 'PRODUCT', 'pattern': 'skort'}, {'label': 'PRODUCT', 'pattern': 'short '}, {'label': 'PRODUCT', 'pattern': 'tank'}, {'label': 'PRODUCT', 'pattern': 'slippers'}, {'label': 'PRODUCT', 'pattern': 'scarf'}, {'label': 'PRODUCT', 'pattern': 'visor'}, {'label': 'PRODUCT', 'pattern': 'sock '}, {'label': 'PRODUCT', 'pattern': 'tanktop'}, {'label': 'PRODUCT', 'pattern': 'sweatpants'}, {'label': 'PRODUCT', 'pattern': 'sandals'}, {'label': 'PRODUCT', 'pattern': 'uniform'}, {'label': 'PRODUCT', 'pattern': 'cap'}, {'label': 'PRODUCT', 'pattern': 'hoody'}, {'label': 'PRODUCT', 'pattern': 'hem'}, {'label': 'PRODUCT', 'pattern': 'creeper'}, {'label': 'PRODUCT', 'pattern': 'bodysuit set'}, {'label': 'PRODUCT', 'pattern': 'basketball'}, {'label': 'PRODUCT', 'pattern': 'sedan'}, {'label': 'PRODUCT', 'pattern': 'lunch box'}, {'label': 'PRODUCT', 'pattern': 'workbench'}, {'label': 'PRODUCT', 'pattern': 'violin'}, {'label': 'PRODUCT', 'pattern': 'switch'}, {'label': 'PRODUCT', 'pattern': 'dolls'}, {'label': 'PRODUCT', 'pattern': 'oil'}, {'label': 'PRODUCT', 'pattern': 'bicycle carrier'}, {'label': 'PRODUCT', 'pattern': 'monitors'}, {'label': 'PRODUCT', 'pattern': 'bakeware set'}, {'label': 'PRODUCT', 'pattern': 'bicycle'}, {'label': 'PRODUCT', 'pattern': 'ponytail holder'}, {'label': 'PRODUCT', 'pattern': 'grappler'}, {'label': 'PRODUCT', 'pattern': 'mug'}, {'label': 'PRODUCT', 'pattern': 'melissa'}, {'label': 'PRODUCT', 'pattern': 'zipper binder case'}, {'label': 'PRODUCT', 'pattern': 'base'}, {'label': 'PRODUCT', 'pattern': 'softmodem'}, {'label': 'PRODUCT', 'pattern': 'scale'}, {'label': 'PRODUCT', 'pattern': 'stand'}, {'label': 'PRODUCT', 'pattern': 'plate'}, {'label': 'PRODUCT', 'pattern': 'mural'}, {'label': 'PRODUCT', 'pattern': 'pant '}, {'label': 'PRODUCT', 'pattern': 'panty'}, {'label': 'PRODUCT', 'pattern': 'earrings'}, {'label': 'PRODUCT', 'pattern': 'bull trout'}, {'label': 'PRODUCT', 'pattern': 'panties'}, {'label': 'PRODUCT', 'pattern': 'tablecloth'}, {'label': 'PRODUCT', 'pattern': 'calorie'}, {'label': 'PRODUCT', 'pattern': 'chandelier'}, {'label': 'PRODUCT', 'pattern': 'scoop'}, {'label': 'PRODUCT', 'pattern': 'vaporizer'}, {'label': 'PRODUCT', 'pattern': 'cling sheet'}, {'label': 'PRODUCT', 'pattern': 'laserjet'}, {'label': 'PRODUCT', 'pattern': 'glove '}, {'label': 'PRODUCT', 'pattern': 'protein'}, {'label': 'PRODUCT', 'pattern': 'emblem'}, {'label': 'PRODUCT', 'pattern': 'gshock'}, {'label': 'PRODUCT', 'pattern': 'posters'}, {'label': 'PRODUCT', 'pattern': 'coin bank'}, {'label': 'PRODUCT', 'pattern': 'premier'}, {'label': 'PRODUCT', 'pattern': 'gloves'}, {'label': 'PRODUCT', 'pattern': 'cling'}, {'label': 'PRODUCT', 'pattern': 'tattoo kit'}, {'label': 'PRODUCT', 'pattern': 'license plate'}, {'label': 'PRODUCT', 'pattern': 'lotion'}, {'label': 'PRODUCT', 'pattern': 'player'}, {'label': 'PRODUCT', 'pattern': 'dvd'}, {'label': 'PRODUCT', 'pattern': 'pistol'}, {'label': 'PRODUCT', 'pattern': 'galaxy'}, {'label': 'PRODUCT', 'pattern': 'bow'}, {'label': 'PRODUCT', 'pattern': 'recorder'}, {'label': 'PRODUCT', 'pattern': 'keyboard'}, {'label': 'PRODUCT', 'pattern': 'mod'}, {'label': 'PRODUCT', 'pattern': 'ring'}, {'label': 'PRODUCT', 'pattern': 'ecc dimm'}, {'label': 'PRODUCT', 'pattern': 'apricot'}, {'label': 'PRODUCT', 'pattern': 'sas 2 pack'}, {'label': 'PRODUCT', 'pattern': 'usb'}, {'label': 'PRODUCT', 'pattern': 'president watch'}, {'label': 'PRODUCT', 'pattern': 'trail by moonlight'}, {'label': 'PRODUCT', 'pattern': 'rowing packages'}, {'label': 'PRODUCT', 'pattern': 'limpia oidos'}, {'label': 'PRODUCT', 'pattern': 'cases'}, {'label': 'PRODUCT', 'pattern': 'on for cats'}, {'label': 'PRODUCT', 'pattern': 'thermometer'}, {'label': 'PRODUCT', 'pattern': 'sweater'}, {'label': 'PRODUCT', 'pattern': 'ipad'}, {'label': 'PRODUCT', 'pattern': 'needle'}, {'label': 'PRODUCT', 'pattern': 'figurines'}, {'label': 'PRODUCT', 'pattern': 'pendant'}, {'label': 'PRODUCT', 'pattern': 'purse'}, {'label': 'PRODUCT', 'pattern': 'sauna dome'}, {'label': 'PRODUCT', 'pattern': 'rubber duck'}, {'label': 'PRODUCT', 'pattern': 'case for ipad2'}, {'label': 'PRODUCT', 'pattern': 'day cream'}, {'label': 'PRODUCT', 'pattern': 'spot lamps'}, {'label': 'PRODUCT', 'pattern': 'travel berkey'}, {'label': 'PRODUCT', 'pattern': 'wine'}, {'label': 'PRODUCT', 'pattern': 'metal'}, {'label': 'PRODUCT', 'pattern': 'with horses'}, {'label': 'PRODUCT', 'pattern': 'cookware'}, {'label': 'PRODUCT', 'pattern': 'glass '}, {'label': 'PRODUCT', 'pattern': 'spary '}, {'label': 'PRODUCT', 'pattern': 'berry'}, {'label': 'PRODUCT', 'pattern': 'forks'}, {'label': 'PRODUCT', 'pattern': 'percolator'}, {'label': 'PRODUCT', 'pattern': 'cooler'}, {'label': 'PRODUCT', 'pattern': 'boxers underwear'}, {'label': 'PRODUCT', 'pattern': 'kite'}, {'label': 'PRODUCT', 'pattern': 'filter'}, {'label': 'PRODUCT', 'pattern': 'kit '}, {'label': 'PRODUCT', 'pattern': 'atomizer'}, {'label': 'PRODUCT', 'pattern': 'saucepan'}, {'label': 'PRODUCT', 'pattern': 'harness'}, {'label': 'PRODUCT', 'pattern': 'heels'}, {'label': 'PRODUCT', 'pattern': 'mugs'}, {'label': 'PRODUCT', 'pattern': 'hooks'}, {'label': 'PRODUCT', 'pattern': 'underwire'}, {'label': 'PRODUCT', 'pattern': 'shoe'}, {'label': 'PRODUCT', 'pattern': 'wingtip'}, {'label': 'PRODUCT', 'pattern': ' bed'}, {'label': 'PRODUCT', 'pattern': 'golf balls'}, {'label': 'PRODUCT', 'pattern': 'heater'}, {'label': 'PRODUCT', 'pattern': 'jacket '}, {'label': 'PRODUCT', 'pattern': 'rifle'}, {'label': 'PRODUCT', 'pattern': 'knob'}, {'label': 'PRODUCT', 'pattern': ' dress'}, {'label': 'PRODUCT', 'pattern': 'memory foam'}, {'label': 'PRODUCT', 'pattern': 'cigar '}, {'label': 'PRODUCT', 'pattern': ' map'}, {'label': 'PRODUCT', 'pattern': ' cufflinks'}, {'label': 'PRODUCT', 'pattern': 'air compressor'}, {'label': 'PRODUCT', 'pattern': ' sandals'}, {'label': 'PRODUCT', 'pattern': 'power cord'}, {'label': 'PRODUCT', 'pattern': 'insurance policies'}, {'label': 'PRODUCT', 'pattern': 'xeno89sc'}, {'label': 'PRODUCT', 'pattern': 'tray car'}, {'label': 'PRODUCT', 'pattern': 'other 1932'}, {'label': 'PRODUCT', 'pattern': 'tea'}, {'label': 'PRODUCT', 'pattern': 'v electrodes'}, {'label': 'PRODUCT', 'pattern': 'driftwood candelabra'}, {'label': 'PRODUCT', 'pattern': 'brief'}, {'label': 'PRODUCT', 'pattern': 'curtains grommets'}, {'label': 'PRODUCT', 'pattern': 'cosmetic base'}, {'label': 'PRODUCT', 'pattern': 'innovation and impact'}, {'label': 'PRODUCT', 'pattern': 'marzoaprile'}, {'label': 'PRODUCT', 'pattern': 'tailgate toss 20'}, {'label': 'PRODUCT', 'pattern': 'khaki'}, {'label': 'PRODUCT', 'pattern': 'skirt a'}, {'label': 'PRODUCT', 'pattern': 'bed with footrail'}, {'label': 'PRODUCT', 'pattern': 'banana flavor'}, {'label': 'PRODUCT', 'pattern': 'assembled  round'}, {'label': 'PRODUCT', 'pattern': 'leader'}, {'label': 'PRODUCT', 'pattern': 'wizards castle'}, {'label': 'PRODUCT', 'pattern': 'and accessories'}, {'label': 'PRODUCT', 'pattern': 'arrowhead'}, {'label': 'PRODUCT', 'pattern': 'custom keylight'}, {'label': 'PRODUCT', 'pattern': 'carrier tie down kit'}, {'label': 'PRODUCT', 'pattern': 'odyssey'}, {'label': 'PRODUCT', 'pattern': 'plastic  grey  4 x 4 inches'}, {'label': 'PRODUCT', 'pattern': 'cable cross'}, {'label': 'PRODUCT', 'pattern': 'spearmint eo'}, {'label': 'PRODUCT', 'pattern': 'brackets  expander and metal chain'}, {'label': 'PRODUCT', 'pattern': 'light set'}, {'label': 'PRODUCT', 'pattern': 'salt'}, {'label': 'PRODUCT', 'pattern': 'usb dongle'}, {'label': 'PRODUCT', 'pattern': 'equestrian boots italian ridingboots'}, {'label': 'PRODUCT', 'pattern': 'soul robbery'}, {'label': 'PRODUCT', 'pattern': 'drive rotors'}, {'label': 'PRODUCT', 'pattern': 'demoiselle small'}, {'label': 'PRODUCT', 'pattern': 'bottle holder'}, {'label': 'PRODUCT', 'pattern': 'snap 12 pack'}, {'label': 'PRODUCT', 'pattern': 'spiral staircases'}, {'label': 'PRODUCT', 'pattern': 'glasses'}, {'label': 'PRODUCT', 'pattern': 'caravan'}, {'label': 'PRODUCT', 'pattern': 'town with video'}, {'label': 'PRODUCT', 'pattern': 'air spring'}, {'label': 'PRODUCT', 'pattern': 'street map 4727740'}, {'label': 'PRODUCT', 'pattern': 'k w9d988'}, {'label': 'PRODUCT', 'pattern': 'hard drive'}, {'label': 'PRODUCT', 'pattern': 'sous vide'}, {'label': 'PRODUCT', 'pattern': 'bridesmaid dress'}, {'label': 'PRODUCT', 'pattern': 'combat taekwondo'}, {'label': 'PRODUCT', 'pattern': 'canvas'}, {'label': 'PRODUCT', 'pattern': 'appraisal process'}, {'label': 'PRODUCT', 'pattern': 'lapel pin'}, {'label': 'PRODUCT', 'pattern': 'cable'}, {'label': 'PRODUCT', 'pattern': 'photograph'}, {'label': 'PRODUCT', 'pattern': 'cleaning kit'}, {'label': 'PRODUCT', 'pattern': 'xlr reticle'}, {'label': 'PRODUCT', 'pattern': 'faucet '}, {'label': 'PRODUCT', 'pattern': 'phone jacks'}, {'label': 'PRODUCT', 'pattern': 'face wash'}, {'label': 'PRODUCT', 'pattern': 'mounting kit'}, {'label': 'PRODUCT', 'pattern': 'decal sheet'}, {'label': 'PRODUCT', 'pattern': 'chiller'}, {'label': 'PRODUCT', 'pattern': 'craft lanyard'}, {'label': 'PRODUCT', 'pattern': 'camera'}, {'label': 'PRODUCT', 'pattern': 'door handles'}, {'label': 'PRODUCT', 'pattern': 'saucepan red'}, {'label': 'PRODUCT', 'pattern': 'yarn '}, {'label': 'PRODUCT', 'pattern': 'product'}, {'label': 'PRODUCT', 'pattern': 'charm'}, {'label': 'PRODUCT', 'pattern': 'monitor'}, {'label': 'PRODUCT', 'pattern': 't-shirt'}, {'label': 'PRODUCT', 'pattern': 'axles'}, {'label': 'PRODUCT', 'pattern': ''}, {'label': 'PRODUCT', 'pattern': 'display case'}, {'label': 'PRODUCT', 'pattern': 'barwell fleet'}, {'label': 'PRODUCT', 'pattern': 'plaque'}, {'label': 'PRODUCT', 'pattern': 'hoodie'}, {'label': 'PRODUCT', 'pattern': 'garden flag'}, {'label': 'PRODUCT', 'pattern': 'dinning chair'}, {'label': 'PRODUCT', 'pattern': 'hoodie'}, {'label': 'PRODUCT', 'pattern': 'football'}, {'label': 'PRODUCT', 'pattern': 'sunglasses'}, {'label': 'PRODUCT', 'pattern': 'ornament'}, {'label': 'PRODUCT', 'pattern': 'money clip'}, {'label': 'PRODUCT', 'pattern': 't-shirt'}, {'label': 'PRODUCT', 'pattern': 'flip flops'}, {'label': 'PRODUCT', 'pattern': 'dress'}, {'label': 'PRODUCT', 'pattern': 'hat'}, {'label': 'PRODUCT', 'pattern': 'hoodie'}, {'label': 'PRODUCT', 'pattern': 'barrette'}, {'label': 'PRODUCT', 'pattern': 'hats'}, {'label': 'PRODUCT', 'pattern': 'photograph'}, {'label': 'PRODUCT', 'pattern': 'tank top'}, {'label': 'PRODUCT', 'pattern': 'soundtrack'}, {'label': 'PRODUCT', 'pattern': 'socks'}, {'label': 'PRODUCT', 'pattern': 'guillotine'}, {'label': 'PRODUCT', 'pattern': 'pills'}, {'label': 'PRODUCT', 'pattern': 'tote'}, {'label': 'PRODUCT', 'pattern': 'sweatshirt'}, {'label': 'PRODUCT', 'pattern': 'bags'}, {'label': 'PRODUCT', 'pattern': 'sticker'}, {'label': 'PRODUCT', 'pattern': 'barware'}, {'label': 'PRODUCT', 'pattern': 'bulb kit'}, {'label': 'PRODUCT', 'pattern': 'mold'}, {'label': 'PRODUCT', 'pattern': 'polo'}, {'label': 'PRODUCT', 'pattern': 'shirt'}, {'label': 'PRODUCT', 'pattern': 'decal'}, {'label': 'PRODUCT', 'pattern': 'gift set'}, {'label': 'PRODUCT', 'pattern': 'scrub'}, {'label': 'PRODUCT', 'pattern': 'dog dry'}, {'label': 'PRODUCT', 'pattern': 'expedition pack'}, {'label': 'PRODUCT', 'pattern': 'frame'}, {'label': 'PRODUCT', 'pattern': 'pizelle maker'}, {'label': 'PRODUCT', 'pattern': 'sweatshirt'}, {'label': 'PRODUCT', 'pattern': 'eye cream'}, {'label': 'PRODUCT', 'pattern': 'pineapple'}, {'label': 'PRODUCT', 'pattern': 'brushguard'}, {'label': 'PRODUCT', 'pattern': 'bowl'}, {'label': 'PRODUCT', 'pattern': 'teakettle'}, {'label': 'PRODUCT', 'pattern': 'lighter'}, {'label': 'PRODUCT', 'pattern': 'map 2012'}, {'label': 'PRODUCT', 'pattern': 'training'}, {'label': 'PRODUCT', 'pattern': 'jacket'}, {'label': 'PRODUCT', 'pattern': 'hard disk'}, {'label': 'PRODUCT', 'pattern': 'dog'}, {'label': 'PRODUCT', 'pattern': 'tag'}, {'label': 'PRODUCT', 'pattern': 'cape'}, {'label': 'PRODUCT', 'pattern': 'diamonds'}, {'label': 'PRODUCT', 'pattern': 'cleaner'}, {'label': 'PRODUCT', 'pattern': 'shoes'}, {'label': 'PRODUCT', 'pattern': 'powder'}, {'label': 'PRODUCT', 'pattern': 'extension'}, {'label': 'PRODUCT', 'pattern': 'backpack'}, {'label': 'PRODUCT', 'pattern': 'touring'}, {'label': 'PRODUCT', 'pattern': 'riflescope'}, {'label': 'PRODUCT', 'pattern': 'civic lx'}, {'label': 'PRODUCT', 'pattern': 'net-limited'}, {'label': 'PRODUCT', 'pattern': 'sign'}, {'label': 'PRODUCT', 'pattern': 'skirt'}, {'label': 'PRODUCT', 'pattern': 'repisa'}, {'label': 'PRODUCT', 'pattern': 'marker'}, {'label': 'PRODUCT', 'pattern': 'pad'}, {'label': 'PRODUCT', 'pattern': 'card'}, {'label': 'PRODUCT', 'pattern': 'sugar'}, {'label': 'PRODUCT', 'pattern': 'overalls'}, {'label': 'PRODUCT', 'pattern': 'tee'}, {'label': 'PRODUCT', 'pattern': 'oak'}, {'label': 'PRODUCT', 'pattern': 'pump'}, {'label': 'PRODUCT', 'pattern': 'jersey'}, {'label': 'PRODUCT', 'pattern': 'set'}, {'label': 'PRODUCT', 'pattern': 'silver'}, {'label': 'PRODUCT', 'pattern': 'kit'}, {'label': 'PRODUCT', 'pattern': 'necklace'}, {'label': 'PRODUCT', 'pattern': 'lanyard'}, {'label': 'PRODUCT', 'pattern': 'sweatshirt'}, {'label': 'PRODUCT', 'pattern': 'sprayer'}, {'label': 'PRODUCT', 'pattern': 'table'}, {'label': 'PRODUCT', 'pattern': 'freezer'}, {'label': 'PRODUCT', 'pattern': 'rosettes'}, {'label': 'PRODUCT', 'pattern': 'spigot'}, {'label': 'PRODUCT', 'pattern': 'bichir'}, {'label': 'PRODUCT', 'pattern': 'cord'}, {'label': 'PRODUCT', 'pattern': 'belt'}, {'label': 'PRODUCT', 'pattern': 'pullover'}, {'label': 'PRODUCT', 'pattern': 'keychain'}, {'label': 'PRODUCT', 'pattern': 'fuller'}, {'label': 'PRODUCT', 'pattern': 'lamp'}, {'label': 'PRODUCT', 'pattern': 'bracelet'}, {'label': 'PRODUCT', 'pattern': 'suncatcher'}, {'label': 'PRODUCT', 'pattern': 'bed'}, {'label': 'PRODUCT', 'pattern': 'top'}, {'label': 'PRODUCT', 'pattern': 'package'}, {'label': 'PRODUCT', 'pattern': 'curettes'}, {'label': 'PRODUCT', 'pattern': 'shake'}, {'label': 'PRODUCT', 'pattern': 'bag'}, {'label': 'PRODUCT', 'pattern': 'iball'}, {'label': 'PRODUCT', 'pattern': 'tablet'}, {'label': 'PRODUCT', 'pattern': 'watch'}, {'label': 'PRODUCT', 'pattern': 'book'}, {'label': 'PRODUCT', 'pattern': 'roof'}, {'label': 'PRODUCT', 'pattern': 'bike rack'}, {'label': 'PRODUCT', 'pattern': 'bike'}, {'label': 'PRODUCT', 'pattern': 'umbrella'}, {'label': 'PRODUCT', 'pattern': 'car'}, {'label': 'PRODUCT', 'pattern': 'beanie'}, {'label': 'PRODUCT', 'pattern': 'koozie'}, {'label': 'PRODUCT', 'pattern': 'meter'}, {'label': 'PRODUCT', 'pattern': 'trimmer'}, {'label': 'PRODUCT', 'pattern': 'stamps'}, {'label': 'PRODUCT', 'pattern': 'troika'}, {'label': 'PRODUCT', 'pattern': 'valve'}, {'label': 'PRODUCT', 'pattern': 'headband'}, {'label': 'PRODUCT', 'pattern': 'alloy'}, {'label': 'PRODUCT', 'pattern': 'alarm'}, {'label': 'PRODUCT', 'pattern': 'hammer'}, {'label': 'PRODUCT', 'pattern': 'flag'}, {'label': 'PRODUCT', 'pattern': 'hard drive'}, {'label': 'PRODUCT', 'pattern': 'black'}, {'label': 'PRODUCT', 'pattern': 'spary bar'}, {'label': 'PRODUCT', 'pattern': 'xperia'}, {'label': 'PRODUCT', 'pattern': 'pin'}, {'label': 'PRODUCT', 'pattern': 'door'}, {'label': 'PRODUCT', 'pattern': 'cream'}, {'label': 'PRODUCT', 'pattern': 'wallet'}, {'label': 'PRODUCT', 'pattern': 'case'}, {'label': 'PRODUCT', 'pattern': 'processor'}, {'label': 'PRODUCT', 'pattern': 'clock'}, {'label': 'PRODUCT', 'pattern': 'caster oil'}, {'label': 'PRODUCT', 'pattern': 'spa'}, {'label': 'PRODUCT', 'pattern': 'charm'}, {'label': 'PRODUCT', 'pattern': 'ipod'}, {'label': 'PRODUCT', 'pattern': 'sculpture'}, {'label': 'PRODUCT', 'pattern': 'phone'}, {'label': 'PRODUCT', 'pattern': 'bottle'}, {'label': 'PRODUCT', 'pattern': 'sparkler'}, {'label': 'PRODUCT', 'pattern': 'support'}, {'label': 'PRODUCT', 'pattern': 'viper'}, {'label': 'PRODUCT', 'pattern': 'wash'}, {'label': 'PRODUCT', 'pattern': 'fixture'}, {'label': 'PRODUCT', 'pattern': 'catalog'}, {'label': 'PRODUCT', 'pattern': 'studio tools'}, {'label': 'PRODUCT', 'pattern': 'connector'}, {'label': 'PRODUCT', 'pattern': 'ant farm'}, {'label': 'PRODUCT', 'pattern': 'light'}, {'label': 'PRODUCT', 'pattern': 'sandals'}, {'label': 'PRODUCT', 'pattern': 'lunch box'}, {'label': 'PRODUCT', 'pattern': 'workbench'}, {'label': 'PRODUCT', 'pattern': 'violin'}, {'label': 'PRODUCT', 'pattern': 'switch'}, {'label': 'PRODUCT', 'pattern': 'dolls'}, {'label': 'PRODUCT', 'pattern': 'helmet'}, {'label': 'PRODUCT', 'pattern': 'oil'}, {'label': 'PRODUCT', 'pattern': 'bicycle carrier'}, {'label': 'PRODUCT', 'pattern': 'bakeware set'}, {'label': 'PRODUCT', 'pattern': 'bicycle'}, {'label': 'PRODUCT', 'pattern': 'ponytail holder'}, {'label': 'PRODUCT', 'pattern': 'grappler'}, {'label': 'PRODUCT', 'pattern': 'mug'}, {'label': 'PRODUCT', 'pattern': 'zipper'}, {'label': 'PRODUCT', 'pattern': 'binder'}, {'label': 'PRODUCT', 'pattern': 'case'}, {'label': 'PRODUCT', 'pattern': 'base'}, {'label': 'PRODUCT', 'pattern': 'scale'}, {'label': 'PRODUCT', 'pattern': 'stand'}, {'label': 'PRODUCT', 'pattern': 'plate'}, {'label': 'PRODUCT', 'pattern': 'mural'}, {'label': 'PRODUCT', 'pattern': 'pant '}, {'label': 'PRODUCT', 'pattern': 'panty'}, {'label': 'PRODUCT', 'pattern': 'earrings'}, {'label': 'PRODUCT', 'pattern': 'bull trout'}, {'label': 'PRODUCT', 'pattern': 'tablecloth'}, {'label': 'PRODUCT', 'pattern': 'chandelier'}, {'label': 'PRODUCT', 'pattern': 'vaporizer'}, {'label': 'PRODUCT', 'pattern': 'protein'}, {'label': 'PRODUCT', 'pattern': 'posters'}, {'label': 'PRODUCT', 'pattern': 'coin bank'}, {'label': 'PRODUCT', 'pattern': 'premier'}, {'label': 'PRODUCT', 'pattern': 'gloves'}, {'label': 'PRODUCT', 'pattern': 'cling'}, {'label': 'PRODUCT', 'pattern': 'tattoo kit'}, {'label': 'PRODUCT', 'pattern': 'license plate'}, {'label': 'PRODUCT', 'pattern': 'lotion'}, {'label': 'PRODUCT', 'pattern': 'player'}, {'label': 'PRODUCT', 'pattern': 'slippers'}, {'label': 'PRODUCT', 'pattern': 'dvd'}, {'label': 'PRODUCT', 'pattern': 'lid'}, {'label': 'PRODUCT', 'pattern': 'pistol'}, {'label': 'PRODUCT', 'pattern': 'shorts'}, {'label': 'PRODUCT', 'pattern': 'recorder'}, {'label': 'PRODUCT', 'pattern': 'keyboard'}, {'label': 'PRODUCT', 'pattern': 'mod'}, {'label': 'PRODUCT', 'pattern': 'ring'}, {'label': 'PRODUCT', 'pattern': 'boots'}, {'label': 'PRODUCT', 'pattern': 'apricot'}, {'label': 'PRODUCT', 'pattern': 'usb'}, {'label': 'PRODUCT', 'pattern': 'bodysuit set'}, {'label': 'PRODUCT', 'pattern': 'president watch'}, {'label': 'PRODUCT', 'pattern': 'trail by moonlight'}, {'label': 'PRODUCT', 'pattern': 'rowing packages'}, {'label': 'PRODUCT', 'pattern': 'cases'}, {'label': 'PRODUCT', 'pattern': 'thermometer'}, {'label': 'PRODUCT', 'pattern': 'sweater'}, {'label': 'PRODUCT', 'pattern': 'needle'}, {'label': 'PRODUCT', 'pattern': 'figurines'}, {'label': 'PRODUCT', 'pattern': 'bow'}, {'label': 'PRODUCT', 'pattern': 'pendant'}, {'label': 'PRODUCT', 'pattern': 'sauna dome'}, {'label': 'PRODUCT', 'pattern': 'case for ipad2'}, {'label': 'PRODUCT', 'pattern': 'day cream'}, {'label': 'PRODUCT', 'pattern': 'spot lamps'}, {'label': 'PRODUCT', 'pattern': 'travel berkey'}, {'label': 'PRODUCT', 'pattern': 'wine'}, {'label': 'PRODUCT', 'pattern': 'metal'}, {'label': 'PRODUCT', 'pattern': 'with horses'}, {'label': 'PRODUCT', 'pattern': 'pants'}, {'label': 'PRODUCT', 'pattern': 'cookware'}, {'label': 'PRODUCT', 'pattern': 'glass '}, {'label': 'PRODUCT', 'pattern': 'spray '}, {'label': 'PRODUCT', 'pattern': 'berry'}, {'label': 'PRODUCT', 'pattern': 'forks'}, {'label': 'PRODUCT', 'pattern': 'boxers, underwear'}, {'label': 'PRODUCT', 'pattern': 'kite'}, {'label': 'PRODUCT', 'pattern': 'filter'}, {'label': 'PRODUCT', 'pattern': 'kit '}, {'label': 'PRODUCT', 'pattern': 'atomizer'}, {'label': 'PRODUCT', 'pattern': 'harness'}, {'label': 'PRODUCT', 'pattern': 'mugs'}, {'label': 'PRODUCT', 'pattern': 'hooks'}, {'label': 'PRODUCT', 'pattern': 'underwire'}, {'label': 'PRODUCT', 'pattern': 'photograph'}, {'label': 'PRODUCT', 'pattern': 'wingtip'}, {'label': 'PRODUCT', 'pattern': 'bed'}, {'label': 'PRODUCT', 'pattern': 'sedan'}, {'label': 'PRODUCT', 'pattern': 'heater'}, {'label': 'PRODUCT', 'pattern': 'jacket '}, {'label': 'PRODUCT', 'pattern': 'rifle'}, {'label': 'PRODUCT', 'pattern': 'knob'}, {'label': 'PRODUCT', 'pattern': 'dress'}, {'label': 'PRODUCT', 'pattern': 'memory foam'}, {'label': 'PRODUCT', 'pattern': 'cigar '}, {'label': 'PRODUCT', 'pattern': 'map'}, {'label': 'PRODUCT', 'pattern': 'cufflinks'}, {'label': 'PRODUCT', 'pattern': 'air compressor'}, {'label': 'PRODUCT', 'pattern': 'sandals'}, {'label': 'PRODUCT', 'pattern': 'power cord'}, {'label': 'PRODUCT', 'pattern': 'insurance policies'}, {'label': 'PRODUCT', 'pattern': 'xeno-89-sc'}, {'label': 'PRODUCT', 'pattern': 'tray car'}, {'label': 'PRODUCT', 'pattern': 'other 1932'}, {'label': 'PRODUCT', 'pattern': 'tea'}, {'label': 'PRODUCT', 'pattern': 'electrodes'}, {'label': 'PRODUCT', 'pattern': 'driftwood candelabra'}, {'label': 'PRODUCT', 'pattern': 'brief'}, {'label': 'PRODUCT', 'pattern': 'curtains grommets'}, {'label': 'PRODUCT', 'pattern': 'cosmetic base'}, {'label': 'PRODUCT', 'pattern': 'innovation, and impact'}, {'label': 'PRODUCT', 'pattern': 'golf balls'}, {'label': 'PRODUCT', 'pattern': 'skirt a'}, {'label': 'PRODUCT', 'pattern': 'bed with footrail'}, {'label': 'PRODUCT', 'pattern': 'banana flavor'}, {'label': 'PRODUCT', 'pattern': 'assembled - round'}, {'label': 'PRODUCT', 'pattern': 'leader'}, {'label': 'PRODUCT', 'pattern': \"wizard's castle\"}, {'label': 'PRODUCT', 'pattern': 'and accessories.'}, {'label': 'PRODUCT', 'pattern': 'arrowhead'}, {'label': 'PRODUCT', 'pattern': 'custom keylight'}, {'label': 'PRODUCT', 'pattern': 'carrier, tie down kit'}, {'label': 'PRODUCT', 'pattern': 'plastic - grey - 4 x 4 inches'}, {'label': 'PRODUCT', 'pattern': 'cable cross'}, {'label': 'PRODUCT', 'pattern': 'spearmint'}, {'label': 'PRODUCT', 'pattern': 'brackets & expander and metal chain)'}, {'label': 'PRODUCT', 'pattern': 'light set'}, {'label': 'PRODUCT', 'pattern': 'salt'}, {'label': 'PRODUCT', 'pattern': 'usb dongle'}, {'label': 'PRODUCT', 'pattern': 'soul robbery'}, {'label': 'PRODUCT', 'pattern': 'drive rotors'}, {'label': 'PRODUCT', 'pattern': 'demoiselle small'}, {'label': 'PRODUCT', 'pattern': 'snap 12 pack'}, {'label': 'PRODUCT', 'pattern': 'spiral staircases'}, {'label': 'PRODUCT', 'pattern': 'glasses'}, {'label': 'PRODUCT', 'pattern': 'caravan'}, {'label': 'PRODUCT', 'pattern': 'air spring'}, {'label': 'PRODUCT', 'pattern': 'streetracer'}, {'label': 'PRODUCT', 'pattern': 'map'}, {'label': 'PRODUCT', 'pattern': 'hard drive'}, {'label': 'PRODUCT', 'pattern': 'bridesmaid dress'}, {'label': 'PRODUCT', 'pattern': 'canvas'}, {'label': 'PRODUCT', 'pattern': 'lapel pin'}, {'label': 'PRODUCT', 'pattern': 'photograph'}, {'label': 'PRODUCT', 'pattern': 'cleaning kit'}, {'label': 'PRODUCT', 'pattern': 'short'}, {'label': 'PRODUCT', 'pattern': 'faucet '}, {'label': 'PRODUCT', 'pattern': 'phone jacks'}, {'label': 'PRODUCT', 'pattern': 'face wash'}, {'label': 'PRODUCT', 'pattern': 'mounting kit'}, {'label': 'PRODUCT', 'pattern': 'decal sheet'}, {'label': 'PRODUCT', 'pattern': 'camera'}, {'label': 'PRODUCT', 'pattern': 'door handles'}, {'label': 'PRODUCT', 'pattern': 'saucepan, red'}, {'label': 'PRODUCT', 'pattern': 'yarn '}, {'label': 'PRODUCT', 'pattern': 'scarf'}, {'label': 'PRODUCT', 'pattern': 'tank'}, {'label': 'PRODUCT', 'pattern': 'pedal'}, {'label': 'PRODUCT', 'pattern': 'cover'}, {'label': 'PRODUCT', 'pattern': 'cap'}, {'label': 'PRODUCT', 'pattern': 'socks'}, {'label': 'PRODUCT', 'pattern': 't shirt'}, {'label': 'PRODUCT', 'pattern': 'stud'}, {'label': 'PRODUCT', 'pattern': 'cable'}, {'label': 'PRODUCT', 'pattern': 'mattress'}, {'label': 'PRODUCT', 'pattern': 'flask'}, {'label': 'PRODUCT', 'pattern': 'kits'}, {'label': 'PRODUCT', 'pattern': 'glass'}, {'label': 'PRODUCT', 'pattern': 'chair'}, {'label': 'PRODUCT', 'pattern': 'cufflinks'}, {'label': 'PRODUCT', 'pattern': 'scarlet'}, {'label': 'PRODUCT', 'pattern': 'bra'}, {'label': 'PRODUCT', 'pattern': 'headset'}, {'label': 'PRODUCT', 'pattern': 'socket'}, {'label': 'PRODUCT', 'pattern': 'adapter'}, {'label': 'PRODUCT', 'pattern': 'hair pin'}, {'label': 'PRODUCT', 'pattern': 'doors'}, {'label': 'PRODUCT', 'pattern': 'lights'}, {'label': 'PRODUCT', 'pattern': 'duvet'}, {'label': 'PRODUCT', 'pattern': 'tumbler'}, {'label': 'PRODUCT', 'pattern': 'trap system'}, {'label': 'PRODUCT', 'pattern': 'cartridge'}, {'label': 'PRODUCT', 'pattern': 'lollipop'}, {'label': 'PRODUCT', 'pattern': 'calendar'}, {'label': 'PRODUCT', 'pattern': 'swordtail'}, {'label': 'PRODUCT', 'pattern': 'pellets'}, {'label': 'PRODUCT', 'pattern': 'detox'}, {'label': 'PRODUCT', 'pattern': 'pan'}, {'label': 'PRODUCT', 'pattern': 'ups'}, {'label': 'PRODUCT', 'pattern': 'cardigan'}, {'label': 'PRODUCT', 'pattern': 'pool cleaner'}, {'label': 'PRODUCT', 'pattern': 'clip'}, {'label': 'PRODUCT', 'pattern': 'notebook'}, {'label': 'PRODUCT', 'pattern': 'headband'}, {'label': 'PRODUCT', 'pattern': 'convertible'}, {'label': 'PRODUCT', 'pattern': 'air dryers'}, {'label': 'PRODUCT', 'pattern': 'bulb'}, {'label': 'PRODUCT', 'pattern': 'carving kit'}, {'label': 'PRODUCT', 'pattern': 'wheels'}, {'label': 'PRODUCT', 'pattern': 'divers'}, {'label': 'PRODUCT', 'pattern': 'desk'}, {'label': 'PRODUCT', 'pattern': 'washer'}, {'label': 'PRODUCT', 'pattern': 'skillet'}, {'label': 'PRODUCT', 'pattern': 'gel'}, {'label': 'PRODUCT', 'pattern': 'shell'}, {'label': 'PRODUCT', 'pattern': 'trap'}, {'label': 'PRODUCT', 'pattern': 'inverter'}, {'label': 'PRODUCT', 'pattern': 'humidifier'}, {'label': 'PRODUCT', 'pattern': 'tapestry'}, {'label': 'PRODUCT', 'pattern': 'scope'}, {'label': 'PRODUCT', 'pattern': 'sheave'}, {'label': 'PRODUCT', 'pattern': 'magnet'}, {'label': 'PRODUCT', 'pattern': 'tires'}, {'label': 'PRODUCT', 'pattern': 'recovery kit'}, {'label': 'PRODUCT', 'pattern': 'swivel'}, {'label': 'PRODUCT', 'pattern': 'jelly'}, {'label': 'PRODUCT', 'pattern': 'chiller'}, {'label': 'PRODUCT', 'pattern': 'bermuda'}, {'label': 'PRODUCT', 'pattern': 'sleeper'}, {'label': 'PRODUCT', 'pattern': 'd300'}, {'label': 'PRODUCT', 'pattern': 'slipper'}, {'label': 'PRODUCT', 'pattern': 'badge'}, {'label': 'PRODUCT', 'pattern': 'tire '}, {'label': 'PRODUCT', 'pattern': 'roof rack'}, {'label': 'PRODUCT', 'pattern': 'sling'}, {'label': 'PRODUCT', 'pattern': 'mirror'}, {'label': 'PRODUCT', 'pattern': 'swimsuit'}, {'label': 'PRODUCT', 'pattern': 'motor drive'}, {'label': 'PRODUCT', 'pattern': 'tablet sleeve'}, {'label': 'PRODUCT', 'pattern': 'vest'}, {'label': 'PRODUCT', 'pattern': 'coconut oil'}, {'label': 'PRODUCT', 'pattern': 'prism'}, {'label': 'PRODUCT', 'pattern': 'spoon'}, {'label': 'PRODUCT', 'pattern': 'floor tool'}, {'label': 'PRODUCT', 'pattern': 'thermal, top'}, {'label': 'PRODUCT', 'pattern': 'knife holder'}, {'label': 'PRODUCT', 'pattern': 'seat mount'}, {'label': 'PRODUCT', 'pattern': 'cartridges'}, {'label': 'PRODUCT', 'pattern': 'battery'}, {'label': 'PRODUCT', 'pattern': 'red wine'}, {'label': 'PRODUCT', 'pattern': 'pendulum'}, {'label': 'PRODUCT', 'pattern': 'locket'}, {'label': 'PRODUCT', 'pattern': 'hoodie'}, {'label': 'PRODUCT', 'pattern': 'beanie'}, {'label': 'PRODUCT', 'pattern': 'table'}, {'label': 'PRODUCT', 'pattern': 'humidifier'}, {'label': 'PRODUCT', 'pattern': 'shorts'}, {'label': 'PRODUCT', 'pattern': 'sweatpants'}, {'label': 'PRODUCT', 'pattern': 'dress'}, {'label': 'PRODUCT', 'pattern': ''}, {'label': 'PRODUCT', 'pattern': 'pellets'}, {'label': 'PRODUCT', 'pattern': 'crusier base'}, {'label': 'PRODUCT', 'pattern': 'hat'}, {'label': 'PRODUCT', 'pattern': 'jacket'}, {'label': 'PRODUCT', 'pattern': 'nets'}, {'label': 'PRODUCT', 'pattern': 't-shirt'}, {'label': 'PRODUCT', 'pattern': 'flag'}, {'label': 'PRODUCT', 'pattern': 'ammunition'}, {'label': 'PRODUCT', 'pattern': 'sweatshirt'}, {'label': 'PRODUCT', 'pattern': 'pumps'}, {'label': 'PRODUCT', 'pattern': 'impala'}, {'label': 'PRODUCT', 'pattern': 'shampoo'}, {'label': 'PRODUCT', 'pattern': 'mirror'}, {'label': 'PRODUCT', 'pattern': 'backsack'}, {'label': 'PRODUCT', 'pattern': 'tank top'}, {'label': 'PRODUCT', 'pattern': 'shoes'}]\n"
     ]
    }
   ],
   "source": [
    "print(patterns1)"
   ]
  },
  {
   "cell_type": "code",
   "execution_count": 19,
   "id": "f8af9109",
   "metadata": {},
   "outputs": [],
   "source": [
    "#blank spacy English model with entity ruler in pipeline\n",
    "def generate_spacy_rules(patterns):\n",
    "    nlp = English()\n",
    "    ruler = nlp.add_pipe(\"entity_ruler\")\n",
    "    ruler.add_patterns(patterns)\n",
    "#     print(nlp.pipe_names)\n",
    "    nlp.to_disk(\"prod_ner\")"
   ]
  },
  {
   "cell_type": "code",
   "execution_count": 20,
   "id": "447402e3",
   "metadata": {},
   "outputs": [],
   "source": [
    "generate_spacy_rules(patterns1)"
   ]
  },
  {
   "cell_type": "code",
   "execution_count": 21,
   "id": "93c54d53",
   "metadata": {},
   "outputs": [],
   "source": [
    "nlp = spacy.load(\"prod_ner\")"
   ]
  },
  {
   "cell_type": "code",
   "execution_count": 22,
   "id": "77bad7e0",
   "metadata": {},
   "outputs": [],
   "source": [
    "# nlp = spacy.load(\"prod_ner_crf\")\n",
    "# def test_model(model, text):\n",
    "#     doc = nlp(text)\n",
    "# #     print(text)\n",
    "#     results = []\n",
    "#     for ent in doc.ents:\n",
    "#         results.append(ent.text)\n",
    "# #     for token in doc:\n",
    "# #         print(token.pos_)\n",
    "# #     print(results)"
   ]
  },
  {
   "cell_type": "code",
   "execution_count": 23,
   "id": "9b8e8942",
   "metadata": {},
   "outputs": [],
   "source": [
    "#Function to format input data to required entity ruler format\n",
    "def train_data_for_spacy(model, text):\n",
    "    doc = nlp(text)\n",
    "    results = []\n",
    "    entities = []\n",
    "    for ent in doc.ents:\n",
    "        #print(ent.label_)\n",
    "        entities.append((ent.start_char, ent.end_char, ent.label_))\n",
    "    if len(entities) > 0:\n",
    "        results = [text, {\"entities\": entities}]\n",
    "        return (results)"
   ]
  },
  {
   "cell_type": "code",
   "execution_count": 24,
   "id": "e8ae987d",
   "metadata": {},
   "outputs": [],
   "source": [
    "#colors used in product titles listed\n",
    "colors_list = load_data(\"colors.json\")\n",
    "colors = []\n",
    "for item in colors_list:\n",
    "    colors.append(item.lower())\n"
   ]
  },
  {
   "cell_type": "code",
   "execution_count": 25,
   "id": "c333e485",
   "metadata": {},
   "outputs": [
    {
     "data": {
      "text/plain": [
       "'(23)'"
      ]
     },
     "execution_count": 25,
     "metadata": {},
     "output_type": "execute_result"
    }
   ],
   "source": [
    "a ='(23ã¯â¿â½)'\n",
    "a.encode('ascii', 'ignore').decode()"
   ]
  },
  {
   "cell_type": "markdown",
   "id": "979f5ffa",
   "metadata": {},
   "source": [
    "# Spacy training"
   ]
  },
  {
   "cell_type": "code",
   "execution_count": 26,
   "id": "c9d8b9ab",
   "metadata": {},
   "outputs": [],
   "source": [
    "def get_spacy_train_data(input_data):\n",
    "    nlp = spacy.load(\"prod_ner\")\n",
    "    DATA = []\n",
    "    with open(input_data, \"r\", encoding='utf-8') as f:\n",
    "        text = pd.read_csv(f)\n",
    "#         print(text)\n",
    "        df1 = list(text[\"Title\"])\n",
    "        data = []\n",
    "        for item in df1:\n",
    "            #print(item)\n",
    "            data.append(item.lower())\n",
    "        #print(data)\n",
    "        for segment in data:\n",
    "    #         print(segment)\n",
    "            segment = segment.strip()\n",
    "            segment = segment.replace(\"\\n\", \" \")\n",
    "            segment = segment.encode('ascii', 'ignore').decode()\n",
    "            for i, word in enumerate(segment.split()):\n",
    "    #             print(word)\n",
    "                if word in STOP_WORDS:\n",
    "    #                 print(word)\n",
    "                    segment = segment.replace(word, \"\")\n",
    "    #                 print(segment)\n",
    "                if word in colors:\n",
    "                    segment = segment.replace(word, \"\")\n",
    "\n",
    "            segment = re.sub(' +', ' ', segment)\n",
    "    #         print(segment)\n",
    "            punc = '''!()-[]{};:'\"\\,<>./?@#$%^&*_~'''        \n",
    "            for ele in segment:\n",
    "                #print(ele)\n",
    "                if ele in punc:\n",
    "                    segment = segment.replace(ele, \"\")\n",
    "                    segment = segment.strip()\n",
    "\n",
    "    #         print(len(segment.split()))\n",
    "            len1 = len(segment.split())\n",
    "            for i, word in enumerate(segment.split()):\n",
    "                if i < len1-1:\n",
    "                    if (word + ' ' + segment.split()[i+1]) in colors:\n",
    "                        segment = segment.replace(word + \" \" + segment.split()[i+1] + \"\", \"\") \n",
    "                        segment = segment.strip(\"  \")\n",
    "\n",
    "            results = train_data_for_spacy(nlp, segment.strip())\n",
    "            if results != None:\n",
    "                    DATA.append(results)\n",
    "    return DATA"
   ]
  },
  {
   "cell_type": "code",
   "execution_count": 27,
   "id": "bdb1a22d",
   "metadata": {},
   "outputs": [],
   "source": [
    "TRAIN_DATA = get_spacy_train_data(\"Final_dataset.csv\")"
   ]
  },
  {
   "cell_type": "code",
   "execution_count": 28,
   "id": "5473e9af",
   "metadata": {},
   "outputs": [],
   "source": [
    "#Save the training data\n",
    "save_data(\"training_data.json\", TRAIN_DATA)"
   ]
  },
  {
   "cell_type": "code",
   "execution_count": 29,
   "id": "45836843",
   "metadata": {},
   "outputs": [
    {
     "data": {
      "text/plain": [
       "[['sterling angel charm',\n",
       "  {'entities': [(0, 8, 'BRAND'), (15, 20, 'PRODUCT')]}],\n",
       " ['hp pavilion 23xi 5840 cm 23 ips monitor',\n",
       "  {'entities': [(0, 2, 'BRAND'), (32, 39, 'PRODUCT')]}],\n",
       " ['east carolina pirates ladies personalized basketball long sleeve classic fit tshirt',\n",
       "  {'entities': [(0, 21, 'BRAND'), (42, 52, 'PRODUCT'), (77, 83, 'PRODUCT')]}],\n",
       " ['tekonsha 90195 p3 electric brake control 14 trailer axles',\n",
       "  {'entities': [(0, 8, 'BRAND'), (52, 57, 'PRODUCT')]}],\n",
       " ['rnxv wifly module  wire antenna', {'entities': [(5, 10, 'BRAND')]}]]"
      ]
     },
     "execution_count": 29,
     "metadata": {},
     "output_type": "execute_result"
    }
   ],
   "source": [
    "TRAIN_DATA[:5]"
   ]
  },
  {
   "cell_type": "code",
   "execution_count": 30,
   "id": "05dc4143",
   "metadata": {},
   "outputs": [],
   "source": [
    "#define a function to convert entities for BIO tagging\n",
    "def convert_to_bio_tags(data):\n",
    "    nlp = spacy.load('en_core_web_lg')\n",
    "    docs = []\n",
    "    train_bio = []\n",
    "    k = 0\n",
    "    for text, annot in data:\n",
    "        doc = nlp(text)\n",
    "        tags = offsets_to_biluo_tags(doc, annot['entities'])\n",
    "        bio_tags = [tag.replace('L-BRAND','I-BRAND').replace('U-BRAND','B-BRAND').replace('L-PRODUCT','I-PRODUCT').replace('U-PRODUCT','B-PRODUCT') for tag in tags]\n",
    "        tokens = [tok.text for tok in doc]\n",
    "        postags = [token.pos_ for token in doc]\n",
    "        token_tags = list(zip(tokens,postags, bio_tags))\n",
    "        train_bio_sample = [{'sentence_id':k,'words':el[0],'POS':el[1], 'labels':el[2]} for el in token_tags]\n",
    "        #print(train_bio_sample)\n",
    "        train_bio += train_bio_sample\n",
    "        k += 1 \n",
    "    return pd.DataFrame(train_bio,columns=['sentence_id','words','POS','labels'])"
   ]
  },
  {
   "cell_type": "code",
   "execution_count": 31,
   "id": "a1f0e198",
   "metadata": {},
   "outputs": [],
   "source": [
    "#convert to BIO tags\n",
    "all_bio_df = convert_to_bio_tags(TRAIN_DATA)"
   ]
  },
  {
   "cell_type": "code",
   "execution_count": 32,
   "id": "8d97f8f5",
   "metadata": {},
   "outputs": [
    {
     "data": {
      "text/plain": [
       "sentence_id    0\n",
       "words          0\n",
       "POS            0\n",
       "labels         0\n",
       "dtype: int64"
      ]
     },
     "execution_count": 32,
     "metadata": {},
     "output_type": "execute_result"
    }
   ],
   "source": [
    "all_bio_df.isnull().sum()"
   ]
  },
  {
   "cell_type": "code",
   "execution_count": 33,
   "id": "74c78646",
   "metadata": {},
   "outputs": [
    {
     "data": {
      "text/html": [
       "<div>\n",
       "<style scoped>\n",
       "    .dataframe tbody tr th:only-of-type {\n",
       "        vertical-align: middle;\n",
       "    }\n",
       "\n",
       "    .dataframe tbody tr th {\n",
       "        vertical-align: top;\n",
       "    }\n",
       "\n",
       "    .dataframe thead th {\n",
       "        text-align: right;\n",
       "    }\n",
       "</style>\n",
       "<table border=\"1\" class=\"dataframe\">\n",
       "  <thead>\n",
       "    <tr style=\"text-align: right;\">\n",
       "      <th></th>\n",
       "      <th>labels</th>\n",
       "      <th>counts</th>\n",
       "    </tr>\n",
       "  </thead>\n",
       "  <tbody>\n",
       "    <tr>\n",
       "      <th>0</th>\n",
       "      <td>B-BRAND</td>\n",
       "      <td>3096</td>\n",
       "    </tr>\n",
       "    <tr>\n",
       "      <th>1</th>\n",
       "      <td>B-PRODUCT</td>\n",
       "      <td>3094</td>\n",
       "    </tr>\n",
       "    <tr>\n",
       "      <th>2</th>\n",
       "      <td>I-BRAND</td>\n",
       "      <td>2071</td>\n",
       "    </tr>\n",
       "    <tr>\n",
       "      <th>3</th>\n",
       "      <td>I-PRODUCT</td>\n",
       "      <td>199</td>\n",
       "    </tr>\n",
       "    <tr>\n",
       "      <th>4</th>\n",
       "      <td>O</td>\n",
       "      <td>10387</td>\n",
       "    </tr>\n",
       "  </tbody>\n",
       "</table>\n",
       "</div>"
      ],
      "text/plain": [
       "      labels  counts\n",
       "0    B-BRAND    3096\n",
       "1  B-PRODUCT    3094\n",
       "2    I-BRAND    2071\n",
       "3  I-PRODUCT     199\n",
       "4          O   10387"
      ]
     },
     "execution_count": 33,
     "metadata": {},
     "output_type": "execute_result"
    }
   ],
   "source": [
    "all_bio_df.groupby('labels').size().reset_index(name='counts')"
   ]
  },
  {
   "cell_type": "code",
   "execution_count": 34,
   "id": "0625b9e3",
   "metadata": {},
   "outputs": [
    {
     "data": {
      "text/plain": [
       "['B-BRAND', 'B-PRODUCT', 'I-BRAND', 'I-PRODUCT']"
      ]
     },
     "execution_count": 34,
     "metadata": {},
     "output_type": "execute_result"
    }
   ],
   "source": [
    "#get the uniwue labels\n",
    "y = all_bio_df.labels.values\n",
    "\n",
    "classes = np.unique(y)\n",
    "classes = classes.tolist()\n",
    "\n",
    "new_classes = classes.copy()\n",
    "new_classes.pop()\n",
    "new_classes"
   ]
  },
  {
   "cell_type": "markdown",
   "id": "fad7beca",
   "metadata": {},
   "source": [
    "# CRF model"
   ]
  },
  {
   "cell_type": "code",
   "execution_count": 35,
   "id": "b72130e8",
   "metadata": {},
   "outputs": [],
   "source": [
    "#function to gett input format\n",
    "class SentenceGetter(object):\n",
    "    def __init__(self, data):\n",
    "        self.n_sent = 1\n",
    "        self.data = data\n",
    "        self.empty = False\n",
    "        agg_func = lambda s: [(w, p, t) for w, p, t in zip(s['words'].values.tolist(),\n",
    "                                                           s['POS'].values.tolist(),\n",
    "                                                           s['labels'].values.tolist())]\n",
    "        self.grouped = self.data.groupby('sentence_id').apply(agg_func)\n",
    "        self.sentences = [s for s in self.grouped]"
   ]
  },
  {
   "cell_type": "code",
   "execution_count": 36,
   "id": "c8d310b8",
   "metadata": {},
   "outputs": [],
   "source": [
    "#genarate test data\n",
    "test_data = pd.DataFrame(test_data)\n",
    "test_data.rename(columns={'Name':'Title'}, inplace=True)\n",
    "\n",
    "test_data.to_csv(\"test_data.csv\")\n",
    "\n",
    "TEST_DATA = get_spacy_train_data('test_data.csv')"
   ]
  },
  {
   "cell_type": "code",
   "execution_count": 37,
   "id": "cf91665a",
   "metadata": {},
   "outputs": [
    {
     "data": {
      "text/plain": [
       "['mens michigan state spartans big logo hoodie',\n",
       " {'entities': [(5, 28, 'BRAND'), (33, 37, 'PRODUCT'), (38, 44, 'PRODUCT')]}]"
      ]
     },
     "execution_count": 37,
     "metadata": {},
     "output_type": "execute_result"
    }
   ],
   "source": [
    "TEST_DATA[1]"
   ]
  },
  {
   "cell_type": "code",
   "execution_count": 38,
   "id": "d9992f91",
   "metadata": {},
   "outputs": [
    {
     "data": {
      "text/html": [
       "<div>\n",
       "<style scoped>\n",
       "    .dataframe tbody tr th:only-of-type {\n",
       "        vertical-align: middle;\n",
       "    }\n",
       "\n",
       "    .dataframe tbody tr th {\n",
       "        vertical-align: top;\n",
       "    }\n",
       "\n",
       "    .dataframe thead th {\n",
       "        text-align: right;\n",
       "    }\n",
       "</style>\n",
       "<table border=\"1\" class=\"dataframe\">\n",
       "  <thead>\n",
       "    <tr style=\"text-align: right;\">\n",
       "      <th></th>\n",
       "      <th>sentence_id</th>\n",
       "      <th>words</th>\n",
       "      <th>POS</th>\n",
       "      <th>labels</th>\n",
       "    </tr>\n",
       "  </thead>\n",
       "  <tbody>\n",
       "    <tr>\n",
       "      <th>0</th>\n",
       "      <td>0</td>\n",
       "      <td>victorian</td>\n",
       "      <td>ADJ</td>\n",
       "      <td>B-BRAND</td>\n",
       "    </tr>\n",
       "    <tr>\n",
       "      <th>1</th>\n",
       "      <td>0</td>\n",
       "      <td>masonic</td>\n",
       "      <td>PROPN</td>\n",
       "      <td>O</td>\n",
       "    </tr>\n",
       "    <tr>\n",
       "      <th>2</th>\n",
       "      <td>0</td>\n",
       "      <td>locket</td>\n",
       "      <td>NOUN</td>\n",
       "      <td>B-PRODUCT</td>\n",
       "    </tr>\n",
       "    <tr>\n",
       "      <th>3</th>\n",
       "      <td>0</td>\n",
       "      <td>1890</td>\n",
       "      <td>NUM</td>\n",
       "      <td>O</td>\n",
       "    </tr>\n",
       "    <tr>\n",
       "      <th>4</th>\n",
       "      <td>1</td>\n",
       "      <td>mens</td>\n",
       "      <td>PROPN</td>\n",
       "      <td>O</td>\n",
       "    </tr>\n",
       "  </tbody>\n",
       "</table>\n",
       "</div>"
      ],
      "text/plain": [
       "   sentence_id      words    POS     labels\n",
       "0            0  victorian    ADJ    B-BRAND\n",
       "1            0    masonic  PROPN          O\n",
       "2            0     locket   NOUN  B-PRODUCT\n",
       "3            0       1890    NUM          O\n",
       "4            1       mens  PROPN          O"
      ]
     },
     "execution_count": 38,
     "metadata": {},
     "output_type": "execute_result"
    }
   ],
   "source": [
    "test_df = convert_to_bio_tags(TEST_DATA)\n",
    "test_df.head()"
   ]
  },
  {
   "cell_type": "code",
   "execution_count": 39,
   "id": "cac1484b",
   "metadata": {},
   "outputs": [],
   "source": [
    "getter = SentenceGetter(test_df)\n",
    "test_sent = getter.sentences"
   ]
  },
  {
   "cell_type": "code",
   "execution_count": 40,
   "id": "835f0863",
   "metadata": {},
   "outputs": [],
   "source": [
    "getter = SentenceGetter(all_bio_df)\n",
    "train_sent = getter.sentences"
   ]
  },
  {
   "cell_type": "code",
   "execution_count": 41,
   "id": "28a9d0b6",
   "metadata": {},
   "outputs": [],
   "source": [
    "#Feature extraction and generation for CRF model\n",
    "def word2features(sent, i):\n",
    "    word = sent[i][0]\n",
    "    postag = sent[i][1]\n",
    "    features = {\n",
    "        'word': word,\n",
    "        'bias': 1.0, \n",
    "        'word.istitle()': word.istitle(),\n",
    "        'word.isdigit()': word.isdigit(),\n",
    "        'postag': postag,\n",
    "    }\n",
    "    if i > 0:\n",
    "        word1 = sent[i-1][0]\n",
    "        postag1 = sent[i-1][1]\n",
    "        features.update({\n",
    "#             'previous word': word1,\n",
    "            '-1:word.istitle()': word1.istitle(),\n",
    "            '-1:word.isdigit()': word.isdigit(),\n",
    "            '-1:postag': postag1,\n",
    "        })\n",
    "    else:\n",
    "        features['BeginingOfSentence'] = True\n",
    "        \n",
    "    if i < len(sent)-1:\n",
    "        word1 = sent[i+1][0]\n",
    "        postag1 = sent[i+1][1]\n",
    "        features.update({\n",
    "#             'next word': word1,\n",
    "            '+1:word.istitle()': word1.istitle(),\n",
    "            '+1:word.isdigit()': word.isdigit(),\n",
    "            '+1:postag': postag1,\n",
    "        })\n",
    "    else:\n",
    "        features['EndOfSentence'] = True\n",
    "    return features"
   ]
  },
  {
   "cell_type": "code",
   "execution_count": 42,
   "id": "a6c0708c",
   "metadata": {},
   "outputs": [],
   "source": [
    "def sent2features(sent):\n",
    "    return [word2features(sent, i) for i in range(len(sent))]\n",
    "\n",
    "def sent2labels(sent):\n",
    "    return [label for token, pos, label in sent]\n",
    "\n",
    "def sent2tokens(sent):\n",
    "    return [token for token, pos, label in sent]"
   ]
  },
  {
   "cell_type": "markdown",
   "id": "05040db3",
   "metadata": {},
   "source": [
    "### CRF model with word and pos as features"
   ]
  },
  {
   "cell_type": "code",
   "execution_count": 43,
   "id": "25c9864a",
   "metadata": {},
   "outputs": [],
   "source": [
    "X = [sent2features(s) for s in train_sent]\n",
    "y = [sent2labels(s) for s in train_sent]\n"
   ]
  },
  {
   "cell_type": "code",
   "execution_count": 44,
   "id": "f1837e81",
   "metadata": {},
   "outputs": [
    {
     "data": {
      "text/plain": [
       "[{'word': 'sterling',\n",
       "  'bias': 1.0,\n",
       "  'word.istitle()': False,\n",
       "  'word.isdigit()': False,\n",
       "  'postag': 'ADJ',\n",
       "  'BeginingOfSentence': True,\n",
       "  '+1:word.istitle()': False,\n",
       "  '+1:word.isdigit()': False,\n",
       "  '+1:postag': 'NOUN'},\n",
       " {'word': 'angel',\n",
       "  'bias': 1.0,\n",
       "  'word.istitle()': False,\n",
       "  'word.isdigit()': False,\n",
       "  'postag': 'NOUN',\n",
       "  '-1:word.istitle()': False,\n",
       "  '-1:word.isdigit()': False,\n",
       "  '-1:postag': 'ADJ',\n",
       "  '+1:word.istitle()': False,\n",
       "  '+1:word.isdigit()': False,\n",
       "  '+1:postag': 'NOUN'},\n",
       " {'word': 'charm',\n",
       "  'bias': 1.0,\n",
       "  'word.istitle()': False,\n",
       "  'word.isdigit()': False,\n",
       "  'postag': 'NOUN',\n",
       "  '-1:word.istitle()': False,\n",
       "  '-1:word.isdigit()': False,\n",
       "  '-1:postag': 'NOUN',\n",
       "  'EndOfSentence': True}]"
      ]
     },
     "execution_count": 44,
     "metadata": {},
     "output_type": "execute_result"
    }
   ],
   "source": [
    "X[0]"
   ]
  },
  {
   "cell_type": "code",
   "execution_count": 45,
   "id": "79db4ffe",
   "metadata": {},
   "outputs": [],
   "source": [
    "X_test = [sent2features(s) for s in test_sent]\n",
    "y_test = [sent2labels(s) for s in test_sent]"
   ]
  },
  {
   "cell_type": "code",
   "execution_count": 46,
   "id": "352779dd",
   "metadata": {},
   "outputs": [],
   "source": [
    "#define parameters for CRF model\n",
    "parameters = {'c1':[0.1, 0.2, 0.5, 1], 'c2':[0.1, 0.2, 0.5, 1], 'max_iterations': [100, 150, 200]}"
   ]
  },
  {
   "cell_type": "code",
   "execution_count": 47,
   "id": "034985b6",
   "metadata": {
    "scrolled": false
   },
   "outputs": [
    {
     "name": "stdout",
     "output_type": "stream",
     "text": [
      "c1 value : 0.1 , c2 value : 0.1 , iter values : 100\n",
      "0.9309221803222489\n",
      "0.9329246705993782\n",
      "c1 value : 0.1 , c2 value : 0.1 , iter values : 150\n",
      "0.9273225917038053\n",
      "0.9292793786477085\n",
      "c1 value : 0.1 , c2 value : 0.1 , iter values : 200\n",
      "0.9274940006856359\n",
      "0.9294399748983977\n",
      "c1 value : 0.1 , c2 value : 0.2 , iter values : 100\n",
      "0.914809736030168\n",
      "0.9166991718664941\n",
      "c1 value : 0.1 , c2 value : 0.2 , iter values : 150\n",
      "0.9149811450119987\n",
      "0.9168767238394105\n",
      "c1 value : 0.1 , c2 value : 0.2 , iter values : 200\n",
      "0.914295509084676\n",
      "0.916191105994524\n",
      "c1 value : 0.1 , c2 value : 0.5 , iter values : 100\n",
      "0.8863558450462804\n",
      "0.8876507863338726\n",
      "c1 value : 0.1 , c2 value : 0.5 , iter values : 150\n",
      "0.8861844360644497\n",
      "0.8875170457241417\n",
      "c1 value : 0.1 , c2 value : 0.5 , iter values : 200\n",
      "0.8858416181007884\n",
      "0.8871941321165812\n",
      "c1 value : 0.1 , c2 value : 1 , iter values : 100\n",
      "0.8676722660267397\n",
      "0.8680284316446857\n",
      "c1 value : 0.1 , c2 value : 1 , iter values : 150\n",
      "0.8668152211175866\n",
      "0.8671041575202102\n",
      "c1 value : 0.1 , c2 value : 1 , iter values : 200\n",
      "0.8668152211175866\n",
      "0.86708509284647\n",
      "c1 value : 0.2 , c2 value : 0.1 , iter values : 100\n",
      "0.9292080905039424\n",
      "0.9311549065264314\n",
      "c1 value : 0.2 , c2 value : 0.1 , iter values : 150\n",
      "0.9290366815221117\n",
      "0.931050219128976\n",
      "c1 value : 0.2 , c2 value : 0.1 , iter values : 200\n",
      "0.9286938635584505\n",
      "0.9306983647950807\n",
      "c1 value : 0.2 , c2 value : 0.2 , iter values : 100\n",
      "0.9105245114844018\n",
      "0.912295562787105\n",
      "c1 value : 0.2 , c2 value : 0.2 , iter values : 150\n",
      "0.9086390126842646\n",
      "0.9105067373269786\n",
      "c1 value : 0.2 , c2 value : 0.2 , iter values : 200\n",
      "0.9098388755570792\n",
      "0.9116326936204674\n",
      "c1 value : 0.2 , c2 value : 0.5 , iter values : 100\n",
      "0.8813849845731916\n",
      "0.8827079944289862\n",
      "c1 value : 0.2 , c2 value : 0.5 , iter values : 150\n",
      "0.8822420294823449\n",
      "0.8835422209443241\n",
      "c1 value : 0.2 , c2 value : 0.5 , iter values : 200\n",
      "0.8818992115186836\n",
      "0.8831908203187924\n",
      "c1 value : 0.2 , c2 value : 1 , iter values : 100\n",
      "0.8657867672266026\n",
      "0.8661295869547708\n",
      "c1 value : 0.2 , c2 value : 1 , iter values : 150\n",
      "0.8663009941720946\n",
      "0.8666004404977657\n",
      "c1 value : 0.2 , c2 value : 1 , iter values : 200\n",
      "0.8659581762084333\n",
      "0.8662543048216776\n",
      "c1 value : 0.5 , c2 value : 0.1 , iter values : 100\n",
      "0.910867329448063\n",
      "0.9127097491371753\n",
      "c1 value : 0.5 , c2 value : 0.1 , iter values : 150\n",
      "0.9115529653753857\n",
      "0.9133154756494669\n",
      "c1 value : 0.5 , c2 value : 0.1 , iter values : 200\n",
      "0.9117243743572163\n",
      "0.9134932555856523\n",
      "c1 value : 0.5 , c2 value : 0.2 , iter values : 100\n",
      "0.8983544737744258\n",
      "0.8998753700188252\n",
      "c1 value : 0.5 , c2 value : 0.2 , iter values : 150\n",
      "0.8986972917380871\n",
      "0.9001894471715365\n",
      "c1 value : 0.5 , c2 value : 0.2 , iter values : 200\n",
      "0.8988687007199178\n",
      "0.9003543653015259\n",
      "c1 value : 0.5 , c2 value : 0.5 , iter values : 100\n",
      "0.8716146726088447\n",
      "0.8726025407922494\n",
      "c1 value : 0.5 , c2 value : 0.5 , iter values : 150\n",
      "0.8721288995543367\n",
      "0.8731145165706108\n",
      "c1 value : 0.5 , c2 value : 0.5 , iter values : 200\n",
      "0.8717860815906754\n",
      "0.8727832470744813\n",
      "c1 value : 0.5 , c2 value : 1 , iter values : 100\n",
      "0.8570449091532396\n",
      "0.8571299525805899\n",
      "c1 value : 0.5 , c2 value : 1 , iter values : 150\n",
      "0.8567020911895783\n",
      "0.856771840535599\n",
      "c1 value : 0.5 , c2 value : 1 , iter values : 200\n",
      "0.8570449091532396\n",
      "0.8571464366700561\n",
      "c1 value : 1 , c2 value : 0.1 , iter values : 100\n",
      "0.8916695234830305\n",
      "0.8931444944003737\n",
      "c1 value : 1 , c2 value : 0.1 , iter values : 150\n",
      "0.8925265683921838\n",
      "0.8939736272142985\n",
      "c1 value : 1 , c2 value : 0.1 , iter values : 200\n",
      "0.8918409324648612\n",
      "0.8932801133837116\n",
      "c1 value : 1 , c2 value : 0.2 , iter values : 100\n",
      "0.878813849845732\n",
      "0.8802041885047375\n",
      "c1 value : 1 , c2 value : 0.2 , iter values : 150\n",
      "0.8798423037367158\n",
      "0.8811657650588209\n",
      "c1 value : 1 , c2 value : 0.2 , iter values : 200\n",
      "0.8786424408639013\n",
      "0.8799884512800695\n",
      "c1 value : 1 , c2 value : 0.5 , iter values : 100\n",
      "0.8645869043537882\n",
      "0.865122730039019\n",
      "c1 value : 1 , c2 value : 0.5 , iter values : 150\n",
      "0.8651011312992801\n",
      "0.8656716530439804\n",
      "c1 value : 1 , c2 value : 0.5 , iter values : 200\n",
      "0.8647583133356188\n",
      "0.865311555638429\n",
      "c1 value : 1 , c2 value : 1 , iter values : 100\n",
      "0.8495029139526912\n",
      "0.8493770659733793\n",
      "c1 value : 1 , c2 value : 1 , iter values : 150\n",
      "0.8496743229345217\n",
      "0.8495572541134754\n",
      "c1 value : 1 , c2 value : 1 , iter values : 200\n",
      "0.8493315049708605\n",
      "0.8491398231082513\n"
     ]
    }
   ],
   "source": [
    "#CRF modelling\n",
    "from sklearn_crfsuite.metrics import flat_accuracy_score, flat_f1_score\n",
    "for c1_val in parameters['c1']:\n",
    "    for c2_val in parameters['c2']:\n",
    "        for iters in parameters['max_iterations']:\n",
    "            print(f\"c1 value : {c1_val} , c2 value : {c2_val} , iter values : {iters}\")\n",
    "            crf = sklearn_crfsuite.CRF(\n",
    "                algorithm='lbfgs',\n",
    "                all_possible_transitions=True,\n",
    "                c1 = c1_val,\n",
    "                c2 = c2_val,\n",
    "                max_iterations = iters)\n",
    "            crf.fit(X, y)\n",
    "            y_pred = crf.predict(X_test)\n",
    "            print(flat_accuracy_score(y_test, y_pred))\n",
    "            print(flat_f1_score(y_test, y_pred, average = 'weighted'))"
   ]
  },
  {
   "cell_type": "code",
   "execution_count": 48,
   "id": "f7f71244",
   "metadata": {
    "scrolled": true
   },
   "outputs": [
    {
     "name": "stdout",
     "output_type": "stream",
     "text": [
      "              precision    recall  f1-score   support\n",
      "\n",
      "     B-BRAND       0.80      0.93      0.86       676\n",
      "   B-PRODUCT       0.98      0.92      0.95       991\n",
      "     I-BRAND       0.86      0.97      0.91       494\n",
      "   I-PRODUCT       0.50      0.93      0.65        42\n",
      "           O       0.97      0.93      0.95      3631\n",
      "\n",
      "    accuracy                           0.93      5834\n",
      "   macro avg       0.82      0.94      0.86      5834\n",
      "weighted avg       0.94      0.93      0.93      5834\n",
      "\n",
      "Accuracy:  0.9309221803222489\n",
      "F1-Score:  0.9329246705993782\n"
     ]
    },
    {
     "name": "stderr",
     "output_type": "stream",
     "text": [
      "C:\\Users\\nitee\\anaconda3\\lib\\site-packages\\sklearn\\utils\\validation.py:68: FutureWarning: Pass labels=None as keyword args. From version 0.25 passing these as positional arguments will result in an error\n",
      "  warnings.warn(\"Pass {} as keyword args. From version 0.25 \"\n"
     ]
    }
   ],
   "source": [
    "from sklearn_crfsuite.metrics import flat_accuracy_score, flat_f1_score\n",
    "from sklearn_crfsuite import CRF\n",
    "wcrf_pos = CRF(algorithm='lbfgs',\n",
    "                           all_possible_transitions=True,\n",
    "                           c1 = 0.1,\n",
    "                           c2 = 0.1,\n",
    "                           max_iterations = 100)\n",
    "wcrf_pos.fit(X, y)\n",
    "y_pred = wcrf_pos.predict(X_test)\n",
    "\n",
    "print(metrics.flat_classification_report(y_test, y_pred))\n",
    "print('Accuracy: ',flat_accuracy_score(y_test, y_pred))\n",
    "print('F1-Score: ',flat_f1_score(y_test, y_pred, average = 'weighted'))"
   ]
  },
  {
   "cell_type": "code",
   "execution_count": 49,
   "id": "51aebc71",
   "metadata": {},
   "outputs": [
    {
     "name": "stderr",
     "output_type": "stream",
     "text": [
      "C:\\Users\\nitee\\anaconda3\\lib\\site-packages\\sklearn\\base.py:209: FutureWarning: From version 0.24, get_params will raise an AttributeError if a parameter cannot be retrieved as an instance attribute. Previously it would return None.\n",
      "  warnings.warn('From version 0.24, get_params will raise an '\n"
     ]
    },
    {
     "name": "stdout",
     "output_type": "stream",
     "text": [
      "Cross-validation Accuracy:  0.9257970775257389\n"
     ]
    }
   ],
   "source": [
    "from sklearn.model_selection import cross_val_score\n",
    "scores = cross_val_score(wcrf_pos, X, y, cv=5)\n",
    "print(\"Cross-validation Accuracy: \", scores.mean())"
   ]
  },
  {
   "cell_type": "code",
   "execution_count": 52,
   "id": "c291af13",
   "metadata": {},
   "outputs": [
    {
     "data": {
      "text/plain": [
       "795"
      ]
     },
     "execution_count": 52,
     "metadata": {},
     "output_type": "execute_result"
    }
   ],
   "source": [
    "len(y_pred)"
   ]
  },
  {
   "cell_type": "markdown",
   "id": "e65cb5d8",
   "metadata": {},
   "source": [
    "### Wrong Tag error analysis"
   ]
  },
  {
   "cell_type": "code",
   "execution_count": 56,
   "id": "f086314d",
   "metadata": {},
   "outputs": [],
   "source": [
    "ypred = [y for tok in item for item in y_pred]"
   ]
  },
  {
   "cell_type": "code",
   "execution_count": 57,
   "id": "14bed39b",
   "metadata": {},
   "outputs": [
    {
     "data": {
      "text/plain": [
       "3180"
      ]
     },
     "execution_count": 57,
     "metadata": {},
     "output_type": "execute_result"
    }
   ],
   "source": [
    "len(ypred)"
   ]
  },
  {
   "cell_type": "code",
   "execution_count": 58,
   "id": "ab575b29",
   "metadata": {},
   "outputs": [
    {
     "name": "stdout",
     "output_type": "stream",
     "text": [
      "403\n"
     ]
    }
   ],
   "source": [
    "wrong_tag = 0\n",
    "for gold, pred in zip(y_test, y_pred):\n",
    "    for i in range(len(gold)):\n",
    "#         print(gold[2])\n",
    "#         print(pred[2])\n",
    "        if (gold[i]==pred[i])== False:\n",
    "            wrong_tag += 1\n",
    "\n",
    "print(wrong_tag)"
   ]
  },
  {
   "cell_type": "code",
   "execution_count": 59,
   "id": "512a8eee",
   "metadata": {},
   "outputs": [
    {
     "data": {
      "text/plain": [
       "0.12672955974842767"
      ]
     },
     "execution_count": 59,
     "metadata": {},
     "output_type": "execute_result"
    }
   ],
   "source": [
    "wrong_tag_perc = wrong_tag/len(ypred)\n",
    "wrong_tag_perc"
   ]
  },
  {
   "cell_type": "markdown",
   "id": "2fc2f567",
   "metadata": {},
   "source": [
    "### No Annotation error analysis"
   ]
  },
  {
   "cell_type": "code",
   "execution_count": 62,
   "id": "b023ab07",
   "metadata": {},
   "outputs": [
    {
     "name": "stdout",
     "output_type": "stream",
     "text": [
      "2357\n"
     ]
    }
   ],
   "source": [
    "total = 0\n",
    "for pred in y_pred:\n",
    "#     print(pred)\n",
    "    for i in range(len(pred)):\n",
    "#         print(pred[i])\n",
    "#         if (str(pred[i]) in tags):\n",
    "#             total =+ 1\n",
    "        if (pred[i]=='B-BRAND' or pred[i]=='I-BRAND' or pred[i]=='B-PRODUCT' or pred[i]=='I-PRODUCT'):\n",
    "            total +=1\n",
    "\n",
    "print(total)"
   ]
  },
  {
   "cell_type": "code",
   "execution_count": 63,
   "id": "41714423",
   "metadata": {},
   "outputs": [
    {
     "name": "stdout",
     "output_type": "stream",
     "text": [
      "111\n"
     ]
    }
   ],
   "source": [
    "no_annot = 0\n",
    "for gold, pred in zip(y_test, y_pred):\n",
    "    for i in range(len(gold)):\n",
    "#         print(gold[2])\n",
    "#         print(pred[2])\n",
    "        if gold[i]=='B-BRAND':\n",
    "            if pred[i]==\"O\":\n",
    "                no_annot += 1\n",
    "        if gold[i]=='B-PRODUCT':\n",
    "            if pred[i]==\"O\":\n",
    "                no_annot += 1\n",
    "        if gold[i]=='I-BRAND':\n",
    "            if pred[i]==\"O\":\n",
    "                no_annot += 1\n",
    "        if gold[i]=='I-PRODUCT':\n",
    "            if pred[i]==\"O\":\n",
    "                no_annot += 1\n",
    "                \n",
    "print(no_annot)"
   ]
  },
  {
   "cell_type": "code",
   "execution_count": 64,
   "id": "7c08e166",
   "metadata": {},
   "outputs": [
    {
     "data": {
      "text/plain": [
       "0.047093763258379294"
      ]
     },
     "execution_count": 64,
     "metadata": {},
     "output_type": "execute_result"
    }
   ],
   "source": [
    "no_annotation = no_annot/total\n",
    "no_annotation"
   ]
  },
  {
   "cell_type": "markdown",
   "id": "92b02fd5",
   "metadata": {},
   "source": [
    "### CRF with word as feature but no pos"
   ]
  },
  {
   "cell_type": "code",
   "execution_count": 49,
   "id": "5aca2a13",
   "metadata": {},
   "outputs": [],
   "source": [
    "#Feature extraction and generation for CRF model without pos tags\n",
    "def word2features(sent, i):\n",
    "    word = sent[i][0]\n",
    "#     postag = sent[i][1]\n",
    "    features = {\n",
    "        'word': word,\n",
    "        'bias': 1.0, \n",
    "        'word.istitle()': word.istitle(),\n",
    "        'word.isdigit()': word.isdigit(),\n",
    "#         'postag': postag,\n",
    "    }\n",
    "    if i > 0:\n",
    "        word1 = sent[i-1][0]\n",
    "#         postag1 = sent[i-1][1]\n",
    "        features.update({\n",
    "            '-1:word.istitle()': word1.istitle(),\n",
    "            '-1:word.isdigit()': word.isdigit(),\n",
    "#             '-1:postag': postag1,\n",
    "        })\n",
    "    else:\n",
    "        features['BeginingOfSentence'] = True\n",
    "        \n",
    "    if i < len(sent)-1:\n",
    "        word1 = sent[i+1][0]\n",
    "#         postag1 = sent[i+1][1]\n",
    "        features.update({\n",
    "            '+1:word.istitle()': word1.istitle(),\n",
    "            '+1:word.isdigit()': word.isdigit(),\n",
    "#             '+1:postag': postag1,\n",
    "        })\n",
    "    else:\n",
    "        features['EndOfSentence'] = True\n",
    "    return features\n",
    "\n",
    "#train test split\n",
    "X = [sent2features(s) for s in train_sent]\n",
    "y = [sent2labels(s) for s in train_sent]"
   ]
  },
  {
   "cell_type": "code",
   "execution_count": 50,
   "id": "b34dfc76",
   "metadata": {},
   "outputs": [],
   "source": [
    "X_test = [sent2features(s) for s in test_sent]\n",
    "y_test = [sent2labels(s) for s in test_sent]"
   ]
  },
  {
   "cell_type": "code",
   "execution_count": 65,
   "id": "433c85f8",
   "metadata": {},
   "outputs": [
    {
     "name": "stdout",
     "output_type": "stream",
     "text": [
      "c1 value : 0.1 , c2 value : 0.1 , iter values : 100\n",
      "0.9266369557764826\n",
      "0.9295329932955896\n",
      "c1 value : 0.1 , c2 value : 0.1 , iter values : 150\n",
      "0.926979773740144\n",
      "0.9299038948122776\n",
      "c1 value : 0.1 , c2 value : 0.1 , iter values : 200\n",
      "0.926979773740144\n",
      "0.9299038948122776\n",
      "c1 value : 0.1 , c2 value : 0.2 , iter values : 100\n",
      "0.9149811450119987\n",
      "0.9176860054007099\n",
      "c1 value : 0.1 , c2 value : 0.2 , iter values : 150\n",
      "0.9149811450119987\n",
      "0.9176860054007099\n",
      "c1 value : 0.1 , c2 value : 0.2 , iter values : 200\n",
      "0.9149811450119987\n",
      "0.9176860054007099\n",
      "c1 value : 0.1 , c2 value : 0.5 , iter values : 100\n",
      "0.8969832019197806\n",
      "0.8987820860915295\n",
      "c1 value : 0.1 , c2 value : 0.5 , iter values : 150\n",
      "0.8969832019197806\n",
      "0.8987820860915295\n",
      "c1 value : 0.1 , c2 value : 0.5 , iter values : 200\n",
      "0.8969832019197806\n",
      "0.8987820860915295\n",
      "c1 value : 0.1 , c2 value : 1 , iter values : 100\n",
      "0.8486458690435379\n",
      "0.8510918996775109\n",
      "c1 value : 0.1 , c2 value : 1 , iter values : 150\n",
      "0.8486458690435379\n",
      "0.8510978063559991\n",
      "c1 value : 0.1 , c2 value : 1 , iter values : 200\n",
      "0.8486458690435379\n",
      "0.8510978063559991\n",
      "c1 value : 0.2 , c2 value : 0.1 , iter values : 100\n",
      "0.9213232773397326\n",
      "0.9243183025215888\n",
      "c1 value : 0.2 , c2 value : 0.1 , iter values : 150\n",
      "0.9208090503942407\n",
      "0.9237876380500969\n",
      "c1 value : 0.2 , c2 value : 0.1 , iter values : 200\n",
      "0.9208090503942407\n",
      "0.9237876380500969\n",
      "c1 value : 0.2 , c2 value : 0.2 , iter values : 100\n",
      "0.9120671923208776\n",
      "0.914608545712575\n",
      "c1 value : 0.2 , c2 value : 0.2 , iter values : 150\n",
      "0.9117243743572163\n",
      "0.9143505271568507\n",
      "c1 value : 0.2 , c2 value : 0.2 , iter values : 200\n",
      "0.9117243743572163\n",
      "0.9143505271568507\n",
      "c1 value : 0.2 , c2 value : 0.5 , iter values : 100\n",
      "0.8959547480287967\n",
      "0.8977855248719121\n",
      "c1 value : 0.2 , c2 value : 0.5 , iter values : 150\n",
      "0.8954405210833047\n",
      "0.8973221921581351\n",
      "c1 value : 0.2 , c2 value : 0.5 , iter values : 200\n",
      "0.8954405210833047\n",
      "0.8973221921581351\n",
      "c1 value : 0.2 , c2 value : 1 , iter values : 100\n",
      "0.8424751456976346\n",
      "0.8452013727793699\n",
      "c1 value : 0.2 , c2 value : 1 , iter values : 150\n",
      "0.8424751456976346\n",
      "0.8452001640568113\n",
      "c1 value : 0.2 , c2 value : 1 , iter values : 200\n",
      "0.8424751456976346\n",
      "0.8452001640568113\n",
      "c1 value : 0.5 , c2 value : 0.1 , iter values : 100\n",
      "0.9067535138841275\n",
      "0.9096045132741006\n",
      "c1 value : 0.5 , c2 value : 0.1 , iter values : 150\n",
      "0.9064106959204662\n",
      "0.9092691010213839\n",
      "c1 value : 0.5 , c2 value : 0.1 , iter values : 200\n",
      "0.9065821049022968\n",
      "0.9094500724319476\n",
      "c1 value : 0.5 , c2 value : 0.2 , iter values : 100\n",
      "0.8985258827562564\n",
      "0.9008088923283729\n",
      "c1 value : 0.5 , c2 value : 0.2 , iter values : 150\n",
      "0.8985258827562564\n",
      "0.9008621294312131\n",
      "c1 value : 0.5 , c2 value : 0.2 , iter values : 200\n",
      "0.8985258827562564\n",
      "0.9008084767851554\n",
      "c1 value : 0.5 , c2 value : 0.5 , iter values : 100\n",
      "0.8824134384641755\n",
      "0.8838114301439673\n",
      "c1 value : 0.5 , c2 value : 0.5 , iter values : 150\n",
      "0.8825848474460062\n",
      "0.8839985737366767\n",
      "c1 value : 0.5 , c2 value : 0.5 , iter values : 200\n",
      "0.8825848474460062\n",
      "0.8839985737366767\n",
      "c1 value : 0.5 , c2 value : 1 , iter values : 100\n",
      "0.8275625642783682\n",
      "0.8308279225488076\n",
      "c1 value : 0.5 , c2 value : 1 , iter values : 150\n",
      "0.8272197463147068\n",
      "0.8304833308188803\n",
      "c1 value : 0.5 , c2 value : 1 , iter values : 200\n",
      "0.8272197463147068\n",
      "0.8304833308188803\n",
      "c1 value : 1 , c2 value : 0.1 , iter values : 100\n",
      "0.8940692492286596\n",
      "0.8965149950340837\n",
      "c1 value : 1 , c2 value : 0.1 , iter values : 150\n",
      "0.893897840246829\n",
      "0.896367273116814\n",
      "c1 value : 1 , c2 value : 0.1 , iter values : 200\n",
      "0.893897840246829\n",
      "0.896367273116814\n",
      "c1 value : 1 , c2 value : 0.2 , iter values : 100\n",
      "0.8848131642098046\n",
      "0.8869163665220334\n",
      "c1 value : 1 , c2 value : 0.2 , iter values : 150\n",
      "0.8849845731916353\n",
      "0.8871023894672416\n",
      "c1 value : 1 , c2 value : 0.2 , iter values : 200\n",
      "0.8849845731916353\n",
      "0.8871023894672416\n",
      "c1 value : 1 , c2 value : 0.5 , iter values : 100\n",
      "0.8723003085361672\n",
      "0.8736634952418232\n",
      "c1 value : 1 , c2 value : 0.5 , iter values : 150\n",
      "0.8724717175179979\n",
      "0.8738393472501041\n",
      "c1 value : 1 , c2 value : 0.5 , iter values : 200\n",
      "0.8724717175179979\n",
      "0.8738393472501041\n",
      "c1 value : 1 , c2 value : 1 , iter values : 100\n",
      "0.8138498457319163\n",
      "0.8175283734884301\n",
      "c1 value : 1 , c2 value : 1 , iter values : 150\n",
      "0.8143640726774083\n",
      "0.8180361400486457\n",
      "c1 value : 1 , c2 value : 1 , iter values : 200\n",
      "0.8143640726774083\n",
      "0.8180361400486457\n"
     ]
    }
   ],
   "source": [
    "#CRF modelling\n",
    "for c1_val in parameters['c1']:\n",
    "    for c2_val in parameters['c2']:\n",
    "        for iters in parameters['max_iterations']:\n",
    "            print(f\"c1 value : {c1_val} , c2 value : {c2_val} , iter values : {iters}\")\n",
    "            crf = sklearn_crfsuite.CRF(\n",
    "                algorithm='lbfgs',\n",
    "                all_possible_transitions=True,\n",
    "                c1 = c1_val,\n",
    "                c2 = c2_val,\n",
    "                max_iterations = iters)\n",
    "            crf.fit(X, y)\n",
    "            y_pred = crf.predict(X_test)\n",
    "            print(flat_accuracy_score(y_test, y_pred))\n",
    "            print(flat_f1_score(y_test, y_pred, average = 'weighted'))"
   ]
  },
  {
   "cell_type": "code",
   "execution_count": 51,
   "id": "934b4f25",
   "metadata": {},
   "outputs": [
    {
     "name": "stdout",
     "output_type": "stream",
     "text": [
      "              precision    recall  f1-score   support\n",
      "\n",
      "     B-BRAND       0.76      0.94      0.84       676\n",
      "   B-PRODUCT       0.99      0.92      0.95       991\n",
      "     I-BRAND       0.91      0.96      0.93       494\n",
      "   I-PRODUCT       0.44      0.90      0.59        42\n",
      "           O       0.97      0.92      0.94      3631\n",
      "\n",
      "    accuracy                           0.93      5834\n",
      "   macro avg       0.81      0.93      0.85      5834\n",
      "weighted avg       0.94      0.93      0.93      5834\n",
      "\n",
      "Accuracy:  0.926979773740144\n",
      "F1-Score:  0.9299038948122776\n"
     ]
    }
   ],
   "source": [
    "#c1 value : 0.2 , c2 value : 0.1 , iter values : 100\n",
    "from sklearn_crfsuite.metrics import flat_accuracy_score, flat_f1_score\n",
    "wcrf_wo_pos = sklearn_crfsuite.CRF(algorithm='lbfgs',\n",
    "                           all_possible_transitions=True,\n",
    "                           c1 = 0.1,\n",
    "                           c2 = 0.1,\n",
    "                           max_iterations = 150)\n",
    "wcrf_wo_pos.fit(X, y)\n",
    "y_pred = wcrf_wo_pos.predict(X_test)\n",
    "\n",
    "print(metrics.flat_classification_report(y_test, y_pred))\n",
    "print('Accuracy: ',flat_accuracy_score(y_test, y_pred))\n",
    "print('F1-Score: ',flat_f1_score(y_test, y_pred, average = 'weighted'))"
   ]
  },
  {
   "cell_type": "code",
   "execution_count": 73,
   "id": "5730336e",
   "metadata": {},
   "outputs": [
    {
     "name": "stdout",
     "output_type": "stream",
     "text": [
      "Cross-validation Accuracy:  0.9287954863018412\n"
     ]
    }
   ],
   "source": [
    "from sklearn.model_selection import cross_val_score\n",
    "scores = cross_val_score(wcrf_wo_pos, X, y, cv=5)\n",
    "print(\"Cross-validation Accuracy: \", scores.mean())"
   ]
  },
  {
   "cell_type": "markdown",
   "id": "e9457421",
   "metadata": {},
   "source": [
    "### CRF without word as feature but including pos as feature"
   ]
  },
  {
   "cell_type": "code",
   "execution_count": 52,
   "id": "12cc554a",
   "metadata": {},
   "outputs": [],
   "source": [
    "#Feature extraction and generation for CRF model\n",
    "def word2features(sent, i):\n",
    "    word = sent[i][0]\n",
    "    postag = sent[i][1]\n",
    "    features = {\n",
    "#         'word': word,\n",
    "        'bias': 1.0, \n",
    "        'word.istitle()': word.istitle(),\n",
    "        'word.isdigit()': word.isdigit(),\n",
    "        'postag': postag,\n",
    "    }\n",
    "    if i > 0:\n",
    "        word1 = sent[i-1][0]\n",
    "        postag1 = sent[i-1][1]\n",
    "        features.update({\n",
    "            '-1:word.istitle()': word1.istitle(),\n",
    "            '-1:word.isdigit()': word.isdigit(),\n",
    "            '-1:postag': postag1,\n",
    "        })\n",
    "    else:\n",
    "        features['BeginingOfSentence'] = True\n",
    "        \n",
    "    if i < len(sent)-1:\n",
    "        word1 = sent[i+1][0]\n",
    "        postag1 = sent[i+1][1]\n",
    "        features.update({\n",
    "            '+1:word.istitle()': word1.istitle(),\n",
    "            '+1:word.isdigit()': word.isdigit(),\n",
    "            '+1:postag': postag1,\n",
    "        })\n",
    "    else:\n",
    "        features['EndOfSentence'] = True\n",
    "    return features"
   ]
  },
  {
   "cell_type": "code",
   "execution_count": 53,
   "id": "bd8c2210",
   "metadata": {},
   "outputs": [],
   "source": [
    "X = [sent2features(s) for s in train_sent]\n",
    "y = [sent2labels(s) for s in train_sent]"
   ]
  },
  {
   "cell_type": "code",
   "execution_count": 54,
   "id": "c0813158",
   "metadata": {},
   "outputs": [],
   "source": [
    "X_test = [sent2features(s) for s in test_sent]\n",
    "y_test = [sent2labels(s) for s in test_sent]"
   ]
  },
  {
   "cell_type": "code",
   "execution_count": 59,
   "id": "764fd764",
   "metadata": {},
   "outputs": [
    {
     "name": "stdout",
     "output_type": "stream",
     "text": [
      "c1 value : 0.1 , c2 value : 0.1 , iter values : 100\n",
      "              precision    recall  f1-score   support\n",
      "\n",
      "     B-BRAND       0.63      0.45      0.52      3096\n",
      "   B-PRODUCT       0.75      0.59      0.66      3094\n",
      "     I-BRAND       0.41      0.45      0.43      2071\n",
      "   I-PRODUCT       0.00      0.00      0.00       199\n",
      "           O       0.73      0.84      0.78     10387\n",
      "\n",
      "    accuracy                           0.68     18847\n",
      "   macro avg       0.50      0.46      0.48     18847\n",
      "weighted avg       0.67      0.68      0.67     18847\n",
      "\n",
      "c1 value : 0.1 , c2 value : 0.1 , iter values : 150\n",
      "              precision    recall  f1-score   support\n",
      "\n",
      "     B-BRAND       0.63      0.45      0.52      3096\n",
      "   B-PRODUCT       0.75      0.59      0.66      3094\n",
      "     I-BRAND       0.41      0.45      0.43      2071\n",
      "   I-PRODUCT       0.00      0.00      0.00       199\n",
      "           O       0.73      0.84      0.78     10387\n",
      "\n",
      "    accuracy                           0.68     18847\n",
      "   macro avg       0.50      0.46      0.48     18847\n",
      "weighted avg       0.67      0.68      0.67     18847\n",
      "\n",
      "c1 value : 0.1 , c2 value : 0.1 , iter values : 200\n",
      "              precision    recall  f1-score   support\n",
      "\n",
      "     B-BRAND       0.63      0.45      0.52      3096\n",
      "   B-PRODUCT       0.75      0.59      0.66      3094\n",
      "     I-BRAND       0.41      0.45      0.43      2071\n",
      "   I-PRODUCT       0.00      0.00      0.00       199\n",
      "           O       0.73      0.84      0.78     10387\n",
      "\n",
      "    accuracy                           0.68     18847\n",
      "   macro avg       0.50      0.46      0.48     18847\n",
      "weighted avg       0.67      0.68      0.67     18847\n",
      "\n",
      "c1 value : 0.1 , c2 value : 0.2 , iter values : 100\n",
      "              precision    recall  f1-score   support\n",
      "\n",
      "     B-BRAND       0.63      0.45      0.52      3096\n",
      "   B-PRODUCT       0.75      0.59      0.66      3094\n",
      "     I-BRAND       0.39      0.39      0.39      2071\n",
      "   I-PRODUCT       0.00      0.00      0.00       199\n",
      "           O       0.72      0.84      0.78     10387\n",
      "\n",
      "    accuracy                           0.68     18847\n",
      "   macro avg       0.50      0.45      0.47     18847\n",
      "weighted avg       0.67      0.68      0.67     18847\n",
      "\n",
      "c1 value : 0.1 , c2 value : 0.2 , iter values : 150\n",
      "              precision    recall  f1-score   support\n",
      "\n",
      "     B-BRAND       0.63      0.45      0.52      3096\n",
      "   B-PRODUCT       0.75      0.59      0.66      3094\n",
      "     I-BRAND       0.41      0.45      0.43      2071\n",
      "   I-PRODUCT       0.00      0.00      0.00       199\n",
      "           O       0.73      0.84      0.78     10387\n",
      "\n",
      "    accuracy                           0.68     18847\n",
      "   macro avg       0.50      0.46      0.48     18847\n",
      "weighted avg       0.67      0.68      0.67     18847\n",
      "\n",
      "c1 value : 0.1 , c2 value : 0.2 , iter values : 200\n",
      "              precision    recall  f1-score   support\n",
      "\n",
      "     B-BRAND       0.63      0.45      0.52      3096\n",
      "   B-PRODUCT       0.75      0.59      0.66      3094\n",
      "     I-BRAND       0.41      0.45      0.43      2071\n",
      "   I-PRODUCT       0.00      0.00      0.00       199\n",
      "           O       0.73      0.84      0.78     10387\n",
      "\n",
      "    accuracy                           0.68     18847\n",
      "   macro avg       0.50      0.46      0.48     18847\n",
      "weighted avg       0.67      0.68      0.67     18847\n",
      "\n",
      "c1 value : 0.1 , c2 value : 0.5 , iter values : 100\n",
      "              precision    recall  f1-score   support\n",
      "\n",
      "     B-BRAND       0.63      0.45      0.52      3096\n",
      "   B-PRODUCT       0.75      0.59      0.66      3094\n",
      "     I-BRAND       0.39      0.39      0.39      2071\n",
      "   I-PRODUCT       0.00      0.00      0.00       199\n",
      "           O       0.72      0.84      0.78     10387\n",
      "\n",
      "    accuracy                           0.68     18847\n",
      "   macro avg       0.50      0.45      0.47     18847\n",
      "weighted avg       0.67      0.68      0.67     18847\n",
      "\n",
      "c1 value : 0.1 , c2 value : 0.5 , iter values : 150\n",
      "              precision    recall  f1-score   support\n",
      "\n",
      "     B-BRAND       0.63      0.45      0.52      3096\n",
      "   B-PRODUCT       0.75      0.59      0.66      3094\n",
      "     I-BRAND       0.41      0.45      0.43      2071\n",
      "   I-PRODUCT       0.00      0.00      0.00       199\n",
      "           O       0.73      0.84      0.78     10387\n",
      "\n",
      "    accuracy                           0.68     18847\n",
      "   macro avg       0.50      0.46      0.48     18847\n",
      "weighted avg       0.67      0.68      0.67     18847\n",
      "\n",
      "c1 value : 0.1 , c2 value : 0.5 , iter values : 200\n",
      "              precision    recall  f1-score   support\n",
      "\n",
      "     B-BRAND       0.63      0.44      0.52      3096\n",
      "   B-PRODUCT       0.75      0.59      0.66      3094\n",
      "     I-BRAND       0.39      0.39      0.39      2071\n",
      "   I-PRODUCT       0.00      0.00      0.00       199\n",
      "           O       0.72      0.84      0.78     10387\n",
      "\n",
      "    accuracy                           0.68     18847\n",
      "   macro avg       0.50      0.45      0.47     18847\n",
      "weighted avg       0.67      0.68      0.67     18847\n",
      "\n",
      "c1 value : 0.1 , c2 value : 1 , iter values : 100\n",
      "              precision    recall  f1-score   support\n",
      "\n",
      "     B-BRAND       0.63      0.44      0.52      3096\n",
      "   B-PRODUCT       0.75      0.59      0.66      3094\n",
      "     I-BRAND       0.38      0.37      0.38      2071\n",
      "   I-PRODUCT       0.00      0.00      0.00       199\n",
      "           O       0.72      0.84      0.78     10387\n",
      "\n",
      "    accuracy                           0.68     18847\n",
      "   macro avg       0.50      0.45      0.47     18847\n",
      "weighted avg       0.66      0.68      0.66     18847\n",
      "\n",
      "c1 value : 0.1 , c2 value : 1 , iter values : 150\n",
      "              precision    recall  f1-score   support\n",
      "\n",
      "     B-BRAND       0.63      0.44      0.52      3096\n",
      "   B-PRODUCT       0.75      0.59      0.66      3094\n",
      "     I-BRAND       0.39      0.39      0.39      2071\n",
      "   I-PRODUCT       0.00      0.00      0.00       199\n",
      "           O       0.72      0.84      0.78     10387\n",
      "\n",
      "    accuracy                           0.68     18847\n",
      "   macro avg       0.50      0.45      0.47     18847\n",
      "weighted avg       0.67      0.68      0.66     18847\n",
      "\n",
      "c1 value : 0.1 , c2 value : 1 , iter values : 200\n",
      "              precision    recall  f1-score   support\n",
      "\n",
      "     B-BRAND       0.63      0.44      0.52      3096\n",
      "   B-PRODUCT       0.75      0.59      0.66      3094\n",
      "     I-BRAND       0.39      0.39      0.39      2071\n",
      "   I-PRODUCT       0.00      0.00      0.00       199\n",
      "           O       0.72      0.84      0.78     10387\n",
      "\n",
      "    accuracy                           0.68     18847\n",
      "   macro avg       0.50      0.45      0.47     18847\n",
      "weighted avg       0.67      0.68      0.66     18847\n",
      "\n",
      "c1 value : 0.2 , c2 value : 0.1 , iter values : 100\n",
      "              precision    recall  f1-score   support\n",
      "\n",
      "     B-BRAND       0.63      0.45      0.52      3096\n",
      "   B-PRODUCT       0.75      0.59      0.66      3094\n",
      "     I-BRAND       0.41      0.45      0.43      2071\n",
      "   I-PRODUCT       0.00      0.00      0.00       199\n",
      "           O       0.73      0.84      0.78     10387\n",
      "\n",
      "    accuracy                           0.68     18847\n",
      "   macro avg       0.50      0.46      0.48     18847\n",
      "weighted avg       0.67      0.68      0.67     18847\n",
      "\n",
      "c1 value : 0.2 , c2 value : 0.1 , iter values : 150\n",
      "              precision    recall  f1-score   support\n",
      "\n",
      "     B-BRAND       0.63      0.45      0.52      3096\n",
      "   B-PRODUCT       0.75      0.59      0.66      3094\n",
      "     I-BRAND       0.41      0.45      0.43      2071\n",
      "   I-PRODUCT       0.00      0.00      0.00       199\n",
      "           O       0.73      0.84      0.78     10387\n",
      "\n",
      "    accuracy                           0.68     18847\n",
      "   macro avg       0.50      0.46      0.48     18847\n",
      "weighted avg       0.67      0.68      0.67     18847\n",
      "\n",
      "c1 value : 0.2 , c2 value : 0.1 , iter values : 200\n",
      "              precision    recall  f1-score   support\n",
      "\n",
      "     B-BRAND       0.63      0.45      0.52      3096\n",
      "   B-PRODUCT       0.75      0.59      0.66      3094\n",
      "     I-BRAND       0.41      0.45      0.43      2071\n",
      "   I-PRODUCT       0.00      0.00      0.00       199\n",
      "           O       0.73      0.84      0.78     10387\n",
      "\n",
      "    accuracy                           0.68     18847\n",
      "   macro avg       0.50      0.46      0.48     18847\n",
      "weighted avg       0.67      0.68      0.67     18847\n",
      "\n",
      "c1 value : 0.2 , c2 value : 0.2 , iter values : 100\n",
      "              precision    recall  f1-score   support\n",
      "\n",
      "     B-BRAND       0.63      0.45      0.52      3096\n",
      "   B-PRODUCT       0.75      0.59      0.66      3094\n",
      "     I-BRAND       0.39      0.39      0.39      2071\n",
      "   I-PRODUCT       0.00      0.00      0.00       199\n",
      "           O       0.72      0.84      0.78     10387\n",
      "\n",
      "    accuracy                           0.68     18847\n",
      "   macro avg       0.50      0.45      0.47     18847\n",
      "weighted avg       0.67      0.68      0.67     18847\n",
      "\n",
      "c1 value : 0.2 , c2 value : 0.2 , iter values : 150\n"
     ]
    },
    {
     "name": "stdout",
     "output_type": "stream",
     "text": [
      "              precision    recall  f1-score   support\n",
      "\n",
      "     B-BRAND       0.63      0.45      0.52      3096\n",
      "   B-PRODUCT       0.75      0.59      0.66      3094\n",
      "     I-BRAND       0.41      0.45      0.43      2071\n",
      "   I-PRODUCT       0.00      0.00      0.00       199\n",
      "           O       0.73      0.84      0.78     10387\n",
      "\n",
      "    accuracy                           0.68     18847\n",
      "   macro avg       0.50      0.46      0.48     18847\n",
      "weighted avg       0.67      0.68      0.67     18847\n",
      "\n",
      "c1 value : 0.2 , c2 value : 0.2 , iter values : 200\n",
      "              precision    recall  f1-score   support\n",
      "\n",
      "     B-BRAND       0.63      0.45      0.52      3096\n",
      "   B-PRODUCT       0.75      0.59      0.66      3094\n",
      "     I-BRAND       0.41      0.45      0.43      2071\n",
      "   I-PRODUCT       0.00      0.00      0.00       199\n",
      "           O       0.73      0.84      0.78     10387\n",
      "\n",
      "    accuracy                           0.68     18847\n",
      "   macro avg       0.50      0.46      0.48     18847\n",
      "weighted avg       0.67      0.68      0.67     18847\n",
      "\n",
      "c1 value : 0.2 , c2 value : 0.5 , iter values : 100\n",
      "              precision    recall  f1-score   support\n",
      "\n",
      "     B-BRAND       0.63      0.44      0.52      3096\n",
      "   B-PRODUCT       0.75      0.59      0.66      3094\n",
      "     I-BRAND       0.39      0.39      0.39      2071\n",
      "   I-PRODUCT       0.00      0.00      0.00       199\n",
      "           O       0.72      0.84      0.78     10387\n",
      "\n",
      "    accuracy                           0.68     18847\n",
      "   macro avg       0.50      0.45      0.47     18847\n",
      "weighted avg       0.67      0.68      0.66     18847\n",
      "\n",
      "c1 value : 0.2 , c2 value : 0.5 , iter values : 150\n",
      "              precision    recall  f1-score   support\n",
      "\n",
      "     B-BRAND       0.63      0.45      0.52      3096\n",
      "   B-PRODUCT       0.75      0.59      0.66      3094\n",
      "     I-BRAND       0.39      0.39      0.39      2071\n",
      "   I-PRODUCT       0.00      0.00      0.00       199\n",
      "           O       0.72      0.84      0.78     10387\n",
      "\n",
      "    accuracy                           0.68     18847\n",
      "   macro avg       0.50      0.45      0.47     18847\n",
      "weighted avg       0.67      0.68      0.67     18847\n",
      "\n",
      "c1 value : 0.2 , c2 value : 0.5 , iter values : 200\n",
      "              precision    recall  f1-score   support\n",
      "\n",
      "     B-BRAND       0.63      0.45      0.52      3096\n",
      "   B-PRODUCT       0.75      0.59      0.66      3094\n",
      "     I-BRAND       0.39      0.39      0.39      2071\n",
      "   I-PRODUCT       0.00      0.00      0.00       199\n",
      "           O       0.72      0.84      0.78     10387\n",
      "\n",
      "    accuracy                           0.68     18847\n",
      "   macro avg       0.50      0.45      0.47     18847\n",
      "weighted avg       0.67      0.68      0.67     18847\n",
      "\n",
      "c1 value : 0.2 , c2 value : 1 , iter values : 100\n",
      "              precision    recall  f1-score   support\n",
      "\n",
      "     B-BRAND       0.63      0.44      0.52      3096\n",
      "   B-PRODUCT       0.75      0.59      0.66      3094\n",
      "     I-BRAND       0.39      0.39      0.39      2071\n",
      "   I-PRODUCT       0.00      0.00      0.00       199\n",
      "           O       0.72      0.84      0.78     10387\n",
      "\n",
      "    accuracy                           0.68     18847\n",
      "   macro avg       0.50      0.45      0.47     18847\n",
      "weighted avg       0.67      0.68      0.66     18847\n",
      "\n",
      "c1 value : 0.2 , c2 value : 1 , iter values : 150\n",
      "              precision    recall  f1-score   support\n",
      "\n",
      "     B-BRAND       0.63      0.44      0.52      3096\n",
      "   B-PRODUCT       0.75      0.59      0.66      3094\n",
      "     I-BRAND       0.39      0.39      0.39      2071\n",
      "   I-PRODUCT       0.00      0.00      0.00       199\n",
      "           O       0.72      0.84      0.78     10387\n",
      "\n",
      "    accuracy                           0.68     18847\n",
      "   macro avg       0.50      0.45      0.47     18847\n",
      "weighted avg       0.67      0.68      0.66     18847\n",
      "\n",
      "c1 value : 0.2 , c2 value : 1 , iter values : 200\n",
      "              precision    recall  f1-score   support\n",
      "\n",
      "     B-BRAND       0.63      0.44      0.52      3096\n",
      "   B-PRODUCT       0.75      0.59      0.66      3094\n",
      "     I-BRAND       0.39      0.39      0.39      2071\n",
      "   I-PRODUCT       0.00      0.00      0.00       199\n",
      "           O       0.72      0.84      0.78     10387\n",
      "\n",
      "    accuracy                           0.68     18847\n",
      "   macro avg       0.50      0.45      0.47     18847\n",
      "weighted avg       0.67      0.68      0.66     18847\n",
      "\n",
      "c1 value : 0.5 , c2 value : 0.1 , iter values : 100\n",
      "              precision    recall  f1-score   support\n",
      "\n",
      "     B-BRAND       0.63      0.45      0.52      3096\n",
      "   B-PRODUCT       0.75      0.59      0.66      3094\n",
      "     I-BRAND       0.41      0.45      0.43      2071\n",
      "   I-PRODUCT       0.00      0.00      0.00       199\n",
      "           O       0.73      0.84      0.78     10387\n",
      "\n",
      "    accuracy                           0.68     18847\n",
      "   macro avg       0.50      0.46      0.48     18847\n",
      "weighted avg       0.67      0.68      0.67     18847\n",
      "\n",
      "c1 value : 0.5 , c2 value : 0.1 , iter values : 150\n",
      "              precision    recall  f1-score   support\n",
      "\n",
      "     B-BRAND       0.63      0.44      0.52      3096\n",
      "   B-PRODUCT       0.75      0.59      0.66      3094\n",
      "     I-BRAND       0.39      0.39      0.39      2071\n",
      "   I-PRODUCT       0.00      0.00      0.00       199\n",
      "           O       0.72      0.84      0.78     10387\n",
      "\n",
      "    accuracy                           0.68     18847\n",
      "   macro avg       0.50      0.45      0.47     18847\n",
      "weighted avg       0.67      0.68      0.67     18847\n",
      "\n",
      "c1 value : 0.5 , c2 value : 0.1 , iter values : 200\n",
      "              precision    recall  f1-score   support\n",
      "\n",
      "     B-BRAND       0.63      0.45      0.52      3096\n",
      "   B-PRODUCT       0.75      0.59      0.66      3094\n",
      "     I-BRAND       0.41      0.45      0.43      2071\n",
      "   I-PRODUCT       0.00      0.00      0.00       199\n",
      "           O       0.73      0.84      0.78     10387\n",
      "\n",
      "    accuracy                           0.68     18847\n",
      "   macro avg       0.50      0.46      0.48     18847\n",
      "weighted avg       0.67      0.68      0.67     18847\n",
      "\n",
      "c1 value : 0.5 , c2 value : 0.2 , iter values : 100\n",
      "              precision    recall  f1-score   support\n",
      "\n",
      "     B-BRAND       0.63      0.44      0.52      3096\n",
      "   B-PRODUCT       0.75      0.59      0.66      3094\n",
      "     I-BRAND       0.39      0.39      0.39      2071\n",
      "   I-PRODUCT       0.00      0.00      0.00       199\n",
      "           O       0.72      0.84      0.78     10387\n",
      "\n",
      "    accuracy                           0.68     18847\n",
      "   macro avg       0.50      0.45      0.47     18847\n",
      "weighted avg       0.67      0.68      0.67     18847\n",
      "\n",
      "c1 value : 0.5 , c2 value : 0.2 , iter values : 150\n",
      "              precision    recall  f1-score   support\n",
      "\n",
      "     B-BRAND       0.63      0.45      0.52      3096\n",
      "   B-PRODUCT       0.75      0.59      0.66      3094\n",
      "     I-BRAND       0.39      0.39      0.39      2071\n",
      "   I-PRODUCT       0.00      0.00      0.00       199\n",
      "           O       0.72      0.84      0.78     10387\n",
      "\n",
      "    accuracy                           0.68     18847\n",
      "   macro avg       0.50      0.45      0.47     18847\n",
      "weighted avg       0.67      0.68      0.67     18847\n",
      "\n",
      "c1 value : 0.5 , c2 value : 0.2 , iter values : 200\n",
      "              precision    recall  f1-score   support\n",
      "\n",
      "     B-BRAND       0.63      0.45      0.52      3096\n",
      "   B-PRODUCT       0.75      0.59      0.66      3094\n",
      "     I-BRAND       0.41      0.45      0.43      2071\n",
      "   I-PRODUCT       0.00      0.00      0.00       199\n",
      "           O       0.73      0.84      0.78     10387\n",
      "\n",
      "    accuracy                           0.68     18847\n",
      "   macro avg       0.50      0.46      0.48     18847\n",
      "weighted avg       0.67      0.68      0.67     18847\n",
      "\n",
      "c1 value : 0.5 , c2 value : 0.5 , iter values : 100\n",
      "              precision    recall  f1-score   support\n",
      "\n",
      "     B-BRAND       0.63      0.44      0.52      3096\n",
      "   B-PRODUCT       0.75      0.59      0.66      3094\n",
      "     I-BRAND       0.38      0.37      0.38      2071\n",
      "   I-PRODUCT       0.00      0.00      0.00       199\n",
      "           O       0.72      0.84      0.78     10387\n",
      "\n",
      "    accuracy                           0.68     18847\n",
      "   macro avg       0.50      0.45      0.47     18847\n",
      "weighted avg       0.66      0.68      0.66     18847\n",
      "\n",
      "c1 value : 0.5 , c2 value : 0.5 , iter values : 150\n",
      "              precision    recall  f1-score   support\n",
      "\n",
      "     B-BRAND       0.63      0.44      0.52      3096\n",
      "   B-PRODUCT       0.75      0.59      0.66      3094\n",
      "     I-BRAND       0.39      0.39      0.39      2071\n",
      "   I-PRODUCT       0.00      0.00      0.00       199\n",
      "           O       0.72      0.84      0.78     10387\n",
      "\n",
      "    accuracy                           0.68     18847\n",
      "   macro avg       0.50      0.45      0.47     18847\n",
      "weighted avg       0.67      0.68      0.66     18847\n",
      "\n",
      "c1 value : 0.5 , c2 value : 0.5 , iter values : 200\n"
     ]
    },
    {
     "name": "stdout",
     "output_type": "stream",
     "text": [
      "              precision    recall  f1-score   support\n",
      "\n",
      "     B-BRAND       0.63      0.44      0.52      3096\n",
      "   B-PRODUCT       0.75      0.59      0.66      3094\n",
      "     I-BRAND       0.39      0.39      0.39      2071\n",
      "   I-PRODUCT       0.00      0.00      0.00       199\n",
      "           O       0.72      0.84      0.78     10387\n",
      "\n",
      "    accuracy                           0.68     18847\n",
      "   macro avg       0.50      0.45      0.47     18847\n",
      "weighted avg       0.67      0.68      0.67     18847\n",
      "\n",
      "c1 value : 0.5 , c2 value : 1 , iter values : 100\n",
      "              precision    recall  f1-score   support\n",
      "\n",
      "     B-BRAND       0.63      0.44      0.52      3096\n",
      "   B-PRODUCT       0.75      0.59      0.66      3094\n",
      "     I-BRAND       0.39      0.39      0.39      2071\n",
      "   I-PRODUCT       0.00      0.00      0.00       199\n",
      "           O       0.72      0.84      0.78     10387\n",
      "\n",
      "    accuracy                           0.68     18847\n",
      "   macro avg       0.50      0.45      0.47     18847\n",
      "weighted avg       0.67      0.68      0.66     18847\n",
      "\n",
      "c1 value : 0.5 , c2 value : 1 , iter values : 150\n",
      "              precision    recall  f1-score   support\n",
      "\n",
      "     B-BRAND       0.63      0.44      0.52      3096\n",
      "   B-PRODUCT       0.75      0.59      0.66      3094\n",
      "     I-BRAND       0.39      0.39      0.39      2071\n",
      "   I-PRODUCT       0.00      0.00      0.00       199\n",
      "           O       0.72      0.84      0.78     10387\n",
      "\n",
      "    accuracy                           0.68     18847\n",
      "   macro avg       0.50      0.45      0.47     18847\n",
      "weighted avg       0.67      0.68      0.66     18847\n",
      "\n",
      "c1 value : 0.5 , c2 value : 1 , iter values : 200\n",
      "              precision    recall  f1-score   support\n",
      "\n",
      "     B-BRAND       0.63      0.44      0.52      3096\n",
      "   B-PRODUCT       0.75      0.59      0.66      3094\n",
      "     I-BRAND       0.39      0.39      0.39      2071\n",
      "   I-PRODUCT       0.00      0.00      0.00       199\n",
      "           O       0.72      0.84      0.78     10387\n",
      "\n",
      "    accuracy                           0.68     18847\n",
      "   macro avg       0.50      0.45      0.47     18847\n",
      "weighted avg       0.67      0.68      0.66     18847\n",
      "\n",
      "c1 value : 1 , c2 value : 0.1 , iter values : 100\n",
      "              precision    recall  f1-score   support\n",
      "\n",
      "     B-BRAND       0.63      0.44      0.52      3096\n",
      "   B-PRODUCT       0.75      0.59      0.66      3094\n",
      "     I-BRAND       0.39      0.39      0.39      2071\n",
      "   I-PRODUCT       0.00      0.00      0.00       199\n",
      "           O       0.72      0.84      0.78     10387\n",
      "\n",
      "    accuracy                           0.68     18847\n",
      "   macro avg       0.50      0.45      0.47     18847\n",
      "weighted avg       0.67      0.68      0.66     18847\n",
      "\n",
      "c1 value : 1 , c2 value : 0.1 , iter values : 150\n",
      "              precision    recall  f1-score   support\n",
      "\n",
      "     B-BRAND       0.63      0.44      0.52      3096\n",
      "   B-PRODUCT       0.75      0.59      0.66      3094\n",
      "     I-BRAND       0.39      0.39      0.39      2071\n",
      "   I-PRODUCT       0.00      0.00      0.00       199\n",
      "           O       0.72      0.84      0.78     10387\n",
      "\n",
      "    accuracy                           0.68     18847\n",
      "   macro avg       0.50      0.45      0.47     18847\n",
      "weighted avg       0.67      0.68      0.67     18847\n",
      "\n",
      "c1 value : 1 , c2 value : 0.1 , iter values : 200\n",
      "              precision    recall  f1-score   support\n",
      "\n",
      "     B-BRAND       0.63      0.45      0.52      3096\n",
      "   B-PRODUCT       0.75      0.59      0.66      3094\n",
      "     I-BRAND       0.39      0.39      0.39      2071\n",
      "   I-PRODUCT       0.00      0.00      0.00       199\n",
      "           O       0.72      0.84      0.78     10387\n",
      "\n",
      "    accuracy                           0.68     18847\n",
      "   macro avg       0.50      0.45      0.47     18847\n",
      "weighted avg       0.67      0.68      0.67     18847\n",
      "\n",
      "c1 value : 1 , c2 value : 0.2 , iter values : 100\n",
      "              precision    recall  f1-score   support\n",
      "\n",
      "     B-BRAND       0.63      0.44      0.52      3096\n",
      "   B-PRODUCT       0.75      0.59      0.66      3094\n",
      "     I-BRAND       0.39      0.39      0.39      2071\n",
      "   I-PRODUCT       0.00      0.00      0.00       199\n",
      "           O       0.72      0.84      0.78     10387\n",
      "\n",
      "    accuracy                           0.68     18847\n",
      "   macro avg       0.50      0.45      0.47     18847\n",
      "weighted avg       0.67      0.68      0.66     18847\n",
      "\n",
      "c1 value : 1 , c2 value : 0.2 , iter values : 150\n",
      "              precision    recall  f1-score   support\n",
      "\n",
      "     B-BRAND       0.63      0.45      0.52      3096\n",
      "   B-PRODUCT       0.75      0.59      0.66      3094\n",
      "     I-BRAND       0.39      0.39      0.39      2071\n",
      "   I-PRODUCT       0.00      0.00      0.00       199\n",
      "           O       0.72      0.84      0.78     10387\n",
      "\n",
      "    accuracy                           0.68     18847\n",
      "   macro avg       0.50      0.45      0.47     18847\n",
      "weighted avg       0.67      0.68      0.67     18847\n",
      "\n",
      "c1 value : 1 , c2 value : 0.2 , iter values : 200\n",
      "              precision    recall  f1-score   support\n",
      "\n",
      "     B-BRAND       0.63      0.44      0.52      3096\n",
      "   B-PRODUCT       0.75      0.59      0.66      3094\n",
      "     I-BRAND       0.41      0.45      0.43      2071\n",
      "   I-PRODUCT       0.00      0.00      0.00       199\n",
      "           O       0.73      0.84      0.78     10387\n",
      "\n",
      "    accuracy                           0.68     18847\n",
      "   macro avg       0.50      0.46      0.48     18847\n",
      "weighted avg       0.67      0.68      0.67     18847\n",
      "\n",
      "c1 value : 1 , c2 value : 0.5 , iter values : 100\n",
      "              precision    recall  f1-score   support\n",
      "\n",
      "     B-BRAND       0.63      0.44      0.52      3096\n",
      "   B-PRODUCT       0.75      0.59      0.66      3094\n",
      "     I-BRAND       0.38      0.37      0.38      2071\n",
      "   I-PRODUCT       0.00      0.00      0.00       199\n",
      "           O       0.72      0.85      0.78     10387\n",
      "\n",
      "    accuracy                           0.68     18847\n",
      "   macro avg       0.50      0.45      0.47     18847\n",
      "weighted avg       0.66      0.68      0.66     18847\n",
      "\n",
      "c1 value : 1 , c2 value : 0.5 , iter values : 150\n",
      "              precision    recall  f1-score   support\n",
      "\n",
      "     B-BRAND       0.63      0.44      0.52      3096\n",
      "   B-PRODUCT       0.75      0.59      0.66      3094\n",
      "     I-BRAND       0.38      0.37      0.38      2071\n",
      "   I-PRODUCT       0.00      0.00      0.00       199\n",
      "           O       0.72      0.85      0.78     10387\n",
      "\n",
      "    accuracy                           0.68     18847\n",
      "   macro avg       0.50      0.45      0.47     18847\n",
      "weighted avg       0.66      0.68      0.66     18847\n",
      "\n",
      "c1 value : 1 , c2 value : 0.5 , iter values : 200\n",
      "              precision    recall  f1-score   support\n",
      "\n",
      "     B-BRAND       0.63      0.44      0.52      3096\n",
      "   B-PRODUCT       0.75      0.59      0.66      3094\n",
      "     I-BRAND       0.39      0.39      0.39      2071\n",
      "   I-PRODUCT       0.00      0.00      0.00       199\n",
      "           O       0.72      0.84      0.78     10387\n",
      "\n",
      "    accuracy                           0.68     18847\n",
      "   macro avg       0.50      0.45      0.47     18847\n",
      "weighted avg       0.67      0.68      0.66     18847\n",
      "\n",
      "c1 value : 1 , c2 value : 1 , iter values : 100\n",
      "              precision    recall  f1-score   support\n",
      "\n",
      "     B-BRAND       0.63      0.44      0.52      3096\n",
      "   B-PRODUCT       0.75      0.59      0.66      3094\n",
      "     I-BRAND       0.40      0.41      0.40      2071\n",
      "   I-PRODUCT       0.00      0.00      0.00       199\n",
      "           O       0.72      0.84      0.78     10387\n",
      "\n",
      "    accuracy                           0.68     18847\n",
      "   macro avg       0.50      0.46      0.47     18847\n",
      "weighted avg       0.67      0.68      0.67     18847\n",
      "\n",
      "c1 value : 1 , c2 value : 1 , iter values : 150\n",
      "              precision    recall  f1-score   support\n",
      "\n",
      "     B-BRAND       0.63      0.44      0.52      3096\n",
      "   B-PRODUCT       0.75      0.59      0.66      3094\n",
      "     I-BRAND       0.38      0.37      0.38      2071\n",
      "   I-PRODUCT       0.00      0.00      0.00       199\n",
      "           O       0.72      0.84      0.78     10387\n",
      "\n",
      "    accuracy                           0.68     18847\n",
      "   macro avg       0.50      0.45      0.47     18847\n",
      "weighted avg       0.66      0.68      0.66     18847\n",
      "\n",
      "c1 value : 1 , c2 value : 1 , iter values : 200\n",
      "              precision    recall  f1-score   support\n",
      "\n",
      "     B-BRAND       0.63      0.44      0.52      3096\n",
      "   B-PRODUCT       0.75      0.59      0.66      3094\n",
      "     I-BRAND       0.38      0.37      0.38      2071\n",
      "   I-PRODUCT       0.00      0.00      0.00       199\n",
      "           O       0.72      0.85      0.78     10387\n",
      "\n",
      "    accuracy                           0.68     18847\n",
      "   macro avg       0.50      0.45      0.47     18847\n",
      "weighted avg       0.66      0.68      0.66     18847\n",
      "\n"
     ]
    }
   ],
   "source": [
    "#CRF modelling\n",
    "for c1_val in parameters['c1']:\n",
    "    for c2_val in parameters['c2']:\n",
    "        for iters in parameters['max_iterations']:\n",
    "            print(f\"c1 value : {c1_val} , c2 value : {c2_val} , iter values : {iters}\")\n",
    "            crf = sklearn_crfsuite.CRF(\n",
    "                algorithm='lbfgs',\n",
    "                all_possible_transitions=True,\n",
    "                c1 = c1_val,\n",
    "                c2 = c2_val,\n",
    "                max_iterations = iters)\n",
    "            crf.fit(X, y)\n",
    "            y_pred = crf.predict(X)\n",
    "            print(metrics.flat_classification_report(y, y_pred))\n",
    "#             print(flat_accuracy_score(y_test, y_pred))\n",
    "#             print(flat_f1_score(y_test, y_pred, average = 'weighted'))"
   ]
  },
  {
   "cell_type": "code",
   "execution_count": 60,
   "id": "4c58eb10",
   "metadata": {
    "scrolled": true
   },
   "outputs": [
    {
     "name": "stdout",
     "output_type": "stream",
     "text": [
      "              precision    recall  f1-score   support\n",
      "\n",
      "     B-BRAND       0.63      0.45      0.52      3096\n",
      "   B-PRODUCT       0.75      0.59      0.66      3094\n",
      "     I-BRAND       0.41      0.45      0.43      2071\n",
      "   I-PRODUCT       0.00      0.00      0.00       199\n",
      "           O       0.73      0.84      0.78     10387\n",
      "\n",
      "    accuracy                           0.68     18847\n",
      "   macro avg       0.50      0.46      0.48     18847\n",
      "weighted avg       0.67      0.68      0.67     18847\n",
      "\n",
      "Accuracy:  0.6809571815142994\n",
      "F1-Score:  0.6705404427448096\n"
     ]
    }
   ],
   "source": [
    "#c1 value : 0.2 , c2 value : 0.1 , iter values : 100\n",
    "from sklearn_crfsuite.metrics import flat_accuracy_score, flat_f1_score\n",
    "crf_pos = sklearn_crfsuite.CRF(algorithm='lbfgs',\n",
    "                           all_possible_transitions=True,\n",
    "                           c1 = 0.2,\n",
    "                           c2 = 0.1,\n",
    "                           max_iterations = 100)\n",
    "crf_pos.fit(X, y)\n",
    "y_pred = crf_pos.predict(X)\n",
    "\n",
    "print(metrics.flat_classification_report(y, y_pred))\n",
    "print('Accuracy: ',flat_accuracy_score(y, y_pred))\n",
    "print('F1-Score: ',flat_f1_score(y, y_pred, average = 'weighted'))"
   ]
  },
  {
   "cell_type": "code",
   "execution_count": 61,
   "id": "771ac920",
   "metadata": {},
   "outputs": [
    {
     "name": "stderr",
     "output_type": "stream",
     "text": [
      "C:\\Users\\nitee\\anaconda3\\lib\\site-packages\\sklearn\\base.py:209: FutureWarning: From version 0.24, get_params will raise an AttributeError if a parameter cannot be retrieved as an instance attribute. Previously it would return None.\n",
      "  warnings.warn('From version 0.24, get_params will raise an '\n"
     ]
    },
    {
     "name": "stdout",
     "output_type": "stream",
     "text": [
      "Cross-validation Accuracy:  0.6777460573553377\n"
     ]
    }
   ],
   "source": [
    "from sklearn.model_selection import cross_val_score\n",
    "scores = cross_val_score(crf_pos, X, y, cv=5)\n",
    "print(\"Cross-validation Accuracy: \", scores.mean())"
   ]
  },
  {
   "cell_type": "markdown",
   "id": "b557695b",
   "metadata": {},
   "source": [
    "### CRF without word and pos as feature"
   ]
  },
  {
   "cell_type": "code",
   "execution_count": 62,
   "id": "65e875f9",
   "metadata": {},
   "outputs": [],
   "source": [
    "#Feature extraction and generation for CRF model without pos tags\n",
    "def word2features(sent, i):\n",
    "    word = sent[i][0]\n",
    "#     postag = sent[i][1]\n",
    "    features = {\n",
    "#         'word': word,\n",
    "        'bias': 1.0, \n",
    "        'word.istitle()': word.istitle(),\n",
    "        'word.isdigit()': word.isdigit(),\n",
    "#         'postag': postag,\n",
    "    }\n",
    "    if i > 0:\n",
    "        word1 = sent[i-1][0]\n",
    "#         postag1 = sent[i-1][1]\n",
    "        features.update({\n",
    "            '-1:word.istitle()': word1.istitle(),\n",
    "            '-1:word.isdigit()': word.isdigit(),\n",
    "#             '-1:postag': postag1,\n",
    "        })\n",
    "    else:\n",
    "        features['BeginingOfSentence'] = True\n",
    "        \n",
    "    if i < len(sent)-1:\n",
    "        word1 = sent[i+1][0]\n",
    "#         postag1 = sent[i+1][1]\n",
    "        features.update({\n",
    "            '+1:word.istitle()': word1.istitle(),\n",
    "            '+1:word.isdigit()': word.isdigit(),\n",
    "#             '+1:postag': postag1,\n",
    "        })\n",
    "    else:\n",
    "        features['EndOfSentence'] = True\n",
    "    return features\n",
    "\n",
    "#train test split\n",
    "X = [sent2features(s) for s in train_sent]\n",
    "y = [sent2labels(s) for s in train_sent]\n"
   ]
  },
  {
   "cell_type": "code",
   "execution_count": 63,
   "id": "4c8c919f",
   "metadata": {},
   "outputs": [],
   "source": [
    "X_test = [sent2features(s) for s in test_sent]\n",
    "y_test = [sent2labels(s) for s in test_sent]"
   ]
  },
  {
   "cell_type": "code",
   "execution_count": 65,
   "id": "124df053",
   "metadata": {},
   "outputs": [
    {
     "name": "stdout",
     "output_type": "stream",
     "text": [
      "              precision    recall  f1-score   support\n",
      "\n",
      "     B-BRAND       0.49      0.51      0.50       676\n",
      "   B-PRODUCT       0.60      0.47      0.53       991\n",
      "     I-BRAND       0.31      0.44      0.36       494\n",
      "   I-PRODUCT       0.00      0.00      0.00        42\n",
      "           O       0.73      0.74      0.73      3631\n",
      "\n",
      "    accuracy                           0.63      5834\n",
      "   macro avg       0.43      0.43      0.42      5834\n",
      "weighted avg       0.64      0.63      0.63      5834\n",
      "\n",
      "Accuracy:  0.633870414809736\n",
      "F1-Score:  0.6346538716095479\n"
     ]
    },
    {
     "name": "stderr",
     "output_type": "stream",
     "text": [
      "C:\\Users\\nitee\\anaconda3\\lib\\site-packages\\sklearn\\metrics\\_classification.py:1221: UndefinedMetricWarning: Precision and F-score are ill-defined and being set to 0.0 in labels with no predicted samples. Use `zero_division` parameter to control this behavior.\n",
      "  _warn_prf(average, modifier, msg_start, len(result))\n"
     ]
    }
   ],
   "source": [
    "#c1 value : 0.2 , c2 value : 0.1 , iter values : 100\n",
    "from sklearn_crfsuite.metrics import flat_accuracy_score, flat_f1_score\n",
    "crf_wo_pos = sklearn_crfsuite.CRF(algorithm='lbfgs',\n",
    "                           all_possible_transitions=True,\n",
    "                           c1 = 0.2,\n",
    "                           c2 = 0.1,\n",
    "                           max_iterations = 100)\n",
    "crf_wo_pos.fit(X, y)\n",
    "y_pred = crf_wo_pos.predict(X_test)\n",
    "print(metrics.flat_classification_report(y_test, y_pred))\n",
    "\n",
    "print('Accuracy: ',flat_accuracy_score(y_test, y_pred))\n",
    "print('F1-Score: ',flat_f1_score(y_test, y_pred, average = 'weighted'))"
   ]
  },
  {
   "cell_type": "code",
   "execution_count": 83,
   "id": "db3228f9",
   "metadata": {},
   "outputs": [
    {
     "name": "stderr",
     "output_type": "stream",
     "text": [
      "C:\\Users\\nitee\\anaconda3\\lib\\site-packages\\sklearn\\base.py:209: FutureWarning: From version 0.24, get_params will raise an AttributeError if a parameter cannot be retrieved as an instance attribute. Previously it would return None.\n",
      "  warnings.warn('From version 0.24, get_params will raise an '\n"
     ]
    },
    {
     "name": "stdout",
     "output_type": "stream",
     "text": [
      "Cross-validation Accuracy:  0.6484518591129635\n"
     ]
    }
   ],
   "source": [
    "from sklearn.model_selection import cross_val_score\n",
    "scores = cross_val_score(crf_wo_pos, X, y, cv=5)\n",
    "print(\"Cross-validation Accuracy: \", scores.mean())"
   ]
  },
  {
   "cell_type": "code",
   "execution_count": null,
   "id": "08fe3c6e",
   "metadata": {},
   "outputs": [],
   "source": []
  }
 ],
 "metadata": {
  "kernelspec": {
   "display_name": "Python 3",
   "language": "python",
   "name": "python3"
  },
  "language_info": {
   "codemirror_mode": {
    "name": "ipython",
    "version": 3
   },
   "file_extension": ".py",
   "mimetype": "text/x-python",
   "name": "python",
   "nbconvert_exporter": "python",
   "pygments_lexer": "ipython3",
   "version": "3.8.8"
  }
 },
 "nbformat": 4,
 "nbformat_minor": 5
}
