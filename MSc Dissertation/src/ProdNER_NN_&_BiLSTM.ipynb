{
 "cells": [
  {
   "cell_type": "code",
   "execution_count": 1,
   "id": "00fcae92",
   "metadata": {},
   "outputs": [],
   "source": [
    "#!pip install sklearn_crfsuite\n",
    "#!pip install eli5\n",
    "# !pip install WordCloud"
   ]
  },
  {
   "cell_type": "markdown",
   "id": "3fb8821e",
   "metadata": {},
   "source": [
    "# Import necessary libraries"
   ]
  },
  {
   "cell_type": "code",
   "execution_count": 2,
   "id": "d792d3af",
   "metadata": {},
   "outputs": [],
   "source": [
    "import json\n",
    "import pandas as pd\n",
    "import numpy as np\n",
    "import sklearn\n",
    "from pandas.core.groupby.base import OutputKey\n",
    "from sklearn.feature_extraction import DictVectorizer\n",
    "import sklearn_crfsuite\n",
    "from sklearn_crfsuite import scorers, metrics\n",
    "from collections import Counter\n",
    "from sklearn.model_selection import train_test_split, GridSearchCV\n",
    "import nltk\n",
    "from tqdm import tqdm\n",
    "import json\n",
    "import eli5\n",
    "import spacy\n",
    "from spacy.training import offsets_to_biluo_tags\n",
    "from spacy.lang.en import English\n",
    "from spacy.pipeline import EntityRuler\n",
    "import csv\n",
    "import re\n",
    "from spacy.training import Example\n",
    "from spacy.tokens import DocBin\n",
    "from spacy.lang.en.stop_words import STOP_WORDS\n",
    "from gensim.models.word2vec import Word2Vec\n",
    "from gensim.models.keyedvectors import KeyedVectors\n",
    "import matplotlib.pyplot as plt\n",
    "from wordcloud import WordCloud, ImageColorGenerator\n",
    "\n",
    "from keras.optimizers import Adam"
   ]
  },
  {
   "cell_type": "code",
   "execution_count": 3,
   "id": "571ded10",
   "metadata": {},
   "outputs": [],
   "source": [
    "#load dataset\n",
    "df_train = pd.read_csv(\"Final_dataset.csv\")"
   ]
  },
  {
   "cell_type": "code",
   "execution_count": 4,
   "id": "f5c9fd8c",
   "metadata": {},
   "outputs": [],
   "source": [
    "test_data = [json.loads(line) for line in open('validation.json','r')]\n",
    "test_data = pd.json_normalize(test_data)\n",
    "test_data = test_data['Name']\n",
    "test_data = test_data[:1000]"
   ]
  },
  {
   "cell_type": "code",
   "execution_count": 5,
   "id": "0d2ef11b",
   "metadata": {},
   "outputs": [
    {
     "data": {
      "text/plain": [
       "(2393, 3)"
      ]
     },
     "execution_count": 5,
     "metadata": {},
     "output_type": "execute_result"
    }
   ],
   "source": [
    "df_train.shape"
   ]
  },
  {
   "cell_type": "code",
   "execution_count": 6,
   "id": "54d39bab",
   "metadata": {},
   "outputs": [],
   "source": [
    "#Only product titles are needed\n",
    "df_train = df_train['Title']"
   ]
  },
  {
   "cell_type": "code",
   "execution_count": 7,
   "id": "3ace548b",
   "metadata": {},
   "outputs": [
    {
     "data": {
      "text/plain": [
       "0                          Sterling Silver Angel Charm\n",
       "1        HP Pavilion 23xi 58.40 cm (23ï¿½) IPS Monitor\n",
       "2    East Carolina Pirates Ladies Personalized Bask...\n",
       "3    Tekonsha 90195 P3 Electric Brake Control, 1-4 ...\n",
       "4                    RN-XV WiFly Module - Wire Antenna\n",
       "Name: Title, dtype: object"
      ]
     },
     "execution_count": 7,
     "metadata": {},
     "output_type": "execute_result"
    }
   ],
   "source": [
    "df_train.head()"
   ]
  },
  {
   "cell_type": "code",
   "execution_count": 8,
   "id": "d07a99a1",
   "metadata": {},
   "outputs": [],
   "source": [
    "#nlp = spacy.load(\"en_core_web_lg\")"
   ]
  },
  {
   "cell_type": "code",
   "execution_count": 9,
   "id": "426ad9a3",
   "metadata": {},
   "outputs": [],
   "source": [
    "#define custom functions to load, save and generate product and brand names list\n",
    "def load_data(file):\n",
    "    with open(file, \"r\", encoding = \"utf-8\")as f:\n",
    "        data = json.load(f)\n",
    "    return data\n",
    "\n",
    "def save_data(file, data):\n",
    "    with open (file, \"w\", encoding=\"utf-8\") as f:\n",
    "        json.dump(data, f, indent=4)\n",
    "        \n",
    "def generate_brand_products(file):\n",
    "    chars = load_data(file)\n",
    "    #print(len(hp_chars))\n",
    "    #print(chars)\n",
    "    new_characters = []\n",
    "    for item in chars:\n",
    "        new_characters.append(item.lower())\n",
    "    return new_characters"
   ]
  },
  {
   "cell_type": "code",
   "execution_count": 10,
   "id": "5235b18d",
   "metadata": {},
   "outputs": [],
   "source": [
    "brands = generate_brand_products(\"brand_names.json\")"
   ]
  },
  {
   "cell_type": "code",
   "execution_count": 11,
   "id": "043366e7",
   "metadata": {},
   "outputs": [],
   "source": [
    "products = generate_brand_products(\"products.json\")"
   ]
  },
  {
   "cell_type": "code",
   "execution_count": 12,
   "id": "99a34017",
   "metadata": {},
   "outputs": [
    {
     "name": "stdout",
     "output_type": "stream",
     "text": [
      "['ruby reds', 'victorian', 'michigan state spartans', 'under armour', 'drake bulldogs', 'modernus', 'homedics', 'adidas', 'cleveland browns', 'harpa', 'guanabana', \"nature's promise\", 'chrysler', 'tech air', 'east carolina pirates', 'oase', 'troy', 'el gran', 'iowa state cyclones', 'reloj', 'northern illinois', 'bella', 'sellier & bellot', 'cammo', 'boston bruins', 'nike', 'eden', 'chevrolet', 'alterna', 'plyboo', 'anatolius', 'scientific anglers', 'alabama', 'purdue', 'maxtens', 'brand', 'sterling', 'hp', 'east carolina pirates', 'tekonsha', 'wifly', 'genairex', 'philadelphia eagles ', 'kansas city chiefs', 'goldwax', 'nittaku', 'oakland athletics', 'thule', 'creighton bluejays', 'seattle seahawks', 'vintage', 'arizona wildcats', 'miami hurricanes', 'kentucky wildcats', 'bo jackson', 'mariposa', 'alabama', 'multi-stripe', 'nike', 'dayton flyers', 'louisiana', 'michigan state', 'helena', 'grizzly straw', 'sam houston', 'seminoles', 'aggies', 'duke', 'colorblock', 'archie griffin', ' howard', 'soldner-x 2:', 'under armour', 'nike ', 'edma', 'fruta planta', 'kansas jayhawks', 'colosseum cincinnati', 'biopsy ', 'chicago bulls', 'biba', 'tail', 'rose ', ' norfolk', 'virginia cavaliers', 'majestic new york islanders', 'miami marlins', 'general electric', 'georgia state panthers', 'flannel ', 'adidas ', 'wichita ', 'redbirds', 'arkansas razorbacks', 'vc grapes', 'royal canin', 'kondos', 'east carolina', 'utep miners', 'cucinapro ', 'north texas', '47 brand fiu panthers', 'swiss perf', 'pennsylvania quakers', 'new orleans', 'legacy 44', 'texas longhorns', 'suzuki ', 'caneware mason', 'farberware ', 'nfl football', 'gators', 'indiana', 'puma', '[gold package]', 'sun devils', 'cincinnati bearcats', 'seagate', 'furminator ', 'original retro', 'pet dog', 'wonder woman', 'orleans saints', 'ballon bleu', 'andrew mccutchen', 'h20 vac', 'streamline', 'norfolk state spartans', 'french ', 'graco magnum', 'washington wizards', 'affinity', 'swarovski', 'adidas', 'missouri state bears', 'honda', 'jayhawks', 'st. louis', 'immersion research', 'soporte para', 'orlando magic', 'castle bar', 'memphis', 'florida a&m rattlers', 'microsoft', 'texas a&m', 'pittsburgh steelers', 'emergency essentials', 'game bibs', 'illinois ', 'the macallan', 'lumatone -', 'bravo', 'ucf knights', 'toddler danica patrick chase', 'carolina panthers', 'pits & chips', 'havahartï', 'missouri state', 'fuel petcock', 'logoart milwaukee', 'georgetown hoyas', 'notre dame', 'uic flames', 'purdue boilermakers', 'graco', 'kansas state wildcats', 'baltimore raven', 'washington state cougars', 'sun lounger', 'white sangria', 'wrought', 'sight ', 'ornate', 'pacific tigers', 'wrights rattail', 'color block', 'missouri tigers', 'penn state nittany', 'rutgers scarlet', 'west virginia', 'florida gators', 'ohio state buckeyes', ' wake forest', 'detroit tigers', 'rochester knighthawks', 'victory forge', 'indiana hoosiers', 'chemiquip ', 'egr', 'flo', 'initial charm', 'washington huskies', 'depaul', 'ungrounded', 'the cure', 'brad keselowski checkered', 'soft fleece', ' ufc', 'ronda chestnut', 'miltex buck', 'advantage', 'sentimental circus', 'belmont bruins', 'tony parker', 'realtree', 'iball andi', 'lenovo', 'darice', 'doug hyde,', 'ga', 'vecchia deruta', 'providence friars', 'yakima', 'saris freedom', ' suzuki', 'terance knighton', 'galtech', 'bmw', 'texas tech red raiders', 'gamo ', 'bud light', 'blue-white', 'rotatrim', 'clear stamp ', 'fresno state bulldogs', 'checkered flag', 'britney one', 'heels', 'houston texans', 'horses', 'corvette camaro', ' antigua', 'free authority', 'louisville cardinals', 'nelly', 'cc019 gpm', 'pool guard', 'peddinghaus', 'kenwood ', 'custom promotion', 'stephen f austin lumberjacks', 'american dynamics', 'oklahoma sooners', 'eheim clips', 'sony ericsson', \"shepherd's\", 'metal ex', 'thuja cream', 'brown michigan', 'antigua brooklyn nets', 'cycle country', 'montana state bobcats', 'clemson tigers', 'utah jazz', 'ibm amd', 'wisconsin badgers', 'charlotte hornets', 'kreyol essence', 'saltron ', 'mother bell', 'sterling silver', 'sportiqe', 'contour', 'the game', \"'47 cincinnati\", 'iwo jima', 'l.a. dodgers', 'seton hall', 'doro phoneeasy', 'aurora borealis', '4 inch', 'madwave', 'drew butera', 'vortex ', ' lsu tigers top', 'bulldogs espn', 'south dakota coyotes', ' tennessee', 'ultimate performance', 'nikwax', 'watt trinity', 'continental tires', 'darice ', 'cincinnati reds', 'frightprops', 'fotoquantum', 'eheim ', 'loyola marymount', 'uncle milton', 'mitchell & ness', 'fonthill', 'denver broncos', 'wincraft', 'nfl', 'cutter & buck', 'cuce', 'kansas city royals', 'boise state broncos', 'south carolina', 'powertec', 'vision ', 'appalachian state mountaineers', 'milwaukee bucks', 'hewlett packard ', 'hp ', 'kokeshi ', 'st louis cardinals', 'dallas cowboys', 'penn state nittany lions', 'ylang ylang', 'michigan state spartans', 'yakima ', 'antigua pittsburgh penguins', 'pepperdine waves', 'philadelphia phillies', 'neve', 'swiss precimax ', 'circulon genesis', 'buttons galore', 'city rain', 'enkeeo', 'montana grizzlies', 'majestic charcoal', 'nitto', 'dream girl ', 'bernat ', 'molex', 'samsung ', 'ottawa senators', 'yale bulldogs', 'auburn tigers', 'frye', 'neoprene', 'washington redskins', 'chrysler', 'esccali', 'casio', 'st. louis cardinals', 'villanova wildcats', 'forest demon decons', 'nagasa', 'troy university trojans', 'minnesota golden gophers', 'cleveland browns ', 'miami dolphins', 'tennessee volunteers ', 'usc trojans ', 'northern illinois huskies', 'ibm', 'utah utes', 'wallistic', 'kokatat', 'pigeon', 'baltimore ravens', 'blue violet ', 'g-iii sports', 'abel', 'shimano', 'north carolina', 'texas a&m aggies', 'paisley', 'linco-spectin', 'lsu tigers', 'illinois state redbirds', 'harvard crimson', 'emergency essentials ', 'maria theresa', 'camelot', 'zephyr ', 'dayna ', 'ga tech', 'musclepharm', 'vanderbilt commodores', 'sea monkey', 'georgia bulldogs', 'alabama ', 'vcu rams', 'louisiana tech bulldogs', 'louis blues', 'kansan city chiefs', 'tatami', 'onboard', 'hyperdrive', 'fiu panthers', 'usmc', 'wyoming cowboys', 'tulip ', 'wichita state shockers', 'golden eagles', 'lousiville cardinals ', 'drake bulldogs', 'pevonia botanica', 'houston astros', 'mississippi rebels', 'chiffon ', 'gavin', 'iowa state cyclones', 'super bowl ', 'smu ', 'pittsburg steelers', 'smith & wesson', 'colosseum ', 'west virginia ', 'fanatics ', 'daewoo', 'tailgates ', 'missouri state university', 'apple', 'luxemate', 'fau owls', 'forest friends ', 'smok galileo', 'popular', 'silver snakes', 'nero giardini', 'san francisco 49ers', 'laurel', 'jh design', 'beacon - usb', 'infant baltimore', 'rolex 118238 mrp', 'troy university', 'door trail', \"spring creek's\", 'aspirador', 'candyshell', 'new orleans voodoo', 'eliminall spot', 'majestic threads', 'connoisseur ', 'paul menard', 'roxy juniors', 'iv extension', 'us peacekeeper', 'scene setters ', 'glitter ', 'ankh ', 'orlando predators', 'new era ', 'usa ultimate', 'uncg spartans ', 'clearlight infrared', 'central michigan chippewas', 'ultra-thin', 'neocutis', 'zoo med', 'travel berkey', 'sagrantino', 'barrett', 'knuckleduster with', 'spuik', 'paula deen', 'newbury ', 'three horn', 'earlex', 'weider victory', 'sleeveless boucle', 'ferris state bulldogs', 'party essentials', 'loyola marymount lions', 'fordham rams', 'arizona state sun devils', 'wright state raiders', 'talavera', 'scottevest', 'ocean rodeo', 'candy cane', 'black solid', 'usa wincraft ', 'aqueon quietflow', 'pf-2', 'terra', 'graco ', 'kansan jayhawks', 'marshall thundering herd', 'angel dear', 'dw 5710 straight', 'innokin itaste', 'flower headband', 'caramel harness', 'coastal sayings', 'antigua ', 'saint louis billikens', 'agarwood', 'alpine', 'aventics', 'body butter', 'mustad ', 'fahad', 'gabifresh', 'xeon', 'san antonio spurs', 'lunargrand ', 'mottisfont', 'cadillac', 'rutgers ', 'fire sense', 'joma ', 'tokenz dolly ', 'minnesota twins', 'chicago bears', 'riddell fresno', 'smk', 'cast ', 'off-the-shoulder', 'super lumbar', 'wilson cardiff', 'personalized irish', 'rapid city', 'aceite', 'spot ', 'chicago pneumatic', 'delica ', 'st louis blues', 'supreme ', 'daily car', 'summerlite', 'dainolite xeno', 'seton hall pirates', 'electrolux home', 'other 1932', 'santa clara broncos', 'detox', 'aqua medic', 'driftwood candelabra', 'fayreform ', 'rvca', 'spectrum cilantro', 'body wash', 'columbia business', 'testo unico', 'jr motorsports', 'colorado avalanche', 'desigual skirt', 'san diego chargers', 'somerset bed', 'banana flavor', 'top of the world', 'whisper ex', 'proenza', 'scientific anglers', 'fisher-price', 'zephyr', 'champagne gifts', 'h&h', 'belkin', 'micro torch', 'los angeles kings ', 'yakima universal', 'cal', 'color picture', 'freemotion ext', 'eucalyptus spearmint', 'colorquantum vinyl', 'icicle lights', 'instant ocean', 'sennheiser ', 'equestrian boots', 'minnesota lynx', 'idaho vandals', 'georgia tech', \"sophocles' philoctetes\", 'majestic terry', 'camlin', 'lyndall brakes', 'santos demoiselle', 'bumgenius flip', 'solid wood', 'new york knicks', 'mahogany ', 'grand caravan', 'the richest', 'coors ', 'nitto terra', 'new hampshire wildcats', 'cross', 'w02-358-3000 firestone', 'majestic boston', 'gloves streetracer', 'kevin garnett', 'franklin, tennessee', 'dell', 'hgst deskstar', 'apparatus for', 'oregon state beavers', 'cole hamels', 'marissa one', 'the essential', 'weatern kentucky ', 'studio 71', 'ohio state ', 'inside', 'team usa', 'pitssburg state gorillas', 'david ortiz', 'chippewa', 'platy ', 'vortex viper', 'vella', 'le creuset', 'ohio bobcats', 'archway ', 'kingston', 'one phone', 'rangoli herbal', 'shuffle tech', 'usc trojans', 'uci ', 'hyacinth', 'samsung', 'large pair', 'nuke ', 'circulon contempo', 'red heart', 'virginia tech hokies', 'weego - adapter', 'reebok', 'new york yankees', 'uconn huskies', 'riviera ', 'yamah', 'drexel dragons', 'new orleans saints', 'furinno', 'joinery', 'quicksilver', 'houston state university', 'atlanta falcons', 'michigan wolverines', 'swisher', 'pepe', 'perdomo', 'north dakota state ', 'philadelphia eagles', 'amora', 'shire', 'beeswax', 'infinite circulon', 'montre ', 'philadelphia flyers', 'compressport', 'maryland terrapins', 'rottefella', 'st louis', 'western kentucky hilltoppers', 'lincoln', 'boston rex sox', 'antec', 'oregon ducks', 'carhartt duck dog', 'oakley ', 'marlon brando', 'rutgers scarlet nights', 'conbraco', 'vanessa', 'ponderosa', 'pittsburgh steelers ', 'denver nuggets', 'tcu horned frogs', 'spyglass', 'miami university redhawks', 'cayman isle', 'south carolina gamecocks', 'princess bride', 'colorado state rams', 'penguin', 'ucla bruins', 'dove', 'uab blazers', 'kissy kissy', 'st. tikhon', 'metabox', 'golden state warriors', 'himalaya', 'xolo', 'wendtii crypt', 'amron', 'dainese', 'texas rangers', 'datejust', 'carhartt', 'intel', 'timberland pro', 'meinl ', 'epsealon', 'mitsubishi', 'kansan city cheifs', 'ariat', 'timber creek', 'danner', 'texas tech raiders', 'double', 'sims portex', 'asics', 'cooper', 'jabra', 'smu mustangs', 'isabella oliver', 'philadelphia 76ers', 'bridgestone', 'pieh', 'sealife', 'missourri tigers', 'demon deacons', 'baylor bears', 'nascar', 'datsun', 'ray lewis baltimore', 'turtle tuff', 'tulsa', 'steiner', 'houston rockets', 'decolights', 'mackie', 'xcalibur', 'tamiya', 'nissan', 'cleveland browns', 'nc state wolfpack', 'jbl', 'dallas cowboys ', 'tervis', 'sanuk casa barco', 'tanglefoot', 'syracuse orange ', 'ricoh aficio', 'detroit piston', 'duke blue', 'infinite', 'montreal canadiens', 'missouri state university bears', 'pioneer', 'elasto-gel', 'temple owls', 'eastern sierra', 'hotlix', 'nemesis ', 'rcbs ', 'alabama crimson tide', 'bolas', 'k-state wildcats', 'potenza', 'louisville ', 'archies', 'syarcuse ', 'nebraska cornhuskers', 'hollander', 'red swordtail', 'pittsburg state gorillas ', \"jack deniel's\", 'mandarin', 'phattys', 'yogi', 'circulon  ', 'bering', 'acacia', 'burg', 'san jose state spartans', 'telefono', 'colorado buffaloes', 'edelweiss', 'pitt panthers ', 'ford', 'eaton', 'simms', 'patio', 'michigan ', 'pentair ', 'mytee', 'cleveland cavaliers', 'florida state seminoles', 'abof', 'hayward navigator', 'ava', 'msi', 'oase', 'omron', 'beach belle', 'savini', 'farberware', 'ubiquinol', 'ufo ', 'memphis grizzlies', 'plyboosound', 'montana west', 'san diego padres', 'jobst', 'colorado rockies', 'atlants falcons', 'lexus', 'bendix', 'nokia', 'cincinnati bengals', 'widow makers', 'alpinestars jaws', 'danze amalfi', 'colosseum rutgers ', 'ghost dog', 'santini mania', 'ecopia', 'powell', 'pepperdine', 'tsuba marugata', 'super life', 'baltimore', 'angel wing', 'heart to get', 'redline', 'citizen promaster', 'fanatics', 'cherryman', 'villanova', 'florida state semioles', 'western ketucky hilltoppers', 'blue clean prosumer', 'ucla', 'texa longhorns', 'anolon ', 'vetguard', 'portland state vikings', 'xbox ', 'canon', 'fly terminator', 'telemecanique', 'homedics', 'giro', 'mucha', 'vortex', 'ulm warhawks', 'duke ', 'heine', 'fayreform', 'iowa hawkeyes ', 'tecnifibre', 'dodge', 'morehead', 'marquette', 'pittsburgh penguins', 'united colors of benetton', 'jacksonville jaguars', 'uncg spartans', 'north carolina state wolfpack', 'bfgoodrich', 'danica', 'safetec', 'hatch finatic', 'daytona international', 'promark', 'towson tigers', 'tcu horned froga', 'dukuri', 'gonzaga bulldogs', 'ginseng', 'coralife', 'fishmate', 'green bay packers', 'nikon', 'antigua baltimore', 'kvoll ', 'kite', 'rutergs scarlet knights', 'alpinestars ', 'tennessee titans', 'pirelli', 'toyota', 'surftech sup sling', 'surftech', 'monte carlo', 'tennessee volunteers', 'oklahoma state cowboys', 'geovision', 'mitch hedberg', 'roxy ', 'memphis tigers', 'adoretex', 'toshiba', 'hampton', 'crest', 'cincinnati beracats', 'columbia missouri tigers', 'chase ', 'washington capitals nhl', 'weihrauch', 'sky organics', 'east orange', 'simmons', 'sterling', 'pepperdine ', 'havahart', 'guzzini', 'depaul blue demons', 'freemotion', 'missouri state bearcats', 'weest virginia mountaineers', 'ufc carlos condit', 'o-phos', 'ortho-dream', 'mississippi state bulldogs', 'marching snare', 'dallas stars', 'gamerfuzion', 'rutgers scarlet knights', 'dyson', 'bella', 'carbonyte', 'syracuse orange', 'joma', 'columbia fresno state bulldogs', 'san jose spartans', 'crown', 'mares', 'johnson rose', 'dalbello', 'arkon', 'dale earnhardt', 'north face', 'north dakota state bison', 'drifz', 'famu rattlers', 'storksak', 'cleardraw', 'c&d dynasty', 'patons', 'yamaha', 'burg-layer', 'ithaka', 'detroit red wings', '21king', 'kempa', 'cincinnate reds', 'tampa bay', 'mohair', 'dobell', 'aqua aura', 'grand horizon', 'lacoste', 'knotty', 'san jose sharks', 'chevrolet', 'tahitian']\n"
     ]
    }
   ],
   "source": [
    "print(brands)"
   ]
  },
  {
   "cell_type": "code",
   "execution_count": 13,
   "id": "e741d35a",
   "metadata": {},
   "outputs": [
    {
     "name": "stdout",
     "output_type": "stream",
     "text": [
      "['locket', 'monitor', 'tshirt', 'display case', 'barwell fleet', 'plaque', 'hoodie', 'garden flag', 'dinning chair', 'hoodie', 'tshirt', 'football', 'sunglasses', 'ornament', 'money clip', 'flip flops', 'dress', 'hat', 'barrette', 'hats', 'photograph', 'tank top', 'soundtrack', 'socks', 'jersey', 'guillotine', 'pills', 'tote', 'sweatshirt', 'bags', 'sticker', 'barware', 'bulb kit', 'mold', 'polo', 'cubby', 'tstat', 'shirt', 'decal', 'cleats', 'gift set', 'scrub', 'dog dry', 'expedition pack', 'frame', 'pizelle maker', 'shuffler', 'eye cream', 'pineapple', 'brushguard', 'bowl', 'teakettle', 'lighter', 'map 2012', 'training', 'lid', 'jacket', 'hard disk', 'dog', 'flooring', 'tag', 'cape', 'diamonds', 'cleaner', 'shoes', 'powder', 'extension', 'tie', 'backpack', 'touring', 'riflescope', 'accessories', 'civic lx', 'netlimited', 'sign', 'skirt', 'repisa', 'marker', 'pad', 'slipper', 'card', 'sugar', 'overalls', 'tee', 'oak', 'pump', 'thermal halfzip', 'set', 'playlist', 'kit', 'necklace', 'lanyard', 'vibrator', 'earbuds', 'sprayer', 'table', 'freezer', 'rosettes', 'spigot', 'tracks', 'bichir', 'cord', 'bag', 'belt', 'sata', 'pullover', 'flyknit', 'keychain', 'decept', 'fuller', 'lamp', 'fleece', 'bracelet', 'suncatcher', 'bed', 'top', 'package', 'curettes', 'shake', 'iball', 'tablet', 'watch', 'book', 'roof', 'bike rack', 'bike', 'case', 'umbrella', 'horn', 'barricade', 'car', 'beanie', 'koozie', 'meter', 'trimmer', 'stamps', 'troika', 'valve', 'towels', 'headband', 'alloy', 'alarm', 'hammer', 'flag', ' hard drive', 'spary bar', 'xperia', 'pin', 'door', 'cream', 'wallet', 'processor', 'clock', 'caster oil', 'spa', 'charm', 'ipod', 'sculpture', 'phone', 'scanner', 'bottle', 'sparkler', 'support', 'magnets', 'box', 'viper', 'wash', 'piggy bank', 'fixture', 'mousepad', 'bsw', 'catalog', 'hdd', 'studio tools', 'connector', 'ant farm', 'light', 'thermal', 'short', 'shorts', 'armbands', 'boots', 'pants', 'cufflinks', 'pant', 'helmet', 'logo', 't shirt', 'bra', 'banner', 'skort', 'short ', 'tank', 'slippers', 'scarf', 'visor', 'sock ', 'tanktop', 'sweatpants', 'sandals', 'uniform', 'cap', 'hoody', 'hem', 'creeper', 'bodysuit set', 'basketball', 'sedan', 'lunch box', 'workbench', 'violin', 'switch', 'dolls', 'oil', 'bicycle carrier', 'monitors', 'bakeware set', 'bicycle', 'ponytail holder', 'grappler', 'mug', 'melissa', 'zipper binder case', 'base', 'softmodem', 'scale', 'stand', 'plate', 'mural', 'pant ', 'panty', 'earrings', 'bull trout', 'panties', 'tablecloth', 'calorie', 'chandelier', 'scoop', 'vaporizer', 'cling sheet', 'laserjet', 'glove ', 'protein', 'emblem', 'gshock', 'posters', 'coin bank', 'premier', 'gloves', 'cling', 'tattoo kit', 'license plate', 'lotion', 'player', 'dvd', 'pistol', 'galaxy', 'bow', 'recorder', 'keyboard', 'mod', 'ring', 'ecc dimm', 'apricot', 'sas 2 pack', 'usb', 'president watch', 'trail by moonlight', 'rowing packages', 'limpia oidos', 'cases', 'on for cats', 'thermometer', 'sweater', 'ipad', 'needle', 'figurines', 'pendant', 'purse', 'sauna dome', 'rubber duck', 'case for ipad2', 'day cream', 'spot lamps', 'travel berkey', 'wine', 'metal', 'with horses', 'cookware', 'glass ', 'spary ', 'berry', 'forks', 'percolator', 'cooler', 'boxers underwear', 'kite', 'filter', 'kit ', 'atomizer', 'saucepan', 'harness', 'heels', 'mugs', 'hooks', 'underwire', 'shoe', 'wingtip', ' bed', 'golf balls', 'heater', 'jacket ', 'rifle', 'knob', ' dress', 'memory foam', 'cigar ', ' map', ' cufflinks', 'air compressor', ' sandals', 'power cord', 'insurance policies', 'xeno89sc', 'tray car', 'other 1932', 'tea', 'v electrodes', 'driftwood candelabra', 'brief', 'curtains grommets', 'cosmetic base', 'innovation and impact', 'marzoaprile', 'tailgate toss 20', 'khaki', 'skirt a', 'bed with footrail', 'banana flavor', 'assembled  round', 'leader', 'wizards castle', 'and accessories', 'arrowhead', 'custom keylight', 'carrier tie down kit', 'odyssey', 'plastic  grey  4 x 4 inches', 'cable cross', 'spearmint eo', 'brackets  expander and metal chain', 'light set', 'salt', 'usb dongle', 'equestrian boots italian ridingboots', 'soul robbery', 'drive rotors', 'demoiselle small', 'bottle holder', 'snap 12 pack', 'spiral staircases', 'glasses', 'caravan', 'town with video', 'air spring', 'street map 4727740', 'k w9d988', 'hard drive', 'sous vide', 'bridesmaid dress', 'combat taekwondo', 'canvas', 'appraisal process', 'lapel pin', 'cable', 'photograph', 'cleaning kit', 'xlr reticle', 'faucet ', 'phone jacks', 'face wash', 'mounting kit', 'decal sheet', 'chiller', 'craft lanyard', 'camera', 'door handles', 'saucepan red', 'yarn ', 'product', 'charm', 'monitor', 't-shirt', 'axles', '', 'display case', 'barwell fleet', 'plaque', 'hoodie', 'garden flag', 'dinning chair', 'hoodie', 'football', 'sunglasses', 'ornament', 'money clip', 't-shirt', 'flip flops', 'dress', 'hat', 'hoodie', 'barrette', 'hats', 'photograph', 'tank top', 'soundtrack', 'socks', 'guillotine', 'pills', 'tote', 'sweatshirt', 'bags', 'sticker', 'barware', 'bulb kit', 'mold', 'polo', 'shirt', 'decal', 'gift set', 'scrub', 'dog dry', 'expedition pack', 'frame', 'pizelle maker', 'sweatshirt', 'eye cream', 'pineapple', 'brushguard', 'bowl', 'teakettle', 'lighter', 'map 2012', 'training', 'jacket', 'hard disk', 'dog', 'tag', 'cape', 'diamonds', 'cleaner', 'shoes', 'powder', 'extension', 'backpack', 'touring', 'riflescope', 'civic lx', 'net-limited', 'sign', 'skirt', 'repisa', 'marker', 'pad', 'card', 'sugar', 'overalls', 'tee', 'oak', 'pump', 'jersey', 'set', 'silver', 'kit', 'necklace', 'lanyard', 'sweatshirt', 'sprayer', 'table', 'freezer', 'rosettes', 'spigot', 'bichir', 'cord', 'belt', 'pullover', 'keychain', 'fuller', 'lamp', 'bracelet', 'suncatcher', 'bed', 'top', 'package', 'curettes', 'shake', 'bag', 'iball', 'tablet', 'watch', 'book', 'roof', 'bike rack', 'bike', 'umbrella', 'car', 'beanie', 'koozie', 'meter', 'trimmer', 'stamps', 'troika', 'valve', 'headband', 'alloy', 'alarm', 'hammer', 'flag', 'hard drive', 'black', 'spary bar', 'xperia', 'pin', 'door', 'cream', 'wallet', 'case', 'processor', 'clock', 'caster oil', 'spa', 'charm', 'ipod', 'sculpture', 'phone', 'bottle', 'sparkler', 'support', 'viper', 'wash', 'fixture', 'catalog', 'studio tools', 'connector', 'ant farm', 'light', 'sandals', 'lunch box', 'workbench', 'violin', 'switch', 'dolls', 'helmet', 'oil', 'bicycle carrier', 'bakeware set', 'bicycle', 'ponytail holder', 'grappler', 'mug', 'zipper', 'binder', 'case', 'base', 'scale', 'stand', 'plate', 'mural', 'pant ', 'panty', 'earrings', 'bull trout', 'tablecloth', 'chandelier', 'vaporizer', 'protein', 'posters', 'coin bank', 'premier', 'gloves', 'cling', 'tattoo kit', 'license plate', 'lotion', 'player', 'slippers', 'dvd', 'lid', 'pistol', 'shorts', 'recorder', 'keyboard', 'mod', 'ring', 'boots', 'apricot', 'usb', 'bodysuit set', 'president watch', 'trail by moonlight', 'rowing packages', 'cases', 'thermometer', 'sweater', 'needle', 'figurines', 'bow', 'pendant', 'sauna dome', 'case for ipad2', 'day cream', 'spot lamps', 'travel berkey', 'wine', 'metal', 'with horses', 'pants', 'cookware', 'glass ', 'spray ', 'berry', 'forks', 'boxers, underwear', 'kite', 'filter', 'kit ', 'atomizer', 'harness', 'mugs', 'hooks', 'underwire', 'photograph', 'wingtip', 'bed', 'sedan', 'heater', 'jacket ', 'rifle', 'knob', 'dress', 'memory foam', 'cigar ', 'map', 'cufflinks', 'air compressor', 'sandals', 'power cord', 'insurance policies', 'xeno-89-sc', 'tray car', 'other 1932', 'tea', 'electrodes', 'driftwood candelabra', 'brief', 'curtains grommets', 'cosmetic base', 'innovation, and impact', 'golf balls', 'skirt a', 'bed with footrail', 'banana flavor', 'assembled - round', 'leader', \"wizard's castle\", 'and accessories.', 'arrowhead', 'custom keylight', 'carrier, tie down kit', 'plastic - grey - 4 x 4 inches', 'cable cross', 'spearmint', 'brackets & expander and metal chain)', 'light set', 'salt', 'usb dongle', 'soul robbery', 'drive rotors', 'demoiselle small', 'snap 12 pack', 'spiral staircases', 'glasses', 'caravan', 'air spring', 'streetracer', 'map', 'hard drive', 'bridesmaid dress', 'canvas', 'lapel pin', 'photograph', 'cleaning kit', 'short', 'faucet ', 'phone jacks', 'face wash', 'mounting kit', 'decal sheet', 'camera', 'door handles', 'saucepan, red', 'yarn ', 'scarf', 'tank', 'pedal', 'cover', 'cap', 'socks', 't shirt', 'stud', 'cable', 'mattress', 'flask', 'kits', 'glass', 'chair', 'cufflinks', 'scarlet', 'bra', 'headset', 'socket', 'adapter', 'hair pin', 'doors', 'lights', 'duvet', 'tumbler', 'trap system', 'cartridge', 'lollipop', 'calendar', 'swordtail', 'pellets', 'detox', 'pan', 'ups', 'cardigan', 'pool cleaner', 'clip', 'notebook', 'headband', 'convertible', 'air dryers', 'bulb', 'carving kit', 'wheels', 'divers', 'desk', 'washer', 'skillet', 'gel', 'shell', 'trap', 'inverter', 'humidifier', 'tapestry', 'scope', 'sheave', 'magnet', 'tires', 'recovery kit', 'swivel', 'jelly', 'chiller', 'bermuda', 'sleeper', 'd300', 'slipper', 'badge', 'tire ', 'roof rack', 'sling', 'mirror', 'swimsuit', 'motor drive', 'tablet sleeve', 'vest', 'coconut oil', 'prism', 'spoon', 'floor tool', 'thermal, top', 'knife holder', 'seat mount', 'cartridges', 'battery', 'red wine', 'pendulum', 'locket', 'hoodie', 'beanie', 'table', 'humidifier', 'shorts', 'sweatpants', 'dress', '', 'pellets', 'crusier base', 'hat', 'jacket', 'nets', 't-shirt', 'flag', 'ammunition', 'sweatshirt', 'pumps', 'impala', 'shampoo', 'mirror', 'backsack', 'tank top', 'shoes']\n"
     ]
    }
   ],
   "source": [
    "print(products)"
   ]
  },
  {
   "cell_type": "markdown",
   "id": "070714b9",
   "metadata": {},
   "source": [
    "# Spacy customization"
   ]
  },
  {
   "cell_type": "code",
   "execution_count": 14,
   "id": "5fdcbcd8",
   "metadata": {},
   "outputs": [],
   "source": [
    "#function to create input data for entity ruler\n",
    "def create_training_data(file, entity_type):\n",
    "    data = generate_brand_products(file)\n",
    "    patterns = []\n",
    "    for item in data:\n",
    "        pattern = {\n",
    "                    \"label\": entity_type,\n",
    "                    \"pattern\": item\n",
    "                  }\n",
    "        patterns.append(pattern)\n",
    "#     print(patterns)\n",
    "    return patterns"
   ]
  },
  {
   "cell_type": "code",
   "execution_count": 15,
   "id": "1433f4bf",
   "metadata": {},
   "outputs": [],
   "source": [
    "patterns1 = create_training_data(\"brand_names.json\", \"BRAND\")"
   ]
  },
  {
   "cell_type": "code",
   "execution_count": 16,
   "id": "c3eabfb8",
   "metadata": {},
   "outputs": [],
   "source": [
    "patterns2 = create_training_data(\"products.json\", \"PRODUCT\")"
   ]
  },
  {
   "cell_type": "code",
   "execution_count": 17,
   "id": "e1fbff9f",
   "metadata": {},
   "outputs": [],
   "source": [
    "patterns1.extend(patterns2)"
   ]
  },
  {
   "cell_type": "code",
   "execution_count": 18,
   "id": "72d990bc",
   "metadata": {},
   "outputs": [
    {
     "name": "stdout",
     "output_type": "stream",
     "text": [
      "[{'label': 'BRAND', 'pattern': 'ruby reds'}, {'label': 'BRAND', 'pattern': 'victorian'}, {'label': 'BRAND', 'pattern': 'michigan state spartans'}, {'label': 'BRAND', 'pattern': 'under armour'}, {'label': 'BRAND', 'pattern': 'drake bulldogs'}, {'label': 'BRAND', 'pattern': 'modernus'}, {'label': 'BRAND', 'pattern': 'homedics'}, {'label': 'BRAND', 'pattern': 'adidas'}, {'label': 'BRAND', 'pattern': 'cleveland browns'}, {'label': 'BRAND', 'pattern': 'harpa'}, {'label': 'BRAND', 'pattern': 'guanabana'}, {'label': 'BRAND', 'pattern': \"nature's promise\"}, {'label': 'BRAND', 'pattern': 'chrysler'}, {'label': 'BRAND', 'pattern': 'tech air'}, {'label': 'BRAND', 'pattern': 'east carolina pirates'}, {'label': 'BRAND', 'pattern': 'oase'}, {'label': 'BRAND', 'pattern': 'troy'}, {'label': 'BRAND', 'pattern': 'el gran'}, {'label': 'BRAND', 'pattern': 'iowa state cyclones'}, {'label': 'BRAND', 'pattern': 'reloj'}, {'label': 'BRAND', 'pattern': 'northern illinois'}, {'label': 'BRAND', 'pattern': 'bella'}, {'label': 'BRAND', 'pattern': 'sellier & bellot'}, {'label': 'BRAND', 'pattern': 'cammo'}, {'label': 'BRAND', 'pattern': 'boston bruins'}, {'label': 'BRAND', 'pattern': 'nike'}, {'label': 'BRAND', 'pattern': 'eden'}, {'label': 'BRAND', 'pattern': 'chevrolet'}, {'label': 'BRAND', 'pattern': 'alterna'}, {'label': 'BRAND', 'pattern': 'plyboo'}, {'label': 'BRAND', 'pattern': 'anatolius'}, {'label': 'BRAND', 'pattern': 'scientific anglers'}, {'label': 'BRAND', 'pattern': 'alabama'}, {'label': 'BRAND', 'pattern': 'purdue'}, {'label': 'BRAND', 'pattern': 'maxtens'}, {'label': 'BRAND', 'pattern': 'brand'}, {'label': 'BRAND', 'pattern': 'sterling'}, {'label': 'BRAND', 'pattern': 'hp'}, {'label': 'BRAND', 'pattern': 'east carolina pirates'}, {'label': 'BRAND', 'pattern': 'tekonsha'}, {'label': 'BRAND', 'pattern': 'wifly'}, {'label': 'BRAND', 'pattern': 'genairex'}, {'label': 'BRAND', 'pattern': 'philadelphia eagles '}, {'label': 'BRAND', 'pattern': 'kansas city chiefs'}, {'label': 'BRAND', 'pattern': 'goldwax'}, {'label': 'BRAND', 'pattern': 'nittaku'}, {'label': 'BRAND', 'pattern': 'oakland athletics'}, {'label': 'BRAND', 'pattern': 'thule'}, {'label': 'BRAND', 'pattern': 'creighton bluejays'}, {'label': 'BRAND', 'pattern': 'seattle seahawks'}, {'label': 'BRAND', 'pattern': 'vintage'}, {'label': 'BRAND', 'pattern': 'arizona wildcats'}, {'label': 'BRAND', 'pattern': 'miami hurricanes'}, {'label': 'BRAND', 'pattern': 'kentucky wildcats'}, {'label': 'BRAND', 'pattern': 'bo jackson'}, {'label': 'BRAND', 'pattern': 'mariposa'}, {'label': 'BRAND', 'pattern': 'alabama'}, {'label': 'BRAND', 'pattern': 'multi-stripe'}, {'label': 'BRAND', 'pattern': 'nike'}, {'label': 'BRAND', 'pattern': 'dayton flyers'}, {'label': 'BRAND', 'pattern': 'louisiana'}, {'label': 'BRAND', 'pattern': 'michigan state'}, {'label': 'BRAND', 'pattern': 'helena'}, {'label': 'BRAND', 'pattern': 'grizzly straw'}, {'label': 'BRAND', 'pattern': 'sam houston'}, {'label': 'BRAND', 'pattern': 'seminoles'}, {'label': 'BRAND', 'pattern': 'aggies'}, {'label': 'BRAND', 'pattern': 'duke'}, {'label': 'BRAND', 'pattern': 'colorblock'}, {'label': 'BRAND', 'pattern': 'archie griffin'}, {'label': 'BRAND', 'pattern': ' howard'}, {'label': 'BRAND', 'pattern': 'soldner-x 2:'}, {'label': 'BRAND', 'pattern': 'under armour'}, {'label': 'BRAND', 'pattern': 'nike '}, {'label': 'BRAND', 'pattern': 'edma'}, {'label': 'BRAND', 'pattern': 'fruta planta'}, {'label': 'BRAND', 'pattern': 'kansas jayhawks'}, {'label': 'BRAND', 'pattern': 'colosseum cincinnati'}, {'label': 'BRAND', 'pattern': 'biopsy '}, {'label': 'BRAND', 'pattern': 'chicago bulls'}, {'label': 'BRAND', 'pattern': 'biba'}, {'label': 'BRAND', 'pattern': 'tail'}, {'label': 'BRAND', 'pattern': 'rose '}, {'label': 'BRAND', 'pattern': ' norfolk'}, {'label': 'BRAND', 'pattern': 'virginia cavaliers'}, {'label': 'BRAND', 'pattern': 'majestic new york islanders'}, {'label': 'BRAND', 'pattern': 'miami marlins'}, {'label': 'BRAND', 'pattern': 'general electric'}, {'label': 'BRAND', 'pattern': 'georgia state panthers'}, {'label': 'BRAND', 'pattern': 'flannel '}, {'label': 'BRAND', 'pattern': 'adidas '}, {'label': 'BRAND', 'pattern': 'wichita '}, {'label': 'BRAND', 'pattern': 'redbirds'}, {'label': 'BRAND', 'pattern': 'arkansas razorbacks'}, {'label': 'BRAND', 'pattern': 'vc grapes'}, {'label': 'BRAND', 'pattern': 'royal canin'}, {'label': 'BRAND', 'pattern': 'kondos'}, {'label': 'BRAND', 'pattern': 'east carolina'}, {'label': 'BRAND', 'pattern': 'utep miners'}, {'label': 'BRAND', 'pattern': 'cucinapro '}, {'label': 'BRAND', 'pattern': 'north texas'}, {'label': 'BRAND', 'pattern': '47 brand fiu panthers'}, {'label': 'BRAND', 'pattern': 'swiss perf'}, {'label': 'BRAND', 'pattern': 'pennsylvania quakers'}, {'label': 'BRAND', 'pattern': 'new orleans'}, {'label': 'BRAND', 'pattern': 'legacy 44'}, {'label': 'BRAND', 'pattern': 'texas longhorns'}, {'label': 'BRAND', 'pattern': 'suzuki '}, {'label': 'BRAND', 'pattern': 'caneware mason'}, {'label': 'BRAND', 'pattern': 'farberware '}, {'label': 'BRAND', 'pattern': 'nfl football'}, {'label': 'BRAND', 'pattern': 'gators'}, {'label': 'BRAND', 'pattern': 'indiana'}, {'label': 'BRAND', 'pattern': 'puma'}, {'label': 'BRAND', 'pattern': '[gold package]'}, {'label': 'BRAND', 'pattern': 'sun devils'}, {'label': 'BRAND', 'pattern': 'cincinnati bearcats'}, {'label': 'BRAND', 'pattern': 'seagate'}, {'label': 'BRAND', 'pattern': 'furminator '}, {'label': 'BRAND', 'pattern': 'original retro'}, {'label': 'BRAND', 'pattern': 'pet dog'}, {'label': 'BRAND', 'pattern': 'wonder woman'}, {'label': 'BRAND', 'pattern': 'orleans saints'}, {'label': 'BRAND', 'pattern': 'ballon bleu'}, {'label': 'BRAND', 'pattern': 'andrew mccutchen'}, {'label': 'BRAND', 'pattern': 'h20 vac'}, {'label': 'BRAND', 'pattern': 'streamline'}, {'label': 'BRAND', 'pattern': 'norfolk state spartans'}, {'label': 'BRAND', 'pattern': 'french '}, {'label': 'BRAND', 'pattern': 'graco magnum'}, {'label': 'BRAND', 'pattern': 'washington wizards'}, {'label': 'BRAND', 'pattern': 'affinity'}, {'label': 'BRAND', 'pattern': 'swarovski'}, {'label': 'BRAND', 'pattern': 'adidas'}, {'label': 'BRAND', 'pattern': 'missouri state bears'}, {'label': 'BRAND', 'pattern': 'honda'}, {'label': 'BRAND', 'pattern': 'jayhawks'}, {'label': 'BRAND', 'pattern': 'st. louis'}, {'label': 'BRAND', 'pattern': 'immersion research'}, {'label': 'BRAND', 'pattern': 'soporte para'}, {'label': 'BRAND', 'pattern': 'orlando magic'}, {'label': 'BRAND', 'pattern': 'castle bar'}, {'label': 'BRAND', 'pattern': 'memphis'}, {'label': 'BRAND', 'pattern': 'florida a&m rattlers'}, {'label': 'BRAND', 'pattern': 'microsoft'}, {'label': 'BRAND', 'pattern': 'texas a&m'}, {'label': 'BRAND', 'pattern': 'pittsburgh steelers'}, {'label': 'BRAND', 'pattern': 'emergency essentials'}, {'label': 'BRAND', 'pattern': 'game bibs'}, {'label': 'BRAND', 'pattern': 'illinois '}, {'label': 'BRAND', 'pattern': 'the macallan'}, {'label': 'BRAND', 'pattern': 'lumatone -'}, {'label': 'BRAND', 'pattern': 'bravo'}, {'label': 'BRAND', 'pattern': 'ucf knights'}, {'label': 'BRAND', 'pattern': 'toddler danica patrick chase'}, {'label': 'BRAND', 'pattern': 'carolina panthers'}, {'label': 'BRAND', 'pattern': 'pits & chips'}, {'label': 'BRAND', 'pattern': 'havahartï'}, {'label': 'BRAND', 'pattern': 'missouri state'}, {'label': 'BRAND', 'pattern': 'fuel petcock'}, {'label': 'BRAND', 'pattern': 'logoart milwaukee'}, {'label': 'BRAND', 'pattern': 'georgetown hoyas'}, {'label': 'BRAND', 'pattern': 'notre dame'}, {'label': 'BRAND', 'pattern': 'uic flames'}, {'label': 'BRAND', 'pattern': 'purdue boilermakers'}, {'label': 'BRAND', 'pattern': 'graco'}, {'label': 'BRAND', 'pattern': 'kansas state wildcats'}, {'label': 'BRAND', 'pattern': 'baltimore raven'}, {'label': 'BRAND', 'pattern': 'washington state cougars'}, {'label': 'BRAND', 'pattern': 'sun lounger'}, {'label': 'BRAND', 'pattern': 'white sangria'}, {'label': 'BRAND', 'pattern': 'wrought'}, {'label': 'BRAND', 'pattern': 'sight '}, {'label': 'BRAND', 'pattern': 'ornate'}, {'label': 'BRAND', 'pattern': 'pacific tigers'}, {'label': 'BRAND', 'pattern': 'wrights rattail'}, {'label': 'BRAND', 'pattern': 'color block'}, {'label': 'BRAND', 'pattern': 'missouri tigers'}, {'label': 'BRAND', 'pattern': 'penn state nittany'}, {'label': 'BRAND', 'pattern': 'rutgers scarlet'}, {'label': 'BRAND', 'pattern': 'west virginia'}, {'label': 'BRAND', 'pattern': 'florida gators'}, {'label': 'BRAND', 'pattern': 'ohio state buckeyes'}, {'label': 'BRAND', 'pattern': ' wake forest'}, {'label': 'BRAND', 'pattern': 'detroit tigers'}, {'label': 'BRAND', 'pattern': 'rochester knighthawks'}, {'label': 'BRAND', 'pattern': 'victory forge'}, {'label': 'BRAND', 'pattern': 'indiana hoosiers'}, {'label': 'BRAND', 'pattern': 'chemiquip '}, {'label': 'BRAND', 'pattern': 'egr'}, {'label': 'BRAND', 'pattern': 'flo'}, {'label': 'BRAND', 'pattern': 'initial charm'}, {'label': 'BRAND', 'pattern': 'washington huskies'}, {'label': 'BRAND', 'pattern': 'depaul'}, {'label': 'BRAND', 'pattern': 'ungrounded'}, {'label': 'BRAND', 'pattern': 'the cure'}, {'label': 'BRAND', 'pattern': 'brad keselowski checkered'}, {'label': 'BRAND', 'pattern': 'soft fleece'}, {'label': 'BRAND', 'pattern': ' ufc'}, {'label': 'BRAND', 'pattern': 'ronda chestnut'}, {'label': 'BRAND', 'pattern': 'miltex buck'}, {'label': 'BRAND', 'pattern': 'advantage'}, {'label': 'BRAND', 'pattern': 'sentimental circus'}, {'label': 'BRAND', 'pattern': 'belmont bruins'}, {'label': 'BRAND', 'pattern': 'tony parker'}, {'label': 'BRAND', 'pattern': 'realtree'}, {'label': 'BRAND', 'pattern': 'iball andi'}, {'label': 'BRAND', 'pattern': 'lenovo'}, {'label': 'BRAND', 'pattern': 'darice'}, {'label': 'BRAND', 'pattern': 'doug hyde,'}, {'label': 'BRAND', 'pattern': 'ga'}, {'label': 'BRAND', 'pattern': 'vecchia deruta'}, {'label': 'BRAND', 'pattern': 'providence friars'}, {'label': 'BRAND', 'pattern': 'yakima'}, {'label': 'BRAND', 'pattern': 'saris freedom'}, {'label': 'BRAND', 'pattern': ' suzuki'}, {'label': 'BRAND', 'pattern': 'terance knighton'}, {'label': 'BRAND', 'pattern': 'galtech'}, {'label': 'BRAND', 'pattern': 'bmw'}, {'label': 'BRAND', 'pattern': 'texas tech red raiders'}, {'label': 'BRAND', 'pattern': 'gamo '}, {'label': 'BRAND', 'pattern': 'bud light'}, {'label': 'BRAND', 'pattern': 'blue-white'}, {'label': 'BRAND', 'pattern': 'rotatrim'}, {'label': 'BRAND', 'pattern': 'clear stamp '}, {'label': 'BRAND', 'pattern': 'fresno state bulldogs'}, {'label': 'BRAND', 'pattern': 'checkered flag'}, {'label': 'BRAND', 'pattern': 'britney one'}, {'label': 'BRAND', 'pattern': 'heels'}, {'label': 'BRAND', 'pattern': 'houston texans'}, {'label': 'BRAND', 'pattern': 'horses'}, {'label': 'BRAND', 'pattern': 'corvette camaro'}, {'label': 'BRAND', 'pattern': ' antigua'}, {'label': 'BRAND', 'pattern': 'free authority'}, {'label': 'BRAND', 'pattern': 'louisville cardinals'}, {'label': 'BRAND', 'pattern': 'nelly'}, {'label': 'BRAND', 'pattern': 'cc019 gpm'}, {'label': 'BRAND', 'pattern': 'pool guard'}, {'label': 'BRAND', 'pattern': 'peddinghaus'}, {'label': 'BRAND', 'pattern': 'kenwood '}, {'label': 'BRAND', 'pattern': 'custom promotion'}, {'label': 'BRAND', 'pattern': 'stephen f austin lumberjacks'}, {'label': 'BRAND', 'pattern': 'american dynamics'}, {'label': 'BRAND', 'pattern': 'oklahoma sooners'}, {'label': 'BRAND', 'pattern': 'eheim clips'}, {'label': 'BRAND', 'pattern': 'sony ericsson'}, {'label': 'BRAND', 'pattern': \"shepherd's\"}, {'label': 'BRAND', 'pattern': 'metal ex'}, {'label': 'BRAND', 'pattern': 'thuja cream'}, {'label': 'BRAND', 'pattern': 'brown michigan'}, {'label': 'BRAND', 'pattern': 'antigua brooklyn nets'}, {'label': 'BRAND', 'pattern': 'cycle country'}, {'label': 'BRAND', 'pattern': 'montana state bobcats'}, {'label': 'BRAND', 'pattern': 'clemson tigers'}, {'label': 'BRAND', 'pattern': 'utah jazz'}, {'label': 'BRAND', 'pattern': 'ibm amd'}, {'label': 'BRAND', 'pattern': 'wisconsin badgers'}, {'label': 'BRAND', 'pattern': 'charlotte hornets'}, {'label': 'BRAND', 'pattern': 'kreyol essence'}, {'label': 'BRAND', 'pattern': 'saltron '}, {'label': 'BRAND', 'pattern': 'mother bell'}, {'label': 'BRAND', 'pattern': 'sterling silver'}, {'label': 'BRAND', 'pattern': 'sportiqe'}, {'label': 'BRAND', 'pattern': 'contour'}, {'label': 'BRAND', 'pattern': 'the game'}, {'label': 'BRAND', 'pattern': \"'47 cincinnati\"}, {'label': 'BRAND', 'pattern': 'iwo jima'}, {'label': 'BRAND', 'pattern': 'l.a. dodgers'}, {'label': 'BRAND', 'pattern': 'seton hall'}, {'label': 'BRAND', 'pattern': 'doro phoneeasy'}, {'label': 'BRAND', 'pattern': 'aurora borealis'}, {'label': 'BRAND', 'pattern': '4 inch'}, {'label': 'BRAND', 'pattern': 'madwave'}, {'label': 'BRAND', 'pattern': 'drew butera'}, {'label': 'BRAND', 'pattern': 'vortex '}, {'label': 'BRAND', 'pattern': ' lsu tigers top'}, {'label': 'BRAND', 'pattern': 'bulldogs espn'}, {'label': 'BRAND', 'pattern': 'south dakota coyotes'}, {'label': 'BRAND', 'pattern': ' tennessee'}, {'label': 'BRAND', 'pattern': 'ultimate performance'}, {'label': 'BRAND', 'pattern': 'nikwax'}, {'label': 'BRAND', 'pattern': 'watt trinity'}, {'label': 'BRAND', 'pattern': 'continental tires'}, {'label': 'BRAND', 'pattern': 'darice '}, {'label': 'BRAND', 'pattern': 'cincinnati reds'}, {'label': 'BRAND', 'pattern': 'frightprops'}, {'label': 'BRAND', 'pattern': 'fotoquantum'}, {'label': 'BRAND', 'pattern': 'eheim '}, {'label': 'BRAND', 'pattern': 'loyola marymount'}, {'label': 'BRAND', 'pattern': 'uncle milton'}, {'label': 'BRAND', 'pattern': 'mitchell & ness'}, {'label': 'BRAND', 'pattern': 'fonthill'}, {'label': 'BRAND', 'pattern': 'denver broncos'}, {'label': 'BRAND', 'pattern': 'wincraft'}, {'label': 'BRAND', 'pattern': 'nfl'}, {'label': 'BRAND', 'pattern': 'cutter & buck'}, {'label': 'BRAND', 'pattern': 'cuce'}, {'label': 'BRAND', 'pattern': 'kansas city royals'}, {'label': 'BRAND', 'pattern': 'boise state broncos'}, {'label': 'BRAND', 'pattern': 'south carolina'}, {'label': 'BRAND', 'pattern': 'powertec'}, {'label': 'BRAND', 'pattern': 'vision '}, {'label': 'BRAND', 'pattern': 'appalachian state mountaineers'}, {'label': 'BRAND', 'pattern': 'milwaukee bucks'}, {'label': 'BRAND', 'pattern': 'hewlett packard '}, {'label': 'BRAND', 'pattern': 'hp '}, {'label': 'BRAND', 'pattern': 'kokeshi '}, {'label': 'BRAND', 'pattern': 'st louis cardinals'}, {'label': 'BRAND', 'pattern': 'dallas cowboys'}, {'label': 'BRAND', 'pattern': 'penn state nittany lions'}, {'label': 'BRAND', 'pattern': 'ylang ylang'}, {'label': 'BRAND', 'pattern': 'michigan state spartans'}, {'label': 'BRAND', 'pattern': 'yakima '}, {'label': 'BRAND', 'pattern': 'antigua pittsburgh penguins'}, {'label': 'BRAND', 'pattern': 'pepperdine waves'}, {'label': 'BRAND', 'pattern': 'philadelphia phillies'}, {'label': 'BRAND', 'pattern': 'neve'}, {'label': 'BRAND', 'pattern': 'swiss precimax '}, {'label': 'BRAND', 'pattern': 'circulon genesis'}, {'label': 'BRAND', 'pattern': 'buttons galore'}, {'label': 'BRAND', 'pattern': 'city rain'}, {'label': 'BRAND', 'pattern': 'enkeeo'}, {'label': 'BRAND', 'pattern': 'montana grizzlies'}, {'label': 'BRAND', 'pattern': 'majestic charcoal'}, {'label': 'BRAND', 'pattern': 'nitto'}, {'label': 'BRAND', 'pattern': 'dream girl '}, {'label': 'BRAND', 'pattern': 'bernat '}, {'label': 'BRAND', 'pattern': 'molex'}, {'label': 'BRAND', 'pattern': 'samsung '}, {'label': 'BRAND', 'pattern': 'ottawa senators'}, {'label': 'BRAND', 'pattern': 'yale bulldogs'}, {'label': 'BRAND', 'pattern': 'auburn tigers'}, {'label': 'BRAND', 'pattern': 'frye'}, {'label': 'BRAND', 'pattern': 'neoprene'}, {'label': 'BRAND', 'pattern': 'washington redskins'}, {'label': 'BRAND', 'pattern': 'chrysler'}, {'label': 'BRAND', 'pattern': 'esccali'}, {'label': 'BRAND', 'pattern': 'casio'}, {'label': 'BRAND', 'pattern': 'st. louis cardinals'}, {'label': 'BRAND', 'pattern': 'villanova wildcats'}, {'label': 'BRAND', 'pattern': 'forest demon decons'}, {'label': 'BRAND', 'pattern': 'nagasa'}, {'label': 'BRAND', 'pattern': 'troy university trojans'}, {'label': 'BRAND', 'pattern': 'minnesota golden gophers'}, {'label': 'BRAND', 'pattern': 'cleveland browns '}, {'label': 'BRAND', 'pattern': 'miami dolphins'}, {'label': 'BRAND', 'pattern': 'tennessee volunteers '}, {'label': 'BRAND', 'pattern': 'usc trojans '}, {'label': 'BRAND', 'pattern': 'northern illinois huskies'}, {'label': 'BRAND', 'pattern': 'ibm'}, {'label': 'BRAND', 'pattern': 'utah utes'}, {'label': 'BRAND', 'pattern': 'wallistic'}, {'label': 'BRAND', 'pattern': 'kokatat'}, {'label': 'BRAND', 'pattern': 'pigeon'}, {'label': 'BRAND', 'pattern': 'baltimore ravens'}, {'label': 'BRAND', 'pattern': 'blue violet '}, {'label': 'BRAND', 'pattern': 'g-iii sports'}, {'label': 'BRAND', 'pattern': 'abel'}, {'label': 'BRAND', 'pattern': 'shimano'}, {'label': 'BRAND', 'pattern': 'north carolina'}, {'label': 'BRAND', 'pattern': 'texas a&m aggies'}, {'label': 'BRAND', 'pattern': 'paisley'}, {'label': 'BRAND', 'pattern': 'linco-spectin'}, {'label': 'BRAND', 'pattern': 'lsu tigers'}, {'label': 'BRAND', 'pattern': 'illinois state redbirds'}, {'label': 'BRAND', 'pattern': 'harvard crimson'}, {'label': 'BRAND', 'pattern': 'emergency essentials '}, {'label': 'BRAND', 'pattern': 'maria theresa'}, {'label': 'BRAND', 'pattern': 'camelot'}, {'label': 'BRAND', 'pattern': 'zephyr '}, {'label': 'BRAND', 'pattern': 'dayna '}, {'label': 'BRAND', 'pattern': 'ga tech'}, {'label': 'BRAND', 'pattern': 'musclepharm'}, {'label': 'BRAND', 'pattern': 'vanderbilt commodores'}, {'label': 'BRAND', 'pattern': 'sea monkey'}, {'label': 'BRAND', 'pattern': 'georgia bulldogs'}, {'label': 'BRAND', 'pattern': 'alabama '}, {'label': 'BRAND', 'pattern': 'vcu rams'}, {'label': 'BRAND', 'pattern': 'louisiana tech bulldogs'}, {'label': 'BRAND', 'pattern': 'louis blues'}, {'label': 'BRAND', 'pattern': 'kansan city chiefs'}, {'label': 'BRAND', 'pattern': 'tatami'}, {'label': 'BRAND', 'pattern': 'onboard'}, {'label': 'BRAND', 'pattern': 'hyperdrive'}, {'label': 'BRAND', 'pattern': 'fiu panthers'}, {'label': 'BRAND', 'pattern': 'usmc'}, {'label': 'BRAND', 'pattern': 'wyoming cowboys'}, {'label': 'BRAND', 'pattern': 'tulip '}, {'label': 'BRAND', 'pattern': 'wichita state shockers'}, {'label': 'BRAND', 'pattern': 'golden eagles'}, {'label': 'BRAND', 'pattern': 'lousiville cardinals '}, {'label': 'BRAND', 'pattern': 'drake bulldogs'}, {'label': 'BRAND', 'pattern': 'pevonia botanica'}, {'label': 'BRAND', 'pattern': 'houston astros'}, {'label': 'BRAND', 'pattern': 'mississippi rebels'}, {'label': 'BRAND', 'pattern': 'chiffon '}, {'label': 'BRAND', 'pattern': 'gavin'}, {'label': 'BRAND', 'pattern': 'iowa state cyclones'}, {'label': 'BRAND', 'pattern': 'super bowl '}, {'label': 'BRAND', 'pattern': 'smu '}, {'label': 'BRAND', 'pattern': 'pittsburg steelers'}, {'label': 'BRAND', 'pattern': 'smith & wesson'}, {'label': 'BRAND', 'pattern': 'colosseum '}, {'label': 'BRAND', 'pattern': 'west virginia '}, {'label': 'BRAND', 'pattern': 'fanatics '}, {'label': 'BRAND', 'pattern': 'daewoo'}, {'label': 'BRAND', 'pattern': 'tailgates '}, {'label': 'BRAND', 'pattern': 'missouri state university'}, {'label': 'BRAND', 'pattern': 'apple'}, {'label': 'BRAND', 'pattern': 'luxemate'}, {'label': 'BRAND', 'pattern': 'fau owls'}, {'label': 'BRAND', 'pattern': 'forest friends '}, {'label': 'BRAND', 'pattern': 'smok galileo'}, {'label': 'BRAND', 'pattern': 'popular'}, {'label': 'BRAND', 'pattern': 'silver snakes'}, {'label': 'BRAND', 'pattern': 'nero giardini'}, {'label': 'BRAND', 'pattern': 'san francisco 49ers'}, {'label': 'BRAND', 'pattern': 'laurel'}, {'label': 'BRAND', 'pattern': 'jh design'}, {'label': 'BRAND', 'pattern': 'beacon - usb'}, {'label': 'BRAND', 'pattern': 'infant baltimore'}, {'label': 'BRAND', 'pattern': 'rolex 118238 mrp'}, {'label': 'BRAND', 'pattern': 'troy university'}, {'label': 'BRAND', 'pattern': 'door trail'}, {'label': 'BRAND', 'pattern': \"spring creek's\"}, {'label': 'BRAND', 'pattern': 'aspirador'}, {'label': 'BRAND', 'pattern': 'candyshell'}, {'label': 'BRAND', 'pattern': 'new orleans voodoo'}, {'label': 'BRAND', 'pattern': 'eliminall spot'}, {'label': 'BRAND', 'pattern': 'majestic threads'}, {'label': 'BRAND', 'pattern': 'connoisseur '}, {'label': 'BRAND', 'pattern': 'paul menard'}, {'label': 'BRAND', 'pattern': 'roxy juniors'}, {'label': 'BRAND', 'pattern': 'iv extension'}, {'label': 'BRAND', 'pattern': 'us peacekeeper'}, {'label': 'BRAND', 'pattern': 'scene setters '}, {'label': 'BRAND', 'pattern': 'glitter '}, {'label': 'BRAND', 'pattern': 'ankh '}, {'label': 'BRAND', 'pattern': 'orlando predators'}, {'label': 'BRAND', 'pattern': 'new era '}, {'label': 'BRAND', 'pattern': 'usa ultimate'}, {'label': 'BRAND', 'pattern': 'uncg spartans '}, {'label': 'BRAND', 'pattern': 'clearlight infrared'}, {'label': 'BRAND', 'pattern': 'central michigan chippewas'}, {'label': 'BRAND', 'pattern': 'ultra-thin'}, {'label': 'BRAND', 'pattern': 'neocutis'}, {'label': 'BRAND', 'pattern': 'zoo med'}, {'label': 'BRAND', 'pattern': 'travel berkey'}, {'label': 'BRAND', 'pattern': 'sagrantino'}, {'label': 'BRAND', 'pattern': 'barrett'}, {'label': 'BRAND', 'pattern': 'knuckleduster with'}, {'label': 'BRAND', 'pattern': 'spuik'}, {'label': 'BRAND', 'pattern': 'paula deen'}, {'label': 'BRAND', 'pattern': 'newbury '}, {'label': 'BRAND', 'pattern': 'three horn'}, {'label': 'BRAND', 'pattern': 'earlex'}, {'label': 'BRAND', 'pattern': 'weider victory'}, {'label': 'BRAND', 'pattern': 'sleeveless boucle'}, {'label': 'BRAND', 'pattern': 'ferris state bulldogs'}, {'label': 'BRAND', 'pattern': 'party essentials'}, {'label': 'BRAND', 'pattern': 'loyola marymount lions'}, {'label': 'BRAND', 'pattern': 'fordham rams'}, {'label': 'BRAND', 'pattern': 'arizona state sun devils'}, {'label': 'BRAND', 'pattern': 'wright state raiders'}, {'label': 'BRAND', 'pattern': 'talavera'}, {'label': 'BRAND', 'pattern': 'scottevest'}, {'label': 'BRAND', 'pattern': 'ocean rodeo'}, {'label': 'BRAND', 'pattern': 'candy cane'}, {'label': 'BRAND', 'pattern': 'black solid'}, {'label': 'BRAND', 'pattern': 'usa wincraft '}, {'label': 'BRAND', 'pattern': 'aqueon quietflow'}, {'label': 'BRAND', 'pattern': 'pf-2'}, {'label': 'BRAND', 'pattern': 'terra'}, {'label': 'BRAND', 'pattern': 'graco '}, {'label': 'BRAND', 'pattern': 'kansan jayhawks'}, {'label': 'BRAND', 'pattern': 'marshall thundering herd'}, {'label': 'BRAND', 'pattern': 'angel dear'}, {'label': 'BRAND', 'pattern': 'dw 5710 straight'}, {'label': 'BRAND', 'pattern': 'innokin itaste'}, {'label': 'BRAND', 'pattern': 'flower headband'}, {'label': 'BRAND', 'pattern': 'caramel harness'}, {'label': 'BRAND', 'pattern': 'coastal sayings'}, {'label': 'BRAND', 'pattern': 'antigua '}, {'label': 'BRAND', 'pattern': 'saint louis billikens'}, {'label': 'BRAND', 'pattern': 'agarwood'}, {'label': 'BRAND', 'pattern': 'alpine'}, {'label': 'BRAND', 'pattern': 'aventics'}, {'label': 'BRAND', 'pattern': 'body butter'}, {'label': 'BRAND', 'pattern': 'mustad '}, {'label': 'BRAND', 'pattern': 'fahad'}, {'label': 'BRAND', 'pattern': 'gabifresh'}, {'label': 'BRAND', 'pattern': 'xeon'}, {'label': 'BRAND', 'pattern': 'san antonio spurs'}, {'label': 'BRAND', 'pattern': 'lunargrand '}, {'label': 'BRAND', 'pattern': 'mottisfont'}, {'label': 'BRAND', 'pattern': 'cadillac'}, {'label': 'BRAND', 'pattern': 'rutgers '}, {'label': 'BRAND', 'pattern': 'fire sense'}, {'label': 'BRAND', 'pattern': 'joma '}, {'label': 'BRAND', 'pattern': 'tokenz dolly '}, {'label': 'BRAND', 'pattern': 'minnesota twins'}, {'label': 'BRAND', 'pattern': 'chicago bears'}, {'label': 'BRAND', 'pattern': 'riddell fresno'}, {'label': 'BRAND', 'pattern': 'smk'}, {'label': 'BRAND', 'pattern': 'cast '}, {'label': 'BRAND', 'pattern': 'off-the-shoulder'}, {'label': 'BRAND', 'pattern': 'super lumbar'}, {'label': 'BRAND', 'pattern': 'wilson cardiff'}, {'label': 'BRAND', 'pattern': 'personalized irish'}, {'label': 'BRAND', 'pattern': 'rapid city'}, {'label': 'BRAND', 'pattern': 'aceite'}, {'label': 'BRAND', 'pattern': 'spot '}, {'label': 'BRAND', 'pattern': 'chicago pneumatic'}, {'label': 'BRAND', 'pattern': 'delica '}, {'label': 'BRAND', 'pattern': 'st louis blues'}, {'label': 'BRAND', 'pattern': 'supreme '}, {'label': 'BRAND', 'pattern': 'daily car'}, {'label': 'BRAND', 'pattern': 'summerlite'}, {'label': 'BRAND', 'pattern': 'dainolite xeno'}, {'label': 'BRAND', 'pattern': 'seton hall pirates'}, {'label': 'BRAND', 'pattern': 'electrolux home'}, {'label': 'BRAND', 'pattern': 'other 1932'}, {'label': 'BRAND', 'pattern': 'santa clara broncos'}, {'label': 'BRAND', 'pattern': 'detox'}, {'label': 'BRAND', 'pattern': 'aqua medic'}, {'label': 'BRAND', 'pattern': 'driftwood candelabra'}, {'label': 'BRAND', 'pattern': 'fayreform '}, {'label': 'BRAND', 'pattern': 'rvca'}, {'label': 'BRAND', 'pattern': 'spectrum cilantro'}, {'label': 'BRAND', 'pattern': 'body wash'}, {'label': 'BRAND', 'pattern': 'columbia business'}, {'label': 'BRAND', 'pattern': 'testo unico'}, {'label': 'BRAND', 'pattern': 'jr motorsports'}, {'label': 'BRAND', 'pattern': 'colorado avalanche'}, {'label': 'BRAND', 'pattern': 'desigual skirt'}, {'label': 'BRAND', 'pattern': 'san diego chargers'}, {'label': 'BRAND', 'pattern': 'somerset bed'}, {'label': 'BRAND', 'pattern': 'banana flavor'}, {'label': 'BRAND', 'pattern': 'top of the world'}, {'label': 'BRAND', 'pattern': 'whisper ex'}, {'label': 'BRAND', 'pattern': 'proenza'}, {'label': 'BRAND', 'pattern': 'scientific anglers'}, {'label': 'BRAND', 'pattern': 'fisher-price'}, {'label': 'BRAND', 'pattern': 'zephyr'}, {'label': 'BRAND', 'pattern': 'champagne gifts'}, {'label': 'BRAND', 'pattern': 'h&h'}, {'label': 'BRAND', 'pattern': 'belkin'}, {'label': 'BRAND', 'pattern': 'micro torch'}, {'label': 'BRAND', 'pattern': 'los angeles kings '}, {'label': 'BRAND', 'pattern': 'yakima universal'}, {'label': 'BRAND', 'pattern': 'cal'}, {'label': 'BRAND', 'pattern': 'color picture'}, {'label': 'BRAND', 'pattern': 'freemotion ext'}, {'label': 'BRAND', 'pattern': 'eucalyptus spearmint'}, {'label': 'BRAND', 'pattern': 'colorquantum vinyl'}, {'label': 'BRAND', 'pattern': 'icicle lights'}, {'label': 'BRAND', 'pattern': 'instant ocean'}, {'label': 'BRAND', 'pattern': 'sennheiser '}, {'label': 'BRAND', 'pattern': 'equestrian boots'}, {'label': 'BRAND', 'pattern': 'minnesota lynx'}, {'label': 'BRAND', 'pattern': 'idaho vandals'}, {'label': 'BRAND', 'pattern': 'georgia tech'}, {'label': 'BRAND', 'pattern': \"sophocles' philoctetes\"}, {'label': 'BRAND', 'pattern': 'majestic terry'}, {'label': 'BRAND', 'pattern': 'camlin'}, {'label': 'BRAND', 'pattern': 'lyndall brakes'}, {'label': 'BRAND', 'pattern': 'santos demoiselle'}, {'label': 'BRAND', 'pattern': 'bumgenius flip'}, {'label': 'BRAND', 'pattern': 'solid wood'}, {'label': 'BRAND', 'pattern': 'new york knicks'}, {'label': 'BRAND', 'pattern': 'mahogany '}, {'label': 'BRAND', 'pattern': 'grand caravan'}, {'label': 'BRAND', 'pattern': 'the richest'}, {'label': 'BRAND', 'pattern': 'coors '}, {'label': 'BRAND', 'pattern': 'nitto terra'}, {'label': 'BRAND', 'pattern': 'new hampshire wildcats'}, {'label': 'BRAND', 'pattern': 'cross'}, {'label': 'BRAND', 'pattern': 'w02-358-3000 firestone'}, {'label': 'BRAND', 'pattern': 'majestic boston'}, {'label': 'BRAND', 'pattern': 'gloves streetracer'}, {'label': 'BRAND', 'pattern': 'kevin garnett'}, {'label': 'BRAND', 'pattern': 'franklin, tennessee'}, {'label': 'BRAND', 'pattern': 'dell'}, {'label': 'BRAND', 'pattern': 'hgst deskstar'}, {'label': 'BRAND', 'pattern': 'apparatus for'}, {'label': 'BRAND', 'pattern': 'oregon state beavers'}, {'label': 'BRAND', 'pattern': 'cole hamels'}, {'label': 'BRAND', 'pattern': 'marissa one'}, {'label': 'BRAND', 'pattern': 'the essential'}, {'label': 'BRAND', 'pattern': 'weatern kentucky '}, {'label': 'BRAND', 'pattern': 'studio 71'}, {'label': 'BRAND', 'pattern': 'ohio state '}, {'label': 'BRAND', 'pattern': 'inside'}, {'label': 'BRAND', 'pattern': 'team usa'}, {'label': 'BRAND', 'pattern': 'pitssburg state gorillas'}, {'label': 'BRAND', 'pattern': 'david ortiz'}, {'label': 'BRAND', 'pattern': 'chippewa'}, {'label': 'BRAND', 'pattern': 'platy '}, {'label': 'BRAND', 'pattern': 'vortex viper'}, {'label': 'BRAND', 'pattern': 'vella'}, {'label': 'BRAND', 'pattern': 'le creuset'}, {'label': 'BRAND', 'pattern': 'ohio bobcats'}, {'label': 'BRAND', 'pattern': 'archway '}, {'label': 'BRAND', 'pattern': 'kingston'}, {'label': 'BRAND', 'pattern': 'one phone'}, {'label': 'BRAND', 'pattern': 'rangoli herbal'}, {'label': 'BRAND', 'pattern': 'shuffle tech'}, {'label': 'BRAND', 'pattern': 'usc trojans'}, {'label': 'BRAND', 'pattern': 'uci '}, {'label': 'BRAND', 'pattern': 'hyacinth'}, {'label': 'BRAND', 'pattern': 'samsung'}, {'label': 'BRAND', 'pattern': 'large pair'}, {'label': 'BRAND', 'pattern': 'nuke '}, {'label': 'BRAND', 'pattern': 'circulon contempo'}, {'label': 'BRAND', 'pattern': 'red heart'}, {'label': 'BRAND', 'pattern': 'virginia tech hokies'}, {'label': 'BRAND', 'pattern': 'weego - adapter'}, {'label': 'BRAND', 'pattern': 'reebok'}, {'label': 'BRAND', 'pattern': 'new york yankees'}, {'label': 'BRAND', 'pattern': 'uconn huskies'}, {'label': 'BRAND', 'pattern': 'riviera '}, {'label': 'BRAND', 'pattern': 'yamah'}, {'label': 'BRAND', 'pattern': 'drexel dragons'}, {'label': 'BRAND', 'pattern': 'new orleans saints'}, {'label': 'BRAND', 'pattern': 'furinno'}, {'label': 'BRAND', 'pattern': 'joinery'}, {'label': 'BRAND', 'pattern': 'quicksilver'}, {'label': 'BRAND', 'pattern': 'houston state university'}, {'label': 'BRAND', 'pattern': 'atlanta falcons'}, {'label': 'BRAND', 'pattern': 'michigan wolverines'}, {'label': 'BRAND', 'pattern': 'swisher'}, {'label': 'BRAND', 'pattern': 'pepe'}, {'label': 'BRAND', 'pattern': 'perdomo'}, {'label': 'BRAND', 'pattern': 'north dakota state '}, {'label': 'BRAND', 'pattern': 'philadelphia eagles'}, {'label': 'BRAND', 'pattern': 'amora'}, {'label': 'BRAND', 'pattern': 'shire'}, {'label': 'BRAND', 'pattern': 'beeswax'}, {'label': 'BRAND', 'pattern': 'infinite circulon'}, {'label': 'BRAND', 'pattern': 'montre '}, {'label': 'BRAND', 'pattern': 'philadelphia flyers'}, {'label': 'BRAND', 'pattern': 'compressport'}, {'label': 'BRAND', 'pattern': 'maryland terrapins'}, {'label': 'BRAND', 'pattern': 'rottefella'}, {'label': 'BRAND', 'pattern': 'st louis'}, {'label': 'BRAND', 'pattern': 'western kentucky hilltoppers'}, {'label': 'BRAND', 'pattern': 'lincoln'}, {'label': 'BRAND', 'pattern': 'boston rex sox'}, {'label': 'BRAND', 'pattern': 'antec'}, {'label': 'BRAND', 'pattern': 'oregon ducks'}, {'label': 'BRAND', 'pattern': 'carhartt duck dog'}, {'label': 'BRAND', 'pattern': 'oakley '}, {'label': 'BRAND', 'pattern': 'marlon brando'}, {'label': 'BRAND', 'pattern': 'rutgers scarlet nights'}, {'label': 'BRAND', 'pattern': 'conbraco'}, {'label': 'BRAND', 'pattern': 'vanessa'}, {'label': 'BRAND', 'pattern': 'ponderosa'}, {'label': 'BRAND', 'pattern': 'pittsburgh steelers '}, {'label': 'BRAND', 'pattern': 'denver nuggets'}, {'label': 'BRAND', 'pattern': 'tcu horned frogs'}, {'label': 'BRAND', 'pattern': 'spyglass'}, {'label': 'BRAND', 'pattern': 'miami university redhawks'}, {'label': 'BRAND', 'pattern': 'cayman isle'}, {'label': 'BRAND', 'pattern': 'south carolina gamecocks'}, {'label': 'BRAND', 'pattern': 'princess bride'}, {'label': 'BRAND', 'pattern': 'colorado state rams'}, {'label': 'BRAND', 'pattern': 'penguin'}, {'label': 'BRAND', 'pattern': 'ucla bruins'}, {'label': 'BRAND', 'pattern': 'dove'}, {'label': 'BRAND', 'pattern': 'uab blazers'}, {'label': 'BRAND', 'pattern': 'kissy kissy'}, {'label': 'BRAND', 'pattern': 'st. tikhon'}, {'label': 'BRAND', 'pattern': 'metabox'}, {'label': 'BRAND', 'pattern': 'golden state warriors'}, {'label': 'BRAND', 'pattern': 'himalaya'}, {'label': 'BRAND', 'pattern': 'xolo'}, {'label': 'BRAND', 'pattern': 'wendtii crypt'}, {'label': 'BRAND', 'pattern': 'amron'}, {'label': 'BRAND', 'pattern': 'dainese'}, {'label': 'BRAND', 'pattern': 'texas rangers'}, {'label': 'BRAND', 'pattern': 'datejust'}, {'label': 'BRAND', 'pattern': 'carhartt'}, {'label': 'BRAND', 'pattern': 'intel'}, {'label': 'BRAND', 'pattern': 'timberland pro'}, {'label': 'BRAND', 'pattern': 'meinl '}, {'label': 'BRAND', 'pattern': 'epsealon'}, {'label': 'BRAND', 'pattern': 'mitsubishi'}, {'label': 'BRAND', 'pattern': 'kansan city cheifs'}, {'label': 'BRAND', 'pattern': 'ariat'}, {'label': 'BRAND', 'pattern': 'timber creek'}, {'label': 'BRAND', 'pattern': 'danner'}, {'label': 'BRAND', 'pattern': 'texas tech raiders'}, {'label': 'BRAND', 'pattern': 'double'}, {'label': 'BRAND', 'pattern': 'sims portex'}, {'label': 'BRAND', 'pattern': 'asics'}, {'label': 'BRAND', 'pattern': 'cooper'}, {'label': 'BRAND', 'pattern': 'jabra'}, {'label': 'BRAND', 'pattern': 'smu mustangs'}, {'label': 'BRAND', 'pattern': 'isabella oliver'}, {'label': 'BRAND', 'pattern': 'philadelphia 76ers'}, {'label': 'BRAND', 'pattern': 'bridgestone'}, {'label': 'BRAND', 'pattern': 'pieh'}, {'label': 'BRAND', 'pattern': 'sealife'}, {'label': 'BRAND', 'pattern': 'missourri tigers'}, {'label': 'BRAND', 'pattern': 'demon deacons'}, {'label': 'BRAND', 'pattern': 'baylor bears'}, {'label': 'BRAND', 'pattern': 'nascar'}, {'label': 'BRAND', 'pattern': 'datsun'}, {'label': 'BRAND', 'pattern': 'ray lewis baltimore'}, {'label': 'BRAND', 'pattern': 'turtle tuff'}, {'label': 'BRAND', 'pattern': 'tulsa'}, {'label': 'BRAND', 'pattern': 'steiner'}, {'label': 'BRAND', 'pattern': 'houston rockets'}, {'label': 'BRAND', 'pattern': 'decolights'}, {'label': 'BRAND', 'pattern': 'mackie'}, {'label': 'BRAND', 'pattern': 'xcalibur'}, {'label': 'BRAND', 'pattern': 'tamiya'}, {'label': 'BRAND', 'pattern': 'nissan'}, {'label': 'BRAND', 'pattern': 'cleveland browns'}, {'label': 'BRAND', 'pattern': 'nc state wolfpack'}, {'label': 'BRAND', 'pattern': 'jbl'}, {'label': 'BRAND', 'pattern': 'dallas cowboys '}, {'label': 'BRAND', 'pattern': 'tervis'}, {'label': 'BRAND', 'pattern': 'sanuk casa barco'}, {'label': 'BRAND', 'pattern': 'tanglefoot'}, {'label': 'BRAND', 'pattern': 'syracuse orange '}, {'label': 'BRAND', 'pattern': 'ricoh aficio'}, {'label': 'BRAND', 'pattern': 'detroit piston'}, {'label': 'BRAND', 'pattern': 'duke blue'}, {'label': 'BRAND', 'pattern': 'infinite'}, {'label': 'BRAND', 'pattern': 'montreal canadiens'}, {'label': 'BRAND', 'pattern': 'missouri state university bears'}, {'label': 'BRAND', 'pattern': 'pioneer'}, {'label': 'BRAND', 'pattern': 'elasto-gel'}, {'label': 'BRAND', 'pattern': 'temple owls'}, {'label': 'BRAND', 'pattern': 'eastern sierra'}, {'label': 'BRAND', 'pattern': 'hotlix'}, {'label': 'BRAND', 'pattern': 'nemesis '}, {'label': 'BRAND', 'pattern': 'rcbs '}, {'label': 'BRAND', 'pattern': 'alabama crimson tide'}, {'label': 'BRAND', 'pattern': 'bolas'}, {'label': 'BRAND', 'pattern': 'k-state wildcats'}, {'label': 'BRAND', 'pattern': 'potenza'}, {'label': 'BRAND', 'pattern': 'louisville '}, {'label': 'BRAND', 'pattern': 'archies'}, {'label': 'BRAND', 'pattern': 'syarcuse '}, {'label': 'BRAND', 'pattern': 'nebraska cornhuskers'}, {'label': 'BRAND', 'pattern': 'hollander'}, {'label': 'BRAND', 'pattern': 'red swordtail'}, {'label': 'BRAND', 'pattern': 'pittsburg state gorillas '}, {'label': 'BRAND', 'pattern': \"jack deniel's\"}, {'label': 'BRAND', 'pattern': 'mandarin'}, {'label': 'BRAND', 'pattern': 'phattys'}, {'label': 'BRAND', 'pattern': 'yogi'}, {'label': 'BRAND', 'pattern': 'circulon  '}, {'label': 'BRAND', 'pattern': 'bering'}, {'label': 'BRAND', 'pattern': 'acacia'}, {'label': 'BRAND', 'pattern': 'burg'}, {'label': 'BRAND', 'pattern': 'san jose state spartans'}, {'label': 'BRAND', 'pattern': 'telefono'}, {'label': 'BRAND', 'pattern': 'colorado buffaloes'}, {'label': 'BRAND', 'pattern': 'edelweiss'}, {'label': 'BRAND', 'pattern': 'pitt panthers '}, {'label': 'BRAND', 'pattern': 'ford'}, {'label': 'BRAND', 'pattern': 'eaton'}, {'label': 'BRAND', 'pattern': 'simms'}, {'label': 'BRAND', 'pattern': 'patio'}, {'label': 'BRAND', 'pattern': 'michigan '}, {'label': 'BRAND', 'pattern': 'pentair '}, {'label': 'BRAND', 'pattern': 'mytee'}, {'label': 'BRAND', 'pattern': 'cleveland cavaliers'}, {'label': 'BRAND', 'pattern': 'florida state seminoles'}, {'label': 'BRAND', 'pattern': 'abof'}, {'label': 'BRAND', 'pattern': 'hayward navigator'}, {'label': 'BRAND', 'pattern': 'ava'}, {'label': 'BRAND', 'pattern': 'msi'}, {'label': 'BRAND', 'pattern': 'oase'}, {'label': 'BRAND', 'pattern': 'omron'}, {'label': 'BRAND', 'pattern': 'beach belle'}, {'label': 'BRAND', 'pattern': 'savini'}, {'label': 'BRAND', 'pattern': 'farberware'}, {'label': 'BRAND', 'pattern': 'ubiquinol'}, {'label': 'BRAND', 'pattern': 'ufo '}, {'label': 'BRAND', 'pattern': 'memphis grizzlies'}, {'label': 'BRAND', 'pattern': 'plyboosound'}, {'label': 'BRAND', 'pattern': 'montana west'}, {'label': 'BRAND', 'pattern': 'san diego padres'}, {'label': 'BRAND', 'pattern': 'jobst'}, {'label': 'BRAND', 'pattern': 'colorado rockies'}, {'label': 'BRAND', 'pattern': 'atlants falcons'}, {'label': 'BRAND', 'pattern': 'lexus'}, {'label': 'BRAND', 'pattern': 'bendix'}, {'label': 'BRAND', 'pattern': 'nokia'}, {'label': 'BRAND', 'pattern': 'cincinnati bengals'}, {'label': 'BRAND', 'pattern': 'widow makers'}, {'label': 'BRAND', 'pattern': 'alpinestars jaws'}, {'label': 'BRAND', 'pattern': 'danze amalfi'}, {'label': 'BRAND', 'pattern': 'colosseum rutgers '}, {'label': 'BRAND', 'pattern': 'ghost dog'}, {'label': 'BRAND', 'pattern': 'santini mania'}, {'label': 'BRAND', 'pattern': 'ecopia'}, {'label': 'BRAND', 'pattern': 'powell'}, {'label': 'BRAND', 'pattern': 'pepperdine'}, {'label': 'BRAND', 'pattern': 'tsuba marugata'}, {'label': 'BRAND', 'pattern': 'super life'}, {'label': 'BRAND', 'pattern': 'baltimore'}, {'label': 'BRAND', 'pattern': 'angel wing'}, {'label': 'BRAND', 'pattern': 'heart to get'}, {'label': 'BRAND', 'pattern': 'redline'}, {'label': 'BRAND', 'pattern': 'citizen promaster'}, {'label': 'BRAND', 'pattern': 'fanatics'}, {'label': 'BRAND', 'pattern': 'cherryman'}, {'label': 'BRAND', 'pattern': 'villanova'}, {'label': 'BRAND', 'pattern': 'florida state semioles'}, {'label': 'BRAND', 'pattern': 'western ketucky hilltoppers'}, {'label': 'BRAND', 'pattern': 'blue clean prosumer'}, {'label': 'BRAND', 'pattern': 'ucla'}, {'label': 'BRAND', 'pattern': 'texa longhorns'}, {'label': 'BRAND', 'pattern': 'anolon '}, {'label': 'BRAND', 'pattern': 'vetguard'}, {'label': 'BRAND', 'pattern': 'portland state vikings'}, {'label': 'BRAND', 'pattern': 'xbox '}, {'label': 'BRAND', 'pattern': 'canon'}, {'label': 'BRAND', 'pattern': 'fly terminator'}, {'label': 'BRAND', 'pattern': 'telemecanique'}, {'label': 'BRAND', 'pattern': 'homedics'}, {'label': 'BRAND', 'pattern': 'giro'}, {'label': 'BRAND', 'pattern': 'mucha'}, {'label': 'BRAND', 'pattern': 'vortex'}, {'label': 'BRAND', 'pattern': 'ulm warhawks'}, {'label': 'BRAND', 'pattern': 'duke '}, {'label': 'BRAND', 'pattern': 'heine'}, {'label': 'BRAND', 'pattern': 'fayreform'}, {'label': 'BRAND', 'pattern': 'iowa hawkeyes '}, {'label': 'BRAND', 'pattern': 'tecnifibre'}, {'label': 'BRAND', 'pattern': 'dodge'}, {'label': 'BRAND', 'pattern': 'morehead'}, {'label': 'BRAND', 'pattern': 'marquette'}, {'label': 'BRAND', 'pattern': 'pittsburgh penguins'}, {'label': 'BRAND', 'pattern': 'united colors of benetton'}, {'label': 'BRAND', 'pattern': 'jacksonville jaguars'}, {'label': 'BRAND', 'pattern': 'uncg spartans'}, {'label': 'BRAND', 'pattern': 'north carolina state wolfpack'}, {'label': 'BRAND', 'pattern': 'bfgoodrich'}, {'label': 'BRAND', 'pattern': 'danica'}, {'label': 'BRAND', 'pattern': 'safetec'}, {'label': 'BRAND', 'pattern': 'hatch finatic'}, {'label': 'BRAND', 'pattern': 'daytona international'}, {'label': 'BRAND', 'pattern': 'promark'}, {'label': 'BRAND', 'pattern': 'towson tigers'}, {'label': 'BRAND', 'pattern': 'tcu horned froga'}, {'label': 'BRAND', 'pattern': 'dukuri'}, {'label': 'BRAND', 'pattern': 'gonzaga bulldogs'}, {'label': 'BRAND', 'pattern': 'ginseng'}, {'label': 'BRAND', 'pattern': 'coralife'}, {'label': 'BRAND', 'pattern': 'fishmate'}, {'label': 'BRAND', 'pattern': 'green bay packers'}, {'label': 'BRAND', 'pattern': 'nikon'}, {'label': 'BRAND', 'pattern': 'antigua baltimore'}, {'label': 'BRAND', 'pattern': 'kvoll '}, {'label': 'BRAND', 'pattern': 'kite'}, {'label': 'BRAND', 'pattern': 'rutergs scarlet knights'}, {'label': 'BRAND', 'pattern': 'alpinestars '}, {'label': 'BRAND', 'pattern': 'tennessee titans'}, {'label': 'BRAND', 'pattern': 'pirelli'}, {'label': 'BRAND', 'pattern': 'toyota'}, {'label': 'BRAND', 'pattern': 'surftech sup sling'}, {'label': 'BRAND', 'pattern': 'surftech'}, {'label': 'BRAND', 'pattern': 'monte carlo'}, {'label': 'BRAND', 'pattern': 'tennessee volunteers'}, {'label': 'BRAND', 'pattern': 'oklahoma state cowboys'}, {'label': 'BRAND', 'pattern': 'geovision'}, {'label': 'BRAND', 'pattern': 'mitch hedberg'}, {'label': 'BRAND', 'pattern': 'roxy '}, {'label': 'BRAND', 'pattern': 'memphis tigers'}, {'label': 'BRAND', 'pattern': 'adoretex'}, {'label': 'BRAND', 'pattern': 'toshiba'}, {'label': 'BRAND', 'pattern': 'hampton'}, {'label': 'BRAND', 'pattern': 'crest'}, {'label': 'BRAND', 'pattern': 'cincinnati beracats'}, {'label': 'BRAND', 'pattern': 'columbia missouri tigers'}, {'label': 'BRAND', 'pattern': 'chase '}, {'label': 'BRAND', 'pattern': 'washington capitals nhl'}, {'label': 'BRAND', 'pattern': 'weihrauch'}, {'label': 'BRAND', 'pattern': 'sky organics'}, {'label': 'BRAND', 'pattern': 'east orange'}, {'label': 'BRAND', 'pattern': 'simmons'}, {'label': 'BRAND', 'pattern': 'sterling'}, {'label': 'BRAND', 'pattern': 'pepperdine '}, {'label': 'BRAND', 'pattern': 'havahart'}, {'label': 'BRAND', 'pattern': 'guzzini'}, {'label': 'BRAND', 'pattern': 'depaul blue demons'}, {'label': 'BRAND', 'pattern': 'freemotion'}, {'label': 'BRAND', 'pattern': 'missouri state bearcats'}, {'label': 'BRAND', 'pattern': 'weest virginia mountaineers'}, {'label': 'BRAND', 'pattern': 'ufc carlos condit'}, {'label': 'BRAND', 'pattern': 'o-phos'}, {'label': 'BRAND', 'pattern': 'ortho-dream'}, {'label': 'BRAND', 'pattern': 'mississippi state bulldogs'}, {'label': 'BRAND', 'pattern': 'marching snare'}, {'label': 'BRAND', 'pattern': 'dallas stars'}, {'label': 'BRAND', 'pattern': 'gamerfuzion'}, {'label': 'BRAND', 'pattern': 'rutgers scarlet knights'}, {'label': 'BRAND', 'pattern': 'dyson'}, {'label': 'BRAND', 'pattern': 'bella'}, {'label': 'BRAND', 'pattern': 'carbonyte'}, {'label': 'BRAND', 'pattern': 'syracuse orange'}, {'label': 'BRAND', 'pattern': 'joma'}, {'label': 'BRAND', 'pattern': 'columbia fresno state bulldogs'}, {'label': 'BRAND', 'pattern': 'san jose spartans'}, {'label': 'BRAND', 'pattern': 'crown'}, {'label': 'BRAND', 'pattern': 'mares'}, {'label': 'BRAND', 'pattern': 'johnson rose'}, {'label': 'BRAND', 'pattern': 'dalbello'}, {'label': 'BRAND', 'pattern': 'arkon'}, {'label': 'BRAND', 'pattern': 'dale earnhardt'}, {'label': 'BRAND', 'pattern': 'north face'}, {'label': 'BRAND', 'pattern': 'north dakota state bison'}, {'label': 'BRAND', 'pattern': 'drifz'}, {'label': 'BRAND', 'pattern': 'famu rattlers'}, {'label': 'BRAND', 'pattern': 'storksak'}, {'label': 'BRAND', 'pattern': 'cleardraw'}, {'label': 'BRAND', 'pattern': 'c&d dynasty'}, {'label': 'BRAND', 'pattern': 'patons'}, {'label': 'BRAND', 'pattern': 'yamaha'}, {'label': 'BRAND', 'pattern': 'burg-layer'}, {'label': 'BRAND', 'pattern': 'ithaka'}, {'label': 'BRAND', 'pattern': 'detroit red wings'}, {'label': 'BRAND', 'pattern': '21king'}, {'label': 'BRAND', 'pattern': 'kempa'}, {'label': 'BRAND', 'pattern': 'cincinnate reds'}, {'label': 'BRAND', 'pattern': 'tampa bay'}, {'label': 'BRAND', 'pattern': 'mohair'}, {'label': 'BRAND', 'pattern': 'dobell'}, {'label': 'BRAND', 'pattern': 'aqua aura'}, {'label': 'BRAND', 'pattern': 'grand horizon'}, {'label': 'BRAND', 'pattern': 'lacoste'}, {'label': 'BRAND', 'pattern': 'knotty'}, {'label': 'BRAND', 'pattern': 'san jose sharks'}, {'label': 'BRAND', 'pattern': 'chevrolet'}, {'label': 'BRAND', 'pattern': 'tahitian'}, {'label': 'PRODUCT', 'pattern': 'locket'}, {'label': 'PRODUCT', 'pattern': 'monitor'}, {'label': 'PRODUCT', 'pattern': 'tshirt'}, {'label': 'PRODUCT', 'pattern': 'display case'}, {'label': 'PRODUCT', 'pattern': 'barwell fleet'}, {'label': 'PRODUCT', 'pattern': 'plaque'}, {'label': 'PRODUCT', 'pattern': 'hoodie'}, {'label': 'PRODUCT', 'pattern': 'garden flag'}, {'label': 'PRODUCT', 'pattern': 'dinning chair'}, {'label': 'PRODUCT', 'pattern': 'hoodie'}, {'label': 'PRODUCT', 'pattern': 'tshirt'}, {'label': 'PRODUCT', 'pattern': 'football'}, {'label': 'PRODUCT', 'pattern': 'sunglasses'}, {'label': 'PRODUCT', 'pattern': 'ornament'}, {'label': 'PRODUCT', 'pattern': 'money clip'}, {'label': 'PRODUCT', 'pattern': 'flip flops'}, {'label': 'PRODUCT', 'pattern': 'dress'}, {'label': 'PRODUCT', 'pattern': 'hat'}, {'label': 'PRODUCT', 'pattern': 'barrette'}, {'label': 'PRODUCT', 'pattern': 'hats'}, {'label': 'PRODUCT', 'pattern': 'photograph'}, {'label': 'PRODUCT', 'pattern': 'tank top'}, {'label': 'PRODUCT', 'pattern': 'soundtrack'}, {'label': 'PRODUCT', 'pattern': 'socks'}, {'label': 'PRODUCT', 'pattern': 'jersey'}, {'label': 'PRODUCT', 'pattern': 'guillotine'}, {'label': 'PRODUCT', 'pattern': 'pills'}, {'label': 'PRODUCT', 'pattern': 'tote'}, {'label': 'PRODUCT', 'pattern': 'sweatshirt'}, {'label': 'PRODUCT', 'pattern': 'bags'}, {'label': 'PRODUCT', 'pattern': 'sticker'}, {'label': 'PRODUCT', 'pattern': 'barware'}, {'label': 'PRODUCT', 'pattern': 'bulb kit'}, {'label': 'PRODUCT', 'pattern': 'mold'}, {'label': 'PRODUCT', 'pattern': 'polo'}, {'label': 'PRODUCT', 'pattern': 'cubby'}, {'label': 'PRODUCT', 'pattern': 'tstat'}, {'label': 'PRODUCT', 'pattern': 'shirt'}, {'label': 'PRODUCT', 'pattern': 'decal'}, {'label': 'PRODUCT', 'pattern': 'cleats'}, {'label': 'PRODUCT', 'pattern': 'gift set'}, {'label': 'PRODUCT', 'pattern': 'scrub'}, {'label': 'PRODUCT', 'pattern': 'dog dry'}, {'label': 'PRODUCT', 'pattern': 'expedition pack'}, {'label': 'PRODUCT', 'pattern': 'frame'}, {'label': 'PRODUCT', 'pattern': 'pizelle maker'}, {'label': 'PRODUCT', 'pattern': 'shuffler'}, {'label': 'PRODUCT', 'pattern': 'eye cream'}, {'label': 'PRODUCT', 'pattern': 'pineapple'}, {'label': 'PRODUCT', 'pattern': 'brushguard'}, {'label': 'PRODUCT', 'pattern': 'bowl'}, {'label': 'PRODUCT', 'pattern': 'teakettle'}, {'label': 'PRODUCT', 'pattern': 'lighter'}, {'label': 'PRODUCT', 'pattern': 'map 2012'}, {'label': 'PRODUCT', 'pattern': 'training'}, {'label': 'PRODUCT', 'pattern': 'lid'}, {'label': 'PRODUCT', 'pattern': 'jacket'}, {'label': 'PRODUCT', 'pattern': 'hard disk'}, {'label': 'PRODUCT', 'pattern': 'dog'}, {'label': 'PRODUCT', 'pattern': 'flooring'}, {'label': 'PRODUCT', 'pattern': 'tag'}, {'label': 'PRODUCT', 'pattern': 'cape'}, {'label': 'PRODUCT', 'pattern': 'diamonds'}, {'label': 'PRODUCT', 'pattern': 'cleaner'}, {'label': 'PRODUCT', 'pattern': 'shoes'}, {'label': 'PRODUCT', 'pattern': 'powder'}, {'label': 'PRODUCT', 'pattern': 'extension'}, {'label': 'PRODUCT', 'pattern': 'tie'}, {'label': 'PRODUCT', 'pattern': 'backpack'}, {'label': 'PRODUCT', 'pattern': 'touring'}, {'label': 'PRODUCT', 'pattern': 'riflescope'}, {'label': 'PRODUCT', 'pattern': 'accessories'}, {'label': 'PRODUCT', 'pattern': 'civic lx'}, {'label': 'PRODUCT', 'pattern': 'netlimited'}, {'label': 'PRODUCT', 'pattern': 'sign'}, {'label': 'PRODUCT', 'pattern': 'skirt'}, {'label': 'PRODUCT', 'pattern': 'repisa'}, {'label': 'PRODUCT', 'pattern': 'marker'}, {'label': 'PRODUCT', 'pattern': 'pad'}, {'label': 'PRODUCT', 'pattern': 'slipper'}, {'label': 'PRODUCT', 'pattern': 'card'}, {'label': 'PRODUCT', 'pattern': 'sugar'}, {'label': 'PRODUCT', 'pattern': 'overalls'}, {'label': 'PRODUCT', 'pattern': 'tee'}, {'label': 'PRODUCT', 'pattern': 'oak'}, {'label': 'PRODUCT', 'pattern': 'pump'}, {'label': 'PRODUCT', 'pattern': 'thermal halfzip'}, {'label': 'PRODUCT', 'pattern': 'set'}, {'label': 'PRODUCT', 'pattern': 'playlist'}, {'label': 'PRODUCT', 'pattern': 'kit'}, {'label': 'PRODUCT', 'pattern': 'necklace'}, {'label': 'PRODUCT', 'pattern': 'lanyard'}, {'label': 'PRODUCT', 'pattern': 'vibrator'}, {'label': 'PRODUCT', 'pattern': 'earbuds'}, {'label': 'PRODUCT', 'pattern': 'sprayer'}, {'label': 'PRODUCT', 'pattern': 'table'}, {'label': 'PRODUCT', 'pattern': 'freezer'}, {'label': 'PRODUCT', 'pattern': 'rosettes'}, {'label': 'PRODUCT', 'pattern': 'spigot'}, {'label': 'PRODUCT', 'pattern': 'tracks'}, {'label': 'PRODUCT', 'pattern': 'bichir'}, {'label': 'PRODUCT', 'pattern': 'cord'}, {'label': 'PRODUCT', 'pattern': 'bag'}, {'label': 'PRODUCT', 'pattern': 'belt'}, {'label': 'PRODUCT', 'pattern': 'sata'}, {'label': 'PRODUCT', 'pattern': 'pullover'}, {'label': 'PRODUCT', 'pattern': 'flyknit'}, {'label': 'PRODUCT', 'pattern': 'keychain'}, {'label': 'PRODUCT', 'pattern': 'decept'}, {'label': 'PRODUCT', 'pattern': 'fuller'}, {'label': 'PRODUCT', 'pattern': 'lamp'}, {'label': 'PRODUCT', 'pattern': 'fleece'}, {'label': 'PRODUCT', 'pattern': 'bracelet'}, {'label': 'PRODUCT', 'pattern': 'suncatcher'}, {'label': 'PRODUCT', 'pattern': 'bed'}, {'label': 'PRODUCT', 'pattern': 'top'}, {'label': 'PRODUCT', 'pattern': 'package'}, {'label': 'PRODUCT', 'pattern': 'curettes'}, {'label': 'PRODUCT', 'pattern': 'shake'}, {'label': 'PRODUCT', 'pattern': 'iball'}, {'label': 'PRODUCT', 'pattern': 'tablet'}, {'label': 'PRODUCT', 'pattern': 'watch'}, {'label': 'PRODUCT', 'pattern': 'book'}, {'label': 'PRODUCT', 'pattern': 'roof'}, {'label': 'PRODUCT', 'pattern': 'bike rack'}, {'label': 'PRODUCT', 'pattern': 'bike'}, {'label': 'PRODUCT', 'pattern': 'case'}, {'label': 'PRODUCT', 'pattern': 'umbrella'}, {'label': 'PRODUCT', 'pattern': 'horn'}, {'label': 'PRODUCT', 'pattern': 'barricade'}, {'label': 'PRODUCT', 'pattern': 'car'}, {'label': 'PRODUCT', 'pattern': 'beanie'}, {'label': 'PRODUCT', 'pattern': 'koozie'}, {'label': 'PRODUCT', 'pattern': 'meter'}, {'label': 'PRODUCT', 'pattern': 'trimmer'}, {'label': 'PRODUCT', 'pattern': 'stamps'}, {'label': 'PRODUCT', 'pattern': 'troika'}, {'label': 'PRODUCT', 'pattern': 'valve'}, {'label': 'PRODUCT', 'pattern': 'towels'}, {'label': 'PRODUCT', 'pattern': 'headband'}, {'label': 'PRODUCT', 'pattern': 'alloy'}, {'label': 'PRODUCT', 'pattern': 'alarm'}, {'label': 'PRODUCT', 'pattern': 'hammer'}, {'label': 'PRODUCT', 'pattern': 'flag'}, {'label': 'PRODUCT', 'pattern': ' hard drive'}, {'label': 'PRODUCT', 'pattern': 'spary bar'}, {'label': 'PRODUCT', 'pattern': 'xperia'}, {'label': 'PRODUCT', 'pattern': 'pin'}, {'label': 'PRODUCT', 'pattern': 'door'}, {'label': 'PRODUCT', 'pattern': 'cream'}, {'label': 'PRODUCT', 'pattern': 'wallet'}, {'label': 'PRODUCT', 'pattern': 'processor'}, {'label': 'PRODUCT', 'pattern': 'clock'}, {'label': 'PRODUCT', 'pattern': 'caster oil'}, {'label': 'PRODUCT', 'pattern': 'spa'}, {'label': 'PRODUCT', 'pattern': 'charm'}, {'label': 'PRODUCT', 'pattern': 'ipod'}, {'label': 'PRODUCT', 'pattern': 'sculpture'}, {'label': 'PRODUCT', 'pattern': 'phone'}, {'label': 'PRODUCT', 'pattern': 'scanner'}, {'label': 'PRODUCT', 'pattern': 'bottle'}, {'label': 'PRODUCT', 'pattern': 'sparkler'}, {'label': 'PRODUCT', 'pattern': 'support'}, {'label': 'PRODUCT', 'pattern': 'magnets'}, {'label': 'PRODUCT', 'pattern': 'box'}, {'label': 'PRODUCT', 'pattern': 'viper'}, {'label': 'PRODUCT', 'pattern': 'wash'}, {'label': 'PRODUCT', 'pattern': 'piggy bank'}, {'label': 'PRODUCT', 'pattern': 'fixture'}, {'label': 'PRODUCT', 'pattern': 'mousepad'}, {'label': 'PRODUCT', 'pattern': 'bsw'}, {'label': 'PRODUCT', 'pattern': 'catalog'}, {'label': 'PRODUCT', 'pattern': 'hdd'}, {'label': 'PRODUCT', 'pattern': 'studio tools'}, {'label': 'PRODUCT', 'pattern': 'connector'}, {'label': 'PRODUCT', 'pattern': 'ant farm'}, {'label': 'PRODUCT', 'pattern': 'light'}, {'label': 'PRODUCT', 'pattern': 'thermal'}, {'label': 'PRODUCT', 'pattern': 'short'}, {'label': 'PRODUCT', 'pattern': 'shorts'}, {'label': 'PRODUCT', 'pattern': 'armbands'}, {'label': 'PRODUCT', 'pattern': 'boots'}, {'label': 'PRODUCT', 'pattern': 'pants'}, {'label': 'PRODUCT', 'pattern': 'cufflinks'}, {'label': 'PRODUCT', 'pattern': 'pant'}, {'label': 'PRODUCT', 'pattern': 'helmet'}, {'label': 'PRODUCT', 'pattern': 'logo'}, {'label': 'PRODUCT', 'pattern': 't shirt'}, {'label': 'PRODUCT', 'pattern': 'bra'}, {'label': 'PRODUCT', 'pattern': 'banner'}, {'label': 'PRODUCT', 'pattern': 'skort'}, {'label': 'PRODUCT', 'pattern': 'short '}, {'label': 'PRODUCT', 'pattern': 'tank'}, {'label': 'PRODUCT', 'pattern': 'slippers'}, {'label': 'PRODUCT', 'pattern': 'scarf'}, {'label': 'PRODUCT', 'pattern': 'visor'}, {'label': 'PRODUCT', 'pattern': 'sock '}, {'label': 'PRODUCT', 'pattern': 'tanktop'}, {'label': 'PRODUCT', 'pattern': 'sweatpants'}, {'label': 'PRODUCT', 'pattern': 'sandals'}, {'label': 'PRODUCT', 'pattern': 'uniform'}, {'label': 'PRODUCT', 'pattern': 'cap'}, {'label': 'PRODUCT', 'pattern': 'hoody'}, {'label': 'PRODUCT', 'pattern': 'hem'}, {'label': 'PRODUCT', 'pattern': 'creeper'}, {'label': 'PRODUCT', 'pattern': 'bodysuit set'}, {'label': 'PRODUCT', 'pattern': 'basketball'}, {'label': 'PRODUCT', 'pattern': 'sedan'}, {'label': 'PRODUCT', 'pattern': 'lunch box'}, {'label': 'PRODUCT', 'pattern': 'workbench'}, {'label': 'PRODUCT', 'pattern': 'violin'}, {'label': 'PRODUCT', 'pattern': 'switch'}, {'label': 'PRODUCT', 'pattern': 'dolls'}, {'label': 'PRODUCT', 'pattern': 'oil'}, {'label': 'PRODUCT', 'pattern': 'bicycle carrier'}, {'label': 'PRODUCT', 'pattern': 'monitors'}, {'label': 'PRODUCT', 'pattern': 'bakeware set'}, {'label': 'PRODUCT', 'pattern': 'bicycle'}, {'label': 'PRODUCT', 'pattern': 'ponytail holder'}, {'label': 'PRODUCT', 'pattern': 'grappler'}, {'label': 'PRODUCT', 'pattern': 'mug'}, {'label': 'PRODUCT', 'pattern': 'melissa'}, {'label': 'PRODUCT', 'pattern': 'zipper binder case'}, {'label': 'PRODUCT', 'pattern': 'base'}, {'label': 'PRODUCT', 'pattern': 'softmodem'}, {'label': 'PRODUCT', 'pattern': 'scale'}, {'label': 'PRODUCT', 'pattern': 'stand'}, {'label': 'PRODUCT', 'pattern': 'plate'}, {'label': 'PRODUCT', 'pattern': 'mural'}, {'label': 'PRODUCT', 'pattern': 'pant '}, {'label': 'PRODUCT', 'pattern': 'panty'}, {'label': 'PRODUCT', 'pattern': 'earrings'}, {'label': 'PRODUCT', 'pattern': 'bull trout'}, {'label': 'PRODUCT', 'pattern': 'panties'}, {'label': 'PRODUCT', 'pattern': 'tablecloth'}, {'label': 'PRODUCT', 'pattern': 'calorie'}, {'label': 'PRODUCT', 'pattern': 'chandelier'}, {'label': 'PRODUCT', 'pattern': 'scoop'}, {'label': 'PRODUCT', 'pattern': 'vaporizer'}, {'label': 'PRODUCT', 'pattern': 'cling sheet'}, {'label': 'PRODUCT', 'pattern': 'laserjet'}, {'label': 'PRODUCT', 'pattern': 'glove '}, {'label': 'PRODUCT', 'pattern': 'protein'}, {'label': 'PRODUCT', 'pattern': 'emblem'}, {'label': 'PRODUCT', 'pattern': 'gshock'}, {'label': 'PRODUCT', 'pattern': 'posters'}, {'label': 'PRODUCT', 'pattern': 'coin bank'}, {'label': 'PRODUCT', 'pattern': 'premier'}, {'label': 'PRODUCT', 'pattern': 'gloves'}, {'label': 'PRODUCT', 'pattern': 'cling'}, {'label': 'PRODUCT', 'pattern': 'tattoo kit'}, {'label': 'PRODUCT', 'pattern': 'license plate'}, {'label': 'PRODUCT', 'pattern': 'lotion'}, {'label': 'PRODUCT', 'pattern': 'player'}, {'label': 'PRODUCT', 'pattern': 'dvd'}, {'label': 'PRODUCT', 'pattern': 'pistol'}, {'label': 'PRODUCT', 'pattern': 'galaxy'}, {'label': 'PRODUCT', 'pattern': 'bow'}, {'label': 'PRODUCT', 'pattern': 'recorder'}, {'label': 'PRODUCT', 'pattern': 'keyboard'}, {'label': 'PRODUCT', 'pattern': 'mod'}, {'label': 'PRODUCT', 'pattern': 'ring'}, {'label': 'PRODUCT', 'pattern': 'ecc dimm'}, {'label': 'PRODUCT', 'pattern': 'apricot'}, {'label': 'PRODUCT', 'pattern': 'sas 2 pack'}, {'label': 'PRODUCT', 'pattern': 'usb'}, {'label': 'PRODUCT', 'pattern': 'president watch'}, {'label': 'PRODUCT', 'pattern': 'trail by moonlight'}, {'label': 'PRODUCT', 'pattern': 'rowing packages'}, {'label': 'PRODUCT', 'pattern': 'limpia oidos'}, {'label': 'PRODUCT', 'pattern': 'cases'}, {'label': 'PRODUCT', 'pattern': 'on for cats'}, {'label': 'PRODUCT', 'pattern': 'thermometer'}, {'label': 'PRODUCT', 'pattern': 'sweater'}, {'label': 'PRODUCT', 'pattern': 'ipad'}, {'label': 'PRODUCT', 'pattern': 'needle'}, {'label': 'PRODUCT', 'pattern': 'figurines'}, {'label': 'PRODUCT', 'pattern': 'pendant'}, {'label': 'PRODUCT', 'pattern': 'purse'}, {'label': 'PRODUCT', 'pattern': 'sauna dome'}, {'label': 'PRODUCT', 'pattern': 'rubber duck'}, {'label': 'PRODUCT', 'pattern': 'case for ipad2'}, {'label': 'PRODUCT', 'pattern': 'day cream'}, {'label': 'PRODUCT', 'pattern': 'spot lamps'}, {'label': 'PRODUCT', 'pattern': 'travel berkey'}, {'label': 'PRODUCT', 'pattern': 'wine'}, {'label': 'PRODUCT', 'pattern': 'metal'}, {'label': 'PRODUCT', 'pattern': 'with horses'}, {'label': 'PRODUCT', 'pattern': 'cookware'}, {'label': 'PRODUCT', 'pattern': 'glass '}, {'label': 'PRODUCT', 'pattern': 'spary '}, {'label': 'PRODUCT', 'pattern': 'berry'}, {'label': 'PRODUCT', 'pattern': 'forks'}, {'label': 'PRODUCT', 'pattern': 'percolator'}, {'label': 'PRODUCT', 'pattern': 'cooler'}, {'label': 'PRODUCT', 'pattern': 'boxers underwear'}, {'label': 'PRODUCT', 'pattern': 'kite'}, {'label': 'PRODUCT', 'pattern': 'filter'}, {'label': 'PRODUCT', 'pattern': 'kit '}, {'label': 'PRODUCT', 'pattern': 'atomizer'}, {'label': 'PRODUCT', 'pattern': 'saucepan'}, {'label': 'PRODUCT', 'pattern': 'harness'}, {'label': 'PRODUCT', 'pattern': 'heels'}, {'label': 'PRODUCT', 'pattern': 'mugs'}, {'label': 'PRODUCT', 'pattern': 'hooks'}, {'label': 'PRODUCT', 'pattern': 'underwire'}, {'label': 'PRODUCT', 'pattern': 'shoe'}, {'label': 'PRODUCT', 'pattern': 'wingtip'}, {'label': 'PRODUCT', 'pattern': ' bed'}, {'label': 'PRODUCT', 'pattern': 'golf balls'}, {'label': 'PRODUCT', 'pattern': 'heater'}, {'label': 'PRODUCT', 'pattern': 'jacket '}, {'label': 'PRODUCT', 'pattern': 'rifle'}, {'label': 'PRODUCT', 'pattern': 'knob'}, {'label': 'PRODUCT', 'pattern': ' dress'}, {'label': 'PRODUCT', 'pattern': 'memory foam'}, {'label': 'PRODUCT', 'pattern': 'cigar '}, {'label': 'PRODUCT', 'pattern': ' map'}, {'label': 'PRODUCT', 'pattern': ' cufflinks'}, {'label': 'PRODUCT', 'pattern': 'air compressor'}, {'label': 'PRODUCT', 'pattern': ' sandals'}, {'label': 'PRODUCT', 'pattern': 'power cord'}, {'label': 'PRODUCT', 'pattern': 'insurance policies'}, {'label': 'PRODUCT', 'pattern': 'xeno89sc'}, {'label': 'PRODUCT', 'pattern': 'tray car'}, {'label': 'PRODUCT', 'pattern': 'other 1932'}, {'label': 'PRODUCT', 'pattern': 'tea'}, {'label': 'PRODUCT', 'pattern': 'v electrodes'}, {'label': 'PRODUCT', 'pattern': 'driftwood candelabra'}, {'label': 'PRODUCT', 'pattern': 'brief'}, {'label': 'PRODUCT', 'pattern': 'curtains grommets'}, {'label': 'PRODUCT', 'pattern': 'cosmetic base'}, {'label': 'PRODUCT', 'pattern': 'innovation and impact'}, {'label': 'PRODUCT', 'pattern': 'marzoaprile'}, {'label': 'PRODUCT', 'pattern': 'tailgate toss 20'}, {'label': 'PRODUCT', 'pattern': 'khaki'}, {'label': 'PRODUCT', 'pattern': 'skirt a'}, {'label': 'PRODUCT', 'pattern': 'bed with footrail'}, {'label': 'PRODUCT', 'pattern': 'banana flavor'}, {'label': 'PRODUCT', 'pattern': 'assembled  round'}, {'label': 'PRODUCT', 'pattern': 'leader'}, {'label': 'PRODUCT', 'pattern': 'wizards castle'}, {'label': 'PRODUCT', 'pattern': 'and accessories'}, {'label': 'PRODUCT', 'pattern': 'arrowhead'}, {'label': 'PRODUCT', 'pattern': 'custom keylight'}, {'label': 'PRODUCT', 'pattern': 'carrier tie down kit'}, {'label': 'PRODUCT', 'pattern': 'odyssey'}, {'label': 'PRODUCT', 'pattern': 'plastic  grey  4 x 4 inches'}, {'label': 'PRODUCT', 'pattern': 'cable cross'}, {'label': 'PRODUCT', 'pattern': 'spearmint eo'}, {'label': 'PRODUCT', 'pattern': 'brackets  expander and metal chain'}, {'label': 'PRODUCT', 'pattern': 'light set'}, {'label': 'PRODUCT', 'pattern': 'salt'}, {'label': 'PRODUCT', 'pattern': 'usb dongle'}, {'label': 'PRODUCT', 'pattern': 'equestrian boots italian ridingboots'}, {'label': 'PRODUCT', 'pattern': 'soul robbery'}, {'label': 'PRODUCT', 'pattern': 'drive rotors'}, {'label': 'PRODUCT', 'pattern': 'demoiselle small'}, {'label': 'PRODUCT', 'pattern': 'bottle holder'}, {'label': 'PRODUCT', 'pattern': 'snap 12 pack'}, {'label': 'PRODUCT', 'pattern': 'spiral staircases'}, {'label': 'PRODUCT', 'pattern': 'glasses'}, {'label': 'PRODUCT', 'pattern': 'caravan'}, {'label': 'PRODUCT', 'pattern': 'town with video'}, {'label': 'PRODUCT', 'pattern': 'air spring'}, {'label': 'PRODUCT', 'pattern': 'street map 4727740'}, {'label': 'PRODUCT', 'pattern': 'k w9d988'}, {'label': 'PRODUCT', 'pattern': 'hard drive'}, {'label': 'PRODUCT', 'pattern': 'sous vide'}, {'label': 'PRODUCT', 'pattern': 'bridesmaid dress'}, {'label': 'PRODUCT', 'pattern': 'combat taekwondo'}, {'label': 'PRODUCT', 'pattern': 'canvas'}, {'label': 'PRODUCT', 'pattern': 'appraisal process'}, {'label': 'PRODUCT', 'pattern': 'lapel pin'}, {'label': 'PRODUCT', 'pattern': 'cable'}, {'label': 'PRODUCT', 'pattern': 'photograph'}, {'label': 'PRODUCT', 'pattern': 'cleaning kit'}, {'label': 'PRODUCT', 'pattern': 'xlr reticle'}, {'label': 'PRODUCT', 'pattern': 'faucet '}, {'label': 'PRODUCT', 'pattern': 'phone jacks'}, {'label': 'PRODUCT', 'pattern': 'face wash'}, {'label': 'PRODUCT', 'pattern': 'mounting kit'}, {'label': 'PRODUCT', 'pattern': 'decal sheet'}, {'label': 'PRODUCT', 'pattern': 'chiller'}, {'label': 'PRODUCT', 'pattern': 'craft lanyard'}, {'label': 'PRODUCT', 'pattern': 'camera'}, {'label': 'PRODUCT', 'pattern': 'door handles'}, {'label': 'PRODUCT', 'pattern': 'saucepan red'}, {'label': 'PRODUCT', 'pattern': 'yarn '}, {'label': 'PRODUCT', 'pattern': 'product'}, {'label': 'PRODUCT', 'pattern': 'charm'}, {'label': 'PRODUCT', 'pattern': 'monitor'}, {'label': 'PRODUCT', 'pattern': 't-shirt'}, {'label': 'PRODUCT', 'pattern': 'axles'}, {'label': 'PRODUCT', 'pattern': ''}, {'label': 'PRODUCT', 'pattern': 'display case'}, {'label': 'PRODUCT', 'pattern': 'barwell fleet'}, {'label': 'PRODUCT', 'pattern': 'plaque'}, {'label': 'PRODUCT', 'pattern': 'hoodie'}, {'label': 'PRODUCT', 'pattern': 'garden flag'}, {'label': 'PRODUCT', 'pattern': 'dinning chair'}, {'label': 'PRODUCT', 'pattern': 'hoodie'}, {'label': 'PRODUCT', 'pattern': 'football'}, {'label': 'PRODUCT', 'pattern': 'sunglasses'}, {'label': 'PRODUCT', 'pattern': 'ornament'}, {'label': 'PRODUCT', 'pattern': 'money clip'}, {'label': 'PRODUCT', 'pattern': 't-shirt'}, {'label': 'PRODUCT', 'pattern': 'flip flops'}, {'label': 'PRODUCT', 'pattern': 'dress'}, {'label': 'PRODUCT', 'pattern': 'hat'}, {'label': 'PRODUCT', 'pattern': 'hoodie'}, {'label': 'PRODUCT', 'pattern': 'barrette'}, {'label': 'PRODUCT', 'pattern': 'hats'}, {'label': 'PRODUCT', 'pattern': 'photograph'}, {'label': 'PRODUCT', 'pattern': 'tank top'}, {'label': 'PRODUCT', 'pattern': 'soundtrack'}, {'label': 'PRODUCT', 'pattern': 'socks'}, {'label': 'PRODUCT', 'pattern': 'guillotine'}, {'label': 'PRODUCT', 'pattern': 'pills'}, {'label': 'PRODUCT', 'pattern': 'tote'}, {'label': 'PRODUCT', 'pattern': 'sweatshirt'}, {'label': 'PRODUCT', 'pattern': 'bags'}, {'label': 'PRODUCT', 'pattern': 'sticker'}, {'label': 'PRODUCT', 'pattern': 'barware'}, {'label': 'PRODUCT', 'pattern': 'bulb kit'}, {'label': 'PRODUCT', 'pattern': 'mold'}, {'label': 'PRODUCT', 'pattern': 'polo'}, {'label': 'PRODUCT', 'pattern': 'shirt'}, {'label': 'PRODUCT', 'pattern': 'decal'}, {'label': 'PRODUCT', 'pattern': 'gift set'}, {'label': 'PRODUCT', 'pattern': 'scrub'}, {'label': 'PRODUCT', 'pattern': 'dog dry'}, {'label': 'PRODUCT', 'pattern': 'expedition pack'}, {'label': 'PRODUCT', 'pattern': 'frame'}, {'label': 'PRODUCT', 'pattern': 'pizelle maker'}, {'label': 'PRODUCT', 'pattern': 'sweatshirt'}, {'label': 'PRODUCT', 'pattern': 'eye cream'}, {'label': 'PRODUCT', 'pattern': 'pineapple'}, {'label': 'PRODUCT', 'pattern': 'brushguard'}, {'label': 'PRODUCT', 'pattern': 'bowl'}, {'label': 'PRODUCT', 'pattern': 'teakettle'}, {'label': 'PRODUCT', 'pattern': 'lighter'}, {'label': 'PRODUCT', 'pattern': 'map 2012'}, {'label': 'PRODUCT', 'pattern': 'training'}, {'label': 'PRODUCT', 'pattern': 'jacket'}, {'label': 'PRODUCT', 'pattern': 'hard disk'}, {'label': 'PRODUCT', 'pattern': 'dog'}, {'label': 'PRODUCT', 'pattern': 'tag'}, {'label': 'PRODUCT', 'pattern': 'cape'}, {'label': 'PRODUCT', 'pattern': 'diamonds'}, {'label': 'PRODUCT', 'pattern': 'cleaner'}, {'label': 'PRODUCT', 'pattern': 'shoes'}, {'label': 'PRODUCT', 'pattern': 'powder'}, {'label': 'PRODUCT', 'pattern': 'extension'}, {'label': 'PRODUCT', 'pattern': 'backpack'}, {'label': 'PRODUCT', 'pattern': 'touring'}, {'label': 'PRODUCT', 'pattern': 'riflescope'}, {'label': 'PRODUCT', 'pattern': 'civic lx'}, {'label': 'PRODUCT', 'pattern': 'net-limited'}, {'label': 'PRODUCT', 'pattern': 'sign'}, {'label': 'PRODUCT', 'pattern': 'skirt'}, {'label': 'PRODUCT', 'pattern': 'repisa'}, {'label': 'PRODUCT', 'pattern': 'marker'}, {'label': 'PRODUCT', 'pattern': 'pad'}, {'label': 'PRODUCT', 'pattern': 'card'}, {'label': 'PRODUCT', 'pattern': 'sugar'}, {'label': 'PRODUCT', 'pattern': 'overalls'}, {'label': 'PRODUCT', 'pattern': 'tee'}, {'label': 'PRODUCT', 'pattern': 'oak'}, {'label': 'PRODUCT', 'pattern': 'pump'}, {'label': 'PRODUCT', 'pattern': 'jersey'}, {'label': 'PRODUCT', 'pattern': 'set'}, {'label': 'PRODUCT', 'pattern': 'silver'}, {'label': 'PRODUCT', 'pattern': 'kit'}, {'label': 'PRODUCT', 'pattern': 'necklace'}, {'label': 'PRODUCT', 'pattern': 'lanyard'}, {'label': 'PRODUCT', 'pattern': 'sweatshirt'}, {'label': 'PRODUCT', 'pattern': 'sprayer'}, {'label': 'PRODUCT', 'pattern': 'table'}, {'label': 'PRODUCT', 'pattern': 'freezer'}, {'label': 'PRODUCT', 'pattern': 'rosettes'}, {'label': 'PRODUCT', 'pattern': 'spigot'}, {'label': 'PRODUCT', 'pattern': 'bichir'}, {'label': 'PRODUCT', 'pattern': 'cord'}, {'label': 'PRODUCT', 'pattern': 'belt'}, {'label': 'PRODUCT', 'pattern': 'pullover'}, {'label': 'PRODUCT', 'pattern': 'keychain'}, {'label': 'PRODUCT', 'pattern': 'fuller'}, {'label': 'PRODUCT', 'pattern': 'lamp'}, {'label': 'PRODUCT', 'pattern': 'bracelet'}, {'label': 'PRODUCT', 'pattern': 'suncatcher'}, {'label': 'PRODUCT', 'pattern': 'bed'}, {'label': 'PRODUCT', 'pattern': 'top'}, {'label': 'PRODUCT', 'pattern': 'package'}, {'label': 'PRODUCT', 'pattern': 'curettes'}, {'label': 'PRODUCT', 'pattern': 'shake'}, {'label': 'PRODUCT', 'pattern': 'bag'}, {'label': 'PRODUCT', 'pattern': 'iball'}, {'label': 'PRODUCT', 'pattern': 'tablet'}, {'label': 'PRODUCT', 'pattern': 'watch'}, {'label': 'PRODUCT', 'pattern': 'book'}, {'label': 'PRODUCT', 'pattern': 'roof'}, {'label': 'PRODUCT', 'pattern': 'bike rack'}, {'label': 'PRODUCT', 'pattern': 'bike'}, {'label': 'PRODUCT', 'pattern': 'umbrella'}, {'label': 'PRODUCT', 'pattern': 'car'}, {'label': 'PRODUCT', 'pattern': 'beanie'}, {'label': 'PRODUCT', 'pattern': 'koozie'}, {'label': 'PRODUCT', 'pattern': 'meter'}, {'label': 'PRODUCT', 'pattern': 'trimmer'}, {'label': 'PRODUCT', 'pattern': 'stamps'}, {'label': 'PRODUCT', 'pattern': 'troika'}, {'label': 'PRODUCT', 'pattern': 'valve'}, {'label': 'PRODUCT', 'pattern': 'headband'}, {'label': 'PRODUCT', 'pattern': 'alloy'}, {'label': 'PRODUCT', 'pattern': 'alarm'}, {'label': 'PRODUCT', 'pattern': 'hammer'}, {'label': 'PRODUCT', 'pattern': 'flag'}, {'label': 'PRODUCT', 'pattern': 'hard drive'}, {'label': 'PRODUCT', 'pattern': 'black'}, {'label': 'PRODUCT', 'pattern': 'spary bar'}, {'label': 'PRODUCT', 'pattern': 'xperia'}, {'label': 'PRODUCT', 'pattern': 'pin'}, {'label': 'PRODUCT', 'pattern': 'door'}, {'label': 'PRODUCT', 'pattern': 'cream'}, {'label': 'PRODUCT', 'pattern': 'wallet'}, {'label': 'PRODUCT', 'pattern': 'case'}, {'label': 'PRODUCT', 'pattern': 'processor'}, {'label': 'PRODUCT', 'pattern': 'clock'}, {'label': 'PRODUCT', 'pattern': 'caster oil'}, {'label': 'PRODUCT', 'pattern': 'spa'}, {'label': 'PRODUCT', 'pattern': 'charm'}, {'label': 'PRODUCT', 'pattern': 'ipod'}, {'label': 'PRODUCT', 'pattern': 'sculpture'}, {'label': 'PRODUCT', 'pattern': 'phone'}, {'label': 'PRODUCT', 'pattern': 'bottle'}, {'label': 'PRODUCT', 'pattern': 'sparkler'}, {'label': 'PRODUCT', 'pattern': 'support'}, {'label': 'PRODUCT', 'pattern': 'viper'}, {'label': 'PRODUCT', 'pattern': 'wash'}, {'label': 'PRODUCT', 'pattern': 'fixture'}, {'label': 'PRODUCT', 'pattern': 'catalog'}, {'label': 'PRODUCT', 'pattern': 'studio tools'}, {'label': 'PRODUCT', 'pattern': 'connector'}, {'label': 'PRODUCT', 'pattern': 'ant farm'}, {'label': 'PRODUCT', 'pattern': 'light'}, {'label': 'PRODUCT', 'pattern': 'sandals'}, {'label': 'PRODUCT', 'pattern': 'lunch box'}, {'label': 'PRODUCT', 'pattern': 'workbench'}, {'label': 'PRODUCT', 'pattern': 'violin'}, {'label': 'PRODUCT', 'pattern': 'switch'}, {'label': 'PRODUCT', 'pattern': 'dolls'}, {'label': 'PRODUCT', 'pattern': 'helmet'}, {'label': 'PRODUCT', 'pattern': 'oil'}, {'label': 'PRODUCT', 'pattern': 'bicycle carrier'}, {'label': 'PRODUCT', 'pattern': 'bakeware set'}, {'label': 'PRODUCT', 'pattern': 'bicycle'}, {'label': 'PRODUCT', 'pattern': 'ponytail holder'}, {'label': 'PRODUCT', 'pattern': 'grappler'}, {'label': 'PRODUCT', 'pattern': 'mug'}, {'label': 'PRODUCT', 'pattern': 'zipper'}, {'label': 'PRODUCT', 'pattern': 'binder'}, {'label': 'PRODUCT', 'pattern': 'case'}, {'label': 'PRODUCT', 'pattern': 'base'}, {'label': 'PRODUCT', 'pattern': 'scale'}, {'label': 'PRODUCT', 'pattern': 'stand'}, {'label': 'PRODUCT', 'pattern': 'plate'}, {'label': 'PRODUCT', 'pattern': 'mural'}, {'label': 'PRODUCT', 'pattern': 'pant '}, {'label': 'PRODUCT', 'pattern': 'panty'}, {'label': 'PRODUCT', 'pattern': 'earrings'}, {'label': 'PRODUCT', 'pattern': 'bull trout'}, {'label': 'PRODUCT', 'pattern': 'tablecloth'}, {'label': 'PRODUCT', 'pattern': 'chandelier'}, {'label': 'PRODUCT', 'pattern': 'vaporizer'}, {'label': 'PRODUCT', 'pattern': 'protein'}, {'label': 'PRODUCT', 'pattern': 'posters'}, {'label': 'PRODUCT', 'pattern': 'coin bank'}, {'label': 'PRODUCT', 'pattern': 'premier'}, {'label': 'PRODUCT', 'pattern': 'gloves'}, {'label': 'PRODUCT', 'pattern': 'cling'}, {'label': 'PRODUCT', 'pattern': 'tattoo kit'}, {'label': 'PRODUCT', 'pattern': 'license plate'}, {'label': 'PRODUCT', 'pattern': 'lotion'}, {'label': 'PRODUCT', 'pattern': 'player'}, {'label': 'PRODUCT', 'pattern': 'slippers'}, {'label': 'PRODUCT', 'pattern': 'dvd'}, {'label': 'PRODUCT', 'pattern': 'lid'}, {'label': 'PRODUCT', 'pattern': 'pistol'}, {'label': 'PRODUCT', 'pattern': 'shorts'}, {'label': 'PRODUCT', 'pattern': 'recorder'}, {'label': 'PRODUCT', 'pattern': 'keyboard'}, {'label': 'PRODUCT', 'pattern': 'mod'}, {'label': 'PRODUCT', 'pattern': 'ring'}, {'label': 'PRODUCT', 'pattern': 'boots'}, {'label': 'PRODUCT', 'pattern': 'apricot'}, {'label': 'PRODUCT', 'pattern': 'usb'}, {'label': 'PRODUCT', 'pattern': 'bodysuit set'}, {'label': 'PRODUCT', 'pattern': 'president watch'}, {'label': 'PRODUCT', 'pattern': 'trail by moonlight'}, {'label': 'PRODUCT', 'pattern': 'rowing packages'}, {'label': 'PRODUCT', 'pattern': 'cases'}, {'label': 'PRODUCT', 'pattern': 'thermometer'}, {'label': 'PRODUCT', 'pattern': 'sweater'}, {'label': 'PRODUCT', 'pattern': 'needle'}, {'label': 'PRODUCT', 'pattern': 'figurines'}, {'label': 'PRODUCT', 'pattern': 'bow'}, {'label': 'PRODUCT', 'pattern': 'pendant'}, {'label': 'PRODUCT', 'pattern': 'sauna dome'}, {'label': 'PRODUCT', 'pattern': 'case for ipad2'}, {'label': 'PRODUCT', 'pattern': 'day cream'}, {'label': 'PRODUCT', 'pattern': 'spot lamps'}, {'label': 'PRODUCT', 'pattern': 'travel berkey'}, {'label': 'PRODUCT', 'pattern': 'wine'}, {'label': 'PRODUCT', 'pattern': 'metal'}, {'label': 'PRODUCT', 'pattern': 'with horses'}, {'label': 'PRODUCT', 'pattern': 'pants'}, {'label': 'PRODUCT', 'pattern': 'cookware'}, {'label': 'PRODUCT', 'pattern': 'glass '}, {'label': 'PRODUCT', 'pattern': 'spray '}, {'label': 'PRODUCT', 'pattern': 'berry'}, {'label': 'PRODUCT', 'pattern': 'forks'}, {'label': 'PRODUCT', 'pattern': 'boxers, underwear'}, {'label': 'PRODUCT', 'pattern': 'kite'}, {'label': 'PRODUCT', 'pattern': 'filter'}, {'label': 'PRODUCT', 'pattern': 'kit '}, {'label': 'PRODUCT', 'pattern': 'atomizer'}, {'label': 'PRODUCT', 'pattern': 'harness'}, {'label': 'PRODUCT', 'pattern': 'mugs'}, {'label': 'PRODUCT', 'pattern': 'hooks'}, {'label': 'PRODUCT', 'pattern': 'underwire'}, {'label': 'PRODUCT', 'pattern': 'photograph'}, {'label': 'PRODUCT', 'pattern': 'wingtip'}, {'label': 'PRODUCT', 'pattern': 'bed'}, {'label': 'PRODUCT', 'pattern': 'sedan'}, {'label': 'PRODUCT', 'pattern': 'heater'}, {'label': 'PRODUCT', 'pattern': 'jacket '}, {'label': 'PRODUCT', 'pattern': 'rifle'}, {'label': 'PRODUCT', 'pattern': 'knob'}, {'label': 'PRODUCT', 'pattern': 'dress'}, {'label': 'PRODUCT', 'pattern': 'memory foam'}, {'label': 'PRODUCT', 'pattern': 'cigar '}, {'label': 'PRODUCT', 'pattern': 'map'}, {'label': 'PRODUCT', 'pattern': 'cufflinks'}, {'label': 'PRODUCT', 'pattern': 'air compressor'}, {'label': 'PRODUCT', 'pattern': 'sandals'}, {'label': 'PRODUCT', 'pattern': 'power cord'}, {'label': 'PRODUCT', 'pattern': 'insurance policies'}, {'label': 'PRODUCT', 'pattern': 'xeno-89-sc'}, {'label': 'PRODUCT', 'pattern': 'tray car'}, {'label': 'PRODUCT', 'pattern': 'other 1932'}, {'label': 'PRODUCT', 'pattern': 'tea'}, {'label': 'PRODUCT', 'pattern': 'electrodes'}, {'label': 'PRODUCT', 'pattern': 'driftwood candelabra'}, {'label': 'PRODUCT', 'pattern': 'brief'}, {'label': 'PRODUCT', 'pattern': 'curtains grommets'}, {'label': 'PRODUCT', 'pattern': 'cosmetic base'}, {'label': 'PRODUCT', 'pattern': 'innovation, and impact'}, {'label': 'PRODUCT', 'pattern': 'golf balls'}, {'label': 'PRODUCT', 'pattern': 'skirt a'}, {'label': 'PRODUCT', 'pattern': 'bed with footrail'}, {'label': 'PRODUCT', 'pattern': 'banana flavor'}, {'label': 'PRODUCT', 'pattern': 'assembled - round'}, {'label': 'PRODUCT', 'pattern': 'leader'}, {'label': 'PRODUCT', 'pattern': \"wizard's castle\"}, {'label': 'PRODUCT', 'pattern': 'and accessories.'}, {'label': 'PRODUCT', 'pattern': 'arrowhead'}, {'label': 'PRODUCT', 'pattern': 'custom keylight'}, {'label': 'PRODUCT', 'pattern': 'carrier, tie down kit'}, {'label': 'PRODUCT', 'pattern': 'plastic - grey - 4 x 4 inches'}, {'label': 'PRODUCT', 'pattern': 'cable cross'}, {'label': 'PRODUCT', 'pattern': 'spearmint'}, {'label': 'PRODUCT', 'pattern': 'brackets & expander and metal chain)'}, {'label': 'PRODUCT', 'pattern': 'light set'}, {'label': 'PRODUCT', 'pattern': 'salt'}, {'label': 'PRODUCT', 'pattern': 'usb dongle'}, {'label': 'PRODUCT', 'pattern': 'soul robbery'}, {'label': 'PRODUCT', 'pattern': 'drive rotors'}, {'label': 'PRODUCT', 'pattern': 'demoiselle small'}, {'label': 'PRODUCT', 'pattern': 'snap 12 pack'}, {'label': 'PRODUCT', 'pattern': 'spiral staircases'}, {'label': 'PRODUCT', 'pattern': 'glasses'}, {'label': 'PRODUCT', 'pattern': 'caravan'}, {'label': 'PRODUCT', 'pattern': 'air spring'}, {'label': 'PRODUCT', 'pattern': 'streetracer'}, {'label': 'PRODUCT', 'pattern': 'map'}, {'label': 'PRODUCT', 'pattern': 'hard drive'}, {'label': 'PRODUCT', 'pattern': 'bridesmaid dress'}, {'label': 'PRODUCT', 'pattern': 'canvas'}, {'label': 'PRODUCT', 'pattern': 'lapel pin'}, {'label': 'PRODUCT', 'pattern': 'photograph'}, {'label': 'PRODUCT', 'pattern': 'cleaning kit'}, {'label': 'PRODUCT', 'pattern': 'short'}, {'label': 'PRODUCT', 'pattern': 'faucet '}, {'label': 'PRODUCT', 'pattern': 'phone jacks'}, {'label': 'PRODUCT', 'pattern': 'face wash'}, {'label': 'PRODUCT', 'pattern': 'mounting kit'}, {'label': 'PRODUCT', 'pattern': 'decal sheet'}, {'label': 'PRODUCT', 'pattern': 'camera'}, {'label': 'PRODUCT', 'pattern': 'door handles'}, {'label': 'PRODUCT', 'pattern': 'saucepan, red'}, {'label': 'PRODUCT', 'pattern': 'yarn '}, {'label': 'PRODUCT', 'pattern': 'scarf'}, {'label': 'PRODUCT', 'pattern': 'tank'}, {'label': 'PRODUCT', 'pattern': 'pedal'}, {'label': 'PRODUCT', 'pattern': 'cover'}, {'label': 'PRODUCT', 'pattern': 'cap'}, {'label': 'PRODUCT', 'pattern': 'socks'}, {'label': 'PRODUCT', 'pattern': 't shirt'}, {'label': 'PRODUCT', 'pattern': 'stud'}, {'label': 'PRODUCT', 'pattern': 'cable'}, {'label': 'PRODUCT', 'pattern': 'mattress'}, {'label': 'PRODUCT', 'pattern': 'flask'}, {'label': 'PRODUCT', 'pattern': 'kits'}, {'label': 'PRODUCT', 'pattern': 'glass'}, {'label': 'PRODUCT', 'pattern': 'chair'}, {'label': 'PRODUCT', 'pattern': 'cufflinks'}, {'label': 'PRODUCT', 'pattern': 'scarlet'}, {'label': 'PRODUCT', 'pattern': 'bra'}, {'label': 'PRODUCT', 'pattern': 'headset'}, {'label': 'PRODUCT', 'pattern': 'socket'}, {'label': 'PRODUCT', 'pattern': 'adapter'}, {'label': 'PRODUCT', 'pattern': 'hair pin'}, {'label': 'PRODUCT', 'pattern': 'doors'}, {'label': 'PRODUCT', 'pattern': 'lights'}, {'label': 'PRODUCT', 'pattern': 'duvet'}, {'label': 'PRODUCT', 'pattern': 'tumbler'}, {'label': 'PRODUCT', 'pattern': 'trap system'}, {'label': 'PRODUCT', 'pattern': 'cartridge'}, {'label': 'PRODUCT', 'pattern': 'lollipop'}, {'label': 'PRODUCT', 'pattern': 'calendar'}, {'label': 'PRODUCT', 'pattern': 'swordtail'}, {'label': 'PRODUCT', 'pattern': 'pellets'}, {'label': 'PRODUCT', 'pattern': 'detox'}, {'label': 'PRODUCT', 'pattern': 'pan'}, {'label': 'PRODUCT', 'pattern': 'ups'}, {'label': 'PRODUCT', 'pattern': 'cardigan'}, {'label': 'PRODUCT', 'pattern': 'pool cleaner'}, {'label': 'PRODUCT', 'pattern': 'clip'}, {'label': 'PRODUCT', 'pattern': 'notebook'}, {'label': 'PRODUCT', 'pattern': 'headband'}, {'label': 'PRODUCT', 'pattern': 'convertible'}, {'label': 'PRODUCT', 'pattern': 'air dryers'}, {'label': 'PRODUCT', 'pattern': 'bulb'}, {'label': 'PRODUCT', 'pattern': 'carving kit'}, {'label': 'PRODUCT', 'pattern': 'wheels'}, {'label': 'PRODUCT', 'pattern': 'divers'}, {'label': 'PRODUCT', 'pattern': 'desk'}, {'label': 'PRODUCT', 'pattern': 'washer'}, {'label': 'PRODUCT', 'pattern': 'skillet'}, {'label': 'PRODUCT', 'pattern': 'gel'}, {'label': 'PRODUCT', 'pattern': 'shell'}, {'label': 'PRODUCT', 'pattern': 'trap'}, {'label': 'PRODUCT', 'pattern': 'inverter'}, {'label': 'PRODUCT', 'pattern': 'humidifier'}, {'label': 'PRODUCT', 'pattern': 'tapestry'}, {'label': 'PRODUCT', 'pattern': 'scope'}, {'label': 'PRODUCT', 'pattern': 'sheave'}, {'label': 'PRODUCT', 'pattern': 'magnet'}, {'label': 'PRODUCT', 'pattern': 'tires'}, {'label': 'PRODUCT', 'pattern': 'recovery kit'}, {'label': 'PRODUCT', 'pattern': 'swivel'}, {'label': 'PRODUCT', 'pattern': 'jelly'}, {'label': 'PRODUCT', 'pattern': 'chiller'}, {'label': 'PRODUCT', 'pattern': 'bermuda'}, {'label': 'PRODUCT', 'pattern': 'sleeper'}, {'label': 'PRODUCT', 'pattern': 'd300'}, {'label': 'PRODUCT', 'pattern': 'slipper'}, {'label': 'PRODUCT', 'pattern': 'badge'}, {'label': 'PRODUCT', 'pattern': 'tire '}, {'label': 'PRODUCT', 'pattern': 'roof rack'}, {'label': 'PRODUCT', 'pattern': 'sling'}, {'label': 'PRODUCT', 'pattern': 'mirror'}, {'label': 'PRODUCT', 'pattern': 'swimsuit'}, {'label': 'PRODUCT', 'pattern': 'motor drive'}, {'label': 'PRODUCT', 'pattern': 'tablet sleeve'}, {'label': 'PRODUCT', 'pattern': 'vest'}, {'label': 'PRODUCT', 'pattern': 'coconut oil'}, {'label': 'PRODUCT', 'pattern': 'prism'}, {'label': 'PRODUCT', 'pattern': 'spoon'}, {'label': 'PRODUCT', 'pattern': 'floor tool'}, {'label': 'PRODUCT', 'pattern': 'thermal, top'}, {'label': 'PRODUCT', 'pattern': 'knife holder'}, {'label': 'PRODUCT', 'pattern': 'seat mount'}, {'label': 'PRODUCT', 'pattern': 'cartridges'}, {'label': 'PRODUCT', 'pattern': 'battery'}, {'label': 'PRODUCT', 'pattern': 'red wine'}, {'label': 'PRODUCT', 'pattern': 'pendulum'}, {'label': 'PRODUCT', 'pattern': 'locket'}, {'label': 'PRODUCT', 'pattern': 'hoodie'}, {'label': 'PRODUCT', 'pattern': 'beanie'}, {'label': 'PRODUCT', 'pattern': 'table'}, {'label': 'PRODUCT', 'pattern': 'humidifier'}, {'label': 'PRODUCT', 'pattern': 'shorts'}, {'label': 'PRODUCT', 'pattern': 'sweatpants'}, {'label': 'PRODUCT', 'pattern': 'dress'}, {'label': 'PRODUCT', 'pattern': ''}, {'label': 'PRODUCT', 'pattern': 'pellets'}, {'label': 'PRODUCT', 'pattern': 'crusier base'}, {'label': 'PRODUCT', 'pattern': 'hat'}, {'label': 'PRODUCT', 'pattern': 'jacket'}, {'label': 'PRODUCT', 'pattern': 'nets'}, {'label': 'PRODUCT', 'pattern': 't-shirt'}, {'label': 'PRODUCT', 'pattern': 'flag'}, {'label': 'PRODUCT', 'pattern': 'ammunition'}, {'label': 'PRODUCT', 'pattern': 'sweatshirt'}, {'label': 'PRODUCT', 'pattern': 'pumps'}, {'label': 'PRODUCT', 'pattern': 'impala'}, {'label': 'PRODUCT', 'pattern': 'shampoo'}, {'label': 'PRODUCT', 'pattern': 'mirror'}, {'label': 'PRODUCT', 'pattern': 'backsack'}, {'label': 'PRODUCT', 'pattern': 'tank top'}, {'label': 'PRODUCT', 'pattern': 'shoes'}]\n"
     ]
    }
   ],
   "source": [
    "print(patterns1)"
   ]
  },
  {
   "cell_type": "code",
   "execution_count": 19,
   "id": "f8af9109",
   "metadata": {},
   "outputs": [],
   "source": [
    "#blank spacy English model with entity ruler in pipeline\n",
    "def generate_spacy_rules(patterns):\n",
    "    nlp = English()\n",
    "    ruler = nlp.add_pipe(\"entity_ruler\")\n",
    "    ruler.add_patterns(patterns)\n",
    "#     print(nlp.pipe_names)\n",
    "    nlp.to_disk(\"prod_ner\")"
   ]
  },
  {
   "cell_type": "code",
   "execution_count": 20,
   "id": "447402e3",
   "metadata": {},
   "outputs": [],
   "source": [
    "generate_spacy_rules(patterns1)"
   ]
  },
  {
   "cell_type": "code",
   "execution_count": 21,
   "id": "93c54d53",
   "metadata": {},
   "outputs": [],
   "source": [
    "nlp = spacy.load(\"prod_ner\")"
   ]
  },
  {
   "cell_type": "code",
   "execution_count": 22,
   "id": "9b8e8942",
   "metadata": {},
   "outputs": [],
   "source": [
    "#Function to format input data to required entity ruler format\n",
    "def train_data_for_spacy(model, text):\n",
    "    doc = nlp(text)\n",
    "    results = []\n",
    "    entities = []\n",
    "    for ent in doc.ents:\n",
    "        #print(ent.label_)\n",
    "        entities.append((ent.start_char, ent.end_char, ent.label_))\n",
    "    if len(entities) > 0:\n",
    "        results = [text, {\"entities\": entities}]\n",
    "        return (results)"
   ]
  },
  {
   "cell_type": "code",
   "execution_count": 23,
   "id": "e8ae987d",
   "metadata": {},
   "outputs": [],
   "source": [
    "#colors used in product titles listed\n",
    "colors_list = load_data(\"colors.json\")\n",
    "colors = []\n",
    "for item in colors_list:\n",
    "    colors.append(item.lower())\n"
   ]
  },
  {
   "cell_type": "code",
   "execution_count": 24,
   "id": "c333e485",
   "metadata": {},
   "outputs": [
    {
     "data": {
      "text/plain": [
       "'(23)'"
      ]
     },
     "execution_count": 24,
     "metadata": {},
     "output_type": "execute_result"
    }
   ],
   "source": [
    "a ='(23ã¯â¿â½)'\n",
    "a.encode('ascii', 'ignore').decode()"
   ]
  },
  {
   "cell_type": "markdown",
   "id": "979f5ffa",
   "metadata": {},
   "source": [
    "# Spacy training"
   ]
  },
  {
   "cell_type": "code",
   "execution_count": 25,
   "id": "c9d8b9ab",
   "metadata": {},
   "outputs": [],
   "source": [
    "def get_spacy_train_data(input_data):\n",
    "    nlp = spacy.load(\"prod_ner\")\n",
    "    DATA = []\n",
    "    with open(input_data, \"r\", encoding='utf-8') as f:\n",
    "        text = pd.read_csv(f)\n",
    "#         print(text)\n",
    "        df1 = list(text[\"Title\"])\n",
    "        data = []\n",
    "        for item in df1:\n",
    "            #print(item)\n",
    "            data.append(item.lower())\n",
    "        #print(data)\n",
    "        for segment in data:\n",
    "    #         print(segment)\n",
    "            segment = segment.strip()\n",
    "            segment = segment.replace(\"\\n\", \" \")\n",
    "            segment = segment.encode('ascii', 'ignore').decode()\n",
    "            for i, word in enumerate(segment.split()):\n",
    "    #             print(word)\n",
    "                if word in STOP_WORDS:\n",
    "    #                 print(word) \n",
    "                    segment = segment.replace(word, \"\")\n",
    "    #                 print(segment)\n",
    "                if word in colors:\n",
    "                    segment = segment.replace(word, \"\")\n",
    "\n",
    "            segment = re.sub(' +', ' ', segment)\n",
    "    #         print(segment)\n",
    "            punc = '''!()-[]{};:'\"\\,<>./?@#$%^&*_~'''        \n",
    "            for ele in segment:\n",
    "                #print(ele)\n",
    "                if ele in punc:\n",
    "                    segment = segment.replace(ele, \"\")\n",
    "                    segment = segment.strip()\n",
    "\n",
    "    #         print(len(segment.split()))\n",
    "            len1 = len(segment.split())\n",
    "            for i, word in enumerate(segment.split()):\n",
    "                if i < len1-1:\n",
    "                    if (word + ' ' + segment.split()[i+1]) in colors:\n",
    "                        segment = segment.replace(word + \" \" + segment.split()[i+1] + \"\", \"\") \n",
    "                        segment = segment.strip(\"  \")\n",
    "\n",
    "            results = train_data_for_spacy(nlp, segment.strip())\n",
    "            if results != None:\n",
    "                    DATA.append(results)\n",
    "    return DATA"
   ]
  },
  {
   "cell_type": "code",
   "execution_count": 26,
   "id": "9a7322e9",
   "metadata": {},
   "outputs": [],
   "source": [
    "TRAIN_DATA = get_spacy_train_data(\"Final_dataset.csv\")"
   ]
  },
  {
   "cell_type": "code",
   "execution_count": 27,
   "id": "5473e9af",
   "metadata": {},
   "outputs": [],
   "source": [
    "#Save the training data\n",
    "save_data(\"training_data.json\", TRAIN_DATA)"
   ]
  },
  {
   "cell_type": "code",
   "execution_count": 28,
   "id": "45836843",
   "metadata": {},
   "outputs": [
    {
     "data": {
      "text/plain": [
       "[['sterling angel charm',\n",
       "  {'entities': [(0, 8, 'BRAND'), (15, 20, 'PRODUCT')]}],\n",
       " ['hp pavilion 23xi 5840 cm 23 ips monitor',\n",
       "  {'entities': [(0, 2, 'BRAND'), (32, 39, 'PRODUCT')]}],\n",
       " ['east carolina pirates ladies personalized basketball long sleeve classic fit tshirt',\n",
       "  {'entities': [(0, 21, 'BRAND'), (42, 52, 'PRODUCT'), (77, 83, 'PRODUCT')]}],\n",
       " ['tekonsha 90195 p3 electric brake control 14 trailer axles',\n",
       "  {'entities': [(0, 8, 'BRAND'), (52, 57, 'PRODUCT')]}],\n",
       " ['rnxv wifly module  wire antenna', {'entities': [(5, 10, 'BRAND')]}]]"
      ]
     },
     "execution_count": 28,
     "metadata": {},
     "output_type": "execute_result"
    }
   ],
   "source": [
    "TRAIN_DATA[:5]"
   ]
  },
  {
   "cell_type": "code",
   "execution_count": 29,
   "id": "05dc4143",
   "metadata": {},
   "outputs": [],
   "source": [
    "#convert entities to BIO tagged entities\n",
    "def convert_to_bio_tags(data):\n",
    "    nlp = spacy.load('en_core_web_lg')\n",
    "    docs = []\n",
    "    train_bio = []\n",
    "    k = 0\n",
    "    for text, annot in data:\n",
    "        doc = nlp(text)\n",
    "        tags = offsets_to_biluo_tags(doc, annot['entities'])\n",
    "        bio_tags = [tag.replace('L-BRAND','I-BRAND').replace('U-BRAND','B-BRAND').replace('L-PRODUCT','I-PRODUCT').replace('U-PRODUCT','B-PRODUCT') for tag in tags]\n",
    "        tokens = [tok.text for tok in doc]\n",
    "        postags = [token.pos_ for token in doc]\n",
    "        token_tags = list(zip(tokens,postags, bio_tags))\n",
    "        train_bio_sample = [{'sentence_id':k,'words':el[0],'POS':el[1], 'labels':el[2]} for el in token_tags]\n",
    "        #print(train_bio_sample)\n",
    "        train_bio += train_bio_sample\n",
    "        k += 1 \n",
    "    return pd.DataFrame(train_bio,columns=['sentence_id','words','POS','labels'])"
   ]
  },
  {
   "cell_type": "code",
   "execution_count": 30,
   "id": "a1f0e198",
   "metadata": {},
   "outputs": [],
   "source": [
    "all_bio_df = convert_to_bio_tags(TRAIN_DATA)"
   ]
  },
  {
   "cell_type": "code",
   "execution_count": 31,
   "id": "8d97f8f5",
   "metadata": {},
   "outputs": [
    {
     "data": {
      "text/plain": [
       "sentence_id    0\n",
       "words          0\n",
       "POS            0\n",
       "labels         0\n",
       "dtype: int64"
      ]
     },
     "execution_count": 31,
     "metadata": {},
     "output_type": "execute_result"
    }
   ],
   "source": [
    "all_bio_df.isnull().sum()"
   ]
  },
  {
   "cell_type": "code",
   "execution_count": 32,
   "id": "74c78646",
   "metadata": {},
   "outputs": [
    {
     "data": {
      "text/html": [
       "<div>\n",
       "<style scoped>\n",
       "    .dataframe tbody tr th:only-of-type {\n",
       "        vertical-align: middle;\n",
       "    }\n",
       "\n",
       "    .dataframe tbody tr th {\n",
       "        vertical-align: top;\n",
       "    }\n",
       "\n",
       "    .dataframe thead th {\n",
       "        text-align: right;\n",
       "    }\n",
       "</style>\n",
       "<table border=\"1\" class=\"dataframe\">\n",
       "  <thead>\n",
       "    <tr style=\"text-align: right;\">\n",
       "      <th></th>\n",
       "      <th>labels</th>\n",
       "      <th>counts</th>\n",
       "    </tr>\n",
       "  </thead>\n",
       "  <tbody>\n",
       "    <tr>\n",
       "      <th>0</th>\n",
       "      <td>B-BRAND</td>\n",
       "      <td>3096</td>\n",
       "    </tr>\n",
       "    <tr>\n",
       "      <th>1</th>\n",
       "      <td>B-PRODUCT</td>\n",
       "      <td>3094</td>\n",
       "    </tr>\n",
       "    <tr>\n",
       "      <th>2</th>\n",
       "      <td>I-BRAND</td>\n",
       "      <td>2071</td>\n",
       "    </tr>\n",
       "    <tr>\n",
       "      <th>3</th>\n",
       "      <td>I-PRODUCT</td>\n",
       "      <td>199</td>\n",
       "    </tr>\n",
       "    <tr>\n",
       "      <th>4</th>\n",
       "      <td>O</td>\n",
       "      <td>10387</td>\n",
       "    </tr>\n",
       "  </tbody>\n",
       "</table>\n",
       "</div>"
      ],
      "text/plain": [
       "      labels  counts\n",
       "0    B-BRAND    3096\n",
       "1  B-PRODUCT    3094\n",
       "2    I-BRAND    2071\n",
       "3  I-PRODUCT     199\n",
       "4          O   10387"
      ]
     },
     "execution_count": 32,
     "metadata": {},
     "output_type": "execute_result"
    }
   ],
   "source": [
    "all_bio_df.groupby('labels').size().reset_index(name='counts')"
   ]
  },
  {
   "cell_type": "code",
   "execution_count": 33,
   "id": "0625b9e3",
   "metadata": {},
   "outputs": [
    {
     "data": {
      "text/plain": [
       "['B-BRAND', 'B-PRODUCT', 'I-BRAND', 'I-PRODUCT']"
      ]
     },
     "execution_count": 33,
     "metadata": {},
     "output_type": "execute_result"
    }
   ],
   "source": [
    "y = all_bio_df.labels.values\n",
    "\n",
    "classes = np.unique(y)\n",
    "classes = classes.tolist()\n",
    "\n",
    "new_classes = classes.copy()\n",
    "new_classes.pop()\n",
    "new_classes"
   ]
  },
  {
   "cell_type": "code",
   "execution_count": 40,
   "id": "abe8be90",
   "metadata": {},
   "outputs": [],
   "source": [
    "#function to convert to required input format\n",
    "class SentenceGetter(object):\n",
    "    def __init__(self, data):\n",
    "        self.n_sent = 1\n",
    "        self.data = data\n",
    "        self.empty = False\n",
    "        agg_func = lambda s: [(w, p, t) for w, p, t in zip(s['words'].values.tolist(),\n",
    "                                                           s['POS'].values.tolist(),\n",
    "                                                           s['labels'].values.tolist())]\n",
    "        self.grouped = self.data.groupby('sentence_id').apply(agg_func)\n",
    "        self.sentences = [s for s in self.grouped]"
   ]
  },
  {
   "cell_type": "code",
   "execution_count": 41,
   "id": "5e14dea2",
   "metadata": {},
   "outputs": [],
   "source": [
    "getter = SentenceGetter(all_bio_df)\n",
    "train_sent = getter.sentences"
   ]
  },
  {
   "cell_type": "markdown",
   "id": "50947063",
   "metadata": {},
   "source": [
    "# EDA"
   ]
  },
  {
   "cell_type": "code",
   "execution_count": 34,
   "id": "c5a7456a",
   "metadata": {},
   "outputs": [],
   "source": [
    "entities_count = all_bio_df.groupby('labels').size().reset_index(name='counts')"
   ]
  },
  {
   "cell_type": "code",
   "execution_count": 42,
   "id": "99f2d005",
   "metadata": {},
   "outputs": [
    {
     "data": {
      "image/png": "[encoded data removed]",
      "text/plain": [
       "<Figure size 720x360 with 1 Axes>"
      ]
     },
     "metadata": {
      "needs_background": "light"
     },
     "output_type": "display_data"
    }
   ],
   "source": [
    "plt.figure(figsize = (10, 5))\n",
    "plt.hist([len(s) for s in train_sent], color = '#85C1E9', label = 'max_len', bins = 20)\n",
    "plt.title('MAX LENGTH OF SENTENCE',fontsize = 15)\n",
    "plt.xlabel('LENGTH', fontsize = 15)\n",
    "plt.legend(fontsize = 15)\n",
    "plt.show()"
   ]
  },
  {
   "cell_type": "code",
   "execution_count": 43,
   "id": "358dbce4",
   "metadata": {},
   "outputs": [
    {
     "name": "stdout",
     "output_type": "stream",
     "text": [
      "There are 124931 words in the combination of all product titles.\n"
     ]
    }
   ],
   "source": [
    "text = \" \".join(title for title in all_bio_df.words)\n",
    "print (\"There are {} words in the combination of all product titles.\".format(len(text)))"
   ]
  },
  {
   "cell_type": "code",
   "execution_count": 44,
   "id": "215eef2c",
   "metadata": {},
   "outputs": [
    {
     "data": {
      "image/png": "[encoded data removed]",
      "text/plain": [
       "<Figure size 432x288 with 1 Axes>"
      ]
     },
     "metadata": {
      "needs_background": "light"
     },
     "output_type": "display_data"
    }
   ],
   "source": [
    "wordcloud = WordCloud(background_color=\"white\").generate(text)\n",
    "plt.imshow(wordcloud)\n",
    "plt.axis(\"off\")\n",
    "plt.show()"
   ]
  },
  {
   "cell_type": "code",
   "execution_count": 45,
   "id": "7c42381e",
   "metadata": {},
   "outputs": [
    {
     "name": "stderr",
     "output_type": "stream",
     "text": [
      "100%|██████████| 2371/2371 [00:00<00:00, 810620.70it/s]\n"
     ]
    }
   ],
   "source": [
    "brands_dict = [] \n",
    "for text, annot in tqdm(TRAIN_DATA):\n",
    "    ents = []\n",
    "    for start, end, label in annot[\"entities\"]:\n",
    "        if label == \"BRAND\":\n",
    "            brands_dict.append(text[start:end])"
   ]
  },
  {
   "cell_type": "code",
   "execution_count": 46,
   "id": "542a36b5",
   "metadata": {},
   "outputs": [
    {
     "name": "stdout",
     "output_type": "stream",
     "text": [
      "There are 37060 words in the combination of all brand names.\n"
     ]
    }
   ],
   "source": [
    "brands = \"+\".join(item for item in brands_dict)\n",
    "print (\"There are {} words in the combination of all brand names.\".format(len(brands)))"
   ]
  },
  {
   "cell_type": "code",
   "execution_count": 47,
   "id": "28f84f82",
   "metadata": {},
   "outputs": [],
   "source": [
    "#supported values are 'Accent', 'Accent_r', 'Blues', 'Blues_r', 'BrBG', 'BrBG_r', 'BuGn', 'BuGn_r', 'BuPu', 'BuPu_r', 'CMRmap', 'CMRmap_r', 'Dark2', 'Dark2_r', 'GnBu', 'GnBu_r', 'Greens', 'Greens_r', 'Greys', 'Greys_r', 'OrRd', 'OrRd_r', 'Oranges', 'Oranges_r', 'PRGn', 'PRGn_r', 'Paired', 'Paired_r', 'Pastel1', 'Pastel1_r', 'Pastel2', 'Pastel2_r', 'PiYG', 'PiYG_r', 'PuBu', 'PuBuGn', 'PuBuGn_r', 'PuBu_r', 'PuOr', 'PuOr_r', 'PuRd', 'PuRd_r', 'Purples', 'Purples_r', 'RdBu', 'RdBu_r', 'RdGy', 'RdGy_r', 'RdPu', 'RdPu_r', 'RdYlBu', 'RdYlBu_r', 'RdYlGn', 'RdYlGn_r', 'Reds', 'Reds_r', 'Set1', 'Set1_r', 'Set2', 'Set2_r', 'Set3', 'Set3_r', 'Spectral', 'Spectral_r', 'Wistia', 'Wistia_r', 'YlGn', 'YlGnBu', 'YlGnBu_r', 'YlGn_r', 'YlOrBr', 'YlOrBr_r', 'YlOrRd', 'YlOrRd_r', 'afmhot', 'afmhot_r', 'autumn', 'autumn_r', 'binary', 'binary_r', 'bone', 'bone_r', 'brg', 'brg_r', 'bwr', 'bwr_r', 'cividis', 'cividis_r', 'cool', 'cool_r', 'coolwarm', 'coolwarm_r', 'copper', 'copper_r', 'crest', 'crest_r', 'cubehelix', 'cubehelix_r', 'flag', 'flag_r', 'flare', 'flare_r', 'gist_earth', 'gist_earth_r', 'gist_gray', 'gist_gray_r', 'gist_heat', 'gist_heat_r', 'gist_ncar', 'gist_ncar_r', 'gist_rainbow', 'gist_rainbow_r', 'gist_stern', 'gist_stern_r', 'gist_yarg', 'gist_yarg_r', 'gnuplot', 'gnuplot2', 'gnuplot2_r', 'gnuplot_r', 'gray', 'gray_r', 'hot', 'hot_r', 'hsv', 'hsv_r', 'icefire', 'icefire_r', 'inferno', 'inferno_r', 'jet', 'jet_r', 'magma', 'magma_r', 'mako', 'mako_r', 'nipy_spectral', 'nipy_spectral_r', 'ocean', 'ocean_r', 'pink', 'pink_r', 'plasma', 'plasma_r', 'prism', 'prism_r', 'rainbow', 'rainbow_r', 'rocket', 'rocket_r', 'seismic', 'seismic_r', 'spring', 'spring_r', 'summer', 'summer_r', 'tab10', 'tab10_r', 'tab20', 'tab20_r', 'tab20b', 'tab20b_r', 'tab20c', 'tab20c_r', 'terrain', 'terrain_r', 'turbo', 'turbo_r', 'twilight', 'twilight_r', 'twilight_shifted', 'twilight_shifted_r', 'viridis', 'viridis_r', 'vlag', 'vlag_r', 'winter', 'winter_r'"
   ]
  },
  {
   "cell_type": "code",
   "execution_count": 48,
   "id": "9d8edfef",
   "metadata": {},
   "outputs": [
    {
     "data": {
      "image/png": "[encoded data removed]",
      "text/plain": [
       "<Figure size 432x288 with 1 Axes>"
      ]
     },
     "metadata": {
      "needs_background": "light"
     },
     "output_type": "display_data"
    }
   ],
   "source": [
    "wordcloud = WordCloud(background_color=\"white\", collocations=False, regexp= r\"\\w[\\w' ]+\", colormap='PuOr_r').generate(brands) #RdBu\n",
    "plt.imshow(wordcloud, interpolation='bilinear')\n",
    "plt.axis(\"off\")\n",
    "plt.show()"
   ]
  },
  {
   "cell_type": "code",
   "execution_count": 49,
   "id": "945820c8",
   "metadata": {},
   "outputs": [
    {
     "name": "stderr",
     "output_type": "stream",
     "text": [
      "100%|██████████| 2371/2371 [00:00<00:00, 406553.08it/s]"
     ]
    },
    {
     "name": "stdout",
     "output_type": "stream",
     "text": [
      "There are 21548 words in the combination of all product names\n"
     ]
    },
    {
     "name": "stderr",
     "output_type": "stream",
     "text": [
      "\n"
     ]
    }
   ],
   "source": [
    "products_dict = [] \n",
    "for text, annot in tqdm(TRAIN_DATA):\n",
    "    ents = []\n",
    "    for start, end, label in annot[\"entities\"]:\n",
    "        if label == \"PRODUCT\":\n",
    "            if text[start:end] != 'black':\n",
    "                products_dict.append(text[start:end])\n",
    "            \n",
    "products = \"+\".join(labels for labels in products_dict)\n",
    "print (\"There are {} words in the combination of all product names\".format(len(products)))"
   ]
  },
  {
   "cell_type": "code",
   "execution_count": 50,
   "id": "3e1dbe13",
   "metadata": {},
   "outputs": [
    {
     "data": {
      "image/png": "[encoded data removed]",
      "text/plain": [
       "<Figure size 432x288 with 1 Axes>"
      ]
     },
     "metadata": {
      "needs_background": "light"
     },
     "output_type": "display_data"
    }
   ],
   "source": [
    "wordcloud = WordCloud(background_color=\"white\", collocations=False, regexp= r\"\\w[\\w' ]+\", colormap='Set1_r').generate(products)\n",
    "plt.imshow(wordcloud, interpolation='bilinear')\n",
    "plt.axis(\"off\")\n",
    "plt.show()"
   ]
  },
  {
   "cell_type": "code",
   "execution_count": 51,
   "id": "55ee9bdd",
   "metadata": {},
   "outputs": [
    {
     "data": {
      "text/html": [
       "<span class=\"tex2jax_ignore\"><div class=\"entities\" style=\"line-height: 2.5; direction: ltr\">\n",
       "<mark class=\"entity\" style=\"background: #ff6961; padding: 0.45em 0.6em; margin: 0 0.25em; line-height: 1; border-radius: 0.35em;\">\n",
       "    sterling\n",
       "    <span style=\"font-size: 0.8em; font-weight: bold; line-height: 1; border-radius: 0.35em; vertical-align: middle; margin-left: 0.5rem\">BRAND</span>\n",
       "</mark>\n",
       " angel \n",
       "<mark class=\"entity\" style=\"background: #85C1E9; padding: 0.45em 0.6em; margin: 0 0.25em; line-height: 1; border-radius: 0.35em;\">\n",
       "    charm\n",
       "    <span style=\"font-size: 0.8em; font-weight: bold; line-height: 1; border-radius: 0.35em; vertical-align: middle; margin-left: 0.5rem\">PRODUCT</span>\n",
       "</mark>\n",
       "</div></span>"
      ],
      "text/plain": [
       "<IPython.core.display.HTML object>"
      ]
     },
     "metadata": {},
     "output_type": "display_data"
    },
    {
     "data": {
      "text/html": [
       "<span class=\"tex2jax_ignore\"><div class=\"entities\" style=\"line-height: 2.5; direction: ltr\">\n",
       "<mark class=\"entity\" style=\"background: #ff6961; padding: 0.45em 0.6em; margin: 0 0.25em; line-height: 1; border-radius: 0.35em;\">\n",
       "    hp\n",
       "    <span style=\"font-size: 0.8em; font-weight: bold; line-height: 1; border-radius: 0.35em; vertical-align: middle; margin-left: 0.5rem\">BRAND</span>\n",
       "</mark>\n",
       " pavilion 23xi 5840 cm 23 ips \n",
       "<mark class=\"entity\" style=\"background: #85C1E9; padding: 0.45em 0.6em; margin: 0 0.25em; line-height: 1; border-radius: 0.35em;\">\n",
       "    monitor\n",
       "    <span style=\"font-size: 0.8em; font-weight: bold; line-height: 1; border-radius: 0.35em; vertical-align: middle; margin-left: 0.5rem\">PRODUCT</span>\n",
       "</mark>\n",
       "</div></span>"
      ],
      "text/plain": [
       "<IPython.core.display.HTML object>"
      ]
     },
     "metadata": {},
     "output_type": "display_data"
    },
    {
     "data": {
      "text/html": [
       "<span class=\"tex2jax_ignore\"><div class=\"entities\" style=\"line-height: 2.5; direction: ltr\">\n",
       "<mark class=\"entity\" style=\"background: #ff6961; padding: 0.45em 0.6em; margin: 0 0.25em; line-height: 1; border-radius: 0.35em;\">\n",
       "    east carolina pirates\n",
       "    <span style=\"font-size: 0.8em; font-weight: bold; line-height: 1; border-radius: 0.35em; vertical-align: middle; margin-left: 0.5rem\">BRAND</span>\n",
       "</mark>\n",
       " ladies personalized \n",
       "<mark class=\"entity\" style=\"background: #85C1E9; padding: 0.45em 0.6em; margin: 0 0.25em; line-height: 1; border-radius: 0.35em;\">\n",
       "    basketball\n",
       "    <span style=\"font-size: 0.8em; font-weight: bold; line-height: 1; border-radius: 0.35em; vertical-align: middle; margin-left: 0.5rem\">PRODUCT</span>\n",
       "</mark>\n",
       " long sleeve classic fit \n",
       "<mark class=\"entity\" style=\"background: #85C1E9; padding: 0.45em 0.6em; margin: 0 0.25em; line-height: 1; border-radius: 0.35em;\">\n",
       "    tshirt\n",
       "    <span style=\"font-size: 0.8em; font-weight: bold; line-height: 1; border-radius: 0.35em; vertical-align: middle; margin-left: 0.5rem\">PRODUCT</span>\n",
       "</mark>\n",
       "</div></span>"
      ],
      "text/plain": [
       "<IPython.core.display.HTML object>"
      ]
     },
     "metadata": {},
     "output_type": "display_data"
    },
    {
     "data": {
      "text/html": [
       "<span class=\"tex2jax_ignore\"><div class=\"entities\" style=\"line-height: 2.5; direction: ltr\">\n",
       "<mark class=\"entity\" style=\"background: #ff6961; padding: 0.45em 0.6em; margin: 0 0.25em; line-height: 1; border-radius: 0.35em;\">\n",
       "    tekonsha\n",
       "    <span style=\"font-size: 0.8em; font-weight: bold; line-height: 1; border-radius: 0.35em; vertical-align: middle; margin-left: 0.5rem\">BRAND</span>\n",
       "</mark>\n",
       " 90195 p3 electric brake control 14 trailer \n",
       "<mark class=\"entity\" style=\"background: #85C1E9; padding: 0.45em 0.6em; margin: 0 0.25em; line-height: 1; border-radius: 0.35em;\">\n",
       "    axles\n",
       "    <span style=\"font-size: 0.8em; font-weight: bold; line-height: 1; border-radius: 0.35em; vertical-align: middle; margin-left: 0.5rem\">PRODUCT</span>\n",
       "</mark>\n",
       "</div></span>"
      ],
      "text/plain": [
       "<IPython.core.display.HTML object>"
      ]
     },
     "metadata": {},
     "output_type": "display_data"
    },
    {
     "data": {
      "text/html": [
       "<span class=\"tex2jax_ignore\"><div class=\"entities\" style=\"line-height: 2.5; direction: ltr\">rnxv \n",
       "<mark class=\"entity\" style=\"background: #ff6961; padding: 0.45em 0.6em; margin: 0 0.25em; line-height: 1; border-radius: 0.35em;\">\n",
       "    wifly\n",
       "    <span style=\"font-size: 0.8em; font-weight: bold; line-height: 1; border-radius: 0.35em; vertical-align: middle; margin-left: 0.5rem\">BRAND</span>\n",
       "</mark>\n",
       " module  wire antenna</div></span>"
      ],
      "text/plain": [
       "<IPython.core.display.HTML object>"
      ]
     },
     "metadata": {},
     "output_type": "display_data"
    },
    {
     "data": {
      "text/html": [
       "<span class=\"tex2jax_ignore\"><div class=\"entities\" style=\"line-height: 2.5; direction: ltr\">\n",
       "<mark class=\"entity\" style=\"background: #ff6961; padding: 0.45em 0.6em; margin: 0 0.25em; line-height: 1; border-radius: 0.35em;\">\n",
       "    genairex\n",
       "    <span style=\"font-size: 0.8em; font-weight: bold; line-height: 1; border-radius: 0.35em; vertical-align: middle; margin-left: 0.5rem\">BRAND</span>\n",
       "</mark>\n",
       " securit ostomy barrier</div></span>"
      ],
      "text/plain": [
       "<IPython.core.display.HTML object>"
      ]
     },
     "metadata": {},
     "output_type": "display_data"
    },
    {
     "data": {
      "text/html": [
       "<span class=\"tex2jax_ignore\"><div class=\"entities\" style=\"line-height: 2.5; direction: ltr\">\n",
       "<mark class=\"entity\" style=\"background: #ff6961; padding: 0.45em 0.6em; margin: 0 0.25em; line-height: 1; border-radius: 0.35em;\">\n",
       "    philadelphia eagles\n",
       "    <span style=\"font-size: 0.8em; font-weight: bold; line-height: 1; border-radius: 0.35em; vertical-align: middle; margin-left: 0.5rem\">BRAND</span>\n",
       "</mark>\n",
       " framed wallmountable mini \n",
       "<mark class=\"entity\" style=\"background: #85C1E9; padding: 0.45em 0.6em; margin: 0 0.25em; line-height: 1; border-radius: 0.35em;\">\n",
       "    helmet\n",
       "    <span style=\"font-size: 0.8em; font-weight: bold; line-height: 1; border-radius: 0.35em; vertical-align: middle; margin-left: 0.5rem\">PRODUCT</span>\n",
       "</mark>\n",
       " \n",
       "<mark class=\"entity\" style=\"background: #85C1E9; padding: 0.45em 0.6em; margin: 0 0.25em; line-height: 1; border-radius: 0.35em;\">\n",
       "    display case\n",
       "    <span style=\"font-size: 0.8em; font-weight: bold; line-height: 1; border-radius: 0.35em; vertical-align: middle; margin-left: 0.5rem\">PRODUCT</span>\n",
       "</mark>\n",
       "</div></span>"
      ],
      "text/plain": [
       "<IPython.core.display.HTML object>"
      ]
     },
     "metadata": {},
     "output_type": "display_data"
    },
    {
     "data": {
      "text/html": [
       "<span class=\"tex2jax_ignore\"><div class=\"entities\" style=\"line-height: 2.5; direction: ltr\">womens \n",
       "<mark class=\"entity\" style=\"background: #ff6961; padding: 0.45em 0.6em; margin: 0 0.25em; line-height: 1; border-radius: 0.35em;\">\n",
       "    kansas city chiefs\n",
       "    <span style=\"font-size: 0.8em; font-weight: bold; line-height: 1; border-radius: 0.35em; vertical-align: middle; margin-left: 0.5rem\">BRAND</span>\n",
       "</mark>\n",
       " \n",
       "<mark class=\"entity\" style=\"background: #ff6961; padding: 0.45em 0.6em; margin: 0 0.25em; line-height: 1; border-radius: 0.35em;\">\n",
       "    nike\n",
       "    <span style=\"font-size: 0.8em; font-weight: bold; line-height: 1; border-radius: 0.35em; vertical-align: middle; margin-left: 0.5rem\">BRAND</span>\n",
       "</mark>\n",
       " warp triblend vneck performance \n",
       "<mark class=\"entity\" style=\"background: #85C1E9; padding: 0.45em 0.6em; margin: 0 0.25em; line-height: 1; border-radius: 0.35em;\">\n",
       "    tshirt\n",
       "    <span style=\"font-size: 0.8em; font-weight: bold; line-height: 1; border-radius: 0.35em; vertical-align: middle; margin-left: 0.5rem\">PRODUCT</span>\n",
       "</mark>\n",
       "</div></span>"
      ],
      "text/plain": [
       "<IPython.core.display.HTML object>"
      ]
     },
     "metadata": {},
     "output_type": "display_data"
    },
    {
     "data": {
      "text/html": [
       "<span class=\"tex2jax_ignore\"><div class=\"entities\" style=\"line-height: 2.5; direction: ltr\">\n",
       "<mark class=\"entity\" style=\"background: #ff6961; padding: 0.45em 0.6em; margin: 0 0.25em; line-height: 1; border-radius: 0.35em;\">\n",
       "    goldwax\n",
       "    <span style=\"font-size: 0.8em; font-weight: bold; line-height: 1; border-radius: 0.35em; vertical-align: middle; margin-left: 0.5rem\">BRAND</span>\n",
       "</mark>\n",
       " records \n",
       "<mark class=\"entity\" style=\"background: #85C1E9; padding: 0.45em 0.6em; margin: 0 0.25em; line-height: 1; border-radius: 0.35em;\">\n",
       "    tshirt\n",
       "    <span style=\"font-size: 0.8em; font-weight: bold; line-height: 1; border-radius: 0.35em; vertical-align: middle; margin-left: 0.5rem\">PRODUCT</span>\n",
       "</mark>\n",
       "</div></span>"
      ],
      "text/plain": [
       "<IPython.core.display.HTML object>"
      ]
     },
     "metadata": {},
     "output_type": "display_data"
    },
    {
     "data": {
      "text/html": [
       "<span class=\"tex2jax_ignore\"><div class=\"entities\" style=\"line-height: 2.5; direction: ltr\">\n",
       "<mark class=\"entity\" style=\"background: #ff6961; padding: 0.45em 0.6em; margin: 0 0.25em; line-height: 1; border-radius: 0.35em;\">\n",
       "    nittaku\n",
       "    <span style=\"font-size: 0.8em; font-weight: bold; line-height: 1; border-radius: 0.35em; vertical-align: middle; margin-left: 0.5rem\">BRAND</span>\n",
       "</mark>\n",
       " \n",
       "<mark class=\"entity\" style=\"background: #85C1E9; padding: 0.45em 0.6em; margin: 0 0.25em; line-height: 1; border-radius: 0.35em;\">\n",
       "    barwell fleet\n",
       "    <span style=\"font-size: 0.8em; font-weight: bold; line-height: 1; border-radius: 0.35em; vertical-align: middle; margin-left: 0.5rem\">PRODUCT</span>\n",
       "</mark>\n",
       "</div></span>"
      ],
      "text/plain": [
       "<IPython.core.display.HTML object>"
      ]
     },
     "metadata": {},
     "output_type": "display_data"
    }
   ],
   "source": [
    "nlp = spacy.load(\"prod_ner\")\n",
    "colors = {'BRAND': \"#ff6961\", \"PRODUCT\": \"#85C1E9\"}\n",
    "options = {\"ents\": ['BRAND', 'PRODUCT'], \"colors\": colors}\n",
    "for text in TRAIN_DATA[:10]:\n",
    "    sent = text[0]\n",
    "    spacy.displacy.render(nlp(sent), style='ent', options=options)"
   ]
  },
  {
   "cell_type": "code",
   "execution_count": 52,
   "id": "a697052c",
   "metadata": {},
   "outputs": [
    {
     "data": {
      "text/html": [
       "<div>\n",
       "<style scoped>\n",
       "    .dataframe tbody tr th:only-of-type {\n",
       "        vertical-align: middle;\n",
       "    }\n",
       "\n",
       "    .dataframe tbody tr th {\n",
       "        vertical-align: top;\n",
       "    }\n",
       "\n",
       "    .dataframe thead th {\n",
       "        text-align: right;\n",
       "    }\n",
       "</style>\n",
       "<table border=\"1\" class=\"dataframe\">\n",
       "  <thead>\n",
       "    <tr style=\"text-align: right;\">\n",
       "      <th></th>\n",
       "      <th>labels</th>\n",
       "      <th>counts</th>\n",
       "    </tr>\n",
       "  </thead>\n",
       "  <tbody>\n",
       "    <tr>\n",
       "      <th>0</th>\n",
       "      <td>B-BRAND</td>\n",
       "      <td>3096</td>\n",
       "    </tr>\n",
       "    <tr>\n",
       "      <th>1</th>\n",
       "      <td>B-PRODUCT</td>\n",
       "      <td>3094</td>\n",
       "    </tr>\n",
       "    <tr>\n",
       "      <th>2</th>\n",
       "      <td>I-BRAND</td>\n",
       "      <td>2071</td>\n",
       "    </tr>\n",
       "    <tr>\n",
       "      <th>3</th>\n",
       "      <td>I-PRODUCT</td>\n",
       "      <td>199</td>\n",
       "    </tr>\n",
       "    <tr>\n",
       "      <th>4</th>\n",
       "      <td>O</td>\n",
       "      <td>10387</td>\n",
       "    </tr>\n",
       "  </tbody>\n",
       "</table>\n",
       "</div>"
      ],
      "text/plain": [
       "      labels  counts\n",
       "0    B-BRAND    3096\n",
       "1  B-PRODUCT    3094\n",
       "2    I-BRAND    2071\n",
       "3  I-PRODUCT     199\n",
       "4          O   10387"
      ]
     },
     "execution_count": 52,
     "metadata": {},
     "output_type": "execute_result"
    }
   ],
   "source": [
    "entities_count"
   ]
  },
  {
   "cell_type": "code",
   "execution_count": 53,
   "id": "adbfc6fe",
   "metadata": {},
   "outputs": [
    {
     "data": {
      "image/png": "[encoded data removed]",
      "text/plain": [
       "<Figure size 720x360 with 1 Axes>"
      ]
     },
     "metadata": {
      "needs_background": "light"
     },
     "output_type": "display_data"
    }
   ],
   "source": [
    "fig = plt.figure(figsize=(10,5))\n",
    "ax = fig.add_axes([0,0,1,1])\n",
    "major_ticks = np.arange(0, 12000, 500)\n",
    "minor_ticks = np.arange(0, 101, 5)\n",
    "\n",
    "\n",
    "ax.set_yticks(major_ticks)\n",
    "ax.set_yticks(minor_ticks, minor=True)\n",
    "ax.set_axisbelow(True)\n",
    "ax.bar(entities_count.labels, entities_count.counts, color = '#ff6961')\n",
    "plt.xlabel(\"Named Entities\")\n",
    "plt.ylabel(\"Count\")\n",
    "plt.title(\"Count of unique entities\")\n",
    "plt.grid()\n",
    "plt.show()\n"
   ]
  },
  {
   "cell_type": "markdown",
   "id": "19ee1285",
   "metadata": {},
   "source": [
    "## Gensim Word2Vec with Neural Network"
   ]
  },
  {
   "cell_type": "code",
   "execution_count": 54,
   "id": "5598bbba",
   "metadata": {},
   "outputs": [],
   "source": [
    "#import necessary libraries\n",
    "from keras_preprocessing.sequence import pad_sequences\n",
    "from gensim.models.word2vec import Word2Vec\n",
    "from gensim.models.keyedvectors import KeyedVectors\n",
    "from keras.utils import to_categorical\n",
    "from keras.models  import Model\n",
    "from tensorflow.keras.layers import Input, Dense,Embedding, Activation, Flatten\n",
    "\n",
    "from tensorflow.keras import Sequential\n",
    "import collections"
   ]
  },
  {
   "cell_type": "code",
   "execution_count": 55,
   "id": "2c25f556",
   "metadata": {},
   "outputs": [],
   "source": [
    "word_vec = []\n",
    "nlp = spacy.load(\"prod_ner\")\n",
    "with open(\"Final_dataset.csv\", \"r\") as f:\n",
    "    text = pd.read_csv(f)\n",
    "    #print(text)\n",
    "    df1 = list(text[\"ï»¿Title\"])\n",
    "    data = []\n",
    "    for item in df1:\n",
    "        #print(item)\n",
    "        data.append(item.lower())\n",
    "    #print(data)\n",
    "    for segment in data:\n",
    "#         print(segment)\n",
    "        segment = segment.strip()\n",
    "        segment = segment.replace(\"\\n\", \" \")\n",
    "        segment = segment.encode('ascii', 'ignore').decode()\n",
    "        for i, word in enumerate(segment.split()):\n",
    "#             print(word)\n",
    "            if word in STOP_WORDS:\n",
    "#                 print(word)\n",
    "                segment = segment.replace(word, \"\")\n",
    "        \n",
    "        segment = re.sub(' +', ' ', segment)\n",
    "#         print(segment)\n",
    "        punc = '''!()-[]{};:'\"\\,<>./?@#$%^&*_~'''        \n",
    "        for ele in segment:\n",
    "            #print(ele)\n",
    "            if ele in punc:\n",
    "                segment = segment.replace(ele, \"\")\n",
    "                segment = segment.strip()\n",
    "        \n",
    "        dic = []\n",
    "        for word in segment.split():\n",
    "            dic.append(word)\n",
    "        word_vec.append(dic)\n"
   ]
  },
  {
   "cell_type": "code",
   "execution_count": 56,
   "id": "663f3476",
   "metadata": {},
   "outputs": [],
   "source": [
    "# (word_vec)"
   ]
  },
  {
   "cell_type": "code",
   "execution_count": 57,
   "id": "1824047b",
   "metadata": {},
   "outputs": [],
   "source": [
    "save_data(\"train_data_01.json\", word_vec)"
   ]
  },
  {
   "cell_type": "code",
   "execution_count": 58,
   "id": "5314ed9f",
   "metadata": {},
   "outputs": [],
   "source": [
    "w2v = Word2Vec(word_vec, vector_size=300, window=5, min_count=0, negative=10)"
   ]
  },
  {
   "cell_type": "code",
   "execution_count": 59,
   "id": "1d609716",
   "metadata": {},
   "outputs": [],
   "source": [
    "word_vectors = w2v.wv"
   ]
  },
  {
   "cell_type": "code",
   "execution_count": 60,
   "id": "1eed7cf3",
   "metadata": {},
   "outputs": [
    {
     "data": {
      "text/plain": [
       "array([ 5.03403172e-02,  6.56134248e-01,  4.56202440e-02,  2.40771800e-01,\n",
       "       -4.33438420e-02, -5.32442331e-01,  4.79035974e-01,  1.09822178e+00,\n",
       "        2.60798752e-01, -2.40335185e-02, -4.90269847e-02, -6.45790994e-01,\n",
       "        9.33388993e-02, -1.74755707e-01, -4.13643539e-01, -2.06955045e-01,\n",
       "        1.83261037e-01, -2.20380276e-01,  1.59600243e-01, -2.76791245e-01,\n",
       "       -4.45567995e-01,  1.93210602e-01,  2.57227302e-01,  2.10086644e-01,\n",
       "        3.65383416e-01, -7.28277564e-02, -7.31126130e-01,  8.81500263e-03,\n",
       "       -2.12032154e-01, -7.83140182e-01,  2.49015674e-01, -3.39242816e-01,\n",
       "       -6.46502823e-02,  2.21434548e-01, -2.33255923e-01,  3.37903619e-01,\n",
       "        5.26607692e-01, -2.98206449e-01,  1.10529870e-01, -1.22022569e-01,\n",
       "       -1.89789951e-01,  1.84790120e-01,  1.05893053e-01, -2.16873154e-01,\n",
       "        2.10018381e-01,  4.11251038e-01,  1.67613521e-01,  2.71889061e-01,\n",
       "        2.64060162e-02,  5.82515657e-01,  1.35645345e-01,  5.04066534e-02,\n",
       "       -2.28463471e-01, -6.15924248e-04,  1.89098381e-02,  6.57109559e-01,\n",
       "        2.91847587e-01,  1.09847397e-01,  6.27024844e-02, -1.22155517e-01,\n",
       "       -3.43743205e-01, -1.80308688e-02, -7.78947473e-02,  3.52698117e-02,\n",
       "        5.93727361e-03,  1.12870894e-01, -1.04501106e-01,  4.16776463e-02,\n",
       "       -2.78107494e-01, -3.37840140e-01, -2.14643776e-01,  3.64214808e-01,\n",
       "        3.69454831e-01, -4.98915404e-01, -9.66177061e-02,  3.38967294e-01,\n",
       "       -5.41122258e-01,  1.70821846e-01, -1.04556575e-01,  4.00711447e-01,\n",
       "       -6.08012900e-02, -5.57931006e-01,  5.87491952e-02,  8.44431877e-01,\n",
       "        1.53864592e-01,  5.06043201e-04, -5.50777614e-01,  6.09492026e-02,\n",
       "        7.34010160e-01,  2.74116129e-01,  3.58415991e-01, -1.53192356e-01,\n",
       "        2.86220670e-01,  1.96504191e-01,  5.80727041e-01,  6.24643803e-01,\n",
       "        5.33340394e-01, -1.52425781e-01, -3.85173738e-01,  2.32039988e-01,\n",
       "       -1.11753769e-01, -1.10203318e-01,  2.68646836e-01,  1.33898094e-01,\n",
       "        1.59868538e-01, -1.48321673e-01,  2.40292102e-02,  7.62830824e-02,\n",
       "       -3.09676230e-01,  5.13334945e-02, -3.80248964e-01, -4.38788265e-01,\n",
       "        6.39981776e-02,  5.77862322e-01,  9.20952335e-02,  3.90532613e-01,\n",
       "       -6.24039471e-02, -3.46398987e-02,  6.55659497e-01, -3.52729023e-01,\n",
       "        2.36666709e-01,  1.03738658e-01,  5.99990845e-01,  3.12534720e-03,\n",
       "       -2.61131644e-01,  2.24417225e-01,  1.73806846e-01, -4.89893645e-01,\n",
       "        1.75435692e-01,  2.57268310e-01,  3.10983777e-01,  6.95764780e-01,\n",
       "        2.12250397e-01, -3.14824611e-01,  3.65246207e-01,  1.45896912e-01,\n",
       "       -1.55354097e-01, -4.72485602e-01, -5.26989460e-01, -5.73896945e-01,\n",
       "        1.18926287e-01, -6.06617868e-01,  3.48047097e-03,  1.92377165e-01,\n",
       "        2.42394716e-01, -2.98497945e-01, -7.61695921e-01, -1.92168936e-01,\n",
       "        2.46612743e-01, -2.40826219e-01, -7.74565563e-02, -8.05389941e-01,\n",
       "       -6.90601766e-01, -2.28124663e-01, -3.32049698e-01,  5.55565506e-02,\n",
       "       -6.60106838e-01, -2.16248199e-01, -1.95551559e-01,  5.94891667e-01,\n",
       "        5.97904883e-02,  2.46546000e-01, -5.23574173e-01,  6.85779333e-01,\n",
       "       -4.94896173e-01, -7.20393062e-02,  3.14759016e-02, -1.54381961e-01,\n",
       "       -8.08602646e-02,  8.65719736e-01, -7.40992129e-02, -3.11319605e-02,\n",
       "        3.52145553e-01,  8.93831104e-02, -1.27357826e-01,  1.16890976e-02,\n",
       "       -6.75009913e-04, -2.61315614e-01, -9.34896320e-02, -1.91556722e-01,\n",
       "       -1.73963279e-01,  2.12962627e-01, -4.00738358e-01, -2.40408063e-01,\n",
       "       -1.81793243e-01,  2.61237055e-01,  7.58603215e-01,  6.04857028e-01,\n",
       "        1.61893904e-01, -6.04756653e-01, -4.08953838e-02,  9.50294435e-02,\n",
       "       -5.08178592e-01,  2.43013781e-02,  2.63503313e-01, -4.21853006e-01,\n",
       "        1.31123647e-01, -4.14710969e-01,  3.35689247e-01, -5.69889620e-02,\n",
       "       -3.78757507e-01,  1.16337270e-01, -2.81409353e-01, -2.27960393e-01,\n",
       "       -3.67672861e-01, -6.83643157e-03, -3.67325962e-01,  5.99755310e-02,\n",
       "        1.61429942e-02, -2.74443980e-02, -6.71692640e-02, -4.08747584e-01,\n",
       "       -3.03408653e-01, -2.08198130e-01,  1.51022196e-01, -6.74443781e-01,\n",
       "       -3.00167441e-01, -1.07519448e+00, -6.05285525e-01, -4.34425831e-01,\n",
       "        3.27029407e-01,  5.94424494e-02, -3.18580419e-01, -2.42655724e-01,\n",
       "       -2.69815058e-01, -2.96276361e-01,  2.73907125e-01, -1.00633632e-02,\n",
       "       -4.53319639e-01,  1.01745129e-01,  1.63734853e-01, -6.34969445e-03,\n",
       "       -4.89824444e-01,  1.31579533e-01, -1.68148684e-03,  1.23715706e-01,\n",
       "       -5.67875169e-02,  1.82637393e-01,  8.71606767e-02, -6.61703587e-01,\n",
       "        2.10148796e-01, -4.85087723e-01, -3.93773049e-01,  7.31610581e-02,\n",
       "       -5.24256155e-02, -7.94329405e-01,  1.17696719e-02,  2.94195265e-01,\n",
       "       -5.08133359e-02,  2.66417086e-01,  8.54649842e-02, -4.74613793e-02,\n",
       "        4.73361373e-01,  1.22484706e-01, -7.42366016e-01, -9.12128612e-02,\n",
       "        7.18430042e-01,  2.42975861e-01, -8.91503096e-01, -3.01295966e-01,\n",
       "        2.44600207e-01,  4.18010235e-01, -2.19403375e-02, -7.88954020e-01,\n",
       "       -2.68119186e-01, -5.43436520e-02,  2.19551697e-01,  2.96818346e-01,\n",
       "       -4.93878156e-01, -1.17653623e-01, -1.46380022e-01,  6.25708923e-02,\n",
       "       -8.43322277e-02, -1.22118607e-01,  8.48927259e-01,  9.84728113e-02,\n",
       "        3.89771283e-01,  1.91753134e-02, -3.72240126e-01, -4.30916697e-02,\n",
       "        1.99299514e-01, -1.84555084e-01, -1.64350927e-01,  1.89573660e-01,\n",
       "       -4.11527678e-02,  9.58679318e-02, -6.66161478e-01,  5.44261038e-01,\n",
       "        1.09545954e-01,  5.22223294e-01,  2.20510855e-01,  5.84337413e-01,\n",
       "        4.10956204e-01,  5.55599704e-02,  6.46758080e-01,  5.80953002e-01,\n",
       "       -5.59289269e-02, -4.15449977e-01,  2.98458785e-01, -4.40889373e-02],\n",
       "      dtype=float32)"
      ]
     },
     "execution_count": 60,
     "metadata": {},
     "output_type": "execute_result"
    }
   ],
   "source": [
    "word_vectors[0]"
   ]
  },
  {
   "cell_type": "code",
   "execution_count": 61,
   "id": "7cccd901",
   "metadata": {
    "scrolled": true
   },
   "outputs": [
    {
     "data": {
      "text/plain": [
       "[('mens', 0.999967098236084),\n",
       " ('adidas', 0.9999622702598572),\n",
       " ('blue', 0.9999614357948303),\n",
       " ('womens', 0.9999606013298035),\n",
       " ('black', 0.9999599456787109),\n",
       " ('red', 0.9999598264694214),\n",
       " ('x', 0.9999589920043945),\n",
       " ('ladies', 0.9999585747718811),\n",
       " ('youth', 0.9999579787254333),\n",
       " ('hp', 0.9999577403068542)]"
      ]
     },
     "execution_count": 61,
     "metadata": {},
     "output_type": "execute_result"
    }
   ],
   "source": [
    "word_vectors.similar_by_word(\"nike\")"
   ]
  },
  {
   "cell_type": "code",
   "execution_count": 62,
   "id": "d073ec06",
   "metadata": {
    "scrolled": true
   },
   "outputs": [],
   "source": [
    "all_bio_df = all_bio_df.loc[all_bio_df[\"words\"] != ' ']"
   ]
  },
  {
   "cell_type": "code",
   "execution_count": 63,
   "id": "8de65846",
   "metadata": {},
   "outputs": [],
   "source": [
    "#function to convert to required input format\n",
    "class SentenceGetter(object):\n",
    "    def __init__(self, data):\n",
    "        self.n_sent = 1\n",
    "        self.data = data\n",
    "        self.empty = False\n",
    "        agg_func = lambda s: [(w, p, t) for w, p, t in zip(s['words'].values.tolist(),\n",
    "                                                           s['POS'].values.tolist(),\n",
    "                                                           s['labels'].values.tolist())]\n",
    "        self.grouped = self.data.groupby('sentence_id').apply(agg_func)\n",
    "        self.sentences = [s for s in self.grouped]"
   ]
  },
  {
   "cell_type": "code",
   "execution_count": 64,
   "id": "a398f656",
   "metadata": {},
   "outputs": [],
   "source": [
    "getter = SentenceGetter(all_bio_df)\n",
    "train_sent = getter.sentences"
   ]
  },
  {
   "cell_type": "code",
   "execution_count": 65,
   "id": "0a41270a",
   "metadata": {},
   "outputs": [
    {
     "data": {
      "text/plain": [
       "[('hp', 'PROPN', 'B-BRAND'),\n",
       " ('pavilion', 'NOUN', 'O'),\n",
       " ('23xi', 'NOUN', 'O'),\n",
       " ('5840', 'NUM', 'O'),\n",
       " ('cm', 'NOUN', 'O'),\n",
       " ('23', 'NUM', 'O'),\n",
       " ('ips', 'NOUN', 'O'),\n",
       " ('monitor', 'NOUN', 'B-PRODUCT')]"
      ]
     },
     "execution_count": 65,
     "metadata": {},
     "output_type": "execute_result"
    }
   ],
   "source": [
    "train_sent[1]"
   ]
  },
  {
   "cell_type": "code",
   "execution_count": 66,
   "id": "a3fa21d3",
   "metadata": {},
   "outputs": [],
   "source": [
    "test_data = pd.DataFrame(test_data)\n",
    "test_data.rename(columns={'Name':'Title'}, inplace=True)\n",
    "\n",
    "test_data.to_csv(\"test_data.csv\")\n",
    "\n",
    "TEST_DATA = get_spacy_train_data('test_data.csv')"
   ]
  },
  {
   "cell_type": "code",
   "execution_count": 67,
   "id": "3da1ce35",
   "metadata": {},
   "outputs": [
    {
     "data": {
      "text/html": [
       "<div>\n",
       "<style scoped>\n",
       "    .dataframe tbody tr th:only-of-type {\n",
       "        vertical-align: middle;\n",
       "    }\n",
       "\n",
       "    .dataframe tbody tr th {\n",
       "        vertical-align: top;\n",
       "    }\n",
       "\n",
       "    .dataframe thead th {\n",
       "        text-align: right;\n",
       "    }\n",
       "</style>\n",
       "<table border=\"1\" class=\"dataframe\">\n",
       "  <thead>\n",
       "    <tr style=\"text-align: right;\">\n",
       "      <th></th>\n",
       "      <th>sentence_id</th>\n",
       "      <th>words</th>\n",
       "      <th>POS</th>\n",
       "      <th>labels</th>\n",
       "    </tr>\n",
       "  </thead>\n",
       "  <tbody>\n",
       "    <tr>\n",
       "      <th>0</th>\n",
       "      <td>0</td>\n",
       "      <td>ruby</td>\n",
       "      <td>NOUN</td>\n",
       "      <td>B-BRAND</td>\n",
       "    </tr>\n",
       "    <tr>\n",
       "      <th>1</th>\n",
       "      <td>0</td>\n",
       "      <td>reds</td>\n",
       "      <td>NOUN</td>\n",
       "      <td>I-BRAND</td>\n",
       "    </tr>\n",
       "    <tr>\n",
       "      <th>2</th>\n",
       "      <td>1</td>\n",
       "      <td>victorian</td>\n",
       "      <td>ADJ</td>\n",
       "      <td>B-BRAND</td>\n",
       "    </tr>\n",
       "    <tr>\n",
       "      <th>3</th>\n",
       "      <td>1</td>\n",
       "      <td>silver</td>\n",
       "      <td>PROPN</td>\n",
       "      <td>B-PRODUCT</td>\n",
       "    </tr>\n",
       "    <tr>\n",
       "      <th>4</th>\n",
       "      <td>1</td>\n",
       "      <td>masonic</td>\n",
       "      <td>ADJ</td>\n",
       "      <td>O</td>\n",
       "    </tr>\n",
       "  </tbody>\n",
       "</table>\n",
       "</div>"
      ],
      "text/plain": [
       "   sentence_id      words    POS     labels\n",
       "0            0       ruby   NOUN    B-BRAND\n",
       "1            0       reds   NOUN    I-BRAND\n",
       "2            1  victorian    ADJ    B-BRAND\n",
       "3            1     silver  PROPN  B-PRODUCT\n",
       "4            1    masonic    ADJ          O"
      ]
     },
     "execution_count": 67,
     "metadata": {},
     "output_type": "execute_result"
    }
   ],
   "source": [
    "test_df = convert_to_bio_tags(TEST_DATA)\n",
    "test_df.head()"
   ]
  },
  {
   "cell_type": "code",
   "execution_count": 68,
   "id": "73bc671a",
   "metadata": {},
   "outputs": [],
   "source": [
    "getter = SentenceGetter(test_df)\n",
    "test_sent = getter.sentences"
   ]
  },
  {
   "cell_type": "code",
   "execution_count": 69,
   "id": "8613e360",
   "metadata": {},
   "outputs": [],
   "source": [
    "#function to fetch labels for each token\n",
    "def get_tags(tagged_words):\n",
    "    tag2id = {}\n",
    "    for item in tagged_words:\n",
    "        for tok in item:\n",
    "#             print(tok[2])\n",
    "            tag = tok[2]\n",
    "            tag2id.setdefault(tag, len(tag2id))\n",
    "    return tag2id"
   ]
  },
  {
   "cell_type": "code",
   "execution_count": 70,
   "id": "6ac38761",
   "metadata": {},
   "outputs": [],
   "source": [
    "tag2id = get_tags(train_sent)"
   ]
  },
  {
   "cell_type": "code",
   "execution_count": 71,
   "id": "70ef2bfe",
   "metadata": {},
   "outputs": [
    {
     "data": {
      "text/plain": [
       "{'B-BRAND': 0, 'O': 1, 'B-PRODUCT': 2, 'I-BRAND': 3, 'I-PRODUCT': 4}"
      ]
     },
     "execution_count": 71,
     "metadata": {},
     "output_type": "execute_result"
    }
   ],
   "source": [
    "tag2id"
   ]
  },
  {
   "cell_type": "code",
   "execution_count": 72,
   "id": "5a7802dd",
   "metadata": {},
   "outputs": [],
   "source": [
    "# for k,i in word_vectors.key_to_index.items():\n",
    "#     if k =='pavilion':\n",
    "#         print(k)"
   ]
  },
  {
   "cell_type": "code",
   "execution_count": 73,
   "id": "78c874cc",
   "metadata": {},
   "outputs": [
    {
     "data": {
      "text/plain": [
       "dict_items([('nike', 0), ('tshirt', 1), ('mens', 2), ('blue', 3), ('adidas', 4), ('black', 5), ('sleeve', 6), ('navy', 7), ('womens', 8), ('state', 9), ('performance', 10), ('jersey', 11), ('hat', 12), ('long', 13), ('hoodie', 14), ('logo', 15), ('red', 16), ('white', 17), ('youth', 18), ('ladies', 19), ('football', 20), ('polo', 21), ('pullover', 22), ('replica', 23), ('new', 24), ('jacket', 25), ('2014', 26), ('team', 27), ('green', 28), ('sideline', 29), ('orange', 30), ('royal', 31), ('arch', 32), ('adjustable', 33), ('game', 34), ('seattle', 35), ('zip', 36), ('fit', 37), ('short', 38), ('bulldogs', 39), ('shirt', 40), ('tigers', 41), ('broncos', 42), ('sweatshirt', 43), ('gray', 44), ('denver', 45), ('triblend', 46), ('seahawks', 47), ('x', 48), ('purple', 49), ('texas', 50), ('t', 51), ('kansas', 52), ('basketball', 53), ('crimson', 54), ('flex', 55), ('coaches', 56), ('classic', 57), ('carolina', 58), ('wildcats', 59), ('vneck', 60), ('fleece', 61), ('city', 62), ('maroon', 63), ('knit', 64), ('set', 65), ('florida', 66), ('hp', 67), ('ash', 68), ('custom', 69), ('slim', 70), ('player', 71), ('bears', 72), ('flag', 73), ('shorts', 74), ('college', 75), ('charcoal', 76), ('drifit', 77), ('cardinal', 78), ('tech', 79), ('big', 80), ('world', 81), ('pants', 82), ('scarlet', 83), ('spartans', 84), ('michigan', 85), ('grey', 86), ('color', 87), ('primary', 88), ('light', 89), ('south', 90), ('chicago', 91), ('distressed', 92), ('wincraft', 93), ('longhorns', 94), ('philadelphia', 95), ('washington', 96), ('brand', 97), ('huskies', 98), ('vintage', 99), ('york', 100), ('toddler', 101), ('crew', 102), ('cardinals', 103), ('champions', 104), ('2', 105), ('san', 106), ('knights', 107), ('houston', 108), ('sport', 109), ('missouri', 110), ('home', 111), ('era', 112), ('tee', 113), ('majestic', 114), ('legend', 115), ('kit', 116), ('mississippi', 117), ('fc', 118), ('forest', 119), ('personalized', 120), ('brown', 121), ('3', 122), ('hooded', 123), ('gold', 124), ('purdue', 125), ('boilermakers', 126), ('demon', 127), ('gators', 128), ('north', 129), ('5', 130), ('47', 131), ('wake', 132), ('fitted', 133), ('miami', 134), ('eagles', 135), ('oregon', 136), ('golden', 137), ('case', 138), ('deacons', 139), ('lions', 140), ('orleans', 141), ('cowboys', 142), ('basic', 143), ('clemson', 144), ('virginia', 145), ('number', 146), ('lsu', 147), ('elite', 148), ('tank', 149), ('louisville', 150), ('dress', 151), ('12', 152), ('usa', 153), ('infant', 154), ('mascot', 155), ('authentic', 156), ('oklahoma', 157), ('georgia', 158), ('no', 159), ('pro', 160), ('car', 161), ('panthers', 162), ('university', 163), ('horned', 164), ('golf', 165), ('silver', 166), ('cleveland', 167), ('gamecocks', 168), ('fashion', 169), ('frogs', 170), ('kentucky', 171), ('cuffed', 172), ('am', 173), ('tcu', 174), ('cincinnati', 175), ('tennessee', 176), ('snapback', 177), ('ducks', 178), ('fan', 179), ('grizzlies', 180), ('cotton', 181), ('beanie', 182), ('dallas', 183), ('1', 184), ('soccer', 185), ('colorado', 186), ('practice', 187), ('trojans', 188), ('pack', 189), ('louis', 190), ('backpack', 191), ('original', 192), ('vertical', 193), ('mesh', 194), ('bruins', 195), ('chiefs', 196), ('striped', 197), ('mini', 198), ('retro', 199), ('wordmark', 200), ('legacy', 201), ('garnet', 202), ('bag', 203), ('illinois', 204), ('st', 205), ('west', 206), ('oncourt', 207), ('sounders', 208), ('memphis', 209), ('penn', 210), ('4', 211), ('girls', 212), ('puremotion', 213), ('15', 214), ('limited', 215), ('6', 216), ('preschool', 217), ('aggies', 218), ('road', 219), ('pittsburgh', 220), ('seminoles', 221), ('17', 222), ('pelicans', 223), ('bowl', 224), ('browns', 225), ('ko', 226), ('pirates', 227), ('usc', 228), ('dakota', 229), ('14', 230), ('premium', 231), ('2013', 232), ('badgers', 233), ('helmet', 234), ('plate', 235), ('wisconsin', 236), ('rutgers', 237), ('climalite', 238), ('nittany', 239), ('mountaineers', 240), ('decal', 241), ('solid', 242), ('pom', 243), ('2015', 244), ('bearcats', 245), ('time', 246), ('arkansas', 247), ('arizona', 248), ('baseball', 249), ('air', 250), ('shoes', 251), ('2017', 252), ('swingman', 253), ('clock', 254), ('ucla', 255), ('fighting', 256), ('bulls', 257), ('victory', 258), ('wolfpack', 259), ('ncaa', 260), ('irish', 261), ('razorbacks', 262), ('20', 263), ('tall', 264), ('heels', 265), ('syracuse', 266), ('room', 267), ('ohio', 268), ('sooners', 269), ('flyers', 270), ('francisco', 271), ('knicks', 272), ('tide', 273), ('alabama', 274), ('giants', 275), ('training', 276), ('armour', 277), ('heritage', 278), ('76ers', 279), ('columbia', 280), ('owls', 281), ('steel', 282), ('structured', 283), ('gunmetal', 284), ('pride', 285), ('rockets', 286), ('stephen', 287), ('austin', 288), ('leather', 289), ('men', 290), ('anthracite', 291), ('nfl', 292), ('49ers', 293), ('autographed', 294), ('series', 295), ('bucks', 296), ('garden', 297), ('antigua', 298), ('drive', 299), ('camo', 300), ('license', 301), ('stripe', 302), ('wall', 303), ('buffaloes', 304), ('tar', 305), ('7', 306), ('east', 307), ('ii', 308), ('fiu', 309), ('kids', 310), ('miners', 311), ('dayton', 312), ('11', 313), ('milwaukee', 314), ('notre', 315), ('staff', 316), ('dame', 317), ('thermal', 318), ('true', 319), ('fly', 320), ('39thirty', 321), ('bar', 322), ('swoosh', 323), ('baltimore', 324), ('chain', 325), ('glass', 326), ('boots', 327), ('jayhawks', 328), ('utep', 329), ('sporting', 330), ('8', 331), ('applique', 332), ('steelers', 333), ('oz', 334), ('indiana', 335), ('f', 336), ('nebraska', 337), ('stadium', 338), ('cornhuskers', 339), ('ls', 340), ('yellow', 341), ('texans', 342), ('bed', 343), ('away', 344), ('royals', 345), ('door', 346), ('ucf', 347), ('13', 348), ('warp', 349), ('falcons', 350), ('portland', 351), ('chrome', 352), ('sublimated', 353), ('rewind', 354), ('script', 355), ('halfzip', 356), ('conference', 357), ('dog', 358), ('nc', 359), ('hokies', 360), ('rams', 361), ('watt', 362), ('hoosiers', 363), ('pink', 364), ('national', 365), ('lumberjacks', 366), ('icon', 367), ('rally', 368), ('secondary', 369), ('plastic', 370), ('scoop', 371), ('club', 372), ('hard', 373), ('scsi', 374), ('locker', 375), ('volunteers', 376), ('platinum', 377), ('uconn', 378), ('coyotes', 379), ('thermafit', 380), ('jacksonville', 381), ('cap', 382), ('dark', 383), ('dolphins', 384), ('charm', 385), ('jaguars', 386), ('harvard', 387), ('day', 388), ('blazers', 389), ('track', 390), ('orlando', 391), ('boston', 392), ('half', 393), ('super', 394), ('ball', 395), ('santa', 396), ('campus', 397), ('buck', 398), ('rose', 399), ('duke', 400), ('textured', 401), ('fullzip', 402), ('buckeyes', 403), ('10', 404), ('championship', 405), ('power', 406), ('straight', 407), ('speed', 408), ('tony', 409), ('medium', 410), ('inch', 411), ('raiders', 412), ('jackets', 413), ('love', 414), ('glitter', 415), ('wolverines', 416), ('35', 417), ('draft', 418), ('bike', 419), ('iowa', 420), ('necklace', 421), ('ultra', 422), ('minnesota', 423), ('ravens', 424), ('cougars', 425), ('tie', 426), ('northern', 427), ('double', 428), ('heavyweight', 429), ('metallic', 430), ('toe', 431), ('large', 432), ('southern', 433), ('mitchell', 434), ('bow', 435), ('ness', 436), ('devils', 437), ('sterling', 438), ('miss', 439), ('wood', 440), ('neck', 441), ('hdd', 442), ('loyola', 443), ('marymount', 444), ('burnt', 445), ('covered', 446), ('quarterzip', 447), ('reversible', 448), ('washed', 449), ('alternate', 450), ('originals', 451), ('maryland', 452), ('terrapins', 453), ('sox', 454), ('trail', 455), ('heather', 456), ('hall', 457), ('la', 458), ('earrings', 459), ('magic', 460), ('clear', 461), ('lanyard', 462), ('visor', 463), ('keychain', 464), ('field', 465), ('rack', 466), ('processor', 467), ('mount', 468), ('wheels', 469), ('zephyr', 470), ('western', 471), ('montana', 472), ('ibm', 473), ('2012', 474), ('detroit', 475), ('metal', 476), ('free', 477), ('louisiana', 478), ('redbirds', 479), ('hurricanes', 480), ('cutter', 481), ('flip', 482), ('nba', 483), ('bay', 484), ('44', 485), ('utah', 486), ('plaque', 487), ('small', 488), ('box', 489), ('inscription', 490), ('system', 491), ('bengals', 492), ('boys', 493), ('saints', 494), ('onfield', 495), ('shockers', 496), ('belt', 497), ('fresno', 498), ('gophers', 499), ('wichita', 500), ('cable', 501), ('midnight', 502), ('flames', 503), ('circulon', 504), ('satin', 505), ('notebook', 506), ('weight', 507), ('charlotte', 508), ('hornets', 509), ('sweatpants', 510), ('fanatics', 511), ('sandals', 512), ('3d', 513), ('uic', 514), ('single', 515), ('local', 516), ('quarter', 517), ('sata', 518), ('bracelet', 519), ('straining', 520), ('91', 521), ('72k', 522), ('candy', 523), ('photograph', 524), ('neon', 525), ('samsung', 526), ('16', 527), ('parker', 528), ('force', 529), ('sun', 530), ('junior', 531), ('pga', 532), ('headband', 533), ('crystal', 534), ('gift', 535), ('tote', 536), ('base', 537), ('cufflinks', 538), ('antonio', 539), ('twill', 540), ('heathered', 541), ('regular', 542), ('hockey', 543), ('hardwood', 544), ('saint', 545), ('house', 546), ('valve', 547), ('villanova', 548), ('clara', 549), ('105', 550), ('element', 551), ('spurs', 552), ('block', 553), ('bluewhite', 554), ('gloves', 555), ('led', 556), ('socks', 557), ('bound', 558), ('essential', 559), ('mid', 560), ('tailgate', 561), ('vapor', 562), ('gonzaga', 563), ('redblack', 564), ('billikens', 565), ('quart', 566), ('stainless', 567), ('bobcats', 568), ('100', 569), ('cuce', 570), ('combat', 571), ('classics', 572), ('card', 573), ('wedge', 574), ('collection', 575), ('frame', 576), ('rattlers', 577), ('pepperdine', 578), ('waves', 579), ('framed', 580), ('iii', 581), ('preseason', 582), ('wilson', 583), ('oak', 584), ('relentless', 585), ('kevin', 586), ('clip', 587), ('official', 588), ('trap', 589), ('12v', 590), ('plus', 591), ('bottle', 592), ('style', 593), ('24', 594), ('vs', 595), ('10k', 596), ('wash', 597), ('ultimate', 598), ('brass', 599), ('dodgers', 600), ('ga', 601), ('auburn', 602), ('aerobill', 603), ('division', 604), ('providence', 605), ('friars', 606), ('stud', 607), ('sunglasses', 608), ('sedan', 609), ('colors', 610), ('line', 611), ('9', 612), ('traditional', 613), ('tumbler', 614), ('u320', 615), ('size', 616), ('wool', 617), ('tempo', 618), ('reusable', 619), ('saucepan', 620), ('creeper', 621), ('3g', 622), ('bicycle', 623), ('sign', 624), ('12th', 625), ('racerback', 626), ('stand', 627), ('burlap', 628), ('printed', 629), ('school', 630), ('old', 631), ('norfolk', 632), ('hot', 633), ('heart', 634), ('opteron', 635), ('allamerican', 636), ('pin', 637), ('fau', 638), ('wallet', 639), ('ferris', 640), ('french', 641), ('bluetooth', 642), ('amd', 643), ('diego', 644), ('diamond', 645), ('galaxy', 646), ('hair', 647), ('floral', 648), ('country', 649), ('raglan', 650), ('blues', 651), ('cavaliers', 652), ('electric', 653), ('log', 654), ('laptop', 655), ('redwhite', 656), ('twotone', 657), ('sas', 658), ('yale', 659), ('tan', 660), ('beavers', 661), ('3piece', 662), ('table', 663), ('rising', 664), ('pool', 665), ('holder', 666), ('bank', 667), ('oil', 668), ('ipad', 669), ('print', 670), ('belmont', 671), ('fluted', 672), ('cuff', 673), ('drake', 674), ('atlanta', 675), ('lunch', 676), ('mossy', 677), ('goal', 678), ('juniors', 679), ('rangers', 680), ('court', 681), ('closer', 682), ('athletics', 683), ('crest', 684), ('redhawks', 685), ('tulsa', 686), ('2016', 687), ('woven', 688), ('gel', 689), ('watch', 690), ('59fifty', 691), ('reebok', 692), ('tail', 693), ('hurricane', 694), ('swarovski', 695), ('bison', 696), ('iv', 697), ('league', 698), ('aftershock', 699), ('warpspeed', 700), ('johnny', 701), ('demons', 702), ('depaul', 703), ('9fifty', 704), ('redskins', 705), ('charles', 706), ('bucket', 707), ('body', 708), ('patriots', 709), ('design', 710), ('rock', 711), ('gear', 712), ('england', 713), ('jr', 714), ('shoulder', 715), ('dale', 716), ('ariat', 717), ('capitals', 718), ('pendant', 719), ('spiral', 720), ('vcu', 721), ('15k', 722), ('tampa', 723), ('altidore', 724), ('chargers', 725), ('hypercool', 726), ('36', 727), ('strapback', 728), ('sheet', 729), ('pair', 730), ('everyday', 731), ('food', 732), ('gridiron', 733), ('franchise', 734), ('baylor', 735), ('pajama', 736), ('combo', 737), ('dual', 738), ('cleaner', 739), ('uncg', 740), ('reflective', 741), ('flannel', 742), ('drawstring', 743), ('cyclones', 744), ('book', 745), ('cross', 746), ('rice', 747), ('drexel', 748), ('pressure', 749), ('30', 750), ('magnet', 751), ('roof', 752), ('hd', 753), ('dragons', 754), ('buckle', 755), ('40', 756), ('seton', 757), ('lid', 758), ('collage', 759), ('bakeware', 760), ('colosseum', 761), ('w', 762), ('34', 763), ('chase', 764), ('authentics', 765), ('high', 766), ('nonstick', 767), ('hilltoppers', 768), ('wind', 769), ('2pack', 770), ('receiver', 771), ('eye', 772), ('essentials', 773), ('deep', 774), ('kstate', 775), ('support', 776), ('cream', 777), ('taekwondo', 778), ('vortex', 779), ('elbow', 780), ('oversized', 781), ('model', 782), ('russell', 783), ('acrylic', 784), ('scarf', 785), ('pennsylvania', 786), ('riddell', 787), ('flops', 788), ('pocket', 789), ('net', 790), ('champs', 791), ('playoff', 792), ('quakers', 793), ('tool', 794), ('ring', 795), ('warhawks', 796), ('accessories', 797), ('american', 798), ('utes', 799), ('pull', 800), ('patio', 801), ('flanker', 802), ('throwback', 803), ('map', 804), ('rifle', 805), ('video', 806), ('meinl', 807), ('checkered', 808), ('earnhardt', 809), ('aerial', 810), ('camera', 811), ('belkin', 812), ('2005', 813), ('shooting', 814), ('photography', 815), ('taylor', 816), ('banner', 817), ('mirrored', 818), ('scrum', 819), ('real', 820), ('|', 821), ('military', 822), ('ice', 823), ('lamp', 824), ('puma', 825), ('lift', 826), ('twin', 827), ('500gb', 828), ('howard', 829), ('hampshire', 830), ('manziel', 831), ('singlesided', 832), ('package', 833), ('waterproof', 834), ('premier', 835), ('nhp', 836), ('arc', 837), ('branded', 838), ('adapter', 839), ('racer', 840), ('28', 841), ('cartridge', 842), ('tshrt', 843), ('joma', 844), ('u', 845), ('slub', 846), ('timber', 847), ('cancer', 848), ('troy', 849), ('temple', 850), ('dayna', 851), ('doublesided', 852), ('spring', 853), ('sleeveless', 854), ('deluxe', 855), ('idaho', 856), ('bezel', 857), ('ex', 858), ('vest', 859), ('junk', 860), ('wing', 861), ('bamboo', 862), ('art', 863), ('collectible', 864), ('mvp', 865), ('bendix', 866), ('tablet', 867), ('farberware', 868), ('alpine', 869), ('darice', 870), ('vault', 871), ('rims', 872), ('unisex', 873), ('instant', 874), ('army', 875), ('chronograph', 876), ('spot', 877), ('vandals', 878), ('sports', 879), ('drop', 880), ('trick', 881), ('hyde', 882), ('bumper', 883), ('pen', 884), ('operation', 885), ('bags', 886), ('town', 887), ('cuffless', 888), ('aqua', 889), ('angel', 890), ('el', 891), ('reel', 892), ('slippers', 893), ('vaporizer', 894), ('vi', 895), ('tire', 896), ('chocolate', 897), ('thriller', 898), ('734gb', 899), ('hawkeyes', 900), ('funnel', 901), ('chevron', 902), ('grand', 903), ('pinkblack', 904), ('complete', 905), ('sam', 906), ('piggy', 907), ('contrast', 908), ('buccaneers', 909), ('point', 910), ('yakima', 911), ('mason', 912), ('viper', 913), ('pearl', 914), ('sweat', 915), ('lincoln', 916), ('rings', 917), ('chair', 918), ('mod', 919), ('ph', 920), ('dc', 921), ('cooler', 922), ('clean', 923), ('oakland', 924), ('max', 925), ('money', 926), ('gasol', 927), ('jose', 928), ('carbon', 929), ('swept', 930), ('havahart', 931), ('graphite', 932), ('uab', 933), ('united', 934), ('talavera', 935), ('gorillas', 936), ('pittsburg', 937), ('vegas', 938), ('layered', 939), ('blitz', 940), ('win', 941), ('display', 942), ('patrick', 943), ('quilted', 944), ('danica', 945), ('anniversary', 946), ('tailback', 947), ('seat', 948), ('tear', 949), ('overlay', 950), ('work', 951), ('girl', 952), ('man', 953), ('abof', 954), ('berry', 955), ('skin', 956), ('lights', 957), ('carlos', 958), ('fast', 959), ('score', 960), ('warmup', 961), ('needed', 962), ('crimsonwhite', 963), ('desk', 964), ('hoyas', 965), ('georgetown', 966), ('insulated', 967), ('jay', 968), ('grade', 969), ('ponytail', 970), ('l2', 971), ('thunder', 972), ('kelly', 973), ('wnba', 974), ('bra', 975), ('rugby', 976), ('hand', 977), ('iron', 978), ('cast', 979), ('spoon', 980), ('afc', 981), ('burnout', 982), ('pant', 983), ('marker', 984), ('penguins', 985), ('automatic', 986), ('romo', 987), ('mean', 988), ('maternity', 989), ('jj', 990), ('head', 991), ('2mm', 992), ('skirt', 993), ('nose', 994), ('los', 995), ('angeles', 996), ('travel', 997), ('swiss', 998), ('durant', 999), ('razor', 1000), ('honda', 1001), ('derek', 1002), ('1mb', 1003), ('appalachian', 1004), ('201415', 1005), ('adult', 1006), ('ocean', 1007), ('northwest', 1008), ('slogan', 1009), ('90', 1010), ('endurance', 1011), ('champion', 1012), ('cowboy', 1013), ('piece', 1014), ('lakers', 1015), ('triple', 1016), ('live', 1017), ('500', 1018), ('sock', 1019), ('mavericks', 1020), ('barcelona', 1021), ('munchen', 1022), ('bayern', 1023), ('epic', 1024), ('headset', 1025), ('22', 1026), ('water', 1027), ('keyboard', 1028), ('hearts', 1029), ('ulm', 1030), ('internal', 1031), ('impact', 1032), ('atv', 1033), ('truck', 1034), ('baby', 1035), ('avalanche', 1036), ('cleanup', 1037), ('powder', 1038), ('central', 1039), ('2sided', 1040), ('focus', 1041), ('binocular', 1042), ('window', 1043), ('marled', 1044), ('swagger', 1045), ('connector', 1046), ('ornament', 1047), ('suzuki', 1048), ('dangle', 1049), ('xeon', 1050), ('coin', 1051), ('toss', 1052), ('ant', 1053), ('ipod', 1054), ('manchester', 1055), ('leaf', 1056), ('star', 1057), ('face', 1058), ('jamaal', 1059), ('tonal', 1060), ('computer', 1061), ('beasley', 1062), ('newborn', 1063), ('manning', 1064), ('emergency', 1065), ('camp', 1066), ('mlb', 1067), ('crazyquick', 1068), ('wine', 1069), ('cleats', 1070), ('bib', 1071), ('running', 1072), ('mahogany', 1073), ('flower', 1074), ('synthetic', 1075), ('edge', 1076), ('neoprene', 1077), ('vikings', 1078), ('low', 1079), ('pacific', 1080), ('ip', 1081), ('players', 1082), ('paint', 1083), ('cord', 1084), ('wooden', 1085), ('princess', 1086), ('hakeem', 1087), ('staircases', 1088), ('20gb', 1089), ('s5', 1090), ('scientific', 1091), ('rim', 1092), ('networking', 1093), ('contour', 1094), ('jazz', 1095), ('round', 1096), ('champagne', 1097), ('proud', 1098), ('4g', 1099), ('fair', 1100), ('draw', 1101), ('pure', 1102), ('flame', 1103), ('patch', 1104), ('kickoff', 1105), ('nets', 1106), ('aquarium', 1107), ('leader', 1108), ('jima', 1109), ('iwo', 1110), ('brakes', 1111), ('2009', 1112), ('salt', 1113), ('santos', 1114), ('heel', 1115), ('fishing', 1116), ('zfit', 1117), ('chainmaille', 1118), ('bell', 1119), ('sculpture', 1120), ('pacer', 1121), ('brooklyn', 1122), ('24ghz', 1123), ('fsu', 1124), ('nano', 1125), ('stripes', 1126), ('anglers', 1127), ('sl', 1128), ('snap', 1129), ('freemotion', 1130), ('inches', 1131), ('terry', 1132), ('stylish', 1133), ('straw', 1134), ('distance', 1135), ('pint', 1136), ('seasonal', 1137), ('knitted', 1138), ('eclipse', 1139), ('sp16', 1140), ('italian', 1141), ('loose', 1142), ('run', 1143), ('wings', 1144), ('circle', 1145), ('madrid', 1146), ('16oz', 1147), ('gameday', 1148), ('42', 1149), ('ecc', 1150), ('unit', 1151), ('pipes', 1152), ('yankees', 1153), ('cut', 1154), ('plated', 1155), ('kite', 1156), ('closed', 1157), ('special', 1158), ('hem', 1159), ('harness', 1160), ('owl', 1161), ('genesis', 1162), ('simple', 1163), ('atomizer', 1164), ('thule', 1165), ('stanford', 1166), ('peyton', 1167), ('fuchsia', 1168), ('mirror', 1169), ('pennant', 1170), ('compressor', 1171), ('mechanical', 1172), ('gal', 1173), ('filter', 1174), ('meshback', 1175), ('respect', 1176), ('cookware', 1177), ('signature', 1178), ('orioles', 1179), ('aerographic', 1180), ('brake', 1181), ('hoody', 1182), ('sentinel', 1183), ('standard', 1184), ('v', 1185), ('president', 1186), ('monitor', 1187), ('1981', 1188), ('cm', 1189), ('roxy', 1190), ('anthony', 1191), ('phrase', 1192), ('nowitzki', 1193), ('cases', 1194), ('inked', 1195), ('candyshell', 1196), ('dirk', 1197), ('control', 1198), ('centurion', 1199), ('xlviii', 1200), ('poly', 1201), ('72gb', 1202), ('25', 1203), ('nail', 1204), ('dp', 1205), ('wire', 1206), ('retired', 1207), ('ml', 1208), ('packers', 1209), ('stacked', 1210), ('workout', 1211), ('trifold', 1212), ('duck', 1213), ('rubber', 1214), ('dome', 1215), ('curve', 1216), ('purse', 1217), ('usb', 1218), ('carterwilliams', 1219), ('pickup', 1220), ('michael', 1221), ('detox', 1222), ('tray', 1223), ('jackson', 1224), ('stitch', 1225), ('comfort', 1226), ('midsize', 1227), ('accessory', 1228), ('smu', 1229), ('tx', 1230), ('direct', 1231), ('300ml', 1232), ('mustangs', 1233), ('gallon', 1234), ('80', 1235), ('tipoff', 1236), ('finish', 1237), ('tervis', 1238), ('aceite', 1239), ('sec', 1240), ('panel', 1241), ('cherry', 1242), ('artglass', 1243), ('photo', 1244), ('graynavy', 1245), ('english', 1246), ('boot', 1247), ('spanish', 1248), ('khaki', 1249), ('fe', 1250), ('il', 1251), ('astros', 1252), ('choice', 1253), ('elastic', 1254), ('outdoor', 1255), ('swirl', 1256), ('1042', 1257), ('brief', 1258), ('fayreform', 1259), ('3pack', 1260), ('gametime', 1261), ('foam', 1262), ('cosmetic', 1263), ('collapsible', 1264), ('iphone', 1265), ('+', 1266), ('g4', 1267), ('midsized', 1268), ('36ghz', 1269), ('shoe', 1270), ('farm', 1271), ('seal', 1272), ('uncle', 1273), ('milton', 1274), ('bluejays', 1275), ('pique', 1276), ('compact', 1277), ('skort', 1278), ('loud', 1279), ('lock', 1280), ('creighton', 1281), ('background', 1282), ('painted', 1283), ('memory', 1284), ('studiotools', 1285), ('tires', 1286), ('glide', 1287), ('vector', 1288), ('flop', 1289), ('sets', 1290), ('dining', 1291), ('nicks', 1292), ('recorder', 1293), ('reds', 1294), ('45', 1295), ('twins', 1296), ('circuit', 1297), ('movie', 1298), ('heater', 1299), ('balls', 1300), ('apple', 1301), ('fotoquantum', 1302), ('nosew', 1303), ('quiksilver', 1304), ('lt27565r18', 1305), ('tailgater', 1306), ('freezer', 1307), ('goldgrayblack', 1308), ('blank', 1309), ('better', 1310), ('stoudemire', 1311), ('mug', 1312), ('music', 1313), ('amare', 1314), ('clippers', 1315), ('ready', 1316), ('vibe', 1317), ('blackroyal', 1318), ('zipper', 1319), ('ultimatum', 1320), ('18', 1321), ('prep', 1322), ('ultrasonic', 1323), ('parts', 1324), ('modern', 1325), ('2002', 1326), ('collar', 1327), ('daytona', 1328), ('wrap', 1329), ('historic', 1330), ('henley', 1331), ('nissan', 1332), ('range', 1333), ('cutler', 1334), ('marc', 1335), ('soul', 1336), ('nitto', 1337), ('terra', 1338), ('scrub', 1339), ('grappler', 1340), ('funny', 1341), ('sugar', 1342), ('rangefinding', 1343), ('remote', 1344), ('winning', 1345), ('24oz', 1346), ('butterfly', 1347), ('foster', 1348), ('arian', 1349), ('graco', 1350), ('cornhole', 1351), ('airless', 1352), ('sprayer', 1353), ('extra', 1354), ('rebuilders', 1355), ('mantra', 1356), ('m', 1357), ('sweeper', 1358), ('stool', 1359), ('casio', 1360), ('dodge', 1361), ('raw', 1362), ('polka', 1363), ('cajon', 1364), ('dots', 1365), ('timberland', 1366), ('navyheathered', 1367), ('dvson', 1368), ('eh', 1369), ('jublilee', 1370), ('36mm', 1371), ('datejust', 1372), ('drytec', 1373), ('international', 1374), ('products', 1375), ('tooth', 1376), ('wendtii', 1377), ('breast', 1378), ('rainbow', 1379), ('pieces', 1380), ('climachill', 1381), ('uncontrol', 1382), ('convertible', 1383), ('lil', 1384), ('hoop', 1385), ('vision', 1386), ('punch', 1387), ('pieh', 1388), ('breaking', 1389), ('rookie', 1390), ('curves', 1391), ('mobile', 1392), ('toronto', 1393), ('blackbrown', 1394), ('co', 1395), ('dueling', 1396), ('tr', 1397), ('casual', 1398), ('titans', 1399), ('flyknit', 1400), ('gunner', 1401), ('marlins', 1402), ('gronkowski', 1403), ('rob', 1404), ('jabari', 1405), ('decept', 1406), ('d', 1407), ('race', 1408), ('street', 1409), ('19', 1410), ('thomas', 1411), ('suit', 1412), ('orangeblack', 1413), ('quinceanera', 1414), ('fame', 1415), ('vacuum', 1416), ('streamline', 1417), ('composite', 1418), ('tube', 1419), ('alpinestars', 1420), ('frank', 1421), ('ups', 1422), ('john', 1423), ('supersize', 1424), ('threads', 1425), ('zdbjj4551', 1426), ('kings', 1427), ('gore', 1428), ('wizards', 1429), ('ford', 1430), ('tassel', 1431), ('eric', 1432), ('witten', 1433), ('bold', 1434), ('jason', 1435), ('powerband', 1436), ('diamonds', 1437), ('holiday', 1438), ('125', 1439), ('offset', 1440), ('sv37s', 1441), ('xlt', 1442), ('matt', 1443), ('wyoming', 1444), ('ticket', 1445), ('generic', 1446), ('powertec', 1447), ('teakettles', 1448), ('disk', 1449), ('workbench', 1450), ('standings', 1451), ('fiber', 1452), ('pet', 1453), ('playoffs', 1454), ('titanium', 1455), ('ava', 1456), ('shape', 1457), ('woman', 1458), ('sleep', 1459), ('twosided', 1460), ('badge', 1461), ('touchdown', 1462), ('dowel', 1463), ('dwight', 1464), ('feather', 1465), ('blackscarlet', 1466), ('years', 1467), ('product', 1468), ('wolfe', 1469), ('pump', 1470), ('1468gb', 1471), ('clone', 1472), ('un', 1473), ('40th', 1474), ('hotlix', 1475), ('mono', 1476), ('graphic', 1477), ('buttons', 1478), ('celtics', 1479), ('stark', 1480), ('graymaroon', 1481), ('pioneer', 1482), ('ultralightweight', 1483), ('pop', 1484), ('lead', 1485), ('earring', 1486), ('canin', 1487), ('pedal', 1488), ('shell', 1489), ('whitemaroon', 1490), ('ski', 1491), ('lucky', 1492), ('loaf', 1493), ('hyperdunk', 1494), ('plaid', 1495), ('pc', 1496), ('ylang', 1497), ('organic', 1498), ('edition', 1499), ('cellular', 1500), ('83', 1501), ('research', 1502), ('angled', 1503), ('pan', 1504), ('zdbjj3941', 1505), ('carrier', 1506), ('castle', 1507), ('pad', 1508), ('slipper', 1509), ('polished', 1510), ('xbox', 1511), ('cue', 1512), ('tanktop', 1513), ('kingdom', 1514), ('burgundy', 1515), ('kitchen', 1516), ('bradley', 1517), ('barrette', 1518), ('guillotine', 1519), ('train', 1520), ('horn', 1521), ('layer', 1522), ('barricade', 1523), ('lapp', 1524), ('flooring', 1525), ('cover', 1526), ('life', 1527), ('infinite', 1528), ('shooter', 1529), ('colorblock', 1530), ('butter', 1531), ('rush', 1532), ('pistol', 1533), ('20042009', 1534), ('flow', 1535), ('soft', 1536), ('location', 1537), ('sunbrella', 1538), ('canvas', 1539), ('adults', 1540), ('whe', 1541), ('buy', 1542), ('rectangle', 1543), ('loyalty', 1544), ('monkey', 1545), ('alloy', 1546), ('dad', 1547), ('streamer', 1548), ('fruta', 1549), ('intellex', 1550), ('business', 1551), ('pistons', 1552), ('pepe', 1553), ('dynamics', 1554), ('fade', 1555), ('auto', 1556), ('rednavy', 1557), ('studio', 1558), ('gpm', 1559), ('crazy', 1560), ('pools', 1561), ('10m', 1562), ('sling', 1563), ('cling', 1564), ('faucet', 1565), ('brushed', 1566), ('check', 1567), ('paddys', 1568), ('grill', 1569), ('uniform', 1570), ('david', 1571), ('slouch', 1572), ('ortiz', 1573), ('le', 1574), ('monster', 1575), ('romper', 1576), ('warriors', 1577), ('guard', 1578), ('beaded', 1579), ('horses', 1580), ('yarn', 1581), ('boy', 1582), ('trimmer', 1583), ('maxi', 1584), ('covers', 1585), ('stem', 1586), ('stamp', 1587), ('christmas', 1588), ('season', 1589), ('lockup', 1590), ('primed', 1591), ('bodysuit', 1592), ('chiller', 1593), ('hammer', 1594), ('120', 1595), ('duffel', 1596), ('jumbo', 1597), ('class', 1598), ('therma', 1599), ('polish', 1600), ('planta', 1601), ('2001', 1602), ('sticker', 1603), ('dna', 1604), ('kissy', 1605), ('2oz', 1606), ('supply', 1607), ('plush', 1608), ('n', 1609), ('xperia', 1610), ('sunday', 1611), ('120gb', 1612), ('ericsson', 1613), ('dozen', 1614), ('cones', 1615), ('ponderosa', 1616), ('wheel', 1617), ('crem', 1618), ('mural', 1619), ('prime', 1620), ('huddle', 1621), ('reverse', 1622), ('binoculars', 1623), ('machine', 1624), ('gradient', 1625), ('rear', 1626), ('valley', 1627), ('86', 1628), ('montre', 1629), ('bulb', 1630), ('olympic', 1631), ('creek', 1632), ('146gb', 1633), ('beach', 1634), ('neo', 1635), ('sony', 1636), ('aluminum', 1637), ('embossed', 1638), ('winch', 1639), ('slide', 1640), ('earl', 1641), ('elementary', 1642), ('hose', 1643), ('spray', 1644), ('shield', 1645), ('29', 1646), ('bathroom', 1647), ('mattress', 1648), ('furniture', 1649), ('hybrid', 1650), ('antec', 1651), ('drag', 1652), ('winter', 1653), ('touch', 1654), ('sullivan', 1655), ('carhartt', 1656), ('touchback', 1657), ('zach', 1658), ('ufc', 1659), ('psi', 1660), ('links', 1661), ('silicone', 1662), ('eheim', 1663), ('181', 1664), ('1986', 1665), ('88', 1666), ('voltblack', 1667), ('kaepernick', 1668), ('tyler', 1669), ('pres', 1670), ('olajuwon', 1671), ('goldnavy', 1672), ('lockett', 1673), ('colin', 1674), ('2piece', 1675), ('wave', 1676), ('ashnavy', 1677), ('eli', 1678), ('issue', 1679), ('cubs', 1680), ('yds', 1681), ('dempsey', 1682), ('hoodrewind', 1683), ('beckerman', 1684), ('clint', 1685), ('34raglan', 1686), ('foles', 1687), ('optic', 1688), ('hocus', 1689), ('derrick', 1690), ('navyneon', 1691), ('kyle', 1692), ('hardware', 1693), ('reaction', 1694), ('hood', 1695), ('nick', 1696), ('cave', 1697), ('damian', 1698), ('elway', 1699), ('vincent', 1700), ('stretch', 1701), ('lillard', 1702), ('rushing', 1703), ('mike', 1704), ('burst', 1705), ('tough', 1706), ('wons', 1707), ('pocus', 1708), ('knock', 1709), ('dobok', 1710), ('pregame', 1711), ('55', 1712), ('rivers', 1713), ('warm', 1714), ('blackheather', 1715), ('randolph', 1716), ('climawarm', 1717), ('immortal', 1718), ('bleed', 1719), ('crop', 1720), ('proline', 1721), ('hyperwarm', 1722), ('welker', 1723), ('heat', 1724), ('zne', 1725), ('wes', 1726), ('painter', 1727), ('urban', 1728), ('kroy', 1729), ('biermann', 1730), ('klay', 1731), ('orakpo', 1732), ('raised', 1733), ('fiesta', 1734), ('osweiler', 1735), ('brock', 1736), ('legion', 1737), ('boom', 1738), ('yardage', 1739), ('milaukee', 1740), ('royalblack', 1741), ('hello', 1742), ('kitty', 1743), ('brian', 1744), ('response', 1745), ('shirtable', 1746), ('alltime', 1747), ('driblend', 1748), ('blackgold', 1749), ('snowflake', 1750), ('col', 1751), ('goalkeeper', 1752), ('dan', 1753), ('reeves', 1754), ('coaching', 1755), ('3x', 1756), ('marshawn', 1757), ('troops', 1758), ('hoops', 1759), ('middle', 1760), ('motto', 1761), ('q2', 1762), ('sealed', 1763), ('supernova', 1764), ('av', 1765), ('rsind', 1766), ('thompson', 1767), ('nelson', 1768), ('nation', 1769), ('upkilter', 1770), ('glow', 1771), ('lynch', 1772), ('wars', 1773), ('stafford', 1774), ('matthew', 1775), ('boxy', 1776), ('play', 1777), ('qb', 1778), ('timeless', 1779), ('refresh', 1780), ('bluegray', 1781), ('fighter', 1782), ('coachs', 1783), ('nailhead', 1784), ('favourite', 1785), ('jordy', 1786), ('2fer', 1787), ('record', 1788), ('koozie', 1789), ('risisng', 1790), ('feet', 1791), ('civic', 1792), ('lx', 1793), ('gameused', 1794), ('netlimited', 1795), ('50', 1796), ('immersion', 1797), ('soporte', 1798), ('para', 1799), ('repisa', 1800), ('divot', 1801), ('frog', 1802), ('61', 1803), ('clawfoot', 1804), ('bathtub', 1805), ('microsoft', 1806), ('cellphone', 1807), ('360', 1808), ('month', 1809), ('subscription', 1810), ('ennl', 1811), ('abingdon', 1812), ('bibs', 1813), ('overalls', 1814), ('illini', 1815), ('macallan', 1816), ('fine', 1817), ('50cl', 1818), ('lumatone', 1819), ('bravo', 1820), ('ddler', 1821), ('114992013', 1822), ('wholesale', 1823), ('l91', 1824), ('vac', 1825), ('80pin15', 1826), ('20pkbulk', 1827), ('18gb', 1828), ('furminator', 1829), ('tag', 1830), ('crystals', 1831), ('bone', 1832), ('wonder', 1833), ('cape', 1834), ('ballon', 1835), ('bleu', 1836), ('andrew', 1837), ('mccutchen', 1838), ('h20', 1839), ('turbo', 1840), ('1cheap', 1841), ('filtration', 1842), ('talc', 1843), ('graco|20', 1844), ('magnum', 1845), ('tip', 1846), ('extension', 1847), ('repeat', 1848), ('jayvee', 1849), ('affinity', 1850), ('touring', 1851), ('z5', 1852), ('3518x44', 1853), ('bt', 1854), ('riflescope', 1855), ('grayblack', 1856), ('born', 1857), ('playlist', 1858), ('ottoman', 1859), ('designs', 1860), ('rosettes', 1861), ('sight', 1862), ('spigot', 1863), ('compositionstock', 1864), ('tracks', 1865), ('ornate', 1866), ('bichir|ornate', 1867), ('bichir', 1868), ('wrights', 1869), ('rattail', 1870), ('ecru', 1871), ('36yd', 1872), ('yards', 1873), ('536648001', 1874), ('pits', 1875), ('1tb', 1876), ('spinning', 1877), ('rochester', 1878), ('knighthawks', 1879), ('lacrosse', 1880), ('chalk', 1881), ('forge', 1882), ('fuller', 1883), ('chemiquip', 1884), ('spares', 1885), ('plv255b', 1886), ('egr', 1887), ('delete', 1888), ('0712', 1889), ('wrought', 1890), ('sangria', 1891), ('sprectrum', 1892), ('lounger', 1893), ('chips', 1894), ('granite', 1895), ('marble', 1896), ('repair', 1897), ('paste', 1898), ('feral', 1899), ('cat', 1900), ('rescue', 1901), ('fanatic', 1902), ('fuel', 1903), ('petcock', 1904), ('rebuild', 1905), ('y', 1906), ('xs650', 1907), ('xs750', 1908), ('xs850', 1909), ('xj700', 1910), ('logoart', 1911), ('ovation', 1912), ('cute', 1913), ('dinosaur', 1914), ('vibrator', 1915), ('arsenal', 1916), ('foundation', 1917), ('earbuds', 1918), ('disguise', 1919), ('cordless', 1920), ('handheld', 1921), ('17m367', 1922), ('18gbu320', 1923), ('hdatlas15k', 1924), ('k', 1925), ('griffin', 1926), ('bo', 1927), ('heisman', 1928), ('85', 1929), ('mariposa', 1930), ('tortoise', 1931), ('snowman', 1932), ('multistripe', 1933), ('brownblack', 1934), ('helena', 1935), ('grizzly', 1936), ('lifeguard', 1937), ('bearkats', 1938), ('hats', 1939), ('archie', 1940), ('ht', 1941), ('guest', 1942), ('197475', 1943), ('soldnerx', 1944), ('final', 1945), ('soundtrack', 1946), ('edma', 1947), ('straticut', 1948), ('laminate', 1949), ('pills', 1950), ('30can', 1951), ('biopsy', 1952), ('biba', 1953), ('barware', 1954), ('turn', 1955), ('signals', 1956), ('gemini', 1957), ('racks', 1958), ('carriers', 1959), ('821', 1960), ('pavilion', 1961), ('23xi', 1962), ('5840', 1963), ('23', 1964), ('ips', 1965), ('tekonsha', 1966), ('90195', 1967), ('p3', 1968), ('trailer', 1969), ('axles', 1970), ('rnxv', 1971), ('wifly', 1972), ('module', 1973), ('antenna', 1974), ('genairex', 1975), ('securit', 1976), ('ostomy', 1977), ('barrier', 1978), ('wallmountable', 1979), ('goldwax', 1980), ('records', 1981), ('camel', 1982), ('nittaku', 1983), ('barwell', 1984), ('fleet', 1985), ('scott', 1986), ('kazmir', 1987), ('rider', 1988), ('fork', 1989), ('lamps', 1990), ('soap', 1991), ('seagate', 1992), ('cash', 1993), ('nourish', 1994), ('perf', 1995), ('servings', 1996), ('freezedried', 1997), ('pineapple', 1998), ('pouch', 1999), ('le6017', 2000), ('carv', 2001), ('threequarter', 2002), ('dolman', 2003), ('peaks', 2004), ('brushguard', 2005), ('20042006', 2006), ('caneware', 2007), ('mixing', 2008), ('mold', 2009), ('tiburon', 2010), ('teakettle', 2011), ('zippo', 2012), ('lighter', 2013), ('shipping', 2014), ('lexgton', 2015), ('diana', 2016), ('california', 2017), ('estate', 2018), ('salesperson', 2019), ('prelicense', 2020), ('89400', 2021), ('smooth', 2022), ('liner', 2023), ('shuffler', 2024), ('cookies', 2025), ('makes', 2026), ('22005ns', 2027), ('vrgna', 2028), ('cavalers', 2029), ('whale', 2030), ('cubby', 2031), ('islanders', 2032), ('breakout', 2033), ('general', 2034), ('wb20k5027', 2035), ('tstat', 2036), ('microfiber', 2037), ('windshirt', 2038), ('6x6', 2039), ('pacifier', 2040), ('vc', 2041), ('grapes', 2042), ('refining', 2043), ('nutraceutical', 2044), ('grape', 2045), ('extract', 2046), ('8oz', 2047), ('vcn', 2048), ('neutered', 2049), ('dry', 2050), ('kondos', 2051), ('outfitters', 2052), ('expedition', 2053), ('cucinapro', 2054), ('pizzelle', 2055), ('maker', 2056), ('67l', 2057), ('flo', 2058), ('cyber', 2059), ('nikwax', 2060), ('sparkler', 2061), ('numbers', 2062), ('shapes', 2063), ('madwave', 2064), ('drew', 2065), ('butera', 2066), ('magnets', 2067), ('espn', 2068), ('athletic', 2069), ('department', 2070), ('vermillion', 2071), ('crushing', 2072), ('advanced', 2073), ('tennis', 2074), ('set=mixed', 2075), ('pretty', 2076), ('set=nikwax', 2077), ('jbj', 2078), ('4x39', 2079), ('trinity', 2080), ('t5ho', 2081), ('210k2420460nm', 2082), ('actinic', 2083), ('fixture', 2084), ('mousepad', 2085), ('continental', 2086), ('contitouringcontact', 2087), ('22550r17', 2088), ('94v', 2089), ('bsw', 2090), ('perfume', 2091), ('pyramid', 2092), ('borealis', 2093), ('aurora', 2094), ('thinshield', 2095), ('250', 2096), ('spread', 2097), ('kreyol', 2098), ('essence', 2099), ('haitian', 2100), ('castor', 2101), ('peppermint', 2102), ('saltron', 2103), ('spa', 2104), ('chlorination', 2105), ('mother', 2106), ('mermaid', 2107), ('sportiqe', 2108), ('icing', 2109), ('abyss', 2110), ('showcase', 2111), ('patriot', 2112), ('blueredkhaki', 2113), ('die', 2114), ('nl', 2115), ('doro', 2116), ('phoneeasy', 2117), ('331ph', 2118), ('corded', 2119), ('phone', 2120), ('scanjet', 2121), ('g3110', 2122), ('scanneruscanada', 2123), ('looks', 2124), ('punk', 2125), ('manual', 2126), ('joakim', 2127), ('roper', 2128), ('brownnavy', 2129), ('bolder', 2130), ('primetime', 2131), ('condivo', 2132), ('rare', 2133), ('blended', 2134), ('revolution', 2135), ('fullsize', 2136), ('cavs', 2137), ('denim', 2138), ('kc', 2139), ('extreme', 2140), ('blackpurple', 2141), ('noah', 2142), ('layerg', 2143), ('sweden', 2144), ('ho15', 2145), ('015', 2146), ('maurice', 2147), ('jonesdrew', 2148), ('tourney', 2149), ('donald', 2150), ('butler', 2151), ('peach', 2152), ('lamarcus', 2153), ('aldridge', 2154), ('repositionable', 2155), ('jerseyblack', 2156), ('anthraciteorange', 2157), ('quarterback', 2158), ('cf', 2159), ('temp', 2160), ('princeton', 2161), ('necklaces', 2162), ('creature', 2163), ('lagoon', 2164), ('frightprops', 2165), ('catalog', 2166), ('659341b21', 2167), ('6g', 2168), ('150x210cm', 2169), ('technical', 2170), ('foul', 2171), ('fonthill', 2172), ('ceiling', 2173), ('2nd', 2174), ('nfc', 2175), ('brent', 2176), ('celek', 2177), ('adistar', 2178), ('primeknit', 2179), ('cheerleader', 2180), ('armbands', 2181), ('basket', 2182), ('gymbreaker', 2183), ('bounce', 2184), ('missy', 2185), ('palmer', 2186), ('miler', 2187), ('455', 2188), ('tritan', 2189), ('wflip', 2190), ('osha', 2191), ('plow', 2192), ('initial', 2193), ('bare', 2194), ('16gbwifi', 2195), ('voice', 2196), ('calling', 2197), ('doug', 2198), ('lost', 2199), ('reindeer', 2200), ('inner', 2201), ('spirit', 2202), ('vecchia', 2203), ('deruta', 2204), ('pasta', 2205), ('5door', 2206), ('hatchback', 2207), ('jetstream', 2208), ('saris', 2209), ('tilt', 2210), ('freedom', 2211), ('serclamp', 2212), ('spare', 2213), ('734', 2214), ('intruder', 2215), ('terance', 2216), ('knighton', 2217), ('92', 2218), ('cigarette', 2219), ('galtech', 2220), ('ft', 2221), ('octagonal', 2222), ('market', 2223), ('umbrella', 2224), ('tab3', 2225), ('lenovo', 2226), ('59l', 2227), ('andi', 2228), ('sister', 2229), ('cols', 2230), ('onefit', 2231), ('ungrounded', 2232), ('cure', 2233), ('ribbon', 2234), ('suncatcher', 2235), ('brad', 2236), ('keselowski', 2237), ('3in1', 2238), ('ronda', 2239), ('chestnut', 2240), ('hung', 2241), ('miltex', 2242), ('ear', 2243), ('curettes', 2244), ('advantage', 2245), ('milk', 2246), ('delight', 2247), ('shake', 2248), ('sentimental', 2249), ('circus', 2250), ('mouton', 2251), ('birdman', 2252), ('4x', 2253), ('champ', 2254), ('realtree', 2255), ('camonavy', 2256), ('iball', 2257), ('crank', 2258), ('24v', 2259), ('snow', 2260), ('40tb', 2261), ('towels', 2262), ('nelly', 2263), ('cc019', 2264), ('cc01', 2265), ('chub', 2266), ('x2', 2267), ('alarm', 2268), ('inground', 2269), ('peddinghaus', 2270), ('grooving', 2271), ('kenwood', 2272), ('dnx9990hd', 2273), ('promotion', 2274), ('addip400', 2275), ('clips', 2276), ('solenoid', 2277), ('installationset', 2278), ('lt15i', 2279), ('london', 2280), ('olympics', 2281), ('shepherds', 2282), ('pie', 2283), ('thuj', 2284), ('trditionl', 2285), ('soothing', 2286), ('nti', 2287), ('virl', 2288), ('bnorml', 2289), ('growths', 2290), ('cycle', 2291), ('bath', 2292), ('27x50', 2293), ('authority', 2294), ('maine', 2295), ('heavy', 2296), ('duty', 2297), ('bmw', 2298), ('activehybrid', 2299), ('blustery', 2300), ('gamo', 2301), ('p900', 2302), ('bud', 2303), ('girly', 2304), ('concept', 2305), ('meter', 2306), ('15in', 2307), ('20100', 2308), ('rotatrim', 2309), ('m24', 2310), ('format', 2311), ('professional', 2312), ('stamps', 2313), ('stewart', 2314), ('britney', 2315), ('letterman', 2316), ('troika', 2317), ('1975', 2318), ('76', 2319), ('77', 2320), ('corvette', 2321), ('camaro', 2322), ('smog', 2323), ('4974265', 2324), ('conley', 2325), ('sprint', 2326), ('slingback', 2327), ('let', 2328), ('trust', 2329), ('ar901', 2330), ('racing', 2331), ('saddle', 2332), ('ranch', 2333), ('tough1', 2334), ('break', 2335), ('playset', 2336), ('superior', 2337), ('monogrammed', 2338), ('park', 2339), ('rnl', 2340), ('swordtail', 2341), ('calender', 2342), ('swordtail|red', 2343), ('addip050', 2344), ('evil', 2345), ('cuddlebed', 2346), ('tc', 2347), ('400', 2348), ('hollander', 2349), ('a10004631', 2350), ('sunshine', 2351), ('row', 2352), ('cyclone', 2353), ('shekere', 2354), ('cinto', 2355), ('binaural', 2356), ('neckband', 2357), ('340745003', 2358), ('blouse', 2359), ('cropped', 2360), ('g1', 2361), ('840', 2362), ('elitebook', 2363), ('teas', 2364), ('yogi', 2365), ('wisconsinwhitewater', 2366), ('butts', 2367), ('best', 2368), ('dimes', 2369), ('rhymes', 2370), ('phattys', 2371), ('list', 2372), ('magnetic', 2373), ('mandarin', 2374), ('appliquesgle', 2375), ('whats', 2376), ('pellets', 2377), ('smoking', 2378), ('daniels', 2379), ('jack', 2380), ('se', 2381), ('dlt4000', 2382), ('2040gb', 2383), ('fiberglass', 2384), ('pregnancy', 2385), ('wendy', 2386), ('pebble', 2387), ('eastern', 2388), ('aviator', 2389), ('avicx930bt', 2390), ('starter', 2391), ('society43', 2392), ('3x10', 2393), ('sm', 2394), ('roll', 2395), ('cervical', 2396), ('elastogel', 2397), ('avicz130bt', 2398), ('acronym', 2399), ('wlogs', 2400), ('archies', 2401), ('dump', 2402), ('canadiens', 2403), ('montreal', 2404), ('1gb', 2405), ('2mb', 2406), ('dl380r', 2407), ('378739001', 2408), ('windmill', 2409), ('solar', 2410), ('dat', 2411), ('1224gb', 2412), ('dstlz10db', 2413), ('sierra', 2414), ('lake', 2415), ('gem', 2416), ('reflection', 2417), ('shallow', 2418), ('11inch', 2419), ('decals', 2420), ('dritek', 2421), ('reverb', 2422), ('iq', 2423), ('davinci', 2424), ('chillum', 2425), ('multi', 2426), ('night', 2427), ('re050', 2428), ('potenza', 2429), ('77x77x77cm', 2430), ('cube', 2431), ('69cm', 2432), ('anales', 2433), ('bolas', 2434), ('elephant', 2435), ('trim', 2436), ('rcbs', 2437), ('84', 2438), ('eagle', 2439), ('nemesis', 2440), ('lollipop', 2441), ('cricket', 2442), ('vicry', 2443), ('6cup', 2444), ('pan|6cup', 2445), ('hayward', 2446), ('camouflage', 2447), ('cr61', 2448), ('msi', 2449), ('emerald', 2450), ('findings', 2451), ('twisted', 2452), ('statement', 2453), ('728gb', 2454), ('365699002', 2455), ('plaster', 2456), ('concrete', 2457), ('navigator', 2458), ('chaser', 2459), ('lefty', 2460), ('27oz', 2461), ('orca', 2462), ('athena', 2463), ('unc', 2464), ('polyester', 2465), ('plain', 2466), ('buleria', 2467), ('artisan', 2468), ('dyed', 2469), ('space', 2470), ('g7', 2471), ('bl465c', 2472), ('assorted', 2473), ('oase', 2474), ('biosys', 2475), ('st3500630ns', 2476), ('mx22', 2477), ('ufo', 2478), ('mg', 2479), ('ubiquinolqh', 2480), ('core', 2481), ('handle', 2482), ('stick', 2483), ('24x9', 2484), ('staggered|savini', 2485), ('savini', 2486), ('842', 2487), ('stunning', 2488), ('cupcake', 2489), ('tankini', 2490), ('flared', 2491), ('poppies', 2492), ('belle', 2493), ('blood', 2494), ('bp786', 2495), ('omron', 2496), ('spe6000', 2497), ('lei', 2498), ('kukui', 2499), ('greenwhite', 2500), ('15g', 2501), ('6164he', 2502), ('596207b21', 2503), ('10690', 2504), ('center', 2505), ('1971', 2506), ('250gb', 2507), ('571232b21', 2508), ('bangle', 2509), ('pitt', 2510), ('edelweiss', 2511), ('snakeskin', 2512), ('couture', 2513), ('desbloqueado', 2514), ('9790', 2515), ('blackberry', 2516), ('celular', 2517), ('telefono', 2518), ('kabinet', 2519), ('schlosskapelle', 2520), ('burg', 2521), ('quarterpipe', 2522), ('glazing', 2523), ('byron', 2524), ('jointed', 2525), ('acacia', 2526), ('coffee', 2527), ('saver', 2528), ('bering', 2529), ('vancouver', 2530), ('galaxie', 2531), ('frt', 2532), ('dresses', 2533), ('grille', 2534), ('strapless', 2535), ('mytee', 2536), ('buffer', 2537), ('k12060', 2538), ('krauly', 2539), ('kreepy', 2540), ('pentair', 2541), ('cardigan', 2542), ('transom', 2543), ('rod', 2544), ('headwaters', 2545), ('simms', 2546), ('5000', 2547), ('9135', 2548), ('eaton', 2549), ('cobalt', 2550), ('square', 2551), ('sdram', 2552), ('266mhz', 2553), ('2x2gb', 2554), ('4gb', 2555), ('300682b21', 2556), ('8200', 2557), ('d1az', 2558), ('nos', 2559), ('yoga', 2560), ('cottonlycra', 2561), ('blanket', 2562), ('masonic', 2563), ('solution', 2564), ('52562', 2565), ('pr', 2566), ('g3', 2567), ('ml330', 2568), ('306ghz', 2569), ('intel', 2570), ('354606b21', 2571), ('heatgear', 2572), ('cmw8239', 2573), ('andrus', 2574), ('elvis', 2575), ('dainese', 2576), ('piles', 2577), ('chamber', 2578), ('hyperbaric', 2579), ('7140', 2580), ('amron', 2581), ('potted', 2582), ('crypt', 2583), ('crypt|red', 2584), ('x900', 2585), ('xolo', 2586), ('fistula', 2587), ('fissures', 2588), ('anal', 2589), ('quiet', 2590), ('tower', 2591), ('miditower', 2592), ('350w', 2593), ('needlepro', 2594), ('venipuncture', 2595), ('portex', 2596), ('sims', 2597), ('swirls', 2598), ('zippered', 2599), ('scat', 2600), ('lava', 2601), ('26016', 2602), ('danner', 2603), ('moto', 2604), ('fadeout', 2605), ('a10005957', 2606), ('5k', 2607), ('smc', 2608), ('annual', 2609), ('14th', 2610), ('10005155', 2611), ('cushioned', 2612), ('ridge', 2613), ('aztec', 2614), ('spyder', 2615), ('mitsubishi', 2616), ('14900', 2617), ('epsealon', 2618), ('hemorrhoids', 2619), ('ointment', 2620), ('mandala', 2621), ('arm', 2622), ('dove', 2623), ('goldblack', 2624), ('cabbie', 2625), ('society', 2626), ('honour', 2627), ('kayak', 2628), ('ethafoamef', 2629), ('floats', 2630), ('stabilizer', 2631), ('penguin', 2632), ('word', 2633), ('bride', 2634), ('highback', 2635), ('pilex', 2636), ('cushion', 2637), ('isle', 2638), ('cayman', 2639), ('collector', 2640), ('kits', 2641), ('spyglass', 2642), ('pleat', 2643), ('midlength', 2644), ('parchment', 2645), ('skull', 2646), ('flask', 2647), ('nuggets', 2648), ('sensitive', 2649), ('unscented', 2650), ('tier', 2651), ('10x42', 2652), ('himalaya', 2653), ('17212476', 2654), ('caliper', 2655), ('4b', 2656), ('137', 2657), ('4r', 2658), ('permance', 2659), ('pads', 2660), ('sintered', 2661), ('specialties', 2662), ('curry', 2663), ('frosted', 2664), ('538', 2665), ('ctg02', 2666), ('w230ss', 2667), ('metabox', 2668), ('laserengraved', 2669), ('kaluga', 2670), ('tikhon', 2671), ('bat', 2672), ('marucci', 2673), ('board', 2674), ('traffic', 2675), ('swarovision', 2676), ('wb', 2677), ('device', 2678), ('clipboard', 2679), ('asics', 2680), ('horse', 2681), ('256mb', 2682), ('333869001', 2683), ('atvitol', 2684), ('jbl', 2685), ('2216', 2686), ('composition', 2687), ('fl', 2688), ('resino', 2689), ('almendra', 2690), ('olivo', 2691), ('carabiner', 2692), ('bifold', 2693), ('sapphire', 2694), ('alta', 2695), ('designer', 2696), ('toy', 2697), ('ugly', 2698), ('sentra', 2699), ('2011', 2700), ('rug', 2701), ('cowhide', 2702), ('cant', 2703), ('cup', 2704), ('pencil', 2705), ('bluerealtree', 2706), ('huntsman', 2707), ('pc3200', 2708), ('ddr', 2709), ('ram', 2710), ('xlvi', 2711), ('lotus', 2712), ('sp', 2713), ('375870b21', 2714), ('banlge', 2715), ('anticlastic', 2716), ('hammered', 2717), ('crayons', 2718), ('puzzle', 2719), ('castings', 2720), ('unpainted', 2721), ('passenger', 2722), ('toner', 2723), ('magenta', 2724), ('spc430dn', 2725), ('aficio', 2726), ('ricoh', 2727), ('genuine', 2728), ('serif', 2729), ('slab', 2730), ('pantry', 2731), ('tanglefoot', 2732), ('boat', 2733), ('barco', 2734), ('casa', 2735), ('sanuk', 2736), ('75cm', 2737), ('marder', 2738), ('german', 2739), ('classico', 2740), ('shawl', 2741), ('dinner', 2742), ('swag', 2743), ('contemporary', 2744), ('adaptor', 2745), ('sealife', 2746), ('bootbrownbrown13', 2747), ('54567', 2748), ('socket', 2749), ('superstore', 2750), ('lt28570r17', 2751), ('revo', 2752), ('at', 2753), ('dueler', 2754), ('bridgestone', 2755), ('oliver', 2756), ('isabella', 2757), ('monaural', 2758), ('bt150', 2759), ('jabra', 2760), ('discoverer', 2761), ('cooper', 2762), ('domingo', 2763), ('trade', 2764), ('gracia', 2765), ('nascar', 2766), ('1972', 2767), ('135', 2768), ('datsun', 2769), ('tamiya', 2770), ('poker', 2771), ('states', 2772), ('lehr', 2773), ('keith', 2774), ('loves', 2775), ('vh4241', 2776), ('silt', 2777), ('gobbler', 2778), ('xcalibur', 2779), ('duvet', 2780), ('blush', 2781), ('taupe', 2782), ('mackie', 2783), ('decolights', 2784), ('mcarthur', 2785), ('steiner', 2786), ('50w', 2787), ('halogen', 2788), ('tuff', 2789), ('turtle', 2790), ('lewis', 2791), ('ray', 2792), ('doors', 2793), ('510', 2794), ('blackgraphite', 2795), ('hemp', 2796), ('awareness', 2797), ('no17', 2798), ('shore', 2799), ('abs', 2800), ('semitractors', 2801), ('trucks', 2802), ('diagostic', 2803), ('rdu', 2804), ('k101596', 2805), ('pirate', 2806), ('prism', 2807), ('10x25mm', 2808), ('prosport', 2809), ('simmons', 2810), ('coconut', 2811), ('cp1100t', 2812), ('fractionated', 2813), ('organics', 2814), ('sky', 2815), ('laminated', 2816), ('hw97k', 2817), ('weihrauch', 2818), ('agent', 2819), ('nhl', 2820), ('whiteblack', 2821), ('adrenaline', 2822), ('dufferin', 2823), ('timer325', 2824), ('xlarge', 2825), ('1door', 2826), ('spark', 2827), ('guzzini', 2828), ('flashback', 2829), ('twist', 2830), ('mock', 2831), ('stars', 2832), ('teamused', 2833), ('brett', 2834), ('george', 2835), ('drum', 2836), ('snare', 2837), ('marching', 2838), ('angler', 2839), ('orthodream', 2840), ('4ft6', 2841), ('softshell', 2842), ('surefire', 2843), ('crab', 2844), ('ophos', 2845), ('condit', 2846), ('rolling', 2847), ('carryon', 2848), ('recumbent', 2849), ('350r', 2850), ('fundamental', 2851), ('rest', 2852), ('tone', 2853), ('analog', 2854), ('hampton', 2855), ('sleeper', 2856), ('calfskin', 2857), ('1978', 2858), ('binding', 2859), ('rocker', 2860), ('sup', 2861), ('surftech', 2862), ('traverse', 2863), ('aeroblade', 2864), ('prius', 2865), ('toyota', 2866), ('bias', 2867), ('pirelli', 2868), ('braap', 2869), ('met', 2870), ('43', 2871), ('media', 2872), ('tape', 2873), ('100gbait', 2874), ('246504b21', 2875), ('platform', 2876), ('unique', 2877), ('transparent', 2878), ('floriation', 2879), ('kvoll', 2880), ('t24285', 2881), ('d300', 2882), ('nikon', 2883), ('79', 2884), ('monte', 2885), ('carlo', 2886), ('cutlass', 2887), ('4270', 2888), ('alamo', 2889), ('valero', 2890), ('motor', 2891), ('ac', 2892), ('vfs114110plwn', 2893), ('toshiba', 2894), ('swimsuit', 2895), ('fitness', 2896), ('adoretex', 2897), ('bonehead', 2898), ('collegiate', 2899), ('voile', 2900), ('hazelnut', 2901), ('comedian', 2902), ('famous', 2903), ('hedberg', 2904), ('mitch', 2905), ('thread', 2906), ('brick', 2907), ('120fps', 2908), ('dvr', 2909), ('gv800b8', 2910), ('geovision', 2911), ('995682', 2912), ('gamerfuzion', 2913), ('assassins', 2914), ('creed', 2915), ('kempa', 2916), ('attraction', 2917), ('main', 2918), ('pendulum', 2919), ('aura', 2920), ('dobell', 2921), ('bomber', 2922), ('mohair', 2923), ('lightning', 2924), ('32', 2925), ('champons', 2926), ('bruce', 2927), ('fabric', 2928), ('starters', 2929), ('pau', 2930), ('motivation', 2931), ('strong', 2932), ('king', 2933), ('stacey', 2934), ('21king', 2935), ('rebuildable', 2936), ('ithaka', 2937), ('dornfelder', 2938), ('auslese', 2939), ('holle', 2940), ('burglayer', 2941), ('integrated', 2942), ('horizon', 2943), ('oxford', 2944), ('sandwich', 2945), ('container', 2946), ('dimension', 2947), ('charcoalblack', 2948), ('storm', 2949), ('volleyball', 2950), ('legging', 2951), ('tahoe', 2952), ('tahitian', 2953), ('g5', 2954), ('470', 2955), ('probook', 2956), ('joggers', 2957), ('master', 2958), ('orig', 2959), ('chevrolet', 2960), ('75', 2961), ('1962', 2962), ('ccm', 2963), ('larkin', 2964), ('dylan', 2965), ('crimsoncrme', 2966), ('calgary', 2967), ('sharks', 2968), ('derby', 2969), ('knotty', 2970), ('lacoste', 2971), ('blasterx', 2972), ('yzfr6', 2973), ('yamaha', 2974), ('tabpb088', 2975), ('2+', 2976), ('id', 2977), ('moro', 2978), ('dalbello', 2979), ('knife', 2980), ('5500', 2981), ('johnson', 2982), ('mm', 2983), ('instinct', 2984), ('mares', 2985), ('ab', 2986), ('crown', 2987), ('dislocate', 2988), ('1089', 2989), ('animal', 2990), ('cremall', 2991), ('carbonyte', 2992), ('skins', 2993), ('sealy', 2994), ('bella', 2995), ('greetings', 2996), ('seasons', 2997), ('merchandise', 2998), ('floor', 2999), ('dyson', 3000), ('arkon', 3001), ('yeah', 3002), ('20062007', 3003), ('open', 3004), ('felted', 3005), ('patons', 3006), ('battery', 3007), ('75ah', 3008), ('ups12300mr', 3009), ('dynasty', 3010), ('cd', 3011), ('cartridges', 3012), ('ecigarette', 3013), ('cleardraw', 3014), ('clove', 3015), ('bobby', 3016), ('cappuccino', 3017), ('storksak', 3018), ('famu', 3019), ('gloss', 3020), ('machined', 3021), ('302', 3022), ('302mb', 3023), ('drifz', 3024), ('shot', 3025), ('colored', 3026), ('lee', 3027), ('elijah', 3028), ('gate', 3029), ('greengold', 3030), ('footed', 3031), ('moisturiser', 3032), ('fer', 3033), ('hope', 3034), ('n11cro11s2', 3035), ('carving', 3036), ('pumpkin', 3037), ('slalom', 3038), ('fluorescent', 3039), ('ful', 3040), ('supra', 3041), ('ful1230k4', 3042), ('oni', 3043), ('et', 3044), ('shoki', 3045), ('en', 3046), ('santini', 3047), ('marugata', 3048), ('tsuba', 3049), ('knobs', 3050), ('cabinet', 3051), ('trundle', 3052), ('angelica', 3053), ('powell', 3054), ('ep02', 3055), ('ecopia', 3056), ('mi', 3057), ('bristol', 3058), ('summer', 3059), ('protection', 3060), ('redline', 3061), ('citizen', 3062), ('promaster', 3063), ('salmon', 3064), ('wound', 3065), ('active', 3066), ('vetguard', 3067), ('skillet', 3068), ('12inch', 3069), ('clad', 3070), ('anolon', 3071), ('diving', 3072), ('finals', 3073), ('washer', 3074), ('carry', 3075), ('1900', 3076), ('prosumer', 3077), ('strip', 3078), ('automobile', 3079), ('perfect', 3080), ('bowfront', 3081), ('amber', 3082), ('cherryman', 3083), ('whitescarlet', 3084), ('bn019457e', 3085), ('divers', 3086), ('200m', 3087), ('ecodrive', 3088), ('mania', 3089), ('eligible', 3090), ('spirited', 3091), ('canadian', 3092), ('105x15', 3093), ('sim', 3094), ('230', 3095), ('nokia', 3096), ('dryers', 3097), ('adsp', 3098), ('adis', 3099), ('desiccant', 3100), ('5008414', 3101), ('mitts', 3102), ('firebr', 3103), ('logosleeve', 3104), ('midweight', 3105), ('samurai', 3106), ('430', 3107), ('sc', 3108), ('lexus', 3109), ('herschel', 3110), ('rockies', 3111), ('donner', 3112), ('stocking', 3113), ('jobst', 3114), ('padres', 3115), ('pathfinder', 3116), ('a5', 3117), ('plyboosound', 3118), ('darker', 3119), ('antique', 3120), ('canadiana', 3121), ('decor', 3122), ('way', 3123), ('ghost', 3124), ('printer', 3125), ('officejet', 3126), ('500ma', 3127), ('memorial', 3128), ('war', 3129), ('1fit', 3130), ('coarse', 3131), ('widespread', 3132), ('hi', 3133), ('trimline', 3134), ('nickel', 3135), ('amalfi', 3136), ('danze', 3137), ('jaws', 3138), ('ballpark', 3139), ('outlet', 3140), ('pf20', 3141), ('relica', 3142), ('nyc', 3143), ('widowmaker', 3144), ('motorcycle', 3145), ('makers', 3146), ('widow', 3147), ('housing', 3148), ('canon', 3149), ('wpdc48', 3150), ('rwl', 3151), ('promark', 3152), ('speedway', 3153), ('fringe', 3154), ('finatic', 3155), ('hatch', 3156), ('4oz', 3157), ('squeeze', 3158), ('scent', 3159), ('citrus', 3160), ('sanitizer', 3161), ('safetec', 3162), ('sherpalined', 3163), ('c', 3164), ('varsity', 3165), ('104q', 3166), ('lt23575r15', 3167), ('km2', 3168), ('ta', 3169), ('terrain', 3170), ('mud', 3171), ('bfgoodrich', 3172), ('alumni', 3173), ('holland', 3174), ('security', 3175), ('ptz', 3176), ('indoor', 3177), ('tree', 3178), ('strap', 3179), ('recovery', 3180), ('border', 3181), ('10000', 3182), ('filterforce', 3183), ('bermuda', 3184), ('uvc', 3185), ('15000', 3186), ('powerclenz', 3187), ('fishmate', 3188), ('swell', 3189), ('halfsleeve', 3190), ('stone', 3191), ('coralife', 3192), ('jelly', 3193), ('ginseng', 3194), ('perennial', 3195), ('masterwork', 3196), ('swivel', 3197), ('finished', 3198), ('dukuri', 3199), ('postup', 3200), ('sean', 3201), ('whitenavy', 3202), ('towson', 3203), ('yukon', 3204), ('a10006955', 3205), ('mom', 3206), ('600tvl', 3207), ('scp2120', 3208), ('benetton', 3209), ('pa', 3210), ('tapestry', 3211), ('autumn', 3212), ('mucha', 3213), ('seam', 3214), ('giro', 3215), ('humidifier', 3216), ('uhecm65', 3217), ('mist', 3218), ('cool', 3219), ('homedics', 3220), ('set=null', 3221), ('wu', 3222), ('182gb', 3223), ('01k8055', 3224), ('printeruscanada', 3225), ('eallinone', 3226), ('4500', 3227), ('envy', 3228), ('15hp', 3229), ('11kw', 3230), ('inverter', 3231), ('telemecanique', 3232), ('atv71hd11n4', 3233), ('terminator', 3234), ('ageless', 3235), ('412x40', 3236), ('scope', 3237), ('courtside', 3238), ('dot', 3239), ('longline', 3240), ('women', 3241), ('marquette', 3242), ('outline', 3243), ('morehead', 3244), ('121273', 3245), ('sheave', 3246), ('pitch', 3247), ('variable', 3248), ('2groove', 3249), ('78', 3250), ('2vp56', 3251), ('energy', 3252), ('unleash', 3253), ('squash', 3254), ('tecnifibre', 3255), ('488058001', 3256), ('tigerstcu', 3257), ('leafs', 3258), ('maple', 3259), ('boyleg', 3260), ('francesca', 3261), ('bahamas', 3262), ('popeyes', 3263), ('heine', 3264), ('natural', 3265), ('coil', 3266), ('vanessa', 3267), ('divided', 3268), ('venta', 3269), ('sigma', 3270), ('sd40ve', 3271), ('wesson', 3272), ('smith', 3273), ('slope', 3274), ('bubble', 3275), ('dvd', 3276), ('hook', 3277), ('gavin', 3278), ('shift', 3279), ('chiffon', 3280), ('37', 3281), ('ata100', 3282), ('27', 3283), ('rebels', 3284), ('dhs', 3285), ('mchugh', 3286), ('collin', 3287), ('lotion', 3288), ('gentle', 3289), ('rs2', 3290), ('botanica', 3291), ('pevonia', 3292), ('outsider', 3293), ('ultraata100', 3294), ('s5499', 3295), ('sioux', 3296), ('left', 3297), ('chest', 3298), ('pc5300', 3299), ('512mb', 3300), ('432803b21', 3301), ('giardini', 3302), ('nero', 3303), ('allstar', 3304), ('snakes', 3305), ('fpmtbds001', 3306), ('mountain', 3307), ('suspension', 3308), ('popular', 3309), ('galileo', 3310), ('smok', 3311), ('shocker', 3312), ('future', 3313), ('friends', 3314), ('i200', 3315), ('luxemate', 3316), ('genius', 3317), ('nights', 3318), ('friday', 3319), ('tailgates', 3320), ('cassette', 3321), ('sv230', 3322), ('daewoo', 3323), ('ide', 3324), ('tattoo', 3325), ('calorie', 3326), ('pantalon', 3327), ('emblem', 3328), ('2lbs', 3329), ('protein', 3330), ('whey', 3331), ('musclepharm', 3332), ('hooper', 3333), ('glove', 3334), ('utility', 3335), ('dl145g2', 3336), ('mb', 3337), ('201ghzht', 3338), ('270', 3339), ('multifunktionsskrivareny', 3340), ('tulip', 3341), ('m1212nf', 3342), ('laserjet', 3343), ('leadoff', 3344), ('post', 3345), ('vansport', 3346), ('ion', 3347), ('tent', 3348), ('camelot', 3349), ('chandelier', 3350), ('teak', 3351), ('theresa', 3352), ('maria', 3353), ('vanderbilt', 3354), ('commodores', 3355), ('sea', 3356), ('magiquarium', 3357), ('brotherhood', 3358), ('usmc', 3359), ('archibald', 3360), ('gamer', 3361), ('iusbport', 3362), ('hyperdrive', 3363), ('onboard', 3364), ('matchup', 3365), ('ledge', 3366), ('gi', 3367), ('bjj', 3368), ('estilo', 3369), ('tatami', 3370), ('peat', 3371), ('posters', 3372), ('8x20', 3373), ('tamiami', 3374), ('34sleeve', 3375), ('gwm5610mr4er', 3376), ('limite', 3377), ('srie', 3378), ('gshock', 3379), ('1500w', 3380), ('zl', 3381), ('j8713a', 3382), ('dimm', 3383), ('laurel', 3384), ('jumper', 3385), ('med', 3386), ('spiuk', 3387), ('knuckleduster', 3388), ('m82', 3389), ('barrett', 3390), ('sagrantino', 3391), ('berkey', 3392), ('pack|100', 3393), ('pack|75', 3394), ('watt|50', 3395), ('lamps|25', 3396), ('basking', 3397), ('repti', 3398), ('zoo', 3399), ('apricot', 3400), ('psp', 3401), ('biorestorative', 3402), ('journee', 3403), ('neocutis', 3404), ('ipad2', 3405), ('ultrathin', 3406), ('purpleblack', 3407), ('chant', 3408), ('dorm', 3409), ('chippewas', 3410), ('sauna', 3411), ('infrared', 3412), ('paula', 3413), ('deen', 3414), ('porcelain', 3415), ('15piece', 3416), ('fordham', 3417), ('forks', 3418), ('servg', 3419), ('party', 3420), ('refract', 3421), ('tunic', 3422), ('turtleneck', 3423), ('boucle', 3424), ('g', 3425), ('boost', 3426), ('weider', 3427), ('coffman', 3428), ('volt', 3429), ('240', 3430), ('hv3900', 3431), ('earlex', 3432), ('pipe', 3433), ('chandeler', 3434), ('mn', 3435), ('sphere', 3436), ('lght', 3437), ('newbury', 3438), ('coach', 3439), ('speckle', 3440), ('speckle|15piece', 3441), ('clearlight', 3442), ('hobo', 3443), ('blend', 3444), ('bird', 3445), ('cats', 3446), ('eliminall', 3447), ('voodoo', 3448), ('s6', 3449), ('oidos', 3450), ('limpia', 3451), ('aspirador', 3452), ('strength', 3453), ('lasting', 3454), ('packages', 3455), ('rowing', 3456), ('creeks', 3457), ('moonlight', 3458), ('daydate', 3459), ('mrp', 3460), ('118238', 3461), ('rolex', 3462), ('flash', 3463), ('beacon', 3464), ('grid', 3465), ('descending', 3466), ('soda', 3467), ('domestic', 3468), ('jh', 3469), ('389346001', 3470), ('larry', 3471), ('connoisseur', 3472), ('stenciled', 3473), ('read', 3474), ('predators', 3475), ('ankh', 3476), ('spt', 3477), ('choose', 3478), ('figurines', 3479), ('native', 3480), ('setters', 3481), ('scene', 3482), ('peacekeeper', 3483), ('needle', 3484), ('non', 3485), ('bore', 3486), ('extenson', 3487), ('wifi', 3488), ('64gb', 3489), ('generation', 3490), ('4th', 3491), ('retina', 3492), ('patte', 3493), ('twilight', 3494), ('sweater', 3495), ('onesided', 3496), ('menard', 3497), ('paul', 3498), ('thermometer', 3499), ('peanut', 3500), ('moderate', 3501), ('thunderbird', 3502), ('lebron', 3503), ('2003', 3504), ('cardinalgold', 3505), ('jog', 3506), ('velocity', 3507), ('deaconssideline', 3508), ('buzz', 3509), ('forte', 3510), ('stack', 3511), ('union', 3512), ('n98', 3513), ('lockdown', 3514), ('james', 3515), ('pick', 3516), ('blake', 3517), ('ashcharcoal', 3518), ('mach', 3519), ('sacramento', 3520), ('dri', 3521), ('5th', 3522), ('grayroyal', 3523), ('hit', 3524), ('brcos', 3525), ('relaxed', 3526), ('das', 3527), ('capri', 3528), ('sweatless', 3529), ('aerio', 3530), ('cty', 3531), ('boise', 3532), ('expandable', 3533), ('island', 3534), ('couch', 3535), ('roger', 3536), ('orangewhite', 3537), ('patchwork', 3538), ('softball', 3539), ('yoke', 3540), ('curved', 3541), ('appliquesingle', 3542), ('dolls', 3543), ('kokeshi', 3544), ('22ghz', 3545), ('275', 3546), ('3400cl48g', 3547), ('switch', 3548), ('procurve', 3549), ('enterprise', 3550), ('packard', 3551), ('hewlett', 3552), ('islide', 3553), ('cb', 3554), ('jrue', 3555), ('violin', 3556), ('orchestra', 3557), ('wbwr13', 3558), ('bortles', 3559), ('curricular', 3560), ('hypoallergenic', 3561), ('sportswear', 3562), ('benfica', 3563), ('zusi', 3564), ('redashwhite', 3565), ('tricolor', 3566), ('201112', 3567), ('bear', 3568), ('bowe', 3569), ('dwayne', 3570), ('orangenavy', 3571), ('9forty', 3572), ('montee', 3573), ('logoset', 3574), ('tracksuit', 3575), ('turqouise', 3576), ('010', 3577), ('getting', 3578), ('sherman', 3579), ('richard', 3580), ('mayo', 3581), ('oj', 3582), ('pacers', 3583), ('primal', 3584), ('carmelo', 3585), ('brady', 3586), ('tom', 3587), ('davis', 3588), ('hawks', 3589), ('lesean', 3590), ('mccoy', 3591), ('redwhitestripped', 3592), ('blackneon', 3593), ('matte', 3594), ('tailwind12', 3595), ('type', 3596), ('shrinking', 3597), ('solo', 3598), ('beard', 3599), ('jozy', 3600), ('lettering', 3601), ('arched', 3602), ('lawrence', 3603), ('vii', 3604), ('critical', 3605), ('zoned', 3606), ('hpr', 3607), ('tannehill', 3608), ('ryan', 3609), ('blount', 3610), ('legarrette', 3611), ('295', 3612), ('compression', 3613), ('tactel', 3614), ('homecoming', 3615), ('gym', 3616), ('redgreen', 3617), ('tamba', 3618), ('hali', 3619), ('locking', 3620), ('bling', 3621), ('surfskin', 3622), ('kokatat', 3623), ('adventure', 3624), ('jungle', 3625), ('walltastic', 3626), ('26k5837', 3627), ('key', 3628), ('greek', 3629), ('90p1384', 3630), ('scarletwhite', 3631), ('whitetennessee', 3632), ('freeform', 3633), ('oblique', 3634), ('bedhead', 3635), ('hub', 3636), ('hardball', 3637), ('48', 3638), ('nagasa', 3639), ('laceup', 3640), ('hustle', 3641), ('arches', 3642), ('px160px350', 3643), ('privia', 3644), ('cs67bk', 3645), ('option', 3646), ('scale', 3647), ('pigeon', 3648), ('bliss', 3649), ('panty', 3650), ('violet', 3651), ('canine', 3652), ('alleviation', 3653), ('rockon', 3654), ('soluble', 3655), ('lincospectin', 3656), ('boiler', 3657), ('tablecloth', 3658), ('paisley', 3659), ('panties', 3660), ('charmed', 3661), ('recruit', 3662), ('700c', 3663), ('21', 3664), ('shimano', 3665), ('flat', 3666), ('trout', 3667), ('bull', 3668), ('4n', 3669), ('abel', 3670), ('miller', 3671), ('li', 3672), ('banks', 3673), ('carl', 3674), ('giii', 3675), ('impatiens', 3676), ('smartconnect', 3677), ('escali', 3678), ('softmodem', 3679), ('110lbs', 3680), ('walking', 3681), ('balance', 3682), ('enkeeo', 3683), ('waxed', 3684), ('rain', 3685), ('filigree', 3686), ('theme', 3687), ('galore', 3688), ('set|3piece', 3689), ('stainlesssteel', 3690), ('sp13250', 3691), ('precimax', 3692), ('stormfit', 3693), ('glacier', 3694), ('us', 3695), ('neve', 3696), ('phillies', 3697), ('associate', 3698), ('monitors', 3699), ('consumer', 3700), ('service', 3701), ('exchange', 3702), ('year', 3703), ('clampon', 3704), ('8001133', 3705), ('hlebar', 3706), ('capacity', 3707), ('56k', 3708), ('ages', 3709), ('v92', 3710), ('dc132d', 3711), ('cruiser', 3712), ('pt', 3713), ('chrysler', 3714), ('m999', 3715), ('blackgrey', 3716), ('binder', 3717), ('buildabinder', 3718), ('caseit', 3719), ('melissa', 3720), ('frye', 3721), ('puck', 3722), ('flaming', 3723), ('15oz', 3724), ('senators', 3725), ('ottawa', 3726), ('107g', 3727), ('sghz400', 3728), ('pigtail', 3729), ('molex', 3730), ('slouchy', 3731), ('bernat', 3732), ('dream', 3733), ('fat', 3734), ('birmingham', 3735), ('32p0730', 3736), ('domed', 3737), ('rj45', 3738), ('hs', 3739), ('cleaning', 3740), ('platy', 3741), ('25202', 3742), ('arctic', 3743), ('durability', 3744), ('apache', 3745), ('chippewa', 3746), ('yard', 3747), ('stp', 3748), ('snagless', 3749), ('cat5e', 3750), ('lapel', 3751), ('fio', 3752), ('process', 3753), ('appraisal', 3754), ('inside', 3755), ('hands', 3756), ('stretched', 3757), ('71', 3758), ('blackout', 3759), ('course', 3760), ('bridesmaid', 3761), ('marissa', 3762), ('deere', 3763), ('hamels', 3764), ('lr', 3765), ('ffp', 3766), ('41650', 3767), ('xlr', 3768), ('discontinued', 3769), ('arctica', 3770), ('revault', 3771), ('iris', 3772), ('hyacinth', 3773), ('family', 3774), ('loop', 3775), ('mary', 3776), ('mounting', 3777), ('shuffle', 3778), ('herbal', 3779), ('rangoli', 3780), ('jacks', 3781), ('plug', 3782), ('deck', 3783), ('hole', 3784), ('kingston', 3785), ('gs7881bl', 3786), ('2bs', 3787), ('burner', 3788), ('archway', 3789), ('toughened', 3790), ('creuset', 3791), ('vella', 3792), ('reticle', 3793), ('cole', 3794), ('dl385', 3795), ('notched', 3796), ('catch', 3797), ('glasses', 3798), ('beveled', 3799), ('packit', 3800), ('diapering', 3801), ('cloth', 3802), ('onesize', 3803), ('bumgenius', 3804), ('demoiselle', 3805), ('rotors', 3806), ('lug', 3807), ('lyndall', 3808), ('camlin', 3809), ('bradshaw', 3810), ('24ghz8001mb', 3811), ('threestripe', 3812), ('robbery', 3813), ('great', 3814), ('philoctetes', 3815), ('sophocles', 3816), ('hba', 3817), ('pcix', 3818), ('gb', 3819), ('fc2143', 3820), ('storageworks', 3821), ('lynx', 3822), ('ridingboots', 3823), ('caravan', 3824), ('sxt', 3825), ('richest', 3826), ('with', 3827), ('o250', 3828), ('vide', 3829), ('sous', 3830), ('cooking', 3831), ('apparatus', 3832), ('ultraata133', 3833), ('parallelata', 3834), ('7k160', 3835), ('deskstar', 3836), ('hgst', 3837), ('w9d988', 3838), ('dell', 3839), ('3409387', 3840), ('4727740', 3841), ('franklin', 3842), ('blackwhite', 3843), ('garnett', 3844), ('streetracer', 3845), ('firestone', 3846), ('w023583000', 3847), ('triad', 3848), ('velvet', 3849), ('g2', 3850), ('beer', 3851), ('coors', 3852), ('694374b21', 3853), ('4tb', 3854), ('06p5367', 3855), ('guess', 3856), ('silverapointed', 3857), ('office', 3858), ('vzn', 3859), ('beck', 3860), ('nis', 3861), ('skate', 3862), ('xcelerator', 3863), ('rottefella', 3864), ('compressport', 3865), ('multitool', 3866), ('w0376g1', 3867), ('duo', 3868), ('saucepan|2', 3869), ('364gb', 3870), ('beeswax', 3871), ('required', 3872), ('assembly', 3873), ('summerhouse', 3874), ('shiplap', 3875), ('10x8', 3876), ('shire', 3877), ('hurries', 3878), ('divan', 3879), ('ortho', 3880), ('amora', 3881), ('6ft6', 3882), ('etch', 3883), ('piscotty', 3884), ('272427', 3885), ('threaded', 3886), ('whitepurple', 3887), ('175', 3888), ('mnpt', 3889), ('in', 3890), ('relief', 3891), ('conbraco', 3892), ('basics', 3893), ('rosette', 3894), ('kurtz', 3895), ('apocalypse', 3896), ('brando', 3897), ('marlon', 3898), ('o', 3899), ('silicon', 3900), ('oakley', 3901), ('bg', 3902), ('cold', 3903), ('p', 3904), ('400450', 3905), ('foreman', 3906), ('0406m', 3907), ('cobra', 3908), ('uv', 3909), ('f16uvw', 3910), ('colossus', 3911), ('3ft6', 3912), ('blackmidnight', 3913), ('robusto', 3914), ('chemical', 3915), ('dillon', 3916), ('fz6', 3917), ('yamah', 3918), ('lever', 3919), ('shifter', 3920), ('starburst', 3921), ('riviera', 3922), ('lt18i', 3923), ('s', 3924), ('cami', 3925), ('weego', 3926), ('smokerise', 3927), ('lavender', 3928), ('3720', 3929), ('red|3', 3930), ('contempo', 3931), ('cartoon', 3932), ('whales', 3933), ('nuke', 3934), ('handles', 3935), ('1080p', 3936), ('2mp', 3937), ('wisenet', 3938), ('snd6084', 3939), ('ultra160', 3940), ('dow', 3941), ('mega', 3942), ('connecticut', 3943), ('oval', 3944), ('cigars', 3945), ('exhibicion', 3946), ('perdomo', 3947), ('lifetiles', 3948), ('cigarillos', 3949), ('sweets', 3950), ('swisher', 3951), ('11x16', 3952), ('gradation', 3953), ('phantom', 3954), ('40mm', 3955), ('1220', 3956), ('glazed', 3957), ('pattern', 3958), ('joinery', 3959), ('xl', 3960), ('tablep', 3961), ('ergonomics', 3962), ('multifuctional', 3963), ('portable', 3964), ('vented', 3965), ('furinno', 3966), ('sideliner', 3967), ('hitch', 3968), ('fixed', 3969), ('equestrian', 3970), ('dongle', 3971), ('stereo', 3972), ('parody', 3973), ('wingtip', 3974), ('lunargrand', 3975), ('medal', 3976), ('france', 3977), ('dl380', 3978), ('ml370', 3979), ('378751b21', 3980), ('fiba', 3981), ('midkini', 3982), ('underwire', 3983), ('nala', 3984), ('gabifresh', 3985), ('calm', 3986), ('pub', 3987), ('fahad', 3988), ('5pack', 3989), ('hooks', 3990), ('worm', 3991), ('mustad', 3992), ('qr1srvtg012da08', 3993), ('rexroth', 3994), ('bosch', 3995), ('aventics', 3996), ('r412005093', 3997), ('wsw960', 3998), ('spr68', 3999), ('mottisfont', 4000), ('pine', 4001), ('5ft', 4002), ('panelled', 4003), ('cardiff', 4004), ('zone', 4005), ('medical', 4006), ('sleeping', 4007), ('pain', 4008), ('pillow', 4009), ('lumbar', 4010), ('offtheshoulder', 4011), ('knob', 4012), ('mortice', 4013), ('bronze', 4014), ('co2', 4015), ('xs79', 4016), ('smk', 4017), ('dolly', 4018), ('tokenz', 4019), ('combi', 4020), ('redcharcoal', 4021), ('commercial', 4022), ('mocha', 4023), ('sense', 4024), ('fire', 4025), ('blazer', 4026), ('cts', 4027), ('cadillac', 4028), ('massage', 4029), ('agarwood', 4030), ('exceed', 4031), ('fluoride', 4032), ('5575', 4033), ('quietflow', 4034), ('aqueon', 4035), ('crochet', 4036), ('3800', 4037), ('value', 4038), ('reg', 4039), ('sale', 4040), ('cane', 4041), ('kitesurf', 4042), ('roam', 4043), ('rodeo', 4044), ('incsev', 4045), ('pocketscottevest', 4046), ('quickdry', 4047), ('boxers', 4048), ('underwear', 4049), ('boatneck', 4050), ('roundhouse', 4051), ('6pack', 4052), ('text', 4053), ('wright', 4054), ('percolator', 4055), ('8cup', 4056), ('yosemite', 4057), ('pf2', 4058), ('arsenic', 4059), ('mugs', 4060), ('filters', 4061), ('jar', 4062), ('sayings', 4063), ('coastal', 4064), ('caramel', 4065), ('saucepan|3quart', 4066), ('3quart', 4067), ('hardanodized', 4068), ('iclear', 4069), ('v20', 4070), ('itaste', 4071), ('innokin', 4072), ('cymbal', 4073), ('5710', 4074), ('dw', 4075), ('chenille', 4076), ('dear', 4077), ('herd', 4078), ('thundering', 4079), ('marshall', 4080), ('aw84', 4081), ('hiboy', 4082), ('495', 4083), ('stard', 4084), ('terras', 4085), ('sealant', 4086), ('wavy', 4087), ('cigar', 4088), ('btd', 4089), ('schouler', 4090), ('metaltop', 4091), ('10pack', 4092), ('jigheads', 4093), ('arrowhead', 4094), ('lure', 4095), ('hh', 4096), ('gifts', 4097), ('trio', 4098), ('fisherprice', 4099), ('tungsten', 4100), ('spey', 4101), ('mastery', 4102), ('proenza', 4103), ('humidor', 4104), ('assembled', 4105), ('pk', 4106), ('whisper', 4107), ('bunker', 4108), ('flavor', 4109), ('banana', 4110), ('footrail', 4111), ('somerset', 4112), ('desigul', 4113), ('motorsports', 4114), ('bevo', 4115), ('marzoaprile', 4116), ('bcs', 4117), ('logos', 4118), ('micro', 4119), ('torch', 4120), ('sennheiser', 4121), ('seriescommercial', 4122), ('70', 4123), ('icicle', 4124), ('exper', 4125), ('brackets', 4126), ('275x6m', 4127), ('whiteblackgreen', 4128), ('chroma', 4129), ('portrait', 4130), ('backgrounds', 4131), ('vinyl', 4132), ('colorquantum', 4133), ('eo', 4134), ('spearmint', 4135), ('eucalyptus', 4136), ('ext', 4137), ('picture', 4138), ('cal', 4139), ('odyssey', 4140), ('closeout', 4141), ('8004055', 4142), ('canoe', 4143), ('universal', 4144), ('keylight', 4145), ('uscita', 4146), ('lugano', 4147), ('ceppelli', 4148), ('electrolux', 4149), ('dainolite', 4150), ('183', 4151), ('summerlite', 4152), ('policies', 4153), ('insurance', 4154), ('excess', 4155), ('hire', 4156), ('daily', 4157), ('10ft', 4158), ('submersible', 4159), ('gph', 4160), ('1200', 4161), ('md12', 4162), ('aquamag', 4163), ('supreme', 4164), ('delica', 4165), ('230v', 4166), ('phase', 4167), ('5hp', 4168), ('pneumatic', 4169), ('therbal', 4170), ('roble', 4171), ('de', 4172), ('sd', 4173), ('rapid', 4174), ('xeno89sc', 4175), ('16166', 4176), ('redditi', 4177), ('oven', 4178), ('sui', 4179), ('imposte', 4180), ('delle', 4181), ('unico', 4182), ('testo', 4183), ('impct', 4184), ('nd', 4185), ('innovtion', 4186), ('ides', 4187), ('century', 4188), ('columbi', 4189), ('grommets', 4190), ('curtains', 4191), ('cilantro', 4192), ('spectrum', 4193), ('bj', 4194), ('rvca', 4195), ('candelabra', 4196), ('driftwood', 4197), ('electrodes', 4198), ('mv', 4199), ('medic', 4200), ('tea', 4201), ('1932', 4202), ('crumb', 4203), ('lt35565r18', 4204)])"
      ]
     },
     "execution_count": 73,
     "metadata": {},
     "output_type": "execute_result"
    }
   ],
   "source": [
    "word_vectors.key_to_index.items()"
   ]
  },
  {
   "cell_type": "code",
   "execution_count": 74,
   "id": "5f656323",
   "metadata": {},
   "outputs": [],
   "source": [
    "#get word embedding for each word in the corpus\n",
    "word2id = {k: v for k, v in word_vectors.key_to_index.items()}"
   ]
  },
  {
   "cell_type": "code",
   "execution_count": 75,
   "id": "4b2886ea",
   "metadata": {},
   "outputs": [],
   "source": [
    "#add 'UNK' to any new word in the vocabulary\n",
    "def add_new_word(new_word, new_vector, new_index, embedding_matrix, word2id):\n",
    "    embedding_matrix = np.insert(embedding_matrix, [new_index], [new_vector], axis=0)\n",
    "    \n",
    "    word2id = {word: (index+1) if index >= new_index else index\n",
    "              for word, index in word2id.items()}\n",
    "    word2id[new_word] = new_index\n",
    "    return embedding_matrix, word2id"
   ]
  },
  {
   "cell_type": "code",
   "execution_count": 76,
   "id": "b7cd77ab",
   "metadata": {},
   "outputs": [],
   "source": [
    "UNK_idx = 0\n",
    "UNK_tok = 'UNK'"
   ]
  },
  {
   "cell_type": "code",
   "execution_count": 77,
   "id": "9a489703",
   "metadata": {},
   "outputs": [],
   "source": [
    "#define a word embedding for 'UNK'.\n",
    "embedding_matrix = word_vectors.vectors\n",
    "unk_vector = embedding_matrix.mean(0)\n",
    "embedding_matrix, word2id = add_new_word(UNK_tok, unk_vector, UNK_idx,\n",
    "                                        embedding_matrix, word2id)"
   ]
  },
  {
   "cell_type": "code",
   "execution_count": 78,
   "id": "6824ba91",
   "metadata": {},
   "outputs": [],
   "source": [
    "def get_int_data(tagged_words, word2id, tag2id):\n",
    "    X, y = [], []\n",
    "    unk_count = 0\n",
    "    \n",
    "    for item in tagged_words:\n",
    "        for word, pos, tag in item:\n",
    "            y.append(tag2id.get(tag))\n",
    "            if word in word2id:\n",
    "                X.append(word2id.get(word))\n",
    "            else:\n",
    "                X.append(UNK_idx)\n",
    "                unk_count +=1\n",
    "#     print(f\"% of unknown words: {unk_count/len(tagged_words)}\")\n",
    "    return (np.array(X), np.array(y))"
   ]
  },
  {
   "cell_type": "code",
   "execution_count": 79,
   "id": "b14f5fe4",
   "metadata": {},
   "outputs": [],
   "source": [
    "X_train, y_train = get_int_data(train_sent, word2id, tag2id)\n",
    "X_test, y_test = get_int_data(test_sent, word2id, tag2id)\n",
    "y_train, y_test = to_categorical(y_train), to_categorical(y_test)"
   ]
  },
  {
   "cell_type": "code",
   "execution_count": 80,
   "id": "b41dd369",
   "metadata": {},
   "outputs": [],
   "source": [
    "#define NN model\n",
    "hidden_size = 100\n",
    "batch_size = 32\n",
    "\n",
    "def define_model(embedding_matrix, class_count, activation):\n",
    "    vocab_length = len(embedding_matrix)\n",
    "    model =  Sequential()\n",
    "    \n",
    "    #layers that turns word indexes into vectors\n",
    "    model.add(Embedding(input_dim=vocab_length,\n",
    "                       output_dim=300,              #output of this layers is the word embedding of the input word\n",
    "                       weights = [embedding_matrix],#matrix holding the trained embeddings\n",
    "                       input_length=1))\n",
    "    model.add(Flatten())\n",
    "    model.add(Dense(hidden_size))\n",
    "    model.add(Activation(activation))\n",
    "    model.add(Dense(class_count))\n",
    "    model.add(Activation('softmax'))\n",
    "    \n",
    "    opt = Adam(learning_rate=0.01)\n",
    "    model.compile(optimizer=opt,\n",
    "                 loss = 'categorical_crossentropy',\n",
    "                 metrics = ['accuracy'])\n",
    "    return model"
   ]
  },
  {
   "cell_type": "code",
   "execution_count": 81,
   "id": "d6a42b1f",
   "metadata": {},
   "outputs": [],
   "source": [
    "idx2word = sorted(word2id, key=word2id.get)"
   ]
  },
  {
   "cell_type": "code",
   "execution_count": 82,
   "id": "390d8284",
   "metadata": {},
   "outputs": [],
   "source": [
    "#model evaluation function\n",
    "def evaluate_model(model, idx2word, X_test, y_test):\n",
    "    _, acc = model.evaluate(X_test, y_test)\n",
    "    print(\"Accuracy: \", acc)\n",
    "    \n",
    "    y_pred = model.predict(X_test)\n",
    "    y_pred_classes = np.argmax(y_pred, axis=1)\n",
    "    error_counter = collections.Counter()\n",
    "    \n",
    "    for i in range(len(X_test)):\n",
    "        correct_tag_id = np.argmax(y_test[i])\n",
    "        if y_pred_classes[i] != correct_tag_id:\n",
    "            word = idx2word[X_test[i]]\n",
    "            error_counter[word] +=1\n",
    "    print(\"common errors: \", error_counter.most_common(5))"
   ]
  },
  {
   "cell_type": "code",
   "execution_count": 83,
   "id": "5cd752a7",
   "metadata": {
    "scrolled": true
   },
   "outputs": [
    {
     "name": "stdout",
     "output_type": "stream",
     "text": [
      "\n",
      "Activation:  relu\n",
      "Model: \"sequential\"\n",
      "_________________________________________________________________\n",
      " Layer (type)                Output Shape              Param #   \n",
      "=================================================================\n",
      " embedding (Embedding)       (None, 1, 300)            1261800   \n",
      "                                                                 \n",
      " flatten (Flatten)           (None, 300)               0         \n",
      "                                                                 \n",
      " dense (Dense)               (None, 100)               30100     \n",
      "                                                                 \n",
      " activation (Activation)     (None, 100)               0         \n",
      "                                                                 \n",
      " dense_1 (Dense)             (None, 5)                 505       \n",
      "                                                                 \n",
      " activation_1 (Activation)   (None, 5)                 0         \n",
      "                                                                 \n",
      "=================================================================\n",
      "Total params: 1,292,405\n",
      "Trainable params: 1,292,405\n",
      "Non-trainable params: 0\n",
      "_________________________________________________________________\n",
      "Epoch 1/3\n",
      "576/576 [==============================] - 5s 8ms/step - loss: 0.4171 - accuracy: 0.8793\n",
      "Epoch 2/3\n",
      "576/576 [==============================] - 5s 8ms/step - loss: 0.1657 - accuracy: 0.9501\n",
      "Epoch 3/3\n",
      "576/576 [==============================] - 5s 8ms/step - loss: 0.1413 - accuracy: 0.9527\n",
      "\n",
      "Starting Evaluation\n",
      "201/201 [==============================] - 0s 1ms/step - loss: 0.3731 - accuracy: 0.9465\n",
      "Accuracy:  0.9464674592018127\n",
      "201/201 [==============================] - 0s 920us/step\n",
      "common errors:  [('UNK', 26), ('crimson', 13), ('state', 10), ('syracuse', 9), ('orange', 9)]\n",
      "\n",
      "Activation:  sigmoid\n",
      "Model: \"sequential_1\"\n",
      "_________________________________________________________________\n",
      " Layer (type)                Output Shape              Param #   \n",
      "=================================================================\n",
      " embedding_1 (Embedding)     (None, 1, 300)            1261800   \n",
      "                                                                 \n",
      " flatten_1 (Flatten)         (None, 300)               0         \n",
      "                                                                 \n",
      " dense_2 (Dense)             (None, 100)               30100     \n",
      "                                                                 \n",
      " activation_2 (Activation)   (None, 100)               0         \n",
      "                                                                 \n",
      " dense_3 (Dense)             (None, 5)                 505       \n",
      "                                                                 \n",
      " activation_3 (Activation)   (None, 5)                 0         \n",
      "                                                                 \n",
      "=================================================================\n",
      "Total params: 1,292,405\n",
      "Trainable params: 1,292,405\n",
      "Non-trainable params: 0\n",
      "_________________________________________________________________\n",
      "Epoch 1/3\n",
      "576/576 [==============================] - 5s 8ms/step - loss: 0.4080 - accuracy: 0.8781\n",
      "Epoch 2/3\n",
      "576/576 [==============================] - 5s 8ms/step - loss: 0.1442 - accuracy: 0.9540\n",
      "Epoch 3/3\n",
      "576/576 [==============================] - 4s 8ms/step - loss: 0.1181 - accuracy: 0.9576\n",
      "\n",
      "Starting Evaluation\n",
      "201/201 [==============================] - 0s 1ms/step - loss: 0.2430 - accuracy: 0.9494\n",
      "Accuracy:  0.9494242072105408\n",
      "201/201 [==============================] - 0s 1ms/step\n",
      "common errors:  [('UNK', 26), ('crimson', 13), ('state', 10), ('syracuse', 9), ('orange', 9)]\n",
      "\n",
      "Activation:  tanh\n",
      "Model: \"sequential_2\"\n",
      "_________________________________________________________________\n",
      " Layer (type)                Output Shape              Param #   \n",
      "=================================================================\n",
      " embedding_2 (Embedding)     (None, 1, 300)            1261800   \n",
      "                                                                 \n",
      " flatten_2 (Flatten)         (None, 300)               0         \n",
      "                                                                 \n",
      " dense_4 (Dense)             (None, 100)               30100     \n",
      "                                                                 \n",
      " activation_4 (Activation)   (None, 100)               0         \n",
      "                                                                 \n",
      " dense_5 (Dense)             (None, 5)                 505       \n",
      "                                                                 \n",
      " activation_5 (Activation)   (None, 5)                 0         \n",
      "                                                                 \n",
      "=================================================================\n",
      "Total params: 1,292,405\n",
      "Trainable params: 1,292,405\n",
      "Non-trainable params: 0\n",
      "_________________________________________________________________\n",
      "Epoch 1/3\n",
      "576/576 [==============================] - 5s 8ms/step - loss: 0.4147 - accuracy: 0.8818\n",
      "Epoch 2/3\n",
      "576/576 [==============================] - 5s 8ms/step - loss: 0.1561 - accuracy: 0.9533\n",
      "Epoch 3/3\n",
      "576/576 [==============================] - 5s 8ms/step - loss: 0.1373 - accuracy: 0.9537\n",
      "\n",
      "Starting Evaluation\n",
      "201/201 [==============================] - 0s 2ms/step - loss: 0.2975 - accuracy: 0.9105\n",
      "Accuracy:  0.9105197787284851\n",
      "201/201 [==============================] - 0s 2ms/step\n",
      "common errors:  [('blue', 77), ('white', 40), ('red', 32), ('UNK', 26), ('gunmetal', 14)]\n"
     ]
    }
   ],
   "source": [
    "activations = ['relu', 'sigmoid', 'tanh']\n",
    "for act in activations:\n",
    "    print(\"\\nActivation: \", act)\n",
    "    prod_model = define_model(embedding_matrix, len(tag2id), act)\n",
    "    prod_model.summary()\n",
    "    prod_model.fit(X_train,\n",
    "              y_train,\n",
    "              batch_size=32,\n",
    "              epochs = 3,\n",
    "              verbose=1)\n",
    "    print(\"\\nStarting Evaluation\")\n",
    "    evaluate_model(prod_model, idx2word, X_test, y_test)"
   ]
  },
  {
   "cell_type": "code",
   "execution_count": 391,
   "id": "be85c194",
   "metadata": {},
   "outputs": [],
   "source": [
    "# !pip install livelossplot"
   ]
  },
  {
   "cell_type": "code",
   "execution_count": 392,
   "id": "93a91aff",
   "metadata": {},
   "outputs": [],
   "source": [
    "callbacks = EarlyStopping(monitor = 'val_loss', patience = 2, verbose = 1, mode = 'min', restore_best_weights = True)"
   ]
  },
  {
   "cell_type": "code",
   "execution_count": 84,
   "id": "111d6c60",
   "metadata": {},
   "outputs": [
    {
     "name": "stdout",
     "output_type": "stream",
     "text": [
      "\n",
      "Training model on train data\n",
      "\n",
      "Epoch 1/5\n",
      "576/576 [==============================] - 5s 8ms/step - loss: 0.4302 - accuracy: 0.8783\n",
      "Epoch 2/5\n",
      "576/576 [==============================] - 5s 8ms/step - loss: 0.1708 - accuracy: 0.9503\n",
      "Epoch 3/5\n",
      "576/576 [==============================] - 5s 8ms/step - loss: 0.1464 - accuracy: 0.9536\n",
      "Epoch 4/5\n",
      "576/576 [==============================] - 4s 8ms/step - loss: 0.1216 - accuracy: 0.9545\n",
      "Epoch 5/5\n",
      "576/576 [==============================] - 4s 8ms/step - loss: 0.1236 - accuracy: 0.9558\n"
     ]
    }
   ],
   "source": [
    "#relu activation function\n",
    "train_model = define_model(embedding_matrix, len(tag2id), 'relu')\n",
    "print(\"\\nTraining model on train data\\n\")\n",
    "history_train = train_model.fit(X_train,\n",
    "              y_train,\n",
    "              batch_size=32,\n",
    "              epochs = 5,\n",
    "              verbose=1)"
   ]
  },
  {
   "cell_type": "code",
   "execution_count": 85,
   "id": "769b924b",
   "metadata": {},
   "outputs": [
    {
     "name": "stdout",
     "output_type": "stream",
     "text": [
      "201/201 [==============================] - 0s 779us/step\n"
     ]
    }
   ],
   "source": [
    "y_labels = train_model.predict(X_test)\n",
    "y_pred_classes = np.argmax(y_labels, axis=1)"
   ]
  },
  {
   "cell_type": "code",
   "execution_count": 86,
   "id": "25bd37f9",
   "metadata": {},
   "outputs": [
    {
     "name": "stdout",
     "output_type": "stream",
     "text": [
      "201/201 [==============================] - 0s 972us/step\n"
     ]
    }
   ],
   "source": [
    "y_labels = train_model.predict(X_test)\n",
    "y_pred_classes = np.argmax(y_labels, axis=1)"
   ]
  },
  {
   "cell_type": "code",
   "execution_count": 87,
   "id": "9d784b9a",
   "metadata": {},
   "outputs": [
    {
     "data": {
      "text/plain": [
       "array([1, 3, 1, ..., 1, 1, 2], dtype=int64)"
      ]
     },
     "execution_count": 87,
     "metadata": {},
     "output_type": "execute_result"
    }
   ],
   "source": [
    "y_pred_classes"
   ]
  },
  {
   "cell_type": "code",
   "execution_count": 88,
   "id": "d34820fd",
   "metadata": {},
   "outputs": [],
   "source": [
    "y_test_classes = np.argmax(y_test, axis=1)"
   ]
  },
  {
   "cell_type": "code",
   "execution_count": 89,
   "id": "73630e79",
   "metadata": {},
   "outputs": [
    {
     "name": "stdout",
     "output_type": "stream",
     "text": [
      "201/201 [==============================] - 0s 958us/step\n",
      "              precision    recall  f1-score   support\n",
      "\n",
      "     B-BRAND       0.87      0.94      0.90       700\n",
      "           O       0.97      0.96      0.96      4051\n",
      "   B-PRODUCT       0.97      0.96      0.97      1089\n",
      "     I-BRAND       0.90      0.85      0.87       544\n",
      "   I-PRODUCT       0.75      0.71      0.73        42\n",
      "\n",
      "    accuracy                           0.95      6426\n",
      "   macro avg       0.89      0.88      0.89      6426\n",
      "weighted avg       0.95      0.95      0.95      6426\n",
      "\n"
     ]
    }
   ],
   "source": [
    "from sklearn.metrics import classification_report\n",
    "\n",
    "y_pred = train_model.predict(X_test, verbose=1)\n",
    "y_pred_bool = np.argmax(y_pred, axis=1)\n",
    "target_names = ['B-BRAND', 'O', 'B-PRODUCT', 'I-BRAND', 'I-PRODUCT']\n",
    "\n",
    "print(classification_report(y_test_classes, y_pred_bool, target_names=target_names))"
   ]
  },
  {
   "cell_type": "code",
   "execution_count": 90,
   "id": "368ab978",
   "metadata": {},
   "outputs": [],
   "source": [
    "ytestlist = list(y_test_classes)\n",
    "# ytestlist"
   ]
  },
  {
   "cell_type": "code",
   "execution_count": 91,
   "id": "cd97cab8",
   "metadata": {},
   "outputs": [],
   "source": [
    "ypredlist = list(y_pred_classes)\n",
    "# ypredlist"
   ]
  },
  {
   "cell_type": "code",
   "execution_count": 92,
   "id": "0013cf7e",
   "metadata": {},
   "outputs": [],
   "source": [
    "# tag2id ={'B-BRAND': 0, 'O': 1, 'B-PRODUCT': 2, 'I-BRAND': 3, 'I-PRODUCT': 4}"
   ]
  },
  {
   "cell_type": "markdown",
   "id": "52a50744",
   "metadata": {},
   "source": [
    "### Wrong Tag error analysis"
   ]
  },
  {
   "cell_type": "code",
   "execution_count": 93,
   "id": "50fec080",
   "metadata": {},
   "outputs": [
    {
     "name": "stdout",
     "output_type": "stream",
     "text": [
      "330\n"
     ]
    }
   ],
   "source": [
    "wrong_tag = 0\n",
    "for gold, pred in zip(ytestlist, ypredlist):\n",
    "    if (gold==pred)== False:\n",
    "        wrong_tag += 1\n",
    "\n",
    "print(wrong_tag)"
   ]
  },
  {
   "cell_type": "code",
   "execution_count": 94,
   "id": "6c90f98a",
   "metadata": {},
   "outputs": [],
   "source": [
    "deno = len(ypredlist)"
   ]
  },
  {
   "cell_type": "code",
   "execution_count": 96,
   "id": "b105a092",
   "metadata": {},
   "outputs": [
    {
     "data": {
      "text/plain": [
       "0.051353874883286646"
      ]
     },
     "execution_count": 96,
     "metadata": {},
     "output_type": "execute_result"
    }
   ],
   "source": [
    "wrong_tag_perc = wrong_tag/deno\n",
    "wrong_tag_perc"
   ]
  },
  {
   "cell_type": "markdown",
   "id": "9273d3a6",
   "metadata": {},
   "source": [
    "### No Annotation error analysis"
   ]
  },
  {
   "cell_type": "code",
   "execution_count": 97,
   "id": "97f19814",
   "metadata": {},
   "outputs": [
    {
     "name": "stdout",
     "output_type": "stream",
     "text": [
      "2385\n"
     ]
    }
   ],
   "source": [
    "total = 0\n",
    "for pred in ypredlist:\n",
    "#     print(pred)\n",
    "    if (pred==0 or pred==2 or pred==3 or pred==4):\n",
    "            total +=1\n",
    "\n",
    "print(total)"
   ]
  },
  {
   "cell_type": "code",
   "execution_count": 98,
   "id": "a9478707",
   "metadata": {},
   "outputs": [
    {
     "name": "stdout",
     "output_type": "stream",
     "text": [
      "140\n"
     ]
    }
   ],
   "source": [
    "no_annot = 0\n",
    "for gold, pred in zip(ytestlist, ypredlist):\n",
    "    if gold==0:\n",
    "        if pred==1:\n",
    "            no_annot += 1\n",
    "    if gold==2:\n",
    "        if pred==1:\n",
    "            no_annot += 1\n",
    "    if gold==3:\n",
    "        if pred==1:\n",
    "            no_annot += 1\n",
    "    if gold==4:\n",
    "        if pred==1:\n",
    "            no_annot += 1\n",
    "                \n",
    "print(no_annot)"
   ]
  },
  {
   "cell_type": "code",
   "execution_count": 99,
   "id": "198a359f",
   "metadata": {},
   "outputs": [
    {
     "data": {
      "text/plain": [
       "0.05870020964360587"
      ]
     },
     "execution_count": 99,
     "metadata": {},
     "output_type": "execute_result"
    }
   ],
   "source": [
    "no_annotation = no_annot/total\n",
    "no_annotation"
   ]
  },
  {
   "cell_type": "code",
   "execution_count": 100,
   "id": "0d4970e7",
   "metadata": {},
   "outputs": [
    {
     "name": "stdout",
     "output_type": "stream",
     "text": [
      "\n",
      "Evaluating model on train data\n",
      "\n",
      "576/576 [==============================] - 1s 1ms/step - loss: 0.1141 - accuracy: 0.9583\n",
      "Accuracy:  0.9583061933517456\n",
      "576/576 [==============================] - 1s 956us/step\n",
      "common errors:  [('city', 27), ('new', 24), ('texas', 18), ('usa', 18), ('seattle', 15)]\n",
      "\n",
      "Evaluating model on test data\n",
      "\n",
      "201/201 [==============================] - 0s 1ms/step - loss: 0.4094 - accuracy: 0.9486\n",
      "Accuracy:  0.9486461281776428\n",
      "201/201 [==============================] - 0s 796us/step\n",
      "common errors:  [('UNK', 26), ('crimson', 13), ('state', 10), ('syracuse', 9), ('orange', 9)]\n"
     ]
    }
   ],
   "source": [
    "print(\"\\nEvaluating model on train data\\n\")\n",
    "evaluate_model(train_model, idx2word, X_train, y_train)\n",
    "print(\"\\nEvaluating model on test data\\n\")\n",
    "evaluate_model(train_model, idx2word, X_test, y_test)"
   ]
  },
  {
   "cell_type": "code",
   "execution_count": 101,
   "id": "cde8f059",
   "metadata": {},
   "outputs": [
    {
     "name": "stdout",
     "output_type": "stream",
     "text": [
      "Epoch 1/5\n",
      "201/201 [==============================] - 2s 8ms/step - loss: 0.2236 - accuracy: 0.9458\n",
      "Epoch 2/5\n",
      "201/201 [==============================] - 2s 8ms/step - loss: 0.1563 - accuracy: 0.9558\n",
      "Epoch 3/5\n",
      "201/201 [==============================] - 2s 8ms/step - loss: 0.1360 - accuracy: 0.9549\n",
      "Epoch 4/5\n",
      "201/201 [==============================] - 2s 8ms/step - loss: 0.1301 - accuracy: 0.9575\n",
      "Epoch 5/5\n",
      "201/201 [==============================] - 2s 8ms/step - loss: 0.1171 - accuracy: 0.9636\n"
     ]
    }
   ],
   "source": [
    "history_test = train_model.fit(X_test,\n",
    "              y_test,\n",
    "              batch_size=32,\n",
    "              epochs = 5,\n",
    "              verbose=1)"
   ]
  },
  {
   "cell_type": "code",
   "execution_count": 102,
   "id": "94fc8eba",
   "metadata": {},
   "outputs": [
    {
     "name": "stdout",
     "output_type": "stream",
     "text": [
      "\n",
      "Training model on train data\n",
      "\n",
      "Epoch 1/5\n",
      "576/576 [==============================] - 5s 8ms/step - loss: 0.4114 - accuracy: 0.8801\n",
      "Epoch 2/5\n",
      "576/576 [==============================] - 5s 8ms/step - loss: 0.1381 - accuracy: 0.9555\n",
      "Epoch 3/5\n",
      "576/576 [==============================] - 5s 8ms/step - loss: 0.1167 - accuracy: 0.9585\n",
      "Epoch 4/5\n",
      "576/576 [==============================] - 4s 8ms/step - loss: 0.1106 - accuracy: 0.9586\n",
      "Epoch 5/5\n",
      "576/576 [==============================] - 5s 8ms/step - loss: 0.1115 - accuracy: 0.9590\n"
     ]
    }
   ],
   "source": [
    "#relu activation function\n",
    "train_model = define_model(embedding_matrix, len(tag2id), 'sigmoid')\n",
    "# callbacks = EarlyStopping(monitor = 'val_loss', patience = 2, verbose = 1, mode = 'max', restore_best_weights = True)\n",
    "\n",
    "print(\"\\nTraining model on train data\\n\")\n",
    "history_train = train_model.fit(X_train,\n",
    "              y_train,\n",
    "              batch_size=32,\n",
    "              epochs = 5,\n",
    "              verbose=1)"
   ]
  },
  {
   "cell_type": "code",
   "execution_count": 103,
   "id": "26d49239",
   "metadata": {},
   "outputs": [
    {
     "name": "stdout",
     "output_type": "stream",
     "text": [
      "201/201 [==============================] - 0s 868us/step\n",
      "201/201 [==============================] - 0s 929us/step\n",
      "              precision    recall  f1-score   support\n",
      "\n",
      "     B-BRAND       0.89      0.93      0.91       700\n",
      "   B-PRODUCT       0.98      0.91      0.94      4051\n",
      "     I-BRAND       0.97      0.97      0.97      1089\n",
      "   I-PRODUCT       0.67      0.95      0.78       544\n",
      "           O       0.64      0.81      0.72        42\n",
      "\n",
      "    accuracy                           0.93      6426\n",
      "   macro avg       0.83      0.91      0.86      6426\n",
      "weighted avg       0.94      0.93      0.93      6426\n",
      "\n"
     ]
    }
   ],
   "source": [
    "y_labels = train_model.predict(X_test)\n",
    "y_pred_classes = np.argmax(y_labels, axis=1)\n",
    "\n",
    "y_test_classes = np.argmax(y_test, axis=1)\n",
    "\n",
    "from sklearn.metrics import classification_report\n",
    "\n",
    "y_pred = train_model.predict(X_test, verbose=1)\n",
    "y_pred_bool = np.argmax(y_pred, axis=1)\n",
    "target_names = ['B-BRAND', 'B-PRODUCT', 'I-BRAND', 'I-PRODUCT', 'O']\n",
    "\n",
    "print(classification_report(y_test_classes, y_pred_bool, target_names=target_names))"
   ]
  },
  {
   "cell_type": "code",
   "execution_count": 104,
   "id": "b03680c6",
   "metadata": {},
   "outputs": [
    {
     "name": "stdout",
     "output_type": "stream",
     "text": [
      "201/201 [==============================] - 0s 869us/step\n",
      "201/201 [==============================] - 0s 970us/step\n",
      "              precision    recall  f1-score   support\n",
      "\n",
      "     B-BRAND       0.89      0.93      0.91       700\n",
      "   B-PRODUCT       0.98      0.91      0.94      4051\n",
      "     I-BRAND       0.97      0.97      0.97      1089\n",
      "   I-PRODUCT       0.67      0.95      0.78       544\n",
      "           O       0.64      0.81      0.72        42\n",
      "\n",
      "    accuracy                           0.93      6426\n",
      "   macro avg       0.83      0.91      0.86      6426\n",
      "weighted avg       0.94      0.93      0.93      6426\n",
      "\n"
     ]
    }
   ],
   "source": [
    "y_labels = train_model.predict(X_test)\n",
    "y_pred_classes = np.argmax(y_labels, axis=1)\n",
    "\n",
    "y_test_classes = np.argmax(y_test, axis=1)\n",
    "\n",
    "from sklearn.metrics import classification_report\n",
    "\n",
    "y_pred = train_model.predict(X_test, verbose=1)\n",
    "y_pred_bool = np.argmax(y_pred, axis=1)\n",
    "target_names = ['B-BRAND', 'B-PRODUCT', 'I-BRAND', 'I-PRODUCT', 'O']\n",
    "\n",
    "print(classification_report(y_test_classes, y_pred_bool, target_names=target_names))"
   ]
  },
  {
   "cell_type": "code",
   "execution_count": 105,
   "id": "e9f97a3e",
   "metadata": {},
   "outputs": [
    {
     "name": "stdout",
     "output_type": "stream",
     "text": [
      "\n",
      "Evaluating model on train data\n",
      "\n",
      "576/576 [==============================] - 1s 1ms/step - loss: 0.1006 - accuracy: 0.9619\n",
      "Accuracy:  0.9619435667991638\n",
      "576/576 [==============================] - 1s 2ms/step\n",
      "common errors:  [('new', 24), ('city', 20), ('texas', 18), ('knights', 16), ('usa', 16)]\n",
      "\n",
      "Evaluating model on test data\n",
      "\n",
      "201/201 [==============================] - 0s 1ms/step - loss: 0.2526 - accuracy: 0.9259\n",
      "Accuracy:  0.9259259104728699\n",
      "201/201 [==============================] - 0s 910us/step\n",
      "common errors:  [('blue', 77), ('white', 40), ('red', 32), ('UNK', 26), ('orange', 13)]\n"
     ]
    }
   ],
   "source": [
    "print(\"\\nEvaluating model on train data\\n\")\n",
    "evaluate_model(train_model, idx2word, X_train, y_train)\n",
    "print(\"\\nEvaluating model on test data\\n\")\n",
    "evaluate_model(train_model, idx2word, X_test, y_test)"
   ]
  },
  {
   "cell_type": "code",
   "execution_count": 106,
   "id": "d591abf9",
   "metadata": {},
   "outputs": [
    {
     "name": "stdout",
     "output_type": "stream",
     "text": [
      "Training model on train data\n",
      "\n",
      "Epoch 1/5\n",
      "576/576 [==============================] - 5s 8ms/step - loss: 0.4233 - accuracy: 0.8783\n",
      "Epoch 2/5\n",
      "576/576 [==============================] - 6s 10ms/step - loss: 0.1583 - accuracy: 0.9515\n",
      "Epoch 3/5\n",
      "576/576 [==============================] - 7s 11ms/step - loss: 0.1407 - accuracy: 0.9525\n",
      "Epoch 4/5\n",
      "576/576 [==============================] - 9s 15ms/step - loss: 0.1312 - accuracy: 0.9547\n",
      "Epoch 5/5\n",
      "576/576 [==============================] - 7s 13ms/step - loss: 0.1280 - accuracy: 0.9549\n"
     ]
    }
   ],
   "source": [
    "#relu activation function\n",
    "train_model = define_model(embedding_matrix, len(tag2id), 'tanh')\n",
    "# callbacks = EarlyStopping(monitor = 'val_loss', patience = 2, verbose = 1, mode = 'max', restore_best_weights = True)\n",
    "\n",
    "print(\"Training model on train data\\n\")\n",
    "history = train_model.fit(X_train,\n",
    "              y_train,\n",
    "              batch_size=32,\n",
    "              epochs = 5,\n",
    "              verbose=1)"
   ]
  },
  {
   "cell_type": "code",
   "execution_count": 107,
   "id": "1f1b2afa",
   "metadata": {},
   "outputs": [
    {
     "name": "stdout",
     "output_type": "stream",
     "text": [
      "201/201 [==============================] - 0s 2ms/step\n",
      "201/201 [==============================] - 0s 1ms/step\n",
      "              precision    recall  f1-score   support\n",
      "\n",
      "     B-BRAND       0.91      0.87      0.89       700\n",
      "   B-PRODUCT       0.96      0.97      0.96      4051\n",
      "     I-BRAND       0.98      0.96      0.97      1089\n",
      "   I-PRODUCT       0.86      0.89      0.87       544\n",
      "           O       0.76      0.76      0.76        42\n",
      "\n",
      "    accuracy                           0.95      6426\n",
      "   macro avg       0.89      0.89      0.89      6426\n",
      "weighted avg       0.95      0.95      0.95      6426\n",
      "\n"
     ]
    }
   ],
   "source": [
    "y_labels = train_model.predict(X_test)\n",
    "y_pred_classes = np.argmax(y_labels, axis=1)\n",
    "\n",
    "y_test_classes = np.argmax(y_test, axis=1)\n",
    "\n",
    "from sklearn.metrics import classification_report\n",
    "\n",
    "y_pred = train_model.predict(X_test, verbose=1)\n",
    "y_pred_bool = np.argmax(y_pred, axis=1)\n",
    "target_names = ['B-BRAND', 'B-PRODUCT', 'I-BRAND', 'I-PRODUCT', 'O']\n",
    "\n",
    "print(classification_report(y_test_classes, y_pred_bool, target_names=target_names))"
   ]
  },
  {
   "cell_type": "code",
   "execution_count": 108,
   "id": "0dba963d",
   "metadata": {},
   "outputs": [
    {
     "name": "stdout",
     "output_type": "stream",
     "text": [
      "\n",
      "Evaluating model on train data\n",
      "\n",
      "576/576 [==============================] - 1s 2ms/step - loss: 0.1102 - accuracy: 0.9594\n",
      "Accuracy:  0.9593919515609741\n",
      "576/576 [==============================] - 1s 2ms/step\n",
      "common errors:  [('new', 24), ('north', 21), ('city', 20), ('texas', 18), ('golden', 15)]\n",
      "\n",
      "Evaluating model on test data\n",
      "\n",
      "201/201 [==============================] - 0s 2ms/step - loss: 0.2526 - accuracy: 0.9477\n",
      "Accuracy:  0.9477124214172363\n",
      "201/201 [==============================] - 0s 2ms/step\n",
      "common errors:  [('UNK', 26), ('crimson', 13), ('north', 11), ('state', 10), ('syracuse', 9)]\n"
     ]
    }
   ],
   "source": [
    "print(\"\\nEvaluating model on train data\\n\")\n",
    "evaluate_model(train_model, idx2word, X_train, y_train)\n",
    "print(\"\\nEvaluating model on test data\\n\")\n",
    "evaluate_model(train_model, idx2word, X_test, y_test)"
   ]
  },
  {
   "cell_type": "code",
   "execution_count": 109,
   "id": "40131fd0",
   "metadata": {},
   "outputs": [],
   "source": [
    "# import numpy as np\n",
    "# from keras.callbacks import Callback\n",
    "# from sklearn.metrics import confusion_matrix, f1_score, precision_score, recall_score\n",
    "\n",
    "# class Metrics(Callback):\n",
    "\n",
    "#     def on_train_begin(self, logs={}):\n",
    "#         self.val_f1s = []\n",
    "#         self.val_recalls = []\n",
    "#         self.val_precisions = []\n",
    "\n",
    "#     def on_epoch_end(self, epoch, logs={}):\n",
    "#         val_predict = (np.asarray(self.model.predict(\n",
    "#             self.model.validation_data[0]))).round()\n",
    "#         val_targ = self.model.validation_data[1]\n",
    "#         _val_f1 = f1_score(val_targ, val_predict)\n",
    "#         _val_recall = recall_score(val_targ, val_predict)\n",
    "#         _val_precision = precision_score(val_targ, val_predict)\n",
    "#         self.val_f1s.append(_val_f1)\n",
    "#         self.val_recalls.append(_val_recall)\n",
    "#         self.val_precisions.append(_val_precision)\n",
    "#         print(f\" — val_f1: {_val_f1} — val_precision: {_val_precision} — val_recall _val_recall\")\n",
    "#         return\n",
    "\n",
    "\n",
    "# metrics = Metrics()"
   ]
  },
  {
   "cell_type": "code",
   "execution_count": 110,
   "id": "b04d10d7",
   "metadata": {},
   "outputs": [
    {
     "name": "stdout",
     "output_type": "stream",
     "text": [
      "Epoch 1/5\n",
      "576/576 [==============================] - 9s 15ms/step - loss: 0.1317 - accuracy: 0.9546 - val_loss: 0.2612 - val_accuracy: 0.9469\n",
      "Epoch 2/5\n",
      "576/576 [==============================] - 9s 15ms/step - loss: 0.1353 - accuracy: 0.9537 - val_loss: 0.2425 - val_accuracy: 0.9429\n",
      "Epoch 3/5\n",
      "576/576 [==============================] - 8s 14ms/step - loss: 0.1366 - accuracy: 0.9536 - val_loss: 0.2748 - val_accuracy: 0.9448\n",
      "Epoch 4/5\n",
      "576/576 [==============================] - 9s 15ms/step - loss: 0.1337 - accuracy: 0.9525 - val_loss: 0.2638 - val_accuracy: 0.9434\n",
      "Epoch 5/5\n",
      "576/576 [==============================] - 8s 15ms/step - loss: 0.1356 - accuracy: 0.9532 - val_loss: 0.2668 - val_accuracy: 0.9205\n"
     ]
    }
   ],
   "source": [
    "hist = train_model.fit(X_train,\n",
    "              y_train,\n",
    "              validation_data=(X_test, y_test),\n",
    "              batch_size=32,\n",
    "              epochs = 5,\n",
    "              verbose=1,\n",
    "              )"
   ]
  },
  {
   "cell_type": "markdown",
   "id": "552d6a13",
   "metadata": {},
   "source": [
    "## BiLSTM model"
   ]
  },
  {
   "cell_type": "code",
   "execution_count": 111,
   "id": "9f48e3bc",
   "metadata": {},
   "outputs": [],
   "source": [
    "from keras_preprocessing.sequence import pad_sequences\n",
    "from keras.utils import to_categorical\n",
    "from keras.models  import Model\n",
    "from tensorflow.keras.layers import Input, Dense,Embedding, Activation, Flatten\n",
    "from keras.layers import LSTM, Embedding, Dense, TimeDistributed, Dropout, Bidirectional\n",
    "from tensorflow.keras.callbacks import ModelCheckpoint, EarlyStopping \n",
    "\n",
    "from tensorflow.keras import Sequential\n",
    "import collections"
   ]
  },
  {
   "cell_type": "code",
   "execution_count": 112,
   "id": "bf20ec66",
   "metadata": {},
   "outputs": [
    {
     "data": {
      "text/plain": [
       "sentence_id    0\n",
       "words          0\n",
       "POS            0\n",
       "labels         0\n",
       "dtype: int64"
      ]
     },
     "execution_count": 112,
     "metadata": {},
     "output_type": "execute_result"
    }
   ],
   "source": [
    "all_bio_df.isna().sum()"
   ]
  },
  {
   "cell_type": "code",
   "execution_count": 113,
   "id": "a2265932",
   "metadata": {},
   "outputs": [
    {
     "data": {
      "text/plain": [
       "sentence_id    0\n",
       "words          0\n",
       "POS            0\n",
       "labels         0\n",
       "dtype: int64"
      ]
     },
     "execution_count": 113,
     "metadata": {},
     "output_type": "execute_result"
    }
   ],
   "source": [
    "all_bio_df.isnull().sum()"
   ]
  },
  {
   "cell_type": "code",
   "execution_count": 114,
   "id": "160c755c",
   "metadata": {},
   "outputs": [],
   "source": [
    "class SentenceGetter(object):\n",
    "    def __init__(self, data):\n",
    "        self.n_sent = 1\n",
    "        self.data = data\n",
    "        self.empty = False\n",
    "        agg_func = lambda s: [(w, p, t) for w, p, t in zip(s['words'].values.tolist(),\n",
    "                                                           s['POS'].values.tolist(),\n",
    "                                                           s['labels'].values.tolist())]\n",
    "        self.grouped = self.data.groupby('sentence_id').apply(agg_func)\n",
    "        self.sentences = [s for s in self.grouped]"
   ]
  },
  {
   "cell_type": "code",
   "execution_count": 115,
   "id": "e798edeb",
   "metadata": {},
   "outputs": [],
   "source": [
    "getter = SentenceGetter(all_bio_df)\n",
    "train_sent = getter.sentences"
   ]
  },
  {
   "cell_type": "code",
   "execution_count": 116,
   "id": "dc5f8a29",
   "metadata": {},
   "outputs": [],
   "source": [
    "test_data = pd.DataFrame(test_data)\n",
    "test_data.rename(columns={'Name':'Title'}, inplace=True)\n",
    "\n",
    "test_data.to_csv(\"test_data.csv\")\n",
    "\n",
    "TEST_DATA = get_spacy_train_data('test_data.csv')"
   ]
  },
  {
   "cell_type": "code",
   "execution_count": 117,
   "id": "c76974dc",
   "metadata": {},
   "outputs": [
    {
     "data": {
      "text/html": [
       "<div>\n",
       "<style scoped>\n",
       "    .dataframe tbody tr th:only-of-type {\n",
       "        vertical-align: middle;\n",
       "    }\n",
       "\n",
       "    .dataframe tbody tr th {\n",
       "        vertical-align: top;\n",
       "    }\n",
       "\n",
       "    .dataframe thead th {\n",
       "        text-align: right;\n",
       "    }\n",
       "</style>\n",
       "<table border=\"1\" class=\"dataframe\">\n",
       "  <thead>\n",
       "    <tr style=\"text-align: right;\">\n",
       "      <th></th>\n",
       "      <th>sentence_id</th>\n",
       "      <th>words</th>\n",
       "      <th>POS</th>\n",
       "      <th>labels</th>\n",
       "    </tr>\n",
       "  </thead>\n",
       "  <tbody>\n",
       "    <tr>\n",
       "      <th>0</th>\n",
       "      <td>0</td>\n",
       "      <td>ruby</td>\n",
       "      <td>NOUN</td>\n",
       "      <td>B-BRAND</td>\n",
       "    </tr>\n",
       "    <tr>\n",
       "      <th>1</th>\n",
       "      <td>0</td>\n",
       "      <td>reds</td>\n",
       "      <td>NOUN</td>\n",
       "      <td>I-BRAND</td>\n",
       "    </tr>\n",
       "    <tr>\n",
       "      <th>2</th>\n",
       "      <td>1</td>\n",
       "      <td>victorian</td>\n",
       "      <td>ADJ</td>\n",
       "      <td>B-BRAND</td>\n",
       "    </tr>\n",
       "    <tr>\n",
       "      <th>3</th>\n",
       "      <td>1</td>\n",
       "      <td>silver</td>\n",
       "      <td>PROPN</td>\n",
       "      <td>B-PRODUCT</td>\n",
       "    </tr>\n",
       "    <tr>\n",
       "      <th>4</th>\n",
       "      <td>1</td>\n",
       "      <td>masonic</td>\n",
       "      <td>ADJ</td>\n",
       "      <td>O</td>\n",
       "    </tr>\n",
       "  </tbody>\n",
       "</table>\n",
       "</div>"
      ],
      "text/plain": [
       "   sentence_id      words    POS     labels\n",
       "0            0       ruby   NOUN    B-BRAND\n",
       "1            0       reds   NOUN    I-BRAND\n",
       "2            1  victorian    ADJ    B-BRAND\n",
       "3            1     silver  PROPN  B-PRODUCT\n",
       "4            1    masonic    ADJ          O"
      ]
     },
     "execution_count": 117,
     "metadata": {},
     "output_type": "execute_result"
    }
   ],
   "source": [
    "test_df = convert_to_bio_tags(TEST_DATA)\n",
    "test_df.head()"
   ]
  },
  {
   "cell_type": "code",
   "execution_count": 118,
   "id": "aee8e408",
   "metadata": {},
   "outputs": [],
   "source": [
    "getter = SentenceGetter(test_df)\n",
    "test_sent = getter.sentences"
   ]
  },
  {
   "cell_type": "code",
   "execution_count": null,
   "id": "2e4fe3d6",
   "metadata": {},
   "outputs": [],
   "source": []
  },
  {
   "cell_type": "code",
   "execution_count": 119,
   "id": "2b4524d2",
   "metadata": {},
   "outputs": [
    {
     "name": "stdout",
     "output_type": "stream",
     "text": [
      "Maximum sequence length: 21\n"
     ]
    }
   ],
   "source": [
    "#calculate the maximum length of the input sequence\n",
    "max_len = max([len(s) for s in train_sent])\n",
    "print ('Maximum sequence length:', max_len)"
   ]
  },
  {
   "cell_type": "code",
   "execution_count": 120,
   "id": "1ed86ca9",
   "metadata": {},
   "outputs": [],
   "source": [
    "#get all the unique words in the corpus add ENDPAD to the list\n",
    "words = list(set(all_bio_df[\"words\"].values))\n",
    "words.append(\"ENDPAD\")"
   ]
  },
  {
   "cell_type": "code",
   "execution_count": 121,
   "id": "2d934906",
   "metadata": {},
   "outputs": [
    {
     "name": "stdout",
     "output_type": "stream",
     "text": [
      "There are 4063 in the corpus\n"
     ]
    }
   ],
   "source": [
    "no_of_words = len(words)\n",
    "print(f\"There are {no_of_words} in the corpus\")"
   ]
  },
  {
   "cell_type": "code",
   "execution_count": 122,
   "id": "470005a4",
   "metadata": {},
   "outputs": [
    {
     "name": "stdout",
     "output_type": "stream",
     "text": [
      "Labels:  ['I-BRAND', 'O', 'I-PRODUCT', 'B-BRAND', 'B-PRODUCT']\n"
     ]
    }
   ],
   "source": [
    "#get all the labels\n",
    "labels = list(set(all_bio_df[\"labels\"].values))\n",
    "print(f\"Labels: \", labels)"
   ]
  },
  {
   "cell_type": "code",
   "execution_count": 123,
   "id": "f3741041",
   "metadata": {},
   "outputs": [
    {
     "name": "stdout",
     "output_type": "stream",
     "text": [
      "There are ['I-BRAND', 'O', 'I-PRODUCT', 'B-BRAND', 'B-PRODUCT'] labels in the corpus\n"
     ]
    }
   ],
   "source": [
    "len_labels = len(labels)\n",
    "print(f\"There are {labels} labels in the corpus\")"
   ]
  },
  {
   "cell_type": "code",
   "execution_count": 124,
   "id": "17afe40d",
   "metadata": {},
   "outputs": [],
   "source": [
    "#Assign each word an index and map the corresponding labels to the word\n",
    "word2idx = {w: i for i, w in enumerate(words)}\n",
    "label2idx = {t: i for i, t in enumerate(labels)}"
   ]
  },
  {
   "cell_type": "code",
   "execution_count": 125,
   "id": "cb146eac",
   "metadata": {},
   "outputs": [],
   "source": [
    "#!pip install keras\n",
    "#!pip install tensorflow"
   ]
  },
  {
   "cell_type": "code",
   "execution_count": 126,
   "id": "f26d2601",
   "metadata": {},
   "outputs": [],
   "source": [
    "#replace  the words in the sequence with their corresponding indexes\n",
    "X = [[word2idx[w[0]] for w in s] for s in train_sent]"
   ]
  },
  {
   "cell_type": "code",
   "execution_count": 127,
   "id": "3480da7e",
   "metadata": {},
   "outputs": [],
   "source": [
    "#each sequence must be of the same length hence pad the remaining words in the sequence\n",
    "X= pad_sequences(maxlen=23, sequences=X, padding=\"post\",value=no_of_words - 1)"
   ]
  },
  {
   "cell_type": "code",
   "execution_count": 128,
   "id": "1196c7ea",
   "metadata": {},
   "outputs": [],
   "source": [
    "#do the above two steps for labels as well\n",
    "y= [[label2idx[w[2]] for w in s] for s in train_sent]"
   ]
  },
  {
   "cell_type": "code",
   "execution_count": 129,
   "id": "554cdde9",
   "metadata": {},
   "outputs": [],
   "source": [
    "y = pad_sequences(maxlen=23, sequences=y, padding=\"post\", value=label2idx[\"O\"])"
   ]
  },
  {
   "cell_type": "code",
   "execution_count": 130,
   "id": "6130c073",
   "metadata": {},
   "outputs": [],
   "source": [
    "#convert labels to categorical\n",
    "y = [to_categorical(i, num_classes=len_labels) for i in y]"
   ]
  },
  {
   "cell_type": "code",
   "execution_count": 131,
   "id": "c3b94ac5",
   "metadata": {},
   "outputs": [],
   "source": [
    "X_train, X_test, y_train, y_test = train_test_split(X, y, test_size=0.2)"
   ]
  },
  {
   "cell_type": "code",
   "execution_count": 132,
   "id": "74284fd4",
   "metadata": {},
   "outputs": [
    {
     "name": "stdout",
     "output_type": "stream",
     "text": [
      "Model: \"model\"\n",
      "_________________________________________________________________\n",
      " Layer (type)                Output Shape              Param #   \n",
      "=================================================================\n",
      " input_1 (InputLayer)        [(None, 23)]              0         \n",
      "                                                                 \n",
      " embedding_6 (Embedding)     (None, 23, 100)           406300    \n",
      "                                                                 \n",
      " bidirectional (Bidirectiona  (None, 23, 100)          60400     \n",
      " l)                                                              \n",
      "                                                                 \n",
      " time_distributed (TimeDistr  (None, 23, 5)            505       \n",
      " ibuted)                                                         \n",
      "                                                                 \n",
      "=================================================================\n",
      "Total params: 467,205\n",
      "Trainable params: 467,205\n",
      "Non-trainable params: 0\n",
      "_________________________________________________________________\n"
     ]
    }
   ],
   "source": [
    "#BiLSTM model building\n",
    "input_word = Input(shape = (23,))\n",
    "# print(input_word.shape)\n",
    "model = Embedding(input_dim = no_of_words,\n",
    "                  output_dim = 100,\n",
    "                  input_length = 23)(input_word)\n",
    "model = Bidirectional(LSTM(units=50,\n",
    "                           return_sequences = True, \n",
    "                           recurrent_dropout = 0.1))(model)\n",
    "out = TimeDistributed(Dense(len_labels,\n",
    "                            activation = 'softmax'))(model)\n",
    "model = Model(input_word,out)\n",
    "model.summary()"
   ]
  },
  {
   "cell_type": "code",
   "execution_count": 133,
   "id": "5d71197d",
   "metadata": {},
   "outputs": [],
   "source": [
    "model.compile(optimizer = 'adam',loss = 'categorical_crossentropy',metrics = ['accuracy'])"
   ]
  },
  {
   "cell_type": "code",
   "execution_count": 134,
   "id": "dfdcf22b",
   "metadata": {},
   "outputs": [
    {
     "data": {
      "text/plain": [
       "(1896, 23)"
      ]
     },
     "execution_count": 134,
     "metadata": {},
     "output_type": "execute_result"
    }
   ],
   "source": [
    "X_train.shape"
   ]
  },
  {
   "cell_type": "code",
   "execution_count": 135,
   "id": "e731dd62",
   "metadata": {},
   "outputs": [
    {
     "data": {
      "text/plain": [
       "1896"
      ]
     },
     "execution_count": 135,
     "metadata": {},
     "output_type": "execute_result"
    }
   ],
   "source": [
    "len(y_train)"
   ]
  },
  {
   "cell_type": "code",
   "execution_count": 261,
   "id": "c6c836bc",
   "metadata": {},
   "outputs": [
    {
     "name": "stdout",
     "output_type": "stream",
     "text": [
      "Epoch 1/5\n",
      "48/48 [==============================] - 9s 115ms/step - loss: 0.7559 - accuracy: 0.8264 - val_loss: 0.4253 - val_accuracy: 0.8435\n",
      "Epoch 2/5\n",
      "48/48 [==============================] - 5s 108ms/step - loss: 0.3866 - accuracy: 0.8472 - val_loss: 0.3551 - val_accuracy: 0.8555\n",
      "Epoch 3/5\n",
      "48/48 [==============================] - 5s 103ms/step - loss: 0.2891 - accuracy: 0.8847 - val_loss: 0.2497 - val_accuracy: 0.9117\n",
      "Epoch 4/5\n",
      "48/48 [==============================] - 5s 106ms/step - loss: 0.1874 - accuracy: 0.9348 - val_loss: 0.1812 - val_accuracy: 0.9402\n",
      "Epoch 5/5\n",
      "48/48 [==============================] - 5s 107ms/step - loss: 0.1199 - accuracy: 0.9705 - val_loss: 0.1424 - val_accuracy: 0.9595\n"
     ]
    }
   ],
   "source": [
    "history = model.fit(\n",
    "    X_train,np.array(y_train),\n",
    "    validation_split = 0.2,\n",
    "    batch_size = 32,\n",
    "    epochs = 5,\n",
    "    verbose =1\n",
    ")"
   ]
  },
  {
   "cell_type": "code",
   "execution_count": 271,
   "id": "46b2e428",
   "metadata": {},
   "outputs": [
    {
     "name": "stdout",
     "output_type": "stream",
     "text": [
      "15/15 [==============================] - 1s 61ms/step\n"
     ]
    }
   ],
   "source": [
    "y_labels = model.predict(X_test)\n",
    "y_pred_classes = np.argmax(y_labels, axis=1)\n",
    "\n",
    "y_test_classes = np.argmax(y_test, axis=1)"
   ]
  },
  {
   "cell_type": "code",
   "execution_count": 273,
   "id": "ecdbedf8",
   "metadata": {},
   "outputs": [
    {
     "data": {
      "text/plain": [
       "array([[ 7,  3, 16,  1,  7],\n",
       "       [ 7,  1, 17,  0,  4],\n",
       "       [ 6,  2, 16,  0,  6],\n",
       "       ...,\n",
       "       [ 4,  0, 16,  0,  4],\n",
       "       [ 5,  1, 16,  0,  5],\n",
       "       [ 3,  1, 16,  2,  3]], dtype=int64)"
      ]
     },
     "execution_count": 273,
     "metadata": {},
     "output_type": "execute_result"
    }
   ],
   "source": [
    "y_pred_classes"
   ]
  },
  {
   "cell_type": "code",
   "execution_count": 274,
   "id": "5d07778c",
   "metadata": {},
   "outputs": [
    {
     "data": {
      "text/plain": [
       "array([[7, 3, 0, 1, 0],\n",
       "       [7, 1, 2, 0, 0],\n",
       "       [5, 1, 3, 0, 0],\n",
       "       ...,\n",
       "       [3, 0, 1, 0, 0],\n",
       "       [1, 0, 2, 0, 0],\n",
       "       [3, 0, 1, 0, 0]], dtype=int64)"
      ]
     },
     "execution_count": 274,
     "metadata": {},
     "output_type": "execute_result"
    }
   ],
   "source": [
    "y_test_classes"
   ]
  },
  {
   "cell_type": "code",
   "execution_count": 138,
   "id": "20cdc24f",
   "metadata": {},
   "outputs": [
    {
     "ename": "NameError",
     "evalue": "name 'flat_classification_report' is not defined",
     "output_type": "error",
     "traceback": [
      "\u001b[1;31m---------------------------------------------------------------------------\u001b[0m",
      "\u001b[1;31mNameError\u001b[0m                                 Traceback (most recent call last)",
      "\u001b[1;32m<ipython-input-138-aee04bdcba58>\u001b[0m in \u001b[0;36m<module>\u001b[1;34m\u001b[0m\n\u001b[0;32m      1\u001b[0m \u001b[1;32mfrom\u001b[0m \u001b[0msklearn\u001b[0m\u001b[1;33m.\u001b[0m\u001b[0mmetrics\u001b[0m \u001b[1;32mimport\u001b[0m \u001b[0mclassification_report\u001b[0m\u001b[1;33m\u001b[0m\u001b[1;33m\u001b[0m\u001b[0m\n\u001b[0;32m      2\u001b[0m \u001b[1;33m\u001b[0m\u001b[0m\n\u001b[1;32m----> 3\u001b[1;33m \u001b[0mflat_classification_report\u001b[0m\u001b[1;33m(\u001b[0m\u001b[0my_test_classes\u001b[0m\u001b[1;33m,\u001b[0m \u001b[0my_pred_classes\u001b[0m\u001b[1;33m)\u001b[0m\u001b[1;33m\u001b[0m\u001b[1;33m\u001b[0m\u001b[0m\n\u001b[0m",
      "\u001b[1;31mNameError\u001b[0m: name 'flat_classification_report' is not defined"
     ]
    }
   ],
   "source": [
    "from sklearn.metrics import classification_report\n",
    "\n",
    "flat_classification_report(y_test_classes, y_pred_classes)"
   ]
  },
  {
   "cell_type": "code",
   "execution_count": 68,
   "id": "a2554c1f",
   "metadata": {
    "scrolled": true
   },
   "outputs": [
    {
     "name": "stdout",
     "output_type": "stream",
     "text": [
      "15/15 [==============================] - 0s 13ms/step - loss: 0.0958 - accuracy: 0.9694\n"
     ]
    },
    {
     "data": {
      "text/plain": [
       "[0.09579293429851532, 0.9694279432296753]"
      ]
     },
     "execution_count": 68,
     "metadata": {},
     "output_type": "execute_result"
    }
   ],
   "source": [
    "model.evaluate(X_test,np.array(y_test))"
   ]
  },
  {
   "cell_type": "code",
   "execution_count": 69,
   "id": "6086631b",
   "metadata": {},
   "outputs": [
    {
     "data": {
      "image/png": "[encoded data removed]",
      "text/plain": [
       "<Figure size 1080x360 with 2 Axes>"
      ]
     },
     "metadata": {
      "needs_background": "light"
     },
     "output_type": "display_data"
    }
   ],
   "source": [
    "import matplotlib.pyplot as plt\n",
    "\n",
    "plt.figure(figsize=(15,5))\n",
    "plt.subplot(1, 2, 1)\n",
    "plt.plot(history.history['loss'], label='train_loss')\n",
    "plt.plot(history.history['val_loss'], label='val_loss')\n",
    "plt.xticks([0,1,2,3,4,5,6,7,8,9], labels = ['1','2','3','4','5','6','7','8','9','10'])\n",
    "plt.legend(['train_loss', 'val_loss'], loc='upper right')\n",
    "plt.title('Model Losses')\n",
    "plt.ylabel('Loss')\n",
    "plt.xlabel('Epoch')\n",
    "plt.grid()\n",
    "\n",
    "plt.subplot(1, 2, 2)\n",
    "plt.plot(history.history['accuracy'], label='train_accuracy')\n",
    "plt.plot(history.history['val_accuracy'], label='val_accuracy')\n",
    "plt.xlim([0, 4])\n",
    "plt.ylim([0.8, 1])\n",
    "plt.xticks([0,1,2,3,4,5,6,7,8,9], labels = ['1','2','3','4','5','6','7','8','9','10'])\n",
    "plt.legend(['train_accuracy', 'val_accuracy'], loc='lower right')\n",
    "plt.title('Model Accuracy')\n",
    "plt.ylabel('Accuracy')\n",
    "plt.xlabel('Epoch')\n",
    "plt.grid()\n",
    "plt.show()"
   ]
  },
  {
   "cell_type": "code",
   "execution_count": 72,
   "id": "42fe0782",
   "metadata": {},
   "outputs": [],
   "source": [
    "# !pip install seqeval"
   ]
  },
  {
   "cell_type": "code",
   "execution_count": 285,
   "id": "e9fae97f",
   "metadata": {},
   "outputs": [
    {
     "name": "stdout",
     "output_type": "stream",
     "text": [
      "15/15 [==============================] - 1s 61ms/step\n"
     ]
    }
   ],
   "source": [
    "idx2tag = {i: w for w, i in label2idx.items()}\n",
    "\n",
    "def pred2label(pred):\n",
    "    out = []\n",
    "    for pred_i in pred:\n",
    "        out_i = []\n",
    "        for p in pred_i:\n",
    "            p_i = np.argmax(p)\n",
    "            out_i.append(idx2tag[p_i].replace(\"ENDPAD\", \"O\"))\n",
    "        out.append(out_i)\n",
    "    return out\n",
    "\n",
    "test_pred = model.predict(X_test, verbose=1)   \n",
    "pred_labels = pred2label(test_pred)\n",
    "test_labels = pred2label(y_test)"
   ]
  },
  {
   "cell_type": "code",
   "execution_count": 137,
   "id": "efa9c589",
   "metadata": {
    "scrolled": true
   },
   "outputs": [],
   "source": [
    "from seqeval.metrics import precision_score, recall_score, f1_score, classification_report"
   ]
  },
  {
   "cell_type": "code",
   "execution_count": 286,
   "id": "6766948c",
   "metadata": {},
   "outputs": [
    {
     "name": "stdout",
     "output_type": "stream",
     "text": [
      "F1-score: 78.0%\n"
     ]
    }
   ],
   "source": [
    "print(\"F1-score: {:.1%}\".format(f1_score(test_labels, pred_labels)))"
   ]
  },
  {
   "cell_type": "code",
   "execution_count": 287,
   "id": "44bacd1a",
   "metadata": {},
   "outputs": [
    {
     "name": "stdout",
     "output_type": "stream",
     "text": [
      "              precision    recall  f1-score   support\n",
      "\n",
      "     B-BRAND       0.76      0.91      0.83       620\n",
      "   B-PRODUCT       0.94      0.86      0.90       621\n",
      "     I-BRAND       0.92      0.75      0.83       418\n",
      "   I-PRODUCT       0.00      0.00      0.00        40\n",
      "           O       0.98      0.98      0.98      9226\n",
      "\n",
      "    accuracy                           0.96     10925\n",
      "   macro avg       0.72      0.70      0.71     10925\n",
      "weighted avg       0.96      0.96      0.96     10925\n",
      "\n"
     ]
    }
   ],
   "source": [
    "from  sklearn_crfsuite.metrics import flat_classification_report  \n",
    "report = flat_classification_report(y_pred=pred_labels, y_true=test_labels)\n",
    "print(report)"
   ]
  },
  {
   "cell_type": "code",
   "execution_count": 288,
   "id": "01932ab2",
   "metadata": {},
   "outputs": [
    {
     "name": "stdout",
     "output_type": "stream",
     "text": [
      "Model: \"model_20\"\n",
      "_________________________________________________________________\n",
      " Layer (type)                Output Shape              Param #   \n",
      "=================================================================\n",
      " input_21 (InputLayer)       [(None, 23)]              0         \n",
      "                                                                 \n",
      " embedding_23 (Embedding)    (None, 23, 100)           406300    \n",
      "                                                                 \n",
      " bidirectional_20 (Bidirecti  (None, 23, 100)          60400     \n",
      " onal)                                                           \n",
      "                                                                 \n",
      " time_distributed_20 (TimeDi  (None, 23, 5)            505       \n",
      " stributed)                                                      \n",
      "                                                                 \n",
      "=================================================================\n",
      "Total params: 467,205\n",
      "Trainable params: 467,205\n",
      "Non-trainable params: 0\n",
      "_________________________________________________________________\n",
      "Epoch 1/10\n",
      "48/48 [==============================] - 18s 203ms/step - loss: 0.9425 - accuracy: 0.8164 - val_loss: 0.4625 - val_accuracy: 0.8435\n",
      "Epoch 2/10\n",
      "48/48 [==============================] - 8s 159ms/step - loss: 0.4115 - accuracy: 0.8455 - val_loss: 0.3782 - val_accuracy: 0.8435\n",
      "Epoch 3/10\n",
      "48/48 [==============================] - 8s 161ms/step - loss: 0.3296 - accuracy: 0.8455 - val_loss: 0.3056 - val_accuracy: 0.8442\n",
      "Epoch 4/10\n",
      "48/48 [==============================] - 7s 152ms/step - loss: 0.2576 - accuracy: 0.8776 - val_loss: 0.2454 - val_accuracy: 0.9191\n",
      "Epoch 5/10\n",
      "48/48 [==============================] - 8s 158ms/step - loss: 0.1734 - accuracy: 0.9485 - val_loss: 0.1811 - val_accuracy: 0.9489\n",
      "Epoch 6/10\n",
      "48/48 [==============================] - 8s 158ms/step - loss: 0.1060 - accuracy: 0.9767 - val_loss: 0.1381 - val_accuracy: 0.9582\n",
      "Epoch 7/10\n",
      "48/48 [==============================] - 8s 161ms/step - loss: 0.0653 - accuracy: 0.9859 - val_loss: 0.1278 - val_accuracy: 0.9569\n",
      "Epoch 8/10\n",
      "48/48 [==============================] - 7s 157ms/step - loss: 0.0444 - accuracy: 0.9907 - val_loss: 0.1200 - val_accuracy: 0.9590\n",
      "Epoch 9/10\n",
      "48/48 [==============================] - 8s 161ms/step - loss: 0.0334 - accuracy: 0.9924 - val_loss: 0.1149 - val_accuracy: 0.9595\n",
      "Epoch 10/10\n",
      "48/48 [==============================] - 8s 162ms/step - loss: 0.0260 - accuracy: 0.9942 - val_loss: 0.1133 - val_accuracy: 0.9606\n"
     ]
    }
   ],
   "source": [
    "input_word = Input(shape = (23,))\n",
    "# print(input_word.shape)\n",
    "model = Embedding(input_dim = no_of_words,\n",
    "                  output_dim = 100,\n",
    "                  input_length = 23)(input_word)\n",
    "model = Bidirectional(LSTM(units=50,\n",
    "                           return_sequences = True, \n",
    "                           recurrent_dropout = 0.1))(model)\n",
    "out = TimeDistributed(Dense(len_labels,\n",
    "                            activation = 'sigmoid'))(model)\n",
    "model = Model(input_word,out)\n",
    "model.summary()\n",
    "\n",
    "model.compile(optimizer = 'adam',loss = 'categorical_crossentropy',metrics = ['accuracy'])\n",
    "\n",
    "history = model.fit(\n",
    "    X_train,np.array(y_train),\n",
    "    validation_split = 0.2,\n",
    "    batch_size = 32,\n",
    "    epochs = 10,\n",
    "    verbose =1\n",
    ")"
   ]
  },
  {
   "cell_type": "code",
   "execution_count": 2134,
   "id": "cbc582d6",
   "metadata": {},
   "outputs": [
    {
     "name": "stdout",
     "output_type": "stream",
     "text": [
      "15/15 [==============================] - 1s 69ms/step - loss: 0.1043 - accuracy: 0.9643\n"
     ]
    },
    {
     "data": {
      "text/plain": [
       "[0.10427364706993103, 0.9643020629882812]"
      ]
     },
     "execution_count": 2134,
     "metadata": {},
     "output_type": "execute_result"
    }
   ],
   "source": [
    "model.evaluate(X_test,np.array(y_test))"
   ]
  },
  {
   "cell_type": "code",
   "execution_count": 2136,
   "id": "ca9cd021",
   "metadata": {},
   "outputs": [
    {
     "data": {
      "image/png": "[encoded data removed]",
      "text/plain": [
       "<Figure size 1080x360 with 2 Axes>"
      ]
     },
     "metadata": {
      "needs_background": "light"
     },
     "output_type": "display_data"
    }
   ],
   "source": [
    "import matplotlib.pyplot as plt\n",
    "\n",
    "plt.figure(figsize=(15,5))\n",
    "plt.subplot(1, 2, 1)\n",
    "plt.plot(history.history['loss'], label='train_loss')\n",
    "plt.plot(history.history['val_loss'], label='val_loss')\n",
    "plt.xticks([0,1,2,3,4,5,6,7,8,9], labels = ['1','2','3','4','5','6','7','8','9','10'])\n",
    "plt.legend(['train_loss', 'val_loss'], loc='upper right')\n",
    "plt.title('Model Losses')\n",
    "plt.ylabel('Loss')\n",
    "plt.xlabel('Epoch')\n",
    "plt.grid()\n",
    "\n",
    "plt.subplot(1, 2, 2)\n",
    "plt.plot(history.history['accuracy'], label='train_accuracy')\n",
    "plt.plot(history.history['val_accuracy'], label='val_accuracy')\n",
    "plt.xlim([0, 4])\n",
    "plt.ylim([0.83, 1])\n",
    "plt.xticks([0,1,2,3,4,5,6,7,8,9], labels = ['1','2','3','4','5','6','7','8','9','10'])\n",
    "plt.legend(['train_accuracy', 'val_accuracy'], loc='lower right')\n",
    "plt.title('Model Accuracy')\n",
    "plt.ylabel('Accuracy')\n",
    "plt.xlabel('Epoch')\n",
    "plt.grid()\n",
    "plt.show()"
   ]
  },
  {
   "cell_type": "markdown",
   "id": "e65627ad",
   "metadata": {},
   "source": [
    "# Experiments"
   ]
  },
  {
   "cell_type": "code",
   "execution_count": 289,
   "id": "3c0bdb49",
   "metadata": {},
   "outputs": [
    {
     "name": "stdout",
     "output_type": "stream",
     "text": [
      "Model: \"model_21\"\n",
      "_________________________________________________________________\n",
      " Layer (type)                Output Shape              Param #   \n",
      "=================================================================\n",
      " input_22 (InputLayer)       [(None, 23)]              0         \n",
      "                                                                 \n",
      " embedding_24 (Embedding)    (None, 23, 50)            203150    \n",
      "                                                                 \n",
      " bidirectional_21 (Bidirecti  (None, 23, 50)           15200     \n",
      " onal)                                                           \n",
      "                                                                 \n",
      " time_distributed_21 (TimeDi  (None, 23, 5)            255       \n",
      " stributed)                                                      \n",
      "                                                                 \n",
      "=================================================================\n",
      "Total params: 218,605\n",
      "Trainable params: 218,605\n",
      "Non-trainable params: 0\n",
      "_________________________________________________________________\n",
      "Epoch 1/5\n",
      "48/48 [==============================] - 16s 135ms/step - loss: 1.2383 - accuracy: 0.8180 - val_loss: 0.7185 - val_accuracy: 0.8435\n",
      "Epoch 2/5\n",
      "48/48 [==============================] - 5s 109ms/step - loss: 0.5534 - accuracy: 0.8455 - val_loss: 0.4715 - val_accuracy: 0.8435\n",
      "Epoch 3/5\n",
      "48/48 [==============================] - 5s 98ms/step - loss: 0.4262 - accuracy: 0.8455 - val_loss: 0.3957 - val_accuracy: 0.8435\n",
      "Epoch 4/5\n",
      "48/48 [==============================] - 5s 113ms/step - loss: 0.3506 - accuracy: 0.8455 - val_loss: 0.3254 - val_accuracy: 0.8435\n",
      "Epoch 5/5\n",
      "48/48 [==============================] - 5s 110ms/step - loss: 0.2736 - accuracy: 0.8750 - val_loss: 0.2557 - val_accuracy: 0.9161\n",
      "15/15 [==============================] - 0s 23ms/step - loss: 0.2563 - accuracy: 0.9131\n",
      "[0.2562843859195709, 0.9131349921226501]\n",
      "15/15 [==============================] - 1s 31ms/step\n",
      "F1-score: 51.3%\n",
      "              precision    recall  f1-score   support\n",
      "\n",
      "     B-BRAND       0.82      0.58      0.68       620\n",
      "   B-PRODUCT       0.95      0.63      0.76       621\n",
      "     I-BRAND       0.95      0.05      0.10       418\n",
      "   I-PRODUCT       0.00      0.00      0.00        40\n",
      "           O       0.92      1.00      0.95      9226\n",
      "\n",
      "    accuracy                           0.91     10925\n",
      "   macro avg       0.73      0.45      0.50     10925\n",
      "weighted avg       0.91      0.91      0.89     10925\n",
      "\n"
     ]
    }
   ],
   "source": [
    "input_word = Input(shape = (23,))\n",
    "# print(input_word.shape)\n",
    "bilstm_1 = Embedding(input_dim = no_of_words,\n",
    "                  output_dim = 50,\n",
    "                  input_length = 23)(input_word)\n",
    "bilstm_1 = Bidirectional(LSTM(units=25,\n",
    "                           return_sequences = True, \n",
    "                           recurrent_dropout = 0.1))(bilstm_1)\n",
    "out = TimeDistributed(Dense(len_labels,\n",
    "                            activation = 'sigmoid'))(bilstm_1)\n",
    "bilstm_1 = Model(input_word,out)\n",
    "bilstm_1.summary()\n",
    "\n",
    "bilstm_1.compile(optimizer = 'adam',loss = 'categorical_crossentropy',metrics = ['accuracy'])\n",
    "\n",
    "history = bilstm_1.fit(\n",
    "    X_train,np.array(y_train),\n",
    "    validation_split = 0.2,\n",
    "    batch_size = 32,\n",
    "    epochs = 5,\n",
    "    verbose =1\n",
    ")\n",
    "\n",
    "print(bilstm_1.evaluate(X_test,np.array(y_test)))\n",
    "\n",
    "idx2tag = {i: w for w, i in label2idx.items()}\n",
    "\n",
    "def pred2label(pred):\n",
    "    out = []\n",
    "    for pred_i in pred:\n",
    "        out_i = []\n",
    "        for p in pred_i:\n",
    "            p_i = np.argmax(p)\n",
    "            out_i.append(idx2tag[p_i].replace(\"ENDPAD\", \"O\"))\n",
    "        out.append(out_i)\n",
    "    return out\n",
    "test_pred = bilstm_1.predict(X_test, verbose=1)   \n",
    "pred_labels = pred2label(test_pred)\n",
    "test_labels = pred2label(y_test)\n",
    "\n",
    "print(\"F1-score: {:.1%}\".format(f1_score(test_labels, pred_labels)))\n",
    "print(flat_classification_report(y_pred=pred_labels, y_true=test_labels))"
   ]
  },
  {
   "cell_type": "code",
   "execution_count": 290,
   "id": "49031409",
   "metadata": {},
   "outputs": [
    {
     "name": "stdout",
     "output_type": "stream",
     "text": [
      "Model: \"model_22\"\n",
      "_________________________________________________________________\n",
      " Layer (type)                Output Shape              Param #   \n",
      "=================================================================\n",
      " input_23 (InputLayer)       [(None, 23)]              0         \n",
      "                                                                 \n",
      " embedding_25 (Embedding)    (None, 23, 50)            203150    \n",
      "                                                                 \n",
      " bidirectional_22 (Bidirecti  (None, 23, 50)           15200     \n",
      " onal)                                                           \n",
      "                                                                 \n",
      " time_distributed_22 (TimeDi  (None, 23, 5)            255       \n",
      " stributed)                                                      \n",
      "                                                                 \n",
      "=================================================================\n",
      "Total params: 218,605\n",
      "Trainable params: 218,605\n",
      "Non-trainable params: 0\n",
      "_________________________________________________________________\n",
      "Epoch 1/5\n",
      "48/48 [==============================] - 7s 60ms/step - loss: 1.0199 - accuracy: 0.7973 - val_loss: 0.4865 - val_accuracy: 0.8435\n",
      "Epoch 2/5\n",
      "48/48 [==============================] - 2s 45ms/step - loss: 0.4287 - accuracy: 0.8455 - val_loss: 0.3986 - val_accuracy: 0.8436\n",
      "Epoch 3/5\n",
      "48/48 [==============================] - 2s 46ms/step - loss: 0.3614 - accuracy: 0.8569 - val_loss: 0.3346 - val_accuracy: 0.8688\n",
      "Epoch 4/5\n",
      "48/48 [==============================] - 2s 45ms/step - loss: 0.2846 - accuracy: 0.8872 - val_loss: 0.2578 - val_accuracy: 0.9039\n",
      "Epoch 5/5\n",
      "48/48 [==============================] - 2s 49ms/step - loss: 0.2046 - accuracy: 0.9325 - val_loss: 0.1993 - val_accuracy: 0.9410\n",
      "15/15 [==============================] - 0s 16ms/step - loss: 0.2003 - accuracy: 0.9417\n",
      "[0.20034359395503998, 0.9416933655738831]\n",
      "15/15 [==============================] - 1s 20ms/step\n",
      "F1-score: 61.0%\n"
     ]
    }
   ],
   "source": [
    "input_word = Input(shape = (23,))\n",
    "# print(input_word.shape)\n",
    "bilstm_2 = Embedding(input_dim = no_of_words,\n",
    "                  output_dim = 50,\n",
    "                  input_length = 23)(input_word)\n",
    "bilstm_2 = Bidirectional(LSTM(units=25,\n",
    "                           return_sequences = True, \n",
    "                           recurrent_dropout = 0.1))(bilstm_2)\n",
    "out = TimeDistributed(Dense(len_labels,\n",
    "                            activation = 'softmax'))(bilstm_2)\n",
    "bilstm_2 = Model(input_word,out)\n",
    "bilstm_2.summary()\n",
    "\n",
    "bilstm_2.compile(optimizer = 'adam',loss = 'categorical_crossentropy',metrics = ['accuracy'])\n",
    "\n",
    "history = bilstm_2.fit(\n",
    "    X_train,np.array(y_train),\n",
    "    validation_split = 0.2,\n",
    "    batch_size = 32,\n",
    "    epochs = 5,\n",
    "    verbose =1\n",
    ")\n",
    "\n",
    "print(bilstm_2.evaluate(X_test,np.array(y_test)))\n",
    "\n",
    "idx2tag = {i: w for w, i in label2idx.items()}\n",
    "\n",
    "def pred2label(pred):\n",
    "    out = []\n",
    "    for pred_i in pred:\n",
    "        out_i = []\n",
    "        for p in pred_i:\n",
    "            p_i = np.argmax(p)\n",
    "            out_i.append(idx2tag[p_i].replace(\"ENDPAD\", \"O\"))\n",
    "        out.append(out_i)\n",
    "    return out\n",
    "test_pred = bilstm_2.predict(X_test, verbose=1)   \n",
    "pred_labels = pred2label(test_pred)\n",
    "test_labels = pred2label(y_test)\n",
    "\n",
    "print(\"F1-score: {:.1%}\".format(f1_score(test_labels, pred_labels)))"
   ]
  },
  {
   "cell_type": "code",
   "execution_count": 291,
   "id": "bbbe6640",
   "metadata": {},
   "outputs": [
    {
     "name": "stdout",
     "output_type": "stream",
     "text": [
      "Model: \"model_23\"\n",
      "_________________________________________________________________\n",
      " Layer (type)                Output Shape              Param #   \n",
      "=================================================================\n",
      " input_24 (InputLayer)       [(None, 23)]              0         \n",
      "                                                                 \n",
      " embedding_26 (Embedding)    (None, 23, 50)            203150    \n",
      "                                                                 \n",
      " bidirectional_23 (Bidirecti  (None, 23, 100)          40400     \n",
      " onal)                                                           \n",
      "                                                                 \n",
      " time_distributed_23 (TimeDi  (None, 23, 5)            505       \n",
      " stributed)                                                      \n",
      "                                                                 \n",
      "=================================================================\n",
      "Total params: 244,055\n",
      "Trainable params: 244,055\n",
      "Non-trainable params: 0\n",
      "_________________________________________________________________\n",
      "Epoch 1/5\n",
      "48/48 [==============================] - 11s 158ms/step - loss: 0.9573 - accuracy: 0.8238 - val_loss: 0.4760 - val_accuracy: 0.8435\n",
      "Epoch 2/5\n",
      "48/48 [==============================] - 6s 125ms/step - loss: 0.4386 - accuracy: 0.8455 - val_loss: 0.4250 - val_accuracy: 0.8435\n",
      "Epoch 3/5\n",
      "48/48 [==============================] - 7s 138ms/step - loss: 0.3857 - accuracy: 0.8455 - val_loss: 0.3624 - val_accuracy: 0.8435\n",
      "Epoch 4/5\n",
      "48/48 [==============================] - 6s 130ms/step - loss: 0.3268 - accuracy: 0.8455 - val_loss: 0.3168 - val_accuracy: 0.8435\n",
      "Epoch 5/5\n",
      "48/48 [==============================] - 6s 129ms/step - loss: 0.2799 - accuracy: 0.8495 - val_loss: 0.2832 - val_accuracy: 0.8630\n",
      "15/15 [==============================] - 1s 50ms/step - loss: 0.2851 - accuracy: 0.8620\n",
      "[0.28505778312683105, 0.8619679808616638]\n",
      "15/15 [==============================] - 1s 37ms/step\n",
      "F1-score: 14.8%\n"
     ]
    }
   ],
   "source": [
    "input_word = Input(shape = (23,))\n",
    "# print(input_word.shape)\n",
    "bilstm_3 = Embedding(input_dim = no_of_words,\n",
    "                  output_dim = 50,\n",
    "                  input_length = 23)(input_word)\n",
    "bilstm_3 = Bidirectional(LSTM(units=50,\n",
    "                           return_sequences = True, \n",
    "                           recurrent_dropout = 0.1))(bilstm_3)\n",
    "out = TimeDistributed(Dense(len_labels,\n",
    "                            activation = 'sigmoid'))(bilstm_3)\n",
    "bilstm_3 = Model(input_word,out)\n",
    "bilstm_3.summary()\n",
    "\n",
    "bilstm_3.compile(optimizer = 'adam',loss = 'categorical_crossentropy',metrics = ['accuracy'])\n",
    "\n",
    "history = bilstm_3.fit(\n",
    "    X_train,np.array(y_train),\n",
    "    validation_split = 0.2,\n",
    "    batch_size = 32,\n",
    "    epochs = 5,\n",
    "    verbose =1\n",
    ")\n",
    "\n",
    "print(bilstm_3.evaluate(X_test,np.array(y_test)))\n",
    "\n",
    "idx2tag = {i: w for w, i in label2idx.items()}\n",
    "\n",
    "def pred2label(pred):\n",
    "    out = []\n",
    "    for pred_i in pred:\n",
    "        out_i = []\n",
    "        for p in pred_i:\n",
    "            p_i = np.argmax(p)\n",
    "            out_i.append(idx2tag[p_i].replace(\"PAD\", \"O\"))\n",
    "        out.append(out_i)\n",
    "    return out\n",
    "test_pred = bilstm_3.predict(X_test, verbose=1)   \n",
    "pred_labels = pred2label(test_pred)\n",
    "test_labels = pred2label(y_test)\n",
    "\n",
    "print(\"F1-score: {:.1%}\".format(f1_score(test_labels, pred_labels)))"
   ]
  },
  {
   "cell_type": "code",
   "execution_count": 292,
   "id": "ebeabdd3",
   "metadata": {},
   "outputs": [
    {
     "name": "stdout",
     "output_type": "stream",
     "text": [
      "Model: \"model_24\"\n",
      "_________________________________________________________________\n",
      " Layer (type)                Output Shape              Param #   \n",
      "=================================================================\n",
      " input_25 (InputLayer)       [(None, 23)]              0         \n",
      "                                                                 \n",
      " embedding_27 (Embedding)    (None, 23, 50)            203150    \n",
      "                                                                 \n",
      " bidirectional_24 (Bidirecti  (None, 23, 100)          40400     \n",
      " onal)                                                           \n",
      "                                                                 \n",
      " time_distributed_24 (TimeDi  (None, 23, 5)            505       \n",
      " stributed)                                                      \n",
      "                                                                 \n",
      "=================================================================\n",
      "Total params: 244,055\n",
      "Trainable params: 244,055\n",
      "Non-trainable params: 0\n",
      "_________________________________________________________________\n",
      "Epoch 1/5\n",
      "48/48 [==============================] - 10s 126ms/step - loss: 0.8214 - accuracy: 0.8273 - val_loss: 0.4495 - val_accuracy: 0.8435\n",
      "Epoch 2/5\n",
      "48/48 [==============================] - 7s 137ms/step - loss: 0.4149 - accuracy: 0.8455 - val_loss: 0.3935 - val_accuracy: 0.8435\n",
      "Epoch 3/5\n",
      "48/48 [==============================] - 5s 112ms/step - loss: 0.3426 - accuracy: 0.8569 - val_loss: 0.3065 - val_accuracy: 0.8751\n",
      "Epoch 4/5\n",
      "48/48 [==============================] - 7s 144ms/step - loss: 0.2558 - accuracy: 0.9011 - val_loss: 0.2337 - val_accuracy: 0.9162\n",
      "Epoch 5/5\n",
      "48/48 [==============================] - 8s 162ms/step - loss: 0.1790 - accuracy: 0.9405 - val_loss: 0.1782 - val_accuracy: 0.9441\n",
      "15/15 [==============================] - 0s 27ms/step - loss: 0.1801 - accuracy: 0.9422\n",
      "[0.18011778593063354, 0.9422425627708435]\n",
      "15/15 [==============================] - 1s 46ms/step\n",
      "F1-score: 62.1%\n"
     ]
    }
   ],
   "source": [
    "input_word = Input(shape = (23,))\n",
    "# print(input_word.shape)\n",
    "bilstm_4 = Embedding(input_dim = no_of_words,\n",
    "                  output_dim = 50,\n",
    "                  input_length = 23)(input_word)\n",
    "bilstm_4 = Bidirectional(LSTM(units=50,\n",
    "                           return_sequences = True, \n",
    "                           recurrent_dropout = 0.1))(bilstm_4)\n",
    "out = TimeDistributed(Dense(len_labels,\n",
    "                            activation = 'softmax'))(bilstm_4)\n",
    "bilstm_4 = Model(input_word,out)\n",
    "bilstm_4.summary()\n",
    "\n",
    "bilstm_4.compile(optimizer = 'adam',loss = 'categorical_crossentropy',metrics = ['accuracy'])\n",
    "\n",
    "history = bilstm_4.fit(\n",
    "    X_train,np.array(y_train),\n",
    "    validation_split = 0.2,\n",
    "    batch_size = 32,\n",
    "    epochs = 5,\n",
    "    verbose =1\n",
    ")\n",
    "\n",
    "print(bilstm_4.evaluate(X_test,np.array(y_test)))\n",
    "\n",
    "idx2tag = {i: w for w, i in label2idx.items()}\n",
    "\n",
    "def pred2label(pred):\n",
    "    out = []\n",
    "    for pred_i in pred:\n",
    "        out_i = []\n",
    "        for p in pred_i:\n",
    "            p_i = np.argmax(p)\n",
    "            out_i.append(idx2tag[p_i].replace(\"ENDPAD\", \"O\"))\n",
    "        out.append(out_i)\n",
    "    return out\n",
    "test_pred = bilstm_4.predict(X_test, verbose=1)   \n",
    "pred_labels = pred2label(test_pred)\n",
    "test_labels = pred2label(y_test)\n",
    "\n",
    "print(\"F1-score: {:.1%}\".format(f1_score(test_labels, pred_labels)))"
   ]
  },
  {
   "cell_type": "code",
   "execution_count": 293,
   "id": "72345e33",
   "metadata": {},
   "outputs": [
    {
     "name": "stdout",
     "output_type": "stream",
     "text": [
      "Model: \"model_25\"\n",
      "_________________________________________________________________\n",
      " Layer (type)                Output Shape              Param #   \n",
      "=================================================================\n",
      " input_26 (InputLayer)       [(None, 23)]              0         \n",
      "                                                                 \n",
      " embedding_28 (Embedding)    (None, 23, 50)            203150    \n",
      "                                                                 \n",
      " bidirectional_25 (Bidirecti  (None, 23, 200)          120800    \n",
      " onal)                                                           \n",
      "                                                                 \n",
      " time_distributed_25 (TimeDi  (None, 23, 5)            1005      \n",
      " stributed)                                                      \n",
      "                                                                 \n",
      "=================================================================\n",
      "Total params: 324,955\n",
      "Trainable params: 324,955\n",
      "Non-trainable params: 0\n",
      "_________________________________________________________________\n",
      "Epoch 1/5\n",
      "48/48 [==============================] - 9s 102ms/step - loss: 0.8153 - accuracy: 0.8277 - val_loss: 0.4455 - val_accuracy: 0.8435\n",
      "Epoch 2/5\n",
      "48/48 [==============================] - 4s 79ms/step - loss: 0.4070 - accuracy: 0.8455 - val_loss: 0.3852 - val_accuracy: 0.8435\n",
      "Epoch 3/5\n",
      "48/48 [==============================] - 4s 79ms/step - loss: 0.3454 - accuracy: 0.8455 - val_loss: 0.3353 - val_accuracy: 0.8435\n",
      "Epoch 4/5\n",
      "48/48 [==============================] - 4s 79ms/step - loss: 0.2927 - accuracy: 0.8455 - val_loss: 0.2940 - val_accuracy: 0.8435\n",
      "Epoch 5/5\n",
      "48/48 [==============================] - 4s 81ms/step - loss: 0.2550 - accuracy: 0.8455 - val_loss: 0.2737 - val_accuracy: 0.8435\n",
      "15/15 [==============================] - 1s 32ms/step - loss: 0.2736 - accuracy: 0.8447\n",
      "[0.2735588252544403, 0.8446682095527649]\n",
      "15/15 [==============================] - 1s 61ms/step\n",
      "F1-score: 0.3%\n"
     ]
    }
   ],
   "source": [
    "input_word = Input(shape = (23,))\n",
    "# print(input_word.shape)\n",
    "bilstm_5 = Embedding(input_dim = no_of_words,\n",
    "                  output_dim = 50,\n",
    "                  input_length = 23)(input_word)\n",
    "bilstm_5 = Bidirectional(LSTM(units=100,\n",
    "                           return_sequences = True, \n",
    "                           recurrent_dropout = 0.1))(bilstm_5)\n",
    "out = TimeDistributed(Dense(len_labels,\n",
    "                            activation = 'sigmoid'))(bilstm_5)\n",
    "bilstm_5 = Model(input_word,out)\n",
    "bilstm_5.summary()\n",
    "\n",
    "bilstm_5.compile(optimizer = 'adam',loss = 'categorical_crossentropy',metrics = ['accuracy'])\n",
    "\n",
    "history = bilstm_5.fit(\n",
    "    X_train,np.array(y_train),\n",
    "    validation_split = 0.2,\n",
    "    batch_size = 32,\n",
    "    epochs = 5,\n",
    "    verbose =1\n",
    ")\n",
    "\n",
    "print(bilstm_5.evaluate(X_test,np.array(y_test)))\n",
    "\n",
    "idx2tag = {i: w for w, i in label2idx.items()}\n",
    "\n",
    "def pred2label(pred):\n",
    "    out = []\n",
    "    for pred_i in pred:\n",
    "        out_i = []\n",
    "        for p in pred_i:\n",
    "            p_i = np.argmax(p)\n",
    "            out_i.append(idx2tag[p_i].replace(\"ENDPAD\", \"O\"))\n",
    "        out.append(out_i)\n",
    "    return out\n",
    "test_pred = bilstm_5.predict(X_test, verbose=1)   \n",
    "pred_labels = pred2label(test_pred)\n",
    "test_labels = pred2label(y_test)\n",
    "\n",
    "print(\"F1-score: {:.1%}\".format(f1_score(test_labels, pred_labels)))"
   ]
  },
  {
   "cell_type": "code",
   "execution_count": 294,
   "id": "6e0f37f0",
   "metadata": {},
   "outputs": [
    {
     "name": "stdout",
     "output_type": "stream",
     "text": [
      "Model: \"model_26\"\n",
      "_________________________________________________________________\n",
      " Layer (type)                Output Shape              Param #   \n",
      "=================================================================\n",
      " input_27 (InputLayer)       [(None, 23)]              0         \n",
      "                                                                 \n",
      " embedding_29 (Embedding)    (None, 23, 50)            203150    \n",
      "                                                                 \n",
      " bidirectional_26 (Bidirecti  (None, 23, 200)          120800    \n",
      " onal)                                                           \n",
      "                                                                 \n",
      " time_distributed_26 (TimeDi  (None, 23, 5)            1005      \n",
      " stributed)                                                      \n",
      "                                                                 \n",
      "=================================================================\n",
      "Total params: 324,955\n",
      "Trainable params: 324,955\n",
      "Non-trainable params: 0\n",
      "_________________________________________________________________\n",
      "Epoch 1/5\n",
      "48/48 [==============================] - 10s 115ms/step - loss: 0.7224 - accuracy: 0.8280 - val_loss: 0.4334 - val_accuracy: 0.8435\n",
      "Epoch 2/5\n",
      "48/48 [==============================] - 5s 107ms/step - loss: 0.3997 - accuracy: 0.8471 - val_loss: 0.3687 - val_accuracy: 0.8537\n",
      "Epoch 3/5\n",
      "48/48 [==============================] - 5s 106ms/step - loss: 0.3176 - accuracy: 0.8679 - val_loss: 0.2901 - val_accuracy: 0.8889\n",
      "Epoch 4/5\n",
      "48/48 [==============================] - 5s 109ms/step - loss: 0.2314 - accuracy: 0.9135 - val_loss: 0.2122 - val_accuracy: 0.9239\n",
      "Epoch 5/5\n",
      "48/48 [==============================] - 5s 105ms/step - loss: 0.1576 - accuracy: 0.9440 - val_loss: 0.1670 - val_accuracy: 0.9450\n",
      "15/15 [==============================] - 1s 60ms/step - loss: 0.1691 - accuracy: 0.9440\n",
      "[0.16913920640945435, 0.9439817070960999]\n",
      "15/15 [==============================] - 1s 60ms/step\n",
      "F1-score: 62.4%\n"
     ]
    }
   ],
   "source": [
    "input_word = Input(shape = (23,))\n",
    "# print(input_word.shape)\n",
    "bilstm_6 = Embedding(input_dim = no_of_words,\n",
    "                  output_dim = 50,\n",
    "                  input_length = 23)(input_word)\n",
    "bilstm_6 = Bidirectional(LSTM(units=100,\n",
    "                           return_sequences = True, \n",
    "                           recurrent_dropout = 0.1))(bilstm_6)\n",
    "out = TimeDistributed(Dense(len_labels,\n",
    "                            activation = 'softmax'))(bilstm_6)\n",
    "bilstm_6 = Model(input_word,out)\n",
    "bilstm_6.summary()\n",
    "\n",
    "bilstm_6.compile(optimizer = 'adam',loss = 'categorical_crossentropy',metrics = ['accuracy'])\n",
    "\n",
    "history = bilstm_6.fit(\n",
    "    X_train,np.array(y_train),\n",
    "    validation_split = 0.2,\n",
    "    batch_size = 32,\n",
    "    epochs = 5,\n",
    "    verbose =1\n",
    ")\n",
    "\n",
    "print(bilstm_6.evaluate(X_test,np.array(y_test)))\n",
    "\n",
    "idx2tag = {i: w for w, i in label2idx.items()}\n",
    "\n",
    "def pred2label(pred):\n",
    "    out = []\n",
    "    for pred_i in pred:\n",
    "        out_i = []\n",
    "        for p in pred_i:\n",
    "            p_i = np.argmax(p)\n",
    "            out_i.append(idx2tag[p_i].replace(\"ENDPAD\", \"O\"))\n",
    "        out.append(out_i)\n",
    "    return out\n",
    "test_pred = bilstm_6.predict(X_test, verbose=1)   \n",
    "pred_labels = pred2label(test_pred)\n",
    "test_labels = pred2label(y_test)\n",
    "\n",
    "print(\"F1-score: {:.1%}\".format(f1_score(test_labels, pred_labels)))"
   ]
  },
  {
   "cell_type": "code",
   "execution_count": 295,
   "id": "3626c6fe",
   "metadata": {},
   "outputs": [
    {
     "name": "stdout",
     "output_type": "stream",
     "text": [
      "Model: \"model_27\"\n",
      "_________________________________________________________________\n",
      " Layer (type)                Output Shape              Param #   \n",
      "=================================================================\n",
      " input_28 (InputLayer)       [(None, 23)]              0         \n",
      "                                                                 \n",
      " embedding_30 (Embedding)    (None, 23, 100)           406300    \n",
      "                                                                 \n",
      " bidirectional_27 (Bidirecti  (None, 23, 50)           25200     \n",
      " onal)                                                           \n",
      "                                                                 \n",
      " time_distributed_27 (TimeDi  (None, 23, 5)            255       \n",
      " stributed)                                                      \n",
      "                                                                 \n",
      "=================================================================\n",
      "Total params: 431,755\n",
      "Trainable params: 431,755\n",
      "Non-trainable params: 0\n",
      "_________________________________________________________________\n",
      "Epoch 1/5\n",
      "48/48 [==============================] - 9s 90ms/step - loss: 1.1292 - accuracy: 0.8202 - val_loss: 0.6113 - val_accuracy: 0.8435\n",
      "Epoch 2/5\n",
      "48/48 [==============================] - 3s 61ms/step - loss: 0.4983 - accuracy: 0.8455 - val_loss: 0.4308 - val_accuracy: 0.8435\n",
      "Epoch 3/5\n",
      "48/48 [==============================] - 3s 64ms/step - loss: 0.3829 - accuracy: 0.8455 - val_loss: 0.3489 - val_accuracy: 0.8435\n",
      "Epoch 4/5\n",
      "48/48 [==============================] - 3s 66ms/step - loss: 0.2981 - accuracy: 0.8488 - val_loss: 0.2777 - val_accuracy: 0.8649\n",
      "Epoch 5/5\n",
      "48/48 [==============================] - 4s 79ms/step - loss: 0.2257 - accuracy: 0.9052 - val_loss: 0.2228 - val_accuracy: 0.9346\n",
      "15/15 [==============================] - 1s 32ms/step - loss: 0.2235 - accuracy: 0.9324\n",
      "[0.22350244224071503, 0.9324485063552856]\n",
      "15/15 [==============================] - 1s 19ms/step\n",
      "F1-score: 57.8%\n"
     ]
    }
   ],
   "source": [
    "input_word = Input(shape = (23,))\n",
    "# print(input_word.shape)\n",
    "bilstm_7 = Embedding(input_dim = no_of_words,\n",
    "                  output_dim = 100,\n",
    "                  input_length = 23)(input_word)\n",
    "bilstm_7 = Bidirectional(LSTM(units=25,\n",
    "                           return_sequences = True, \n",
    "                           recurrent_dropout = 0.1))(bilstm_7)\n",
    "out = TimeDistributed(Dense(len_labels,\n",
    "                            activation = 'sigmoid'))(bilstm_7)\n",
    "bilstm_7 = Model(input_word,out)\n",
    "bilstm_7.summary()\n",
    "\n",
    "bilstm_7.compile(optimizer = 'adam',loss = 'categorical_crossentropy',metrics = ['accuracy'])\n",
    "\n",
    "history = bilstm_7.fit(\n",
    "    X_train,np.array(y_train),\n",
    "    validation_split = 0.2,\n",
    "    batch_size = 32,\n",
    "    epochs = 5,\n",
    "    verbose =1\n",
    ")\n",
    "\n",
    "print(bilstm_7.evaluate(X_test,np.array(y_test)))\n",
    "\n",
    "idx2tag = {i: w for w, i in label2idx.items()}\n",
    "\n",
    "def pred2label(pred):\n",
    "    out = []\n",
    "    for pred_i in pred:\n",
    "        out_i = []\n",
    "        for p in pred_i:\n",
    "            p_i = np.argmax(p)\n",
    "            out_i.append(idx2tag[p_i].replace(\"ENDPAD\", \"O\"))\n",
    "        out.append(out_i)\n",
    "    return out\n",
    "test_pred = bilstm_7.predict(X_test, verbose=1)   \n",
    "pred_labels = pred2label(test_pred)\n",
    "test_labels = pred2label(y_test)\n",
    "\n",
    "print(\"F1-score: {:.1%}\".format(f1_score(test_labels, pred_labels)))"
   ]
  },
  {
   "cell_type": "code",
   "execution_count": 296,
   "id": "1238e2a7",
   "metadata": {},
   "outputs": [
    {
     "name": "stdout",
     "output_type": "stream",
     "text": [
      "Model: \"model_28\"\n",
      "_________________________________________________________________\n",
      " Layer (type)                Output Shape              Param #   \n",
      "=================================================================\n",
      " input_29 (InputLayer)       [(None, 23)]              0         \n",
      "                                                                 \n",
      " embedding_31 (Embedding)    (None, 23, 100)           406300    \n",
      "                                                                 \n",
      " bidirectional_28 (Bidirecti  (None, 23, 50)           25200     \n",
      " onal)                                                           \n",
      "                                                                 \n",
      " time_distributed_28 (TimeDi  (None, 23, 5)            255       \n",
      " stributed)                                                      \n",
      "                                                                 \n",
      "=================================================================\n",
      "Total params: 431,755\n",
      "Trainable params: 431,755\n",
      "Non-trainable params: 0\n",
      "_________________________________________________________________\n",
      "Epoch 1/5\n",
      "48/48 [==============================] - 10s 120ms/step - loss: 0.8642 - accuracy: 0.8187 - val_loss: 0.4514 - val_accuracy: 0.8435\n",
      "Epoch 2/5\n",
      "48/48 [==============================] - 5s 106ms/step - loss: 0.4077 - accuracy: 0.8456 - val_loss: 0.3780 - val_accuracy: 0.8443\n",
      "Epoch 3/5\n",
      "48/48 [==============================] - 6s 125ms/step - loss: 0.3279 - accuracy: 0.8587 - val_loss: 0.2922 - val_accuracy: 0.8849\n",
      "Epoch 4/5\n",
      "48/48 [==============================] - 6s 120ms/step - loss: 0.2267 - accuracy: 0.9227 - val_loss: 0.2078 - val_accuracy: 0.9381\n",
      "Epoch 5/5\n",
      "48/48 [==============================] - 5s 112ms/step - loss: 0.1458 - accuracy: 0.9652 - val_loss: 0.1580 - val_accuracy: 0.9578\n",
      "15/15 [==============================] - 0s 31ms/step - loss: 0.1599 - accuracy: 0.9598\n",
      "[0.1599084734916687, 0.9598169326782227]\n",
      "15/15 [==============================] - 1s 35ms/step\n",
      "F1-score: 77.5%\n"
     ]
    }
   ],
   "source": [
    "input_word = Input(shape = (23,))\n",
    "# print(input_word.shape)\n",
    "bilstm_8 = Embedding(input_dim = no_of_words,\n",
    "                  output_dim = 100,\n",
    "                  input_length = 23)(input_word)\n",
    "bilstm_8 = Bidirectional(LSTM(units=25,\n",
    "                           return_sequences = True, \n",
    "                           recurrent_dropout = 0.1))(bilstm_8)\n",
    "out = TimeDistributed(Dense(len_labels,\n",
    "                            activation = 'softmax'))(bilstm_8)\n",
    "bilstm_8 = Model(input_word,out)\n",
    "bilstm_8.summary()\n",
    "\n",
    "bilstm_8.compile(optimizer = 'adam',loss = 'categorical_crossentropy',metrics = ['accuracy'])\n",
    "\n",
    "history = bilstm_8.fit(\n",
    "    X_train,np.array(y_train),\n",
    "    validation_split = 0.2,\n",
    "    batch_size = 32,\n",
    "    epochs = 5,\n",
    "    verbose =1\n",
    ")\n",
    "\n",
    "print(bilstm_8.evaluate(X_test,np.array(y_test)))\n",
    "\n",
    "idx2tag = {i: w for w, i in label2idx.items()}\n",
    "\n",
    "def pred2label(pred):\n",
    "    out = []\n",
    "    for pred_i in pred:\n",
    "        out_i = []\n",
    "        for p in pred_i:\n",
    "            p_i = np.argmax(p)\n",
    "            out_i.append(idx2tag[p_i].replace(\"ENDPAD\", \"O\"))\n",
    "        out.append(out_i)\n",
    "    return out\n",
    "test_pred = bilstm_8.predict(X_test, verbose=1)   \n",
    "pred_labels = pred2label(test_pred)\n",
    "test_labels = pred2label(y_test)\n",
    "\n",
    "print(\"F1-score: {:.1%}\".format(f1_score(test_labels, pred_labels)))"
   ]
  },
  {
   "cell_type": "code",
   "execution_count": 297,
   "id": "51237057",
   "metadata": {},
   "outputs": [
    {
     "name": "stdout",
     "output_type": "stream",
     "text": [
      "Model: \"model_29\"\n",
      "_________________________________________________________________\n",
      " Layer (type)                Output Shape              Param #   \n",
      "=================================================================\n",
      " input_30 (InputLayer)       [(None, 23)]              0         \n",
      "                                                                 \n",
      " embedding_32 (Embedding)    (None, 23, 100)           406300    \n",
      "                                                                 \n",
      " bidirectional_29 (Bidirecti  (None, 23, 100)          60400     \n",
      " onal)                                                           \n",
      "                                                                 \n",
      " time_distributed_29 (TimeDi  (None, 23, 5)            505       \n",
      " stributed)                                                      \n",
      "                                                                 \n",
      "=================================================================\n",
      "Total params: 467,205\n",
      "Trainable params: 467,205\n",
      "Non-trainable params: 0\n",
      "_________________________________________________________________\n",
      "Epoch 1/5\n",
      "48/48 [==============================] - 12s 146ms/step - loss: 0.9033 - accuracy: 0.8337 - val_loss: 0.4694 - val_accuracy: 0.8435\n",
      "Epoch 2/5\n",
      "48/48 [==============================] - 7s 138ms/step - loss: 0.4168 - accuracy: 0.8455 - val_loss: 0.3826 - val_accuracy: 0.8435\n",
      "Epoch 3/5\n",
      "48/48 [==============================] - 9s 178ms/step - loss: 0.3374 - accuracy: 0.8455 - val_loss: 0.3124 - val_accuracy: 0.8435\n",
      "Epoch 4/5\n",
      "48/48 [==============================] - 8s 163ms/step - loss: 0.2689 - accuracy: 0.8543 - val_loss: 0.2578 - val_accuracy: 0.8811\n",
      "Epoch 5/5\n",
      "48/48 [==============================] - 6s 126ms/step - loss: 0.1926 - accuracy: 0.9335 - val_loss: 0.1803 - val_accuracy: 0.9508\n",
      "15/15 [==============================] - 1s 36ms/step - loss: 0.1789 - accuracy: 0.9516\n",
      "[0.17890936136245728, 0.9515789747238159]\n",
      "15/15 [==============================] - 1s 56ms/step\n",
      "F1-score: 72.2%\n"
     ]
    }
   ],
   "source": [
    "input_word = Input(shape = (23,))\n",
    "# print(input_word.shape)\n",
    "bilstm_9 = Embedding(input_dim = no_of_words,\n",
    "                  output_dim = 100,\n",
    "                  input_length = 23)(input_word)\n",
    "bilstm_9 = Bidirectional(LSTM(units=50,\n",
    "                           return_sequences = True, \n",
    "                           recurrent_dropout = 0.1))(bilstm_9)\n",
    "out = TimeDistributed(Dense(len_labels,\n",
    "                            activation = 'sigmoid'))(bilstm_9)\n",
    "bilstm_9 = Model(input_word,out)\n",
    "bilstm_9.summary()\n",
    "\n",
    "bilstm_9.compile(optimizer = 'adam',loss = 'categorical_crossentropy',metrics = ['accuracy'])\n",
    "\n",
    "history = bilstm_9.fit(\n",
    "    X_train,np.array(y_train),\n",
    "    validation_split = 0.2,\n",
    "    batch_size = 32,\n",
    "    epochs = 5,\n",
    "    verbose =1\n",
    ")\n",
    "\n",
    "print(bilstm_9.evaluate(X_test,np.array(y_test)))\n",
    "\n",
    "idx2tag = {i: w for w, i in label2idx.items()}\n",
    "\n",
    "def pred2label(pred):\n",
    "    out = []\n",
    "    for pred_i in pred:\n",
    "        out_i = []\n",
    "        for p in pred_i:\n",
    "            p_i = np.argmax(p)\n",
    "            out_i.append(idx2tag[p_i].replace(\"ENDPAD\", \"O\"))\n",
    "        out.append(out_i)\n",
    "    return out\n",
    "test_pred = bilstm_9.predict(X_test, verbose=1)   \n",
    "pred_labels = pred2label(test_pred)\n",
    "test_labels = pred2label(y_test)\n",
    "\n",
    "print(\"F1-score: {:.1%}\".format(f1_score(test_labels, pred_labels)))"
   ]
  },
  {
   "cell_type": "code",
   "execution_count": 298,
   "id": "8b4c2a57",
   "metadata": {},
   "outputs": [
    {
     "name": "stdout",
     "output_type": "stream",
     "text": [
      "Model: \"model_30\"\n",
      "_________________________________________________________________\n",
      " Layer (type)                Output Shape              Param #   \n",
      "=================================================================\n",
      " input_31 (InputLayer)       [(None, 23)]              0         \n",
      "                                                                 \n",
      " embedding_33 (Embedding)    (None, 23, 100)           406300    \n",
      "                                                                 \n",
      " bidirectional_30 (Bidirecti  (None, 23, 100)          60400     \n",
      " onal)                                                           \n",
      "                                                                 \n",
      " time_distributed_30 (TimeDi  (None, 23, 5)            505       \n",
      " stributed)                                                      \n",
      "                                                                 \n",
      "=================================================================\n",
      "Total params: 467,205\n",
      "Trainable params: 467,205\n",
      "Non-trainable params: 0\n",
      "_________________________________________________________________\n",
      "Epoch 1/5\n",
      "48/48 [==============================] - 12s 167ms/step - loss: 0.7555 - accuracy: 0.8273 - val_loss: 0.4207 - val_accuracy: 0.8435\n",
      "Epoch 2/5\n",
      "48/48 [==============================] - 8s 167ms/step - loss: 0.3679 - accuracy: 0.8509 - val_loss: 0.3200 - val_accuracy: 0.8708\n",
      "Epoch 3/5\n",
      "48/48 [==============================] - 6s 128ms/step - loss: 0.2595 - accuracy: 0.9013 - val_loss: 0.2219 - val_accuracy: 0.9237\n",
      "Epoch 4/5\n",
      "48/48 [==============================] - 5s 107ms/step - loss: 0.1633 - accuracy: 0.9528 - val_loss: 0.1603 - val_accuracy: 0.9573\n",
      "Epoch 5/5\n",
      "48/48 [==============================] - 7s 146ms/step - loss: 0.1017 - accuracy: 0.9782 - val_loss: 0.1258 - val_accuracy: 0.9650\n",
      "15/15 [==============================] - 1s 55ms/step - loss: 0.1284 - accuracy: 0.9644\n",
      "[0.12837596237659454, 0.9643936157226562]\n",
      "15/15 [==============================] - 1s 55ms/step\n",
      "F1-score: 80.5%\n"
     ]
    }
   ],
   "source": [
    "input_word = Input(shape = (23,))\n",
    "# print(input_word.shape)\n",
    "bilstm_10 = Embedding(input_dim = no_of_words,\n",
    "                  output_dim = 100,\n",
    "                  input_length = 23)(input_word)\n",
    "bilstm_10 = Bidirectional(LSTM(units=50,\n",
    "                           return_sequences = True, \n",
    "                           recurrent_dropout = 0.1))(bilstm_10)\n",
    "out = TimeDistributed(Dense(len_labels,\n",
    "                            activation = 'softmax'))(bilstm_10)\n",
    "bilstm_10 = Model(input_word,out)\n",
    "bilstm_10.summary()\n",
    "\n",
    "bilstm_10.compile(optimizer = 'adam',loss = 'categorical_crossentropy',metrics = ['accuracy'])\n",
    "\n",
    "history = bilstm_10.fit(\n",
    "    X_train,np.array(y_train),\n",
    "    validation_split = 0.2,\n",
    "    batch_size = 32,\n",
    "    epochs = 5,\n",
    "    verbose =1\n",
    ")\n",
    "\n",
    "print(bilstm_10.evaluate(X_test,np.array(y_test)))\n",
    "\n",
    "idx2tag = {i: w for w, i in label2idx.items()}\n",
    "\n",
    "def pred2label(pred):\n",
    "    out = []\n",
    "    for pred_i in pred:\n",
    "        out_i = []\n",
    "        for p in pred_i:\n",
    "            p_i = np.argmax(p)\n",
    "            out_i.append(idx2tag[p_i].replace(\"ENDPAD\", \"O\"))\n",
    "        out.append(out_i)\n",
    "    return out\n",
    "test_pred = bilstm_10.predict(X_test, verbose=1)   \n",
    "pred_labels = pred2label(test_pred)\n",
    "test_labels = pred2label(y_test)\n",
    "\n",
    "print(\"F1-score: {:.1%}\".format(f1_score(test_labels, pred_labels)))"
   ]
  },
  {
   "cell_type": "code",
   "execution_count": 299,
   "id": "747bdd99",
   "metadata": {},
   "outputs": [
    {
     "name": "stdout",
     "output_type": "stream",
     "text": [
      "Model: \"model_31\"\n",
      "_________________________________________________________________\n",
      " Layer (type)                Output Shape              Param #   \n",
      "=================================================================\n",
      " input_32 (InputLayer)       [(None, 23)]              0         \n",
      "                                                                 \n",
      " embedding_34 (Embedding)    (None, 23, 100)           406300    \n",
      "                                                                 \n",
      " bidirectional_31 (Bidirecti  (None, 23, 200)          160800    \n",
      " onal)                                                           \n",
      "                                                                 \n",
      " time_distributed_31 (TimeDi  (None, 23, 5)            1005      \n",
      " stributed)                                                      \n",
      "                                                                 \n",
      "=================================================================\n",
      "Total params: 568,105\n",
      "Trainable params: 568,105\n",
      "Non-trainable params: 0\n",
      "_________________________________________________________________\n",
      "Epoch 1/5\n",
      "48/48 [==============================] - 17s 266ms/step - loss: 0.7711 - accuracy: 0.8290 - val_loss: 0.4344 - val_accuracy: 0.8435\n",
      "Epoch 2/5\n",
      "48/48 [==============================] - 13s 275ms/step - loss: 0.3815 - accuracy: 0.8455 - val_loss: 0.3466 - val_accuracy: 0.8435\n",
      "Epoch 3/5\n",
      "48/48 [==============================] - 11s 239ms/step - loss: 0.3056 - accuracy: 0.8455 - val_loss: 0.2930 - val_accuracy: 0.8435\n",
      "Epoch 4/5\n",
      "48/48 [==============================] - 9s 187ms/step - loss: 0.2546 - accuracy: 0.8456 - val_loss: 0.2617 - val_accuracy: 0.8445\n",
      "Epoch 5/5\n",
      "48/48 [==============================] - 13s 283ms/step - loss: 0.2225 - accuracy: 0.8671 - val_loss: 0.2388 - val_accuracy: 0.8959\n",
      "15/15 [==============================] - 1s 77ms/step - loss: 0.2409 - accuracy: 0.8942\n",
      "[0.24089570343494415, 0.8941876292228699]\n",
      "15/15 [==============================] - 1s 63ms/step\n",
      "F1-score: 40.1%\n"
     ]
    }
   ],
   "source": [
    "input_word = Input(shape = (23,))\n",
    "# print(input_word.shape)\n",
    "bilstm_11 = Embedding(input_dim = no_of_words,\n",
    "                  output_dim = 100,\n",
    "                  input_length = 23)(input_word)\n",
    "bilstm_11 = Bidirectional(LSTM(units=100,\n",
    "                           return_sequences = True, \n",
    "                           recurrent_dropout = 0.1))(bilstm_11)\n",
    "out = TimeDistributed(Dense(len_labels,\n",
    "                            activation = 'sigmoid'))(bilstm_11)\n",
    "bilstm_11 = Model(input_word,out)\n",
    "bilstm_11.summary()\n",
    "\n",
    "bilstm_11.compile(optimizer = 'adam',loss = 'categorical_crossentropy',metrics = ['accuracy'])\n",
    "\n",
    "history = bilstm_11.fit(\n",
    "    X_train,np.array(y_train),\n",
    "    validation_split = 0.2,\n",
    "    batch_size = 32,\n",
    "    epochs = 5,\n",
    "    verbose =1\n",
    ")\n",
    "\n",
    "print(bilstm_11.evaluate(X_test,np.array(y_test)))\n",
    "\n",
    "idx2tag = {i: w for w, i in label2idx.items()}\n",
    "\n",
    "def pred2label(pred):\n",
    "    out = []\n",
    "    for pred_i in pred:\n",
    "        out_i = []\n",
    "        for p in pred_i:\n",
    "            p_i = np.argmax(p)\n",
    "            out_i.append(idx2tag[p_i].replace(\"ENDPAD\", \"O\"))\n",
    "        out.append(out_i)\n",
    "    return out\n",
    "test_pred = bilstm_11.predict(X_test, verbose=1)   \n",
    "pred_labels = pred2label(test_pred)\n",
    "test_labels = pred2label(y_test)\n",
    "\n",
    "print(\"F1-score: {:.1%}\".format(f1_score(test_labels, pred_labels)))"
   ]
  },
  {
   "cell_type": "code",
   "execution_count": 300,
   "id": "598a9db7",
   "metadata": {},
   "outputs": [
    {
     "name": "stdout",
     "output_type": "stream",
     "text": [
      "Model: \"model_32\"\n",
      "_________________________________________________________________\n",
      " Layer (type)                Output Shape              Param #   \n",
      "=================================================================\n",
      " input_33 (InputLayer)       [(None, 23)]              0         \n",
      "                                                                 \n",
      " embedding_35 (Embedding)    (None, 23, 100)           406300    \n",
      "                                                                 \n",
      " bidirectional_32 (Bidirecti  (None, 23, 200)          160800    \n",
      " onal)                                                           \n",
      "                                                                 \n",
      " time_distributed_32 (TimeDi  (None, 23, 5)            1005      \n",
      " stributed)                                                      \n",
      "                                                                 \n",
      "=================================================================\n",
      "Total params: 568,105\n",
      "Trainable params: 568,105\n",
      "Non-trainable params: 0\n",
      "_________________________________________________________________\n",
      "Epoch 1/5\n",
      "48/48 [==============================] - 16s 228ms/step - loss: 0.6700 - accuracy: 0.8283 - val_loss: 0.4059 - val_accuracy: 0.8435\n",
      "Epoch 2/5\n",
      "48/48 [==============================] - 11s 227ms/step - loss: 0.3480 - accuracy: 0.8572 - val_loss: 0.3031 - val_accuracy: 0.8823\n",
      "Epoch 3/5\n",
      "48/48 [==============================] - 12s 242ms/step - loss: 0.2392 - accuracy: 0.9108 - val_loss: 0.2143 - val_accuracy: 0.9204\n",
      "Epoch 4/5\n",
      "48/48 [==============================] - 12s 251ms/step - loss: 0.1477 - accuracy: 0.9550 - val_loss: 0.1568 - val_accuracy: 0.9507\n",
      "Epoch 5/5\n",
      "48/48 [==============================] - 12s 244ms/step - loss: 0.0912 - accuracy: 0.9761 - val_loss: 0.1238 - val_accuracy: 0.9584\n",
      "15/15 [==============================] - 1s 64ms/step - loss: 0.1251 - accuracy: 0.9568\n",
      "[0.1251344531774521, 0.9567963480949402]\n",
      "15/15 [==============================] - 2s 83ms/step\n",
      "F1-score: 74.3%\n"
     ]
    }
   ],
   "source": [
    "input_word = Input(shape = (23,))\n",
    "# print(input_word.shape)\n",
    "bilstm_12 = Embedding(input_dim = no_of_words,\n",
    "                  output_dim = 100,\n",
    "                  input_length = 23)(input_word)\n",
    "bilstm_12 = Bidirectional(LSTM(units=100,\n",
    "                           return_sequences = True, \n",
    "                           recurrent_dropout = 0.1))(bilstm_12)\n",
    "out = TimeDistributed(Dense(len_labels,\n",
    "                            activation = 'softmax'))(bilstm_12)\n",
    "bilstm_12 = Model(input_word,out)\n",
    "bilstm_12.summary()\n",
    "\n",
    "bilstm_12.compile(optimizer = 'adam',loss = 'categorical_crossentropy',metrics = ['accuracy'])\n",
    "\n",
    "history = bilstm_12.fit(\n",
    "    X_train,np.array(y_train),\n",
    "    validation_split = 0.2,\n",
    "    batch_size = 32,\n",
    "    epochs = 5,\n",
    "    verbose =1\n",
    ")\n",
    "\n",
    "print(bilstm_12.evaluate(X_test,np.array(y_test)))\n",
    "\n",
    "idx2tag = {i: w for w, i in label2idx.items()}\n",
    "\n",
    "def pred2label(pred):\n",
    "    out = []\n",
    "    for pred_i in pred:\n",
    "        out_i = []\n",
    "        for p in pred_i:\n",
    "            p_i = np.argmax(p)\n",
    "            out_i.append(idx2tag[p_i].replace(\"ENDPAD\", \"O\"))\n",
    "        out.append(out_i)\n",
    "    return out\n",
    "test_pred = bilstm_12.predict(X_test, verbose=1)   \n",
    "pred_labels = pred2label(test_pred)\n",
    "test_labels = pred2label(y_test)\n",
    "\n",
    "print(\"F1-score: {:.1%}\".format(f1_score(test_labels, pred_labels)))"
   ]
  },
  {
   "cell_type": "code",
   "execution_count": 301,
   "id": "e2776528",
   "metadata": {},
   "outputs": [
    {
     "name": "stdout",
     "output_type": "stream",
     "text": [
      "Model: \"model_33\"\n",
      "_________________________________________________________________\n",
      " Layer (type)                Output Shape              Param #   \n",
      "=================================================================\n",
      " input_34 (InputLayer)       [(None, 23)]              0         \n",
      "                                                                 \n",
      " embedding_36 (Embedding)    (None, 23, 200)           812600    \n",
      "                                                                 \n",
      " bidirectional_33 (Bidirecti  (None, 23, 50)           45200     \n",
      " onal)                                                           \n",
      "                                                                 \n",
      " time_distributed_33 (TimeDi  (None, 23, 5)            255       \n",
      " stributed)                                                      \n",
      "                                                                 \n",
      "=================================================================\n",
      "Total params: 858,055\n",
      "Trainable params: 858,055\n",
      "Non-trainable params: 0\n",
      "_________________________________________________________________\n",
      "Epoch 1/5\n",
      "48/48 [==============================] - 7s 63ms/step - loss: 1.0622 - accuracy: 0.8128 - val_loss: 0.5613 - val_accuracy: 0.8435\n",
      "Epoch 2/5\n",
      "48/48 [==============================] - 3s 53ms/step - loss: 0.4456 - accuracy: 0.8455 - val_loss: 0.3761 - val_accuracy: 0.8435\n",
      "Epoch 3/5\n",
      "48/48 [==============================] - 2s 51ms/step - loss: 0.3147 - accuracy: 0.8604 - val_loss: 0.2847 - val_accuracy: 0.8768\n",
      "Epoch 4/5\n",
      "48/48 [==============================] - 3s 58ms/step - loss: 0.2209 - accuracy: 0.9181 - val_loss: 0.2134 - val_accuracy: 0.9468\n",
      "Epoch 5/5\n",
      "48/48 [==============================] - 3s 57ms/step - loss: 0.1392 - accuracy: 0.9768 - val_loss: 0.1614 - val_accuracy: 0.9656\n",
      "15/15 [==============================] - 0s 22ms/step - loss: 0.1610 - accuracy: 0.9654\n",
      "[0.1610013246536255, 0.9654004573822021]\n",
      "15/15 [==============================] - 1s 19ms/step\n",
      "F1-score: 81.3%\n"
     ]
    }
   ],
   "source": [
    "input_word = Input(shape = (23,))\n",
    "# print(input_word.shape)\n",
    "bilstm_13 = Embedding(input_dim = no_of_words,\n",
    "                  output_dim = 200,\n",
    "                  input_length = 23)(input_word)\n",
    "bilstm_13 = Bidirectional(LSTM(units=25,\n",
    "                           return_sequences = True, \n",
    "                           recurrent_dropout = 0.1))(bilstm_13)\n",
    "out = TimeDistributed(Dense(len_labels,\n",
    "                            activation = 'sigmoid'))(bilstm_13)\n",
    "bilstm_13 = Model(input_word,out)\n",
    "bilstm_13.summary()\n",
    "\n",
    "bilstm_13.compile(optimizer = 'adam',loss = 'categorical_crossentropy',metrics = ['accuracy'])\n",
    "\n",
    "history = bilstm_13.fit(\n",
    "    X_train,np.array(y_train),\n",
    "    validation_split = 0.2,\n",
    "    batch_size = 32,\n",
    "    epochs = 5,\n",
    "    verbose =1\n",
    ")\n",
    "\n",
    "print(bilstm_13.evaluate(X_test,np.array(y_test)))\n",
    "\n",
    "idx2tag = {i: w for w, i in label2idx.items()}\n",
    "\n",
    "def pred2label(pred):\n",
    "    out = []\n",
    "    for pred_i in pred:\n",
    "        out_i = []\n",
    "        for p in pred_i:\n",
    "            p_i = np.argmax(p)\n",
    "            out_i.append(idx2tag[p_i].replace(\"ENDPAD\", \"O\"))\n",
    "        out.append(out_i)\n",
    "    return out\n",
    "test_pred = bilstm_13.predict(X_test, verbose=1)   \n",
    "pred_labels = pred2label(test_pred)\n",
    "test_labels = pred2label(y_test)\n",
    "\n",
    "print(\"F1-score: {:.1%}\".format(f1_score(test_labels, pred_labels)))"
   ]
  },
  {
   "cell_type": "markdown",
   "id": "238da0a8",
   "metadata": {},
   "source": [
    "# Best BiLSTM model"
   ]
  },
  {
   "cell_type": "code",
   "execution_count": 139,
   "id": "b663cf42",
   "metadata": {},
   "outputs": [
    {
     "name": "stdout",
     "output_type": "stream",
     "text": [
      "Model: \"model_2\"\n",
      "_________________________________________________________________\n",
      " Layer (type)                Output Shape              Param #   \n",
      "=================================================================\n",
      " input_3 (InputLayer)        [(None, 23)]              0         \n",
      "                                                                 \n",
      " embedding_8 (Embedding)     (None, 23, 200)           812600    \n",
      "                                                                 \n",
      " bidirectional_2 (Bidirectio  (None, 23, 50)           45200     \n",
      " nal)                                                            \n",
      "                                                                 \n",
      " time_distributed_2 (TimeDis  (None, 23, 5)            255       \n",
      " tributed)                                                       \n",
      "                                                                 \n",
      "=================================================================\n",
      "Total params: 858,055\n",
      "Trainable params: 858,055\n",
      "Non-trainable params: 0\n",
      "_________________________________________________________________\n",
      "Epoch 1/10\n",
      "48/48 [==============================] - 4s 29ms/step - loss: 0.7420 - accuracy: 0.8389 - val_loss: 0.4113 - val_accuracy: 0.8437\n",
      "Epoch 2/10\n",
      "48/48 [==============================] - 1s 22ms/step - loss: 0.3694 - accuracy: 0.8522 - val_loss: 0.3194 - val_accuracy: 0.8716\n",
      "Epoch 3/10\n",
      "48/48 [==============================] - 1s 22ms/step - loss: 0.2660 - accuracy: 0.9025 - val_loss: 0.2265 - val_accuracy: 0.9265\n",
      "Epoch 4/10\n",
      "48/48 [==============================] - 1s 23ms/step - loss: 0.1761 - accuracy: 0.9487 - val_loss: 0.1687 - val_accuracy: 0.9523\n",
      "Epoch 5/10\n",
      "48/48 [==============================] - 1s 22ms/step - loss: 0.1150 - accuracy: 0.9759 - val_loss: 0.1343 - val_accuracy: 0.9620\n",
      "Epoch 6/10\n",
      "48/48 [==============================] - 1s 22ms/step - loss: 0.0760 - accuracy: 0.9852 - val_loss: 0.1166 - val_accuracy: 0.9626\n",
      "Epoch 7/10\n",
      "48/48 [==============================] - 1s 27ms/step - loss: 0.0538 - accuracy: 0.9880 - val_loss: 0.1064 - val_accuracy: 0.9651\n",
      "Epoch 8/10\n",
      "48/48 [==============================] - 1s 28ms/step - loss: 0.0406 - accuracy: 0.9908 - val_loss: 0.1024 - val_accuracy: 0.9659\n",
      "Epoch 9/10\n",
      "48/48 [==============================] - 1s 23ms/step - loss: 0.0323 - accuracy: 0.9922 - val_loss: 0.0995 - val_accuracy: 0.9672\n",
      "Epoch 10/10\n",
      "48/48 [==============================] - 1s 21ms/step - loss: 0.0262 - accuracy: 0.9942 - val_loss: 0.0986 - val_accuracy: 0.9676\n",
      "15/15 [==============================] - 0s 4ms/step - loss: 0.0936 - accuracy: 0.9692\n",
      "[0.0936465784907341, 0.9692448377609253]\n",
      "15/15 [==============================] - 0s 4ms/step\n",
      "F1-score: 84.7%\n"
     ]
    }
   ],
   "source": [
    "input_word = Input(shape = (23,))\n",
    "# print(input_word.shape)\n",
    "bilstm_14 = Embedding(input_dim = no_of_words,\n",
    "                  output_dim = 200,\n",
    "                  input_length = 23)(input_word)\n",
    "bilstm_14 = Bidirectional(LSTM(units=25,\n",
    "                           return_sequences = True, \n",
    "                           recurrent_dropout = 0.1))(bilstm_14)\n",
    "out = TimeDistributed(Dense(len_labels,\n",
    "                            activation = 'softmax'))(bilstm_14)\n",
    "bilstm_14 = Model(input_word,out)\n",
    "bilstm_14.summary()\n",
    "\n",
    "bilstm_14.compile(optimizer = 'adam',loss = 'categorical_crossentropy',metrics = ['accuracy'])\n",
    "\n",
    "history = bilstm_14.fit(\n",
    "    X_train,np.array(y_train),\n",
    "    validation_split = 0.2,\n",
    "    batch_size = 32,\n",
    "    epochs = 10,\n",
    "    verbose =1\n",
    ")\n",
    "\n",
    "print(bilstm_14.evaluate(X_test,np.array(y_test)))\n",
    "\n",
    "idx2tag = {i: w for w, i in label2idx.items()}\n",
    "\n",
    "def pred2label(pred):\n",
    "    out = []\n",
    "    for pred_i in pred:\n",
    "        out_i = []\n",
    "        for p in pred_i:\n",
    "            p_i = np.argmax(p)\n",
    "            out_i.append(idx2tag[p_i].replace(\"ENDPAD\", \"O\"))\n",
    "        out.append(out_i)\n",
    "    return out\n",
    "\n",
    "test_pred = bilstm_14.predict(X_test, verbose=1)   \n",
    "pred_labels = pred2label(test_pred)\n",
    "test_labels = pred2label(y_test)\n",
    "\n",
    "print(\"F1-score: {:.1%}\".format(f1_score(test_labels, pred_labels)))\n",
    "\n",
    "# import matplotlib.pyplot as plt\n",
    "\n",
    "# plt.figure(figsize=(15,5))\n",
    "# plt.subplot(1, 2, 1)\n",
    "# plt.plot(history.history['loss'], label='train_loss')\n",
    "# plt.plot(history.history['val_loss'], label='val_loss')\n",
    "# plt.xticks([0,1,2,3,4,5,6,7,8,9], labels = ['1','2','3','4','5','6','7','8','9','10'])\n",
    "# plt.legend(['train_loss', 'val_loss'], loc='upper right')\n",
    "# plt.title('Model Losses')\n",
    "# plt.ylabel('Loss')\n",
    "# plt.xlabel('Epoch')\n",
    "# plt.grid()\n",
    "\n",
    "# plt.subplot(1, 2, 2)\n",
    "# plt.plot(history.history['accuracy'], label='train_accuracy')\n",
    "# plt.plot(history.history['val_accuracy'], label='val_accuracy')\n",
    "# plt.xlim([0, 4])\n",
    "# plt.ylim([0.8, 1])\n",
    "# plt.xticks([0,1,2,3,4,5,6,7,8,9], labels = ['1','2','3','4','5','6','7','8','9','10'])\n",
    "# plt.legend(['train_accuracy', 'val_accuracy'], loc='lower right')\n",
    "# plt.title('Model Accuracy')\n",
    "# plt.ylabel('Accuracy')\n",
    "# plt.xlabel('Epoch')\n",
    "# plt.grid()\n",
    "# plt.show()"
   ]
  },
  {
   "cell_type": "code",
   "execution_count": 423,
   "id": "aecebdce",
   "metadata": {
    "scrolled": false
   },
   "outputs": [],
   "source": [
    "# pred_labels"
   ]
  },
  {
   "cell_type": "code",
   "execution_count": 424,
   "id": "283d299c",
   "metadata": {},
   "outputs": [],
   "source": [
    "# test_labels"
   ]
  },
  {
   "cell_type": "markdown",
   "id": "48ea4017",
   "metadata": {},
   "source": [
    "### Wrong Tag error analysis"
   ]
  },
  {
   "cell_type": "code",
   "execution_count": 140,
   "id": "b35a4a4d",
   "metadata": {},
   "outputs": [
    {
     "name": "stdout",
     "output_type": "stream",
     "text": [
      "336\n"
     ]
    }
   ],
   "source": [
    "wrong_tag = 0\n",
    "for gold, pred in zip(test_labels, pred_labels):\n",
    "    for i in range(len(gold)):\n",
    "#         print(gold[2])\n",
    "#         print(pred[2])\n",
    "        if (gold[i]==pred[i])== False:\n",
    "            wrong_tag += 1\n",
    "\n",
    "print(wrong_tag)"
   ]
  },
  {
   "cell_type": "code",
   "execution_count": 141,
   "id": "f4ef35d1",
   "metadata": {},
   "outputs": [],
   "source": [
    "ypred = list()\n",
    "for item in pred_labels:\n",
    "    for tok in item: \n",
    "        ypred.append(tok)"
   ]
  },
  {
   "cell_type": "code",
   "execution_count": 142,
   "id": "7af31e9a",
   "metadata": {},
   "outputs": [
    {
     "data": {
      "text/plain": [
       "10925"
      ]
     },
     "execution_count": 142,
     "metadata": {},
     "output_type": "execute_result"
    }
   ],
   "source": [
    "len(ypred)"
   ]
  },
  {
   "cell_type": "code",
   "execution_count": 144,
   "id": "4a10ab25",
   "metadata": {},
   "outputs": [
    {
     "data": {
      "text/plain": [
       "0.030755148741418763"
      ]
     },
     "execution_count": 144,
     "metadata": {},
     "output_type": "execute_result"
    }
   ],
   "source": [
    "wrong_tag/len(ypred)"
   ]
  },
  {
   "cell_type": "markdown",
   "id": "012dc118",
   "metadata": {},
   "source": [
    "### No annotation error analysis"
   ]
  },
  {
   "cell_type": "code",
   "execution_count": 145,
   "id": "9c2c3e22",
   "metadata": {},
   "outputs": [
    {
     "name": "stdout",
     "output_type": "stream",
     "text": [
      "1747\n"
     ]
    }
   ],
   "source": [
    "total = 0\n",
    "for pred in pred_labels:\n",
    "#     print(pred)\n",
    "    for i in range(len(pred)):\n",
    "#         print(pred[i])\n",
    "#         if (str(pred[i]) in tags):\n",
    "#             total =+ 1\n",
    "        if (pred[i]=='B-BRAND' or pred[i]=='I-BRAND' or pred[i]=='B-PRODUCT' or pred[i]=='I-PRODUCT'):\n",
    "            total +=1\n",
    "\n",
    "print(total)"
   ]
  },
  {
   "cell_type": "code",
   "execution_count": 146,
   "id": "d10cb530",
   "metadata": {},
   "outputs": [
    {
     "name": "stdout",
     "output_type": "stream",
     "text": [
      "123\n"
     ]
    }
   ],
   "source": [
    "no_annot = 0\n",
    "for gold, pred in zip(test_labels, pred_labels):\n",
    "    for i in range(len(gold)):\n",
    "#         print(gold[2])\n",
    "#         print(pred[2])\n",
    "        if gold[i]=='B-BRAND':\n",
    "            if pred[i]==\"O\":\n",
    "                no_annot += 1\n",
    "        if gold[i]=='B-PRODUCT':\n",
    "            if pred[i]==\"O\":\n",
    "                no_annot += 1\n",
    "        if gold[i]=='I-BRAND':\n",
    "            if pred[i]==\"O\":\n",
    "                no_annot += 1\n",
    "        if gold[i]=='I-PRODUCT':\n",
    "            if pred[i]==\"O\":\n",
    "                no_annot += 1\n",
    "                \n",
    "print(no_annot)"
   ]
  },
  {
   "cell_type": "code",
   "execution_count": 147,
   "id": "6a43e633",
   "metadata": {},
   "outputs": [
    {
     "data": {
      "text/plain": [
       "0.07040641099026904"
      ]
     },
     "execution_count": 147,
     "metadata": {},
     "output_type": "execute_result"
    }
   ],
   "source": [
    "no_annot/total"
   ]
  },
  {
   "cell_type": "code",
   "execution_count": 303,
   "id": "3ebc95b0",
   "metadata": {},
   "outputs": [
    {
     "name": "stdout",
     "output_type": "stream",
     "text": [
      "Model: \"model_35\"\n",
      "_________________________________________________________________\n",
      " Layer (type)                Output Shape              Param #   \n",
      "=================================================================\n",
      " input_36 (InputLayer)       [(None, 23)]              0         \n",
      "                                                                 \n",
      " embedding_38 (Embedding)    (None, 23, 200)           812600    \n",
      "                                                                 \n",
      " bidirectional_35 (Bidirecti  (None, 23, 100)          100400    \n",
      " onal)                                                           \n",
      "                                                                 \n",
      " time_distributed_35 (TimeDi  (None, 23, 5)            505       \n",
      " stributed)                                                      \n",
      "                                                                 \n",
      "=================================================================\n",
      "Total params: 913,505\n",
      "Trainable params: 913,505\n",
      "Non-trainable params: 0\n",
      "_________________________________________________________________\n",
      "Epoch 1/5\n",
      "48/48 [==============================] - 11s 124ms/step - loss: 0.8285 - accuracy: 0.8419 - val_loss: 0.4358 - val_accuracy: 0.8435\n",
      "Epoch 2/5\n",
      "48/48 [==============================] - 8s 165ms/step - loss: 0.3734 - accuracy: 0.8455 - val_loss: 0.3269 - val_accuracy: 0.8435\n",
      "Epoch 3/5\n",
      "48/48 [==============================] - 10s 203ms/step - loss: 0.2707 - accuracy: 0.8579 - val_loss: 0.2551 - val_accuracy: 0.8976\n",
      "Epoch 4/5\n",
      "48/48 [==============================] - 10s 199ms/step - loss: 0.1815 - accuracy: 0.9468 - val_loss: 0.1717 - val_accuracy: 0.9549\n",
      "Epoch 5/5\n",
      "48/48 [==============================] - 9s 189ms/step - loss: 0.0920 - accuracy: 0.9825 - val_loss: 0.1323 - val_accuracy: 0.9572\n",
      "15/15 [==============================] - 1s 58ms/step - loss: 0.1302 - accuracy: 0.9605\n",
      "[0.13021951913833618, 0.9604576826095581]\n",
      "15/15 [==============================] - 2s 61ms/step\n",
      "F1-score: 78.9%\n"
     ]
    }
   ],
   "source": [
    "input_word = Input(shape = (23,))\n",
    "# print(input_word.shape)\n",
    "bilstm_15 = Embedding(input_dim = no_of_words,\n",
    "                  output_dim = 200,\n",
    "                  input_length = 23)(input_word)\n",
    "bilstm_15 = Bidirectional(LSTM(units=50,\n",
    "                           return_sequences = True, \n",
    "                           recurrent_dropout = 0.1))(bilstm_15)\n",
    "out = TimeDistributed(Dense(len_labels,\n",
    "                            activation = 'sigmoid'))(bilstm_15)\n",
    "bilstm_15 = Model(input_word,out)\n",
    "bilstm_15.summary()\n",
    "\n",
    "bilstm_15.compile(optimizer = 'adam',loss = 'categorical_crossentropy',metrics = ['accuracy'])\n",
    "\n",
    "history = bilstm_15.fit(\n",
    "    X_train,np.array(y_train),\n",
    "    validation_split = 0.2,\n",
    "    batch_size = 32,\n",
    "    epochs = 5,\n",
    "    verbose =1\n",
    ")\n",
    "\n",
    "print(bilstm_15.evaluate(X_test,np.array(y_test)))\n",
    "\n",
    "idx2tag = {i: w for w, i in label2idx.items()}\n",
    "\n",
    "def pred2label(pred):\n",
    "    out = []\n",
    "    for pred_i in pred:\n",
    "        out_i = []\n",
    "        for p in pred_i:\n",
    "            p_i = np.argmax(p)\n",
    "            out_i.append(idx2tag[p_i].replace(\"ENDPAD\", \"O\"))\n",
    "        out.append(out_i)\n",
    "    return out\n",
    "test_pred = bilstm_15.predict(X_test, verbose=1)   \n",
    "pred_labels = pred2label(test_pred)\n",
    "test_labels = pred2label(y_test)\n",
    "\n",
    "print(\"F1-score: {:.1%}\".format(f1_score(test_labels, pred_labels)))"
   ]
  },
  {
   "cell_type": "code",
   "execution_count": 304,
   "id": "92518ac6",
   "metadata": {},
   "outputs": [
    {
     "name": "stdout",
     "output_type": "stream",
     "text": [
      "Model: \"model_36\"\n",
      "_________________________________________________________________\n",
      " Layer (type)                Output Shape              Param #   \n",
      "=================================================================\n",
      " input_37 (InputLayer)       [(None, 23)]              0         \n",
      "                                                                 \n",
      " embedding_39 (Embedding)    (None, 23, 200)           812600    \n",
      "                                                                 \n",
      " bidirectional_36 (Bidirecti  (None, 23, 100)          100400    \n",
      " onal)                                                           \n",
      "                                                                 \n",
      " time_distributed_36 (TimeDi  (None, 23, 5)            505       \n",
      " stributed)                                                      \n",
      "                                                                 \n",
      "=================================================================\n",
      "Total params: 913,505\n",
      "Trainable params: 913,505\n",
      "Non-trainable params: 0\n",
      "_________________________________________________________________\n",
      "Epoch 1/5\n",
      "48/48 [==============================] - 10s 136ms/step - loss: 0.6817 - accuracy: 0.8304 - val_loss: 0.3919 - val_accuracy: 0.8461\n",
      "Epoch 2/5\n",
      "48/48 [==============================] - 7s 156ms/step - loss: 0.3238 - accuracy: 0.8725 - val_loss: 0.2575 - val_accuracy: 0.9106\n",
      "Epoch 3/5\n",
      "48/48 [==============================] - 7s 143ms/step - loss: 0.1850 - accuracy: 0.9379 - val_loss: 0.1720 - val_accuracy: 0.9477\n",
      "Epoch 4/5\n",
      "48/48 [==============================] - 5s 109ms/step - loss: 0.1079 - accuracy: 0.9766 - val_loss: 0.1306 - val_accuracy: 0.9658\n",
      "Epoch 5/5\n",
      "48/48 [==============================] - 9s 191ms/step - loss: 0.0642 - accuracy: 0.9863 - val_loss: 0.1103 - val_accuracy: 0.9660\n",
      "15/15 [==============================] - 1s 59ms/step - loss: 0.1115 - accuracy: 0.9670\n",
      "[0.11147301644086838, 0.9669564962387085]\n",
      "15/15 [==============================] - 1s 39ms/step\n",
      "F1-score: 82.5%\n"
     ]
    }
   ],
   "source": [
    "input_word = Input(shape = (23,))\n",
    "# print(input_word.shape)\n",
    "bilstm_16 = Embedding(input_dim = no_of_words,\n",
    "                  output_dim = 200,\n",
    "                  input_length = 23)(input_word)\n",
    "bilstm_16 = Bidirectional(LSTM(units=50,\n",
    "                           return_sequences = True, \n",
    "                           recurrent_dropout = 0.1))(bilstm_16)\n",
    "out = TimeDistributed(Dense(len_labels,\n",
    "                            activation = 'softmax'))(bilstm_16)\n",
    "bilstm_16 = Model(input_word,out)\n",
    "bilstm_16.summary()\n",
    "\n",
    "bilstm_16.compile(optimizer = 'adam',loss = 'categorical_crossentropy',metrics = ['accuracy'])\n",
    "\n",
    "history = bilstm_16.fit(\n",
    "    X_train,np.array(y_train),\n",
    "    validation_split = 0.2,\n",
    "    batch_size = 32,\n",
    "    epochs = 5,\n",
    "    verbose =1\n",
    ")\n",
    "\n",
    "print(bilstm_16.evaluate(X_test,np.array(y_test)))\n",
    "\n",
    "idx2tag = {i: w for w, i in label2idx.items()}\n",
    "\n",
    "def pred2label(pred):\n",
    "    out = []\n",
    "    for pred_i in pred:\n",
    "        out_i = []\n",
    "        for p in pred_i:\n",
    "            p_i = np.argmax(p)\n",
    "            out_i.append(idx2tag[p_i].replace(\"ENDPAD\", \"O\"))\n",
    "        out.append(out_i)\n",
    "    return out\n",
    "test_pred = bilstm_16.predict(X_test, verbose=1)   \n",
    "pred_labels = pred2label(test_pred)\n",
    "test_labels = pred2label(y_test)\n",
    "\n",
    "print(\"F1-score: {:.1%}\".format(f1_score(test_labels, pred_labels)))"
   ]
  },
  {
   "cell_type": "code",
   "execution_count": 305,
   "id": "b2e090a9",
   "metadata": {},
   "outputs": [
    {
     "name": "stdout",
     "output_type": "stream",
     "text": [
      "Model: \"model_37\"\n",
      "_________________________________________________________________\n",
      " Layer (type)                Output Shape              Param #   \n",
      "=================================================================\n",
      " input_38 (InputLayer)       [(None, 23)]              0         \n",
      "                                                                 \n",
      " embedding_40 (Embedding)    (None, 23, 200)           812600    \n",
      "                                                                 \n",
      " bidirectional_37 (Bidirecti  (None, 23, 200)          240800    \n",
      " onal)                                                           \n",
      "                                                                 \n",
      " time_distributed_37 (TimeDi  (None, 23, 5)            1005      \n",
      " stributed)                                                      \n",
      "                                                                 \n",
      "=================================================================\n",
      "Total params: 1,054,405\n",
      "Trainable params: 1,054,405\n",
      "Non-trainable params: 0\n",
      "_________________________________________________________________\n",
      "Epoch 1/5\n",
      "48/48 [==============================] - 33s 602ms/step - loss: 0.7187 - accuracy: 0.8279 - val_loss: 0.4173 - val_accuracy: 0.8435\n",
      "Epoch 2/5\n",
      "48/48 [==============================] - 27s 562ms/step - loss: 0.3518 - accuracy: 0.8455 - val_loss: 0.3119 - val_accuracy: 0.8435\n",
      "Epoch 3/5\n",
      "48/48 [==============================] - 27s 555ms/step - loss: 0.2631 - accuracy: 0.8456 - val_loss: 0.2586 - val_accuracy: 0.8450\n",
      "Epoch 4/5\n",
      "48/48 [==============================] - 28s 601ms/step - loss: 0.2087 - accuracy: 0.8813 - val_loss: 0.1976 - val_accuracy: 0.9366\n",
      "Epoch 5/5\n",
      "48/48 [==============================] - 29s 616ms/step - loss: 0.1006 - accuracy: 0.9726 - val_loss: 0.1224 - val_accuracy: 0.9589\n",
      "15/15 [==============================] - 6s 389ms/step - loss: 0.1237 - accuracy: 0.9601\n",
      "[0.1237124651670456, 0.9600915312767029]\n",
      "15/15 [==============================] - 5s 308ms/step\n",
      "F1-score: 80.2%\n"
     ]
    }
   ],
   "source": [
    "input_word = Input(shape = (23,))\n",
    "# print(input_word.shape)\n",
    "bilstm_17 = Embedding(input_dim = no_of_words,\n",
    "                  output_dim = 200,\n",
    "                  input_length = 23)(input_word)\n",
    "bilstm_17 = Bidirectional(LSTM(units=100,\n",
    "                           return_sequences = True, \n",
    "                           recurrent_dropout = 0.1))(bilstm_17)\n",
    "out = TimeDistributed(Dense(len_labels,\n",
    "                            activation = 'sigmoid'))(bilstm_17)\n",
    "bilstm_17 = Model(input_word,out)\n",
    "bilstm_17.summary()\n",
    "\n",
    "bilstm_17.compile(optimizer = 'adam',loss = 'categorical_crossentropy',metrics = ['accuracy'])\n",
    "\n",
    "history = bilstm_17.fit(\n",
    "    X_train,np.array(y_train),\n",
    "    validation_split = 0.2,\n",
    "    batch_size = 32,\n",
    "    epochs = 5,\n",
    "    verbose =1\n",
    ")\n",
    "\n",
    "print(bilstm_17.evaluate(X_test,np.array(y_test)))\n",
    "\n",
    "idx2tag = {i: w for w, i in label2idx.items()}\n",
    "\n",
    "def pred2label(pred):\n",
    "    out = []\n",
    "    for pred_i in pred:\n",
    "        out_i = []\n",
    "        for p in pred_i:\n",
    "            p_i = np.argmax(p)\n",
    "            out_i.append(idx2tag[p_i].replace(\"ENDPAD\", \"O\"))\n",
    "        out.append(out_i)\n",
    "    return out\n",
    "test_pred = bilstm_17.predict(X_test, verbose=1)   \n",
    "pred_labels = pred2label(test_pred)\n",
    "test_labels = pred2label(y_test)\n",
    "\n",
    "print(\"F1-score: {:.1%}\".format(f1_score(test_labels, pred_labels)))"
   ]
  },
  {
   "cell_type": "code",
   "execution_count": 306,
   "id": "9ba76227",
   "metadata": {},
   "outputs": [
    {
     "name": "stdout",
     "output_type": "stream",
     "text": [
      "Model: \"model_38\"\n",
      "_________________________________________________________________\n",
      " Layer (type)                Output Shape              Param #   \n",
      "=================================================================\n",
      " input_39 (InputLayer)       [(None, 23)]              0         \n",
      "                                                                 \n",
      " embedding_41 (Embedding)    (None, 23, 200)           812600    \n",
      "                                                                 \n",
      " bidirectional_38 (Bidirecti  (None, 23, 200)          240800    \n",
      " onal)                                                           \n",
      "                                                                 \n",
      " time_distributed_38 (TimeDi  (None, 23, 5)            1005      \n",
      " stributed)                                                      \n",
      "                                                                 \n",
      "=================================================================\n",
      "Total params: 1,054,405\n",
      "Trainable params: 1,054,405\n",
      "Non-trainable params: 0\n",
      "_________________________________________________________________\n",
      "Epoch 1/5\n",
      "48/48 [==============================] - 32s 573ms/step - loss: 0.5859 - accuracy: 0.8356 - val_loss: 0.3785 - val_accuracy: 0.8439\n",
      "Epoch 2/5\n",
      "48/48 [==============================] - 24s 492ms/step - loss: 0.2988 - accuracy: 0.8819 - val_loss: 0.2394 - val_accuracy: 0.9178\n",
      "Epoch 3/5\n",
      "48/48 [==============================] - 25s 522ms/step - loss: 0.1679 - accuracy: 0.9463 - val_loss: 0.1532 - val_accuracy: 0.9558\n",
      "Epoch 4/5\n",
      "48/48 [==============================] - 24s 512ms/step - loss: 0.0891 - accuracy: 0.9797 - val_loss: 0.1146 - val_accuracy: 0.9664\n",
      "Epoch 5/5\n",
      "48/48 [==============================] - 23s 471ms/step - loss: 0.0507 - accuracy: 0.9874 - val_loss: 0.1035 - val_accuracy: 0.9650\n",
      "15/15 [==============================] - 4s 296ms/step - loss: 0.1050 - accuracy: 0.9674\n",
      "[0.10498890280723572, 0.9674142003059387]\n",
      "15/15 [==============================] - 4s 243ms/step\n",
      "F1-score: 82.7%\n"
     ]
    }
   ],
   "source": [
    "input_word = Input(shape = (23,))\n",
    "# print(input_word.shape)\n",
    "bilstm_18 = Embedding(input_dim = no_of_words,\n",
    "                  output_dim = 200,\n",
    "                  input_length = 23)(input_word)\n",
    "bilstm_18 = Bidirectional(LSTM(units=100,\n",
    "                           return_sequences = True, \n",
    "                           recurrent_dropout = 0.1))(bilstm_18)\n",
    "out = TimeDistributed(Dense(len_labels,\n",
    "                            activation = 'softmax'))(bilstm_18)\n",
    "bilstm_18 = Model(input_word,out)\n",
    "bilstm_18.summary()\n",
    "\n",
    "bilstm_18.compile(optimizer = 'adam',loss = 'categorical_crossentropy',metrics = ['accuracy'])\n",
    "\n",
    "history = bilstm_18.fit(\n",
    "    X_train,np.array(y_train),\n",
    "    validation_split = 0.2,\n",
    "    batch_size = 32,\n",
    "    epochs = 5,\n",
    "    verbose =1\n",
    ")\n",
    "\n",
    "print(bilstm_18.evaluate(X_test,np.array(y_test)))\n",
    "\n",
    "idx2tag = {i: w for w, i in label2idx.items()}\n",
    "\n",
    "def pred2label(pred):\n",
    "    out = []\n",
    "    for pred_i in pred:\n",
    "        out_i = []\n",
    "        for p in pred_i:\n",
    "            p_i = np.argmax(p)\n",
    "            out_i.append(idx2tag[p_i].replace(\"ENDPAD\", \"O\"))\n",
    "        out.append(out_i)\n",
    "    return out\n",
    "test_pred = bilstm_18.predict(X_test, verbose=1)   \n",
    "pred_labels = pred2label(test_pred)\n",
    "test_labels = pred2label(y_test)\n",
    "\n",
    "print(\"F1-score: {:.1%}\".format(f1_score(test_labels, pred_labels)))"
   ]
  },
  {
   "cell_type": "code",
   "execution_count": null,
   "id": "530e790a",
   "metadata": {},
   "outputs": [],
   "source": []
  }
 ],
 "metadata": {
  "kernelspec": {
   "display_name": "Python 3",
   "language": "python",
   "name": "python3"
  },
  "language_info": {
   "codemirror_mode": {
    "name": "ipython",
    "version": 3
   },
   "file_extension": ".py",
   "mimetype": "text/x-python",
   "name": "python",
   "nbconvert_exporter": "python",
   "pygments_lexer": "ipython3",
   "version": "3.8.8"
  }
 },
 "nbformat": 4,
 "nbformat_minor": 5
}
